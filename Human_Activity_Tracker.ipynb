{
 "cells": [
  {
   "cell_type": "markdown",
   "metadata": {},
   "source": [
    "# Data Loading"
   ]
  },
  {
   "cell_type": "code",
   "execution_count": null,
   "metadata": {},
   "outputs": [],
   "source": [
    "!wget 'http://archive.ics.uci.edu/ml/machine-learning-databases/00507/wisdm-dataset.zip'\n",
    "# Loading the dataset from the repository"
   ]
  },
  {
   "cell_type": "code",
   "execution_count": null,
   "metadata": {},
   "outputs": [],
   "source": [
    "import zipfile #for extracting zip file\n",
    "with zipfile.ZipFile('./wisdm-dataset.zip', 'r') as zip_ref:\n",
    "    zip_ref.extractall()"
   ]
  },
  {
   "cell_type": "code",
   "execution_count": 1,
   "metadata": {},
   "outputs": [
    {
     "data": {
      "text/html": [
       "        <script type=\"text/javascript\">\n",
       "        window.PlotlyConfig = {MathJaxConfig: 'local'};\n",
       "        if (window.MathJax) {MathJax.Hub.Config({SVG: {font: \"STIX-Web\"}});}\n",
       "        if (typeof require !== 'undefined') {\n",
       "        require.undef(\"plotly\");\n",
       "        requirejs.config({\n",
       "            paths: {\n",
       "                'plotly': ['https://cdn.plot.ly/plotly-latest.min']\n",
       "            }\n",
       "        });\n",
       "        require(['plotly'], function(Plotly) {\n",
       "            window._Plotly = Plotly;\n",
       "        });\n",
       "        }\n",
       "        </script>\n",
       "        "
      ]
     },
     "metadata": {},
     "output_type": "display_data"
    }
   ],
   "source": [
    "from scipy.io import arff\n",
    "import os\n",
    "\n",
    "import numpy\n",
    "from sklearn.model_selection import train_test_split\n",
    "from sklearn import preprocessing\n",
    "\n",
    "# To store data\n",
    "import pandas as pd\n",
    "\n",
    "# To do linear algebra\n",
    "import numpy as np\n",
    "from numpy import pi\n",
    "\n",
    "# To create plots\n",
    "import seaborn as sns\n",
    "from matplotlib.colors import rgb2hex\n",
    "from matplotlib.cm import get_cmap\n",
    "import matplotlib.pyplot as plt\n",
    "\n",
    "\n",
    "# To create interactive plots\n",
    "from plotly.offline import init_notebook_mode, iplot\n",
    "import plotly.graph_objs as go\n",
    "init_notebook_mode(connected=True)\n",
    "\n",
    "# To get new datatypes and functions\n",
    "from collections import Counter\n",
    "from cycler import cycler\n",
    "\n",
    "# To investigate distributions\n",
    "from scipy.stats import norm, skew, probplot\n",
    "from scipy.optimize import curve_fit\n",
    "\n",
    "# To build models\n",
    "from sklearn import preprocessing\n",
    "from sklearn.preprocessing import StandardScaler, LabelEncoder\n",
    "from sklearn.model_selection import train_test_split\n",
    "from sklearn.metrics import accuracy_score\n",
    "from sklearn.decomposition import PCA\n",
    "from sklearn.manifold import TSNE\n",
    "\n",
    "# To gbm light\n",
    "# from lightgbm import LGBMClassifier\n",
    "\n",
    "# To measure time\n",
    "from time import time\n",
    "\n",
    "sns.set(style='whitegrid', palette=\"deep\", font_scale=1.1, rc={\"figure.figsize\": [8, 5]}) "
   ]
  },
  {
   "cell_type": "code",
   "execution_count": 2,
   "metadata": {},
   "outputs": [],
   "source": [
    "import boto3\n",
    "import sagemaker\n",
    "\n",
    "# session and role\n",
    "sagemaker_session = sagemaker.Session()\n",
    "role = sagemaker.get_execution_role()\n",
    "\n",
    "# create an S3 bucket\n",
    "bucket = sagemaker_session.default_bucket()"
   ]
  },
  {
   "cell_type": "code",
   "execution_count": 3,
   "metadata": {},
   "outputs": [],
   "source": [
    "def arff_file_to_df(filename):\n",
    "    #convert arff files to pandas data frame\n",
    "    data = arff.loadarff(filename)\n",
    "    df = pd.DataFrame(data[0])\n",
    "    \n",
    "    return df"
   ]
  },
  {
   "cell_type": "code",
   "execution_count": 4,
   "metadata": {},
   "outputs": [],
   "source": [
    "path = 'wisdm-dataset'\n",
    "files = []\n",
    "frames = []\n",
    "\n",
    "# r=root, d=directories, f = files\n",
    "for r, d, f in os.walk(path):\n",
    "    for file in f:\n",
    "        if '.arff' in file:\n",
    "            files.append(os.path.join(r, file))\n",
    "for file in files:\n",
    "    df = arff_file_to_df(file)\n",
    "    frames.append(df)"
   ]
  },
  {
   "cell_type": "code",
   "execution_count": 5,
   "metadata": {},
   "outputs": [],
   "source": [
    "df = pd.concat(frames)\n",
    "#Appendding all the dataframes row wise to create a single dataframe df"
   ]
  },
  {
   "cell_type": "code",
   "execution_count": 6,
   "metadata": {},
   "outputs": [
    {
     "data": {
      "text/plain": [
       "(75099, 93)"
      ]
     },
     "execution_count": 6,
     "metadata": {},
     "output_type": "execute_result"
    }
   ],
   "source": [
    "df.shape"
   ]
  },
  {
   "cell_type": "code",
   "execution_count": 7,
   "metadata": {},
   "outputs": [
    {
     "data": {
      "text/html": [
       "<div>\n",
       "<style scoped>\n",
       "    .dataframe tbody tr th:only-of-type {\n",
       "        vertical-align: middle;\n",
       "    }\n",
       "\n",
       "    .dataframe tbody tr th {\n",
       "        vertical-align: top;\n",
       "    }\n",
       "\n",
       "    .dataframe thead th {\n",
       "        text-align: right;\n",
       "    }\n",
       "</style>\n",
       "<table border=\"1\" class=\"dataframe\">\n",
       "  <thead>\n",
       "    <tr style=\"text-align: right;\">\n",
       "      <th></th>\n",
       "      <th>\"ACTIVITY\"</th>\n",
       "      <th>\"X0\"</th>\n",
       "      <th>\"X1\"</th>\n",
       "      <th>\"X2\"</th>\n",
       "      <th>\"X3\"</th>\n",
       "      <th>\"X4\"</th>\n",
       "      <th>\"X5\"</th>\n",
       "      <th>\"X6\"</th>\n",
       "      <th>\"X7\"</th>\n",
       "      <th>\"X8\"</th>\n",
       "      <th>...</th>\n",
       "      <th>\"ZMFCC11\"</th>\n",
       "      <th>\"ZMFCC12\"</th>\n",
       "      <th>\"XYCOS\"</th>\n",
       "      <th>\"XZCOS\"</th>\n",
       "      <th>\"YZCOS\"</th>\n",
       "      <th>\"XYCOR\"</th>\n",
       "      <th>\"XZCOR\"</th>\n",
       "      <th>\"YZCOR\"</th>\n",
       "      <th>\"RESULTANT\"</th>\n",
       "      <th>\"class\"</th>\n",
       "    </tr>\n",
       "  </thead>\n",
       "  <tbody>\n",
       "    <tr>\n",
       "      <th>0</th>\n",
       "      <td>b'A'</td>\n",
       "      <td>0.170</td>\n",
       "      <td>0.315</td>\n",
       "      <td>0.435</td>\n",
       "      <td>0.06</td>\n",
       "      <td>0.010</td>\n",
       "      <td>0.0</td>\n",
       "      <td>0.01</td>\n",
       "      <td>0.0</td>\n",
       "      <td>0.0</td>\n",
       "      <td>...</td>\n",
       "      <td>0.433341</td>\n",
       "      <td>0.427773</td>\n",
       "      <td>-0.188714</td>\n",
       "      <td>0.141920</td>\n",
       "      <td>-0.062945</td>\n",
       "      <td>-0.204853</td>\n",
       "      <td>0.140685</td>\n",
       "      <td>-0.067840</td>\n",
       "      <td>3.86209</td>\n",
       "      <td>b'1619'</td>\n",
       "    </tr>\n",
       "    <tr>\n",
       "      <th>1</th>\n",
       "      <td>b'A'</td>\n",
       "      <td>0.125</td>\n",
       "      <td>0.310</td>\n",
       "      <td>0.485</td>\n",
       "      <td>0.08</td>\n",
       "      <td>0.000</td>\n",
       "      <td>0.0</td>\n",
       "      <td>0.00</td>\n",
       "      <td>0.0</td>\n",
       "      <td>0.0</td>\n",
       "      <td>...</td>\n",
       "      <td>0.386114</td>\n",
       "      <td>0.381152</td>\n",
       "      <td>-0.371368</td>\n",
       "      <td>0.198086</td>\n",
       "      <td>0.442477</td>\n",
       "      <td>-0.372734</td>\n",
       "      <td>0.199274</td>\n",
       "      <td>0.446024</td>\n",
       "      <td>3.23334</td>\n",
       "      <td>b'1619'</td>\n",
       "    </tr>\n",
       "    <tr>\n",
       "      <th>2</th>\n",
       "      <td>b'A'</td>\n",
       "      <td>0.150</td>\n",
       "      <td>0.320</td>\n",
       "      <td>0.485</td>\n",
       "      <td>0.04</td>\n",
       "      <td>0.005</td>\n",
       "      <td>0.0</td>\n",
       "      <td>0.00</td>\n",
       "      <td>0.0</td>\n",
       "      <td>0.0</td>\n",
       "      <td>...</td>\n",
       "      <td>0.405939</td>\n",
       "      <td>0.400722</td>\n",
       "      <td>-0.522678</td>\n",
       "      <td>-0.038708</td>\n",
       "      <td>0.519698</td>\n",
       "      <td>-0.517238</td>\n",
       "      <td>-0.038878</td>\n",
       "      <td>0.525614</td>\n",
       "      <td>2.93205</td>\n",
       "      <td>b'1619'</td>\n",
       "    </tr>\n",
       "    <tr>\n",
       "      <th>3</th>\n",
       "      <td>b'A'</td>\n",
       "      <td>0.190</td>\n",
       "      <td>0.220</td>\n",
       "      <td>0.430</td>\n",
       "      <td>0.16</td>\n",
       "      <td>0.000</td>\n",
       "      <td>0.0</td>\n",
       "      <td>0.00</td>\n",
       "      <td>0.0</td>\n",
       "      <td>0.0</td>\n",
       "      <td>...</td>\n",
       "      <td>0.426505</td>\n",
       "      <td>0.421024</td>\n",
       "      <td>-0.642675</td>\n",
       "      <td>0.057995</td>\n",
       "      <td>0.128622</td>\n",
       "      <td>-0.643005</td>\n",
       "      <td>0.057987</td>\n",
       "      <td>0.129048</td>\n",
       "      <td>3.83345</td>\n",
       "      <td>b'1619'</td>\n",
       "    </tr>\n",
       "    <tr>\n",
       "      <th>4</th>\n",
       "      <td>b'A'</td>\n",
       "      <td>0.205</td>\n",
       "      <td>0.240</td>\n",
       "      <td>0.370</td>\n",
       "      <td>0.17</td>\n",
       "      <td>0.015</td>\n",
       "      <td>0.0</td>\n",
       "      <td>0.00</td>\n",
       "      <td>0.0</td>\n",
       "      <td>0.0</td>\n",
       "      <td>...</td>\n",
       "      <td>0.469978</td>\n",
       "      <td>0.463939</td>\n",
       "      <td>-0.603190</td>\n",
       "      <td>-0.031606</td>\n",
       "      <td>0.137222</td>\n",
       "      <td>-0.603988</td>\n",
       "      <td>-0.031405</td>\n",
       "      <td>0.138634</td>\n",
       "      <td>4.36682</td>\n",
       "      <td>b'1619'</td>\n",
       "    </tr>\n",
       "  </tbody>\n",
       "</table>\n",
       "<p>5 rows × 93 columns</p>\n",
       "</div>"
      ],
      "text/plain": [
       "  \"ACTIVITY\"   \"X0\"   \"X1\"   \"X2\"  \"X3\"   \"X4\"  \"X5\"  \"X6\"  \"X7\"  \"X8\"  ...  \\\n",
       "0       b'A'  0.170  0.315  0.435  0.06  0.010   0.0  0.01   0.0   0.0  ...   \n",
       "1       b'A'  0.125  0.310  0.485  0.08  0.000   0.0  0.00   0.0   0.0  ...   \n",
       "2       b'A'  0.150  0.320  0.485  0.04  0.005   0.0  0.00   0.0   0.0  ...   \n",
       "3       b'A'  0.190  0.220  0.430  0.16  0.000   0.0  0.00   0.0   0.0  ...   \n",
       "4       b'A'  0.205  0.240  0.370  0.17  0.015   0.0  0.00   0.0   0.0  ...   \n",
       "\n",
       "   \"ZMFCC11\"  \"ZMFCC12\"   \"XYCOS\"   \"XZCOS\"   \"YZCOS\"   \"XYCOR\"   \"XZCOR\"  \\\n",
       "0   0.433341   0.427773 -0.188714  0.141920 -0.062945 -0.204853  0.140685   \n",
       "1   0.386114   0.381152 -0.371368  0.198086  0.442477 -0.372734  0.199274   \n",
       "2   0.405939   0.400722 -0.522678 -0.038708  0.519698 -0.517238 -0.038878   \n",
       "3   0.426505   0.421024 -0.642675  0.057995  0.128622 -0.643005  0.057987   \n",
       "4   0.469978   0.463939 -0.603190 -0.031606  0.137222 -0.603988 -0.031405   \n",
       "\n",
       "    \"YZCOR\"  \"RESULTANT\"  \"class\"  \n",
       "0 -0.067840      3.86209  b'1619'  \n",
       "1  0.446024      3.23334  b'1619'  \n",
       "2  0.525614      2.93205  b'1619'  \n",
       "3  0.129048      3.83345  b'1619'  \n",
       "4  0.138634      4.36682  b'1619'  \n",
       "\n",
       "[5 rows x 93 columns]"
      ]
     },
     "execution_count": 7,
     "metadata": {},
     "output_type": "execute_result"
    }
   ],
   "source": [
    "df.head()"
   ]
  },
  {
   "cell_type": "markdown",
   "metadata": {},
   "source": [
    "# Data Cleaning"
   ]
  },
  {
   "cell_type": "code",
   "execution_count": 8,
   "metadata": {},
   "outputs": [],
   "source": [
    "df.columns=df.columns.str.replace('\"','')\n",
    "# Remove quotes from column names\n",
    "def clean_column(column_name):\n",
    "    #remmove quotes and unnecessary characters from the column values\n",
    "    df[column_name] = df[column_name].astype(str).str.replace('b','')\n",
    "    df[column_name] = df[column_name].astype(str).str.replace(\"'\",'')\n",
    "    \n",
    "    return df[column_name]\n",
    "\n",
    "df['ACTIVITY'] = clean_column('ACTIVITY')\n",
    "df['class'] = clean_column('class')"
   ]
  },
  {
   "cell_type": "code",
   "execution_count": 9,
   "metadata": {},
   "outputs": [
    {
     "data": {
      "text/html": [
       "<div>\n",
       "<style scoped>\n",
       "    .dataframe tbody tr th:only-of-type {\n",
       "        vertical-align: middle;\n",
       "    }\n",
       "\n",
       "    .dataframe tbody tr th {\n",
       "        vertical-align: top;\n",
       "    }\n",
       "\n",
       "    .dataframe thead th {\n",
       "        text-align: right;\n",
       "    }\n",
       "</style>\n",
       "<table border=\"1\" class=\"dataframe\">\n",
       "  <thead>\n",
       "    <tr style=\"text-align: right;\">\n",
       "      <th></th>\n",
       "      <th>ACTIVITY</th>\n",
       "      <th>X0</th>\n",
       "      <th>X1</th>\n",
       "      <th>X2</th>\n",
       "      <th>X3</th>\n",
       "      <th>X4</th>\n",
       "      <th>X5</th>\n",
       "      <th>X6</th>\n",
       "      <th>X7</th>\n",
       "      <th>X8</th>\n",
       "      <th>...</th>\n",
       "      <th>ZMFCC11</th>\n",
       "      <th>ZMFCC12</th>\n",
       "      <th>XYCOS</th>\n",
       "      <th>XZCOS</th>\n",
       "      <th>YZCOS</th>\n",
       "      <th>XYCOR</th>\n",
       "      <th>XZCOR</th>\n",
       "      <th>YZCOR</th>\n",
       "      <th>RESULTANT</th>\n",
       "      <th>class</th>\n",
       "    </tr>\n",
       "  </thead>\n",
       "  <tbody>\n",
       "    <tr>\n",
       "      <th>0</th>\n",
       "      <td>A</td>\n",
       "      <td>0.170</td>\n",
       "      <td>0.315</td>\n",
       "      <td>0.435</td>\n",
       "      <td>0.06</td>\n",
       "      <td>0.010</td>\n",
       "      <td>0.0</td>\n",
       "      <td>0.01</td>\n",
       "      <td>0.0</td>\n",
       "      <td>0.0</td>\n",
       "      <td>...</td>\n",
       "      <td>0.433341</td>\n",
       "      <td>0.427773</td>\n",
       "      <td>-0.188714</td>\n",
       "      <td>0.141920</td>\n",
       "      <td>-0.062945</td>\n",
       "      <td>-0.204853</td>\n",
       "      <td>0.140685</td>\n",
       "      <td>-0.067840</td>\n",
       "      <td>3.86209</td>\n",
       "      <td>1619</td>\n",
       "    </tr>\n",
       "    <tr>\n",
       "      <th>1</th>\n",
       "      <td>A</td>\n",
       "      <td>0.125</td>\n",
       "      <td>0.310</td>\n",
       "      <td>0.485</td>\n",
       "      <td>0.08</td>\n",
       "      <td>0.000</td>\n",
       "      <td>0.0</td>\n",
       "      <td>0.00</td>\n",
       "      <td>0.0</td>\n",
       "      <td>0.0</td>\n",
       "      <td>...</td>\n",
       "      <td>0.386114</td>\n",
       "      <td>0.381152</td>\n",
       "      <td>-0.371368</td>\n",
       "      <td>0.198086</td>\n",
       "      <td>0.442477</td>\n",
       "      <td>-0.372734</td>\n",
       "      <td>0.199274</td>\n",
       "      <td>0.446024</td>\n",
       "      <td>3.23334</td>\n",
       "      <td>1619</td>\n",
       "    </tr>\n",
       "    <tr>\n",
       "      <th>2</th>\n",
       "      <td>A</td>\n",
       "      <td>0.150</td>\n",
       "      <td>0.320</td>\n",
       "      <td>0.485</td>\n",
       "      <td>0.04</td>\n",
       "      <td>0.005</td>\n",
       "      <td>0.0</td>\n",
       "      <td>0.00</td>\n",
       "      <td>0.0</td>\n",
       "      <td>0.0</td>\n",
       "      <td>...</td>\n",
       "      <td>0.405939</td>\n",
       "      <td>0.400722</td>\n",
       "      <td>-0.522678</td>\n",
       "      <td>-0.038708</td>\n",
       "      <td>0.519698</td>\n",
       "      <td>-0.517238</td>\n",
       "      <td>-0.038878</td>\n",
       "      <td>0.525614</td>\n",
       "      <td>2.93205</td>\n",
       "      <td>1619</td>\n",
       "    </tr>\n",
       "    <tr>\n",
       "      <th>3</th>\n",
       "      <td>A</td>\n",
       "      <td>0.190</td>\n",
       "      <td>0.220</td>\n",
       "      <td>0.430</td>\n",
       "      <td>0.16</td>\n",
       "      <td>0.000</td>\n",
       "      <td>0.0</td>\n",
       "      <td>0.00</td>\n",
       "      <td>0.0</td>\n",
       "      <td>0.0</td>\n",
       "      <td>...</td>\n",
       "      <td>0.426505</td>\n",
       "      <td>0.421024</td>\n",
       "      <td>-0.642675</td>\n",
       "      <td>0.057995</td>\n",
       "      <td>0.128622</td>\n",
       "      <td>-0.643005</td>\n",
       "      <td>0.057987</td>\n",
       "      <td>0.129048</td>\n",
       "      <td>3.83345</td>\n",
       "      <td>1619</td>\n",
       "    </tr>\n",
       "    <tr>\n",
       "      <th>4</th>\n",
       "      <td>A</td>\n",
       "      <td>0.205</td>\n",
       "      <td>0.240</td>\n",
       "      <td>0.370</td>\n",
       "      <td>0.17</td>\n",
       "      <td>0.015</td>\n",
       "      <td>0.0</td>\n",
       "      <td>0.00</td>\n",
       "      <td>0.0</td>\n",
       "      <td>0.0</td>\n",
       "      <td>...</td>\n",
       "      <td>0.469978</td>\n",
       "      <td>0.463939</td>\n",
       "      <td>-0.603190</td>\n",
       "      <td>-0.031606</td>\n",
       "      <td>0.137222</td>\n",
       "      <td>-0.603988</td>\n",
       "      <td>-0.031405</td>\n",
       "      <td>0.138634</td>\n",
       "      <td>4.36682</td>\n",
       "      <td>1619</td>\n",
       "    </tr>\n",
       "  </tbody>\n",
       "</table>\n",
       "<p>5 rows × 93 columns</p>\n",
       "</div>"
      ],
      "text/plain": [
       "  ACTIVITY     X0     X1     X2    X3     X4   X5    X6   X7   X8  ...  \\\n",
       "0        A  0.170  0.315  0.435  0.06  0.010  0.0  0.01  0.0  0.0  ...   \n",
       "1        A  0.125  0.310  0.485  0.08  0.000  0.0  0.00  0.0  0.0  ...   \n",
       "2        A  0.150  0.320  0.485  0.04  0.005  0.0  0.00  0.0  0.0  ...   \n",
       "3        A  0.190  0.220  0.430  0.16  0.000  0.0  0.00  0.0  0.0  ...   \n",
       "4        A  0.205  0.240  0.370  0.17  0.015  0.0  0.00  0.0  0.0  ...   \n",
       "\n",
       "    ZMFCC11   ZMFCC12     XYCOS     XZCOS     YZCOS     XYCOR     XZCOR  \\\n",
       "0  0.433341  0.427773 -0.188714  0.141920 -0.062945 -0.204853  0.140685   \n",
       "1  0.386114  0.381152 -0.371368  0.198086  0.442477 -0.372734  0.199274   \n",
       "2  0.405939  0.400722 -0.522678 -0.038708  0.519698 -0.517238 -0.038878   \n",
       "3  0.426505  0.421024 -0.642675  0.057995  0.128622 -0.643005  0.057987   \n",
       "4  0.469978  0.463939 -0.603190 -0.031606  0.137222 -0.603988 -0.031405   \n",
       "\n",
       "      YZCOR  RESULTANT  class  \n",
       "0 -0.067840    3.86209   1619  \n",
       "1  0.446024    3.23334   1619  \n",
       "2  0.525614    2.93205   1619  \n",
       "3  0.129048    3.83345   1619  \n",
       "4  0.138634    4.36682   1619  \n",
       "\n",
       "[5 rows x 93 columns]"
      ]
     },
     "execution_count": 9,
     "metadata": {},
     "output_type": "execute_result"
    }
   ],
   "source": [
    "df.head()"
   ]
  },
  {
   "cell_type": "code",
   "execution_count": 10,
   "metadata": {},
   "outputs": [],
   "source": [
    "activty_map = {\n",
    "    'A': 'walking',\n",
    "    'B': 'jogging',\n",
    "    'C': 'stairs',\n",
    "    'D': 'sitting',\n",
    "    'E': 'standing',\n",
    "    'F': 'typing',\n",
    "    'G': 'teeth',\n",
    "    'H': 'soup',\n",
    "    'I': 'chips',\n",
    "    'J': 'pasta',\n",
    "    'K': 'drinking',\n",
    "    'L': 'sandwich',\n",
    "    'M': 'kicking',\n",
    "    'O': 'catch',\n",
    "    'P': 'dribbling',\n",
    "    'Q': 'writing',\n",
    "    'R': 'clapping',\n",
    "    'S': 'folding'\n",
    "}"
   ]
  },
  {
   "cell_type": "code",
   "execution_count": 11,
   "metadata": {},
   "outputs": [],
   "source": [
    "# temp_activity_df = df.iloc[:,0]\n",
    "# temp_class_df = df.iloc[:,92]\n",
    "# temp_df = df.iloc[:,1:92].astype(numpy.float32)\n",
    "# df = pd.concat([temp_df, temp_class_df, temp_activity_df], axis=1)\n",
    "# print(df.head())"
   ]
  },
  {
   "cell_type": "markdown",
   "metadata": {},
   "source": [
    "# Data Visualization"
   ]
  },
  {
   "cell_type": "code",
   "execution_count": 12,
   "metadata": {},
   "outputs": [
    {
     "data": {
      "image/png": "[encoded data removed]",
      "text/plain": [
       "<Figure size 432x288 with 1 Axes>"
      ]
     },
     "metadata": {},
     "output_type": "display_data"
    }
   ],
   "source": [
    "temp = df.ACTIVITY.value_counts()\n",
    "values = temp.values\n",
    "labels = list(temp.index)\n",
    "\n",
    "labels = [activty_map[label] for label in labels]\n",
    "\n",
    "plt.pie(values, labels=labels, autopct='%1.1f%%',counterclock=False, radius=2)\n",
    "plt.title('Activity Data Distribution')\n",
    "plt.show()\n",
    "# Visualizing the activity data"
   ]
  },
  {
   "cell_type": "markdown",
   "metadata": {},
   "source": [
    "#### The data is uniformly distributed amongst the activity labels."
   ]
  },
  {
   "cell_type": "code",
   "execution_count": 13,
   "metadata": {},
   "outputs": [
    {
     "data": {
      "text/plain": [
       "<BarContainer object of 50 artists>"
      ]
     },
     "execution_count": 13,
     "metadata": {},
     "output_type": "execute_result"
    },
    {
     "data": {
      "image/png": "[encoded data removed]",
      "text/plain": [
       "<Figure size 720x720 with 1 Axes>"
      ]
     },
     "metadata": {},
     "output_type": "display_data"
    }
   ],
   "source": [
    "temp = df['class'].value_counts()\n",
    "values = temp.values\n",
    "labels = list(temp.index)\n",
    "plt.figure(figsize=(10,10))\n",
    "plt.xticks(rotation=90)\n",
    "plt.xlabel('Subjects', fontsize=10)\n",
    "plt.ylabel('Count', fontsize=10)\n",
    "plt.title('Count of activities by Individuals', fontsize=20)\n",
    "plt.bar(labels, values)"
   ]
  },
  {
   "cell_type": "code",
   "execution_count": 14,
   "metadata": {},
   "outputs": [
    {
     "name": "stdout",
     "output_type": "stream",
     "text": [
      "Null Values In DataFrame: 0\n",
      "\n",
      "<class 'pandas.core.frame.DataFrame'>\n",
      "Int64Index: 75099 entries, 0 to 407\n",
      "Data columns (total 93 columns):\n",
      "ACTIVITY     75099 non-null object\n",
      "X0           75099 non-null float64\n",
      "X1           75099 non-null float64\n",
      "X2           75099 non-null float64\n",
      "X3           75099 non-null float64\n",
      "X4           75099 non-null float64\n",
      "X5           75099 non-null float64\n",
      "X6           75099 non-null float64\n",
      "X7           75099 non-null float64\n",
      "X8           75099 non-null float64\n",
      "X9           75099 non-null float64\n",
      "Y0           75099 non-null float64\n",
      "Y1           75099 non-null float64\n",
      "Y2           75099 non-null float64\n",
      "Y3           75099 non-null float64\n",
      "Y4           75099 non-null float64\n",
      "Y5           75099 non-null float64\n",
      "Y6           75099 non-null float64\n",
      "Y7           75099 non-null float64\n",
      "Y8           75099 non-null float64\n",
      "Y9           75099 non-null float64\n",
      "Z0           75099 non-null float64\n",
      "Z1           75099 non-null float64\n",
      "Z2           75099 non-null float64\n",
      "Z3           75099 non-null float64\n",
      "Z4           75099 non-null float64\n",
      "Z5           75099 non-null float64\n",
      "Z6           75099 non-null float64\n",
      "Z7           75099 non-null float64\n",
      "Z8           75099 non-null float64\n",
      "Z9           75099 non-null float64\n",
      "XAVG         75099 non-null float64\n",
      "YAVG         75099 non-null float64\n",
      "ZAVG         75099 non-null float64\n",
      "XPEAK        75099 non-null float64\n",
      "YPEAK        75099 non-null float64\n",
      "ZPEAK        75099 non-null float64\n",
      "XABSOLDEV    75099 non-null float64\n",
      "YABSOLDEV    75099 non-null float64\n",
      "ZABSOLDEV    75099 non-null float64\n",
      "XSTANDDEV    75099 non-null float64\n",
      "YSTANDDEV    75099 non-null float64\n",
      "ZSTANDDEV    75099 non-null float64\n",
      "XVAR         75099 non-null float64\n",
      "YVAR         75099 non-null float64\n",
      "ZVAR         75099 non-null float64\n",
      "XMFCC0       75099 non-null float64\n",
      "XMFCC1       75099 non-null float64\n",
      "XMFCC2       75099 non-null float64\n",
      "XMFCC3       75099 non-null float64\n",
      "XMFCC4       75099 non-null float64\n",
      "XMFCC5       75099 non-null float64\n",
      "XMFCC6       75099 non-null float64\n",
      "XMFCC7       75099 non-null float64\n",
      "XMFCC8       75099 non-null float64\n",
      "XMFCC9       75099 non-null float64\n",
      "XMFCC10      75099 non-null float64\n",
      "XMFCC11      75099 non-null float64\n",
      "XMFCC12      75099 non-null float64\n",
      "YMFCC0       75099 non-null float64\n",
      "YMFCC1       75099 non-null float64\n",
      "YMFCC2       75099 non-null float64\n",
      "YMFCC3       75099 non-null float64\n",
      "YMFCC4       75099 non-null float64\n",
      "YMFCC5       75099 non-null float64\n",
      "YMFCC6       75099 non-null float64\n",
      "YMFCC7       75099 non-null float64\n",
      "YMFCC8       75099 non-null float64\n",
      "YMFCC9       75099 non-null float64\n",
      "YMFCC10      75099 non-null float64\n",
      "YMFCC11      75099 non-null float64\n",
      "YMFCC12      75099 non-null float64\n",
      "ZMFCC0       75099 non-null float64\n",
      "ZMFCC1       75099 non-null float64\n",
      "ZMFCC2       75099 non-null float64\n",
      "ZMFCC3       75099 non-null float64\n",
      "ZMFCC4       75099 non-null float64\n",
      "ZMFCC5       75099 non-null float64\n",
      "ZMFCC6       75099 non-null float64\n",
      "ZMFCC7       75099 non-null float64\n",
      "ZMFCC8       75099 non-null float64\n",
      "ZMFCC9       75099 non-null float64\n",
      "ZMFCC10      75099 non-null float64\n",
      "ZMFCC11      75099 non-null float64\n",
      "ZMFCC12      75099 non-null float64\n",
      "XYCOS        75099 non-null float64\n",
      "XZCOS        75099 non-null float64\n",
      "YZCOS        75099 non-null float64\n",
      "XYCOR        75099 non-null float64\n",
      "XZCOR        75099 non-null float64\n",
      "YZCOR        75099 non-null float64\n",
      "RESULTANT    75099 non-null float64\n",
      "class        75099 non-null object\n",
      "dtypes: float64(91), object(2)\n",
      "memory usage: 53.9+ MB\n"
     ]
    }
   ],
   "source": [
    "# Get the datatypes of columns\n",
    "df.describe()\n",
    "\n",
    "# Get null values and dataframe information\n",
    "print('Null Values In DataFrame: {}\\n'.format(df.isna().sum().sum()))\n",
    "df.info()"
   ]
  },
  {
   "cell_type": "markdown",
   "metadata": {},
   "source": [
    "# Data Preprocessing"
   ]
  },
  {
   "cell_type": "code",
   "execution_count": 15,
   "metadata": {},
   "outputs": [],
   "source": [
    "def activty_mapper(activity):\n",
    "    if(activity in ['A', 'B', 'C', 'D', 'E', 'M']):\n",
    "        return 0\n",
    "    elif(activity in ['P', 'O', 'F', 'Q', 'R','G', 'S']):\n",
    "        return 1\n",
    "    else:\n",
    "        return 2\n",
    "\n",
    "df['ACTIVITY'] = df['ACTIVITY'].apply(activty_mapper)"
   ]
  },
  {
   "cell_type": "code",
   "execution_count": 16,
   "metadata": {},
   "outputs": [
    {
     "name": "stdout",
     "output_type": "stream",
     "text": [
      "     ACTIVITY    X0    X1    X2   X3   X4   X5   X6   X7   X8  ...   ZMFCC11  \\\n",
      "481         0  0.04  0.85  0.11  0.0  0.0  0.0  0.0  0.0  0.0  ...  0.398749   \n",
      "300         1  0.00  0.46  0.54  0.0  0.0  0.0  0.0  0.0  0.0  ... -0.518413   \n",
      "84          0  0.00  0.58  0.42  0.0  0.0  0.0  0.0  0.0  0.0  ... -0.599415   \n",
      "58          0  0.00  1.00  0.00  0.0  0.0  0.0  0.0  0.0  0.0  ...  0.438649   \n",
      "154         1  1.00  0.00  0.00  0.0  0.0  0.0  0.0  0.0  0.0  ...  0.437647   \n",
      "\n",
      "      ZMFCC12     XYCOS     XZCOS     YZCOS     XYCOR     XZCOR     YZCOR  \\\n",
      "481  0.393625 -0.739168 -0.574235  0.576139  0.226855 -0.211418 -0.596378   \n",
      "300 -0.511751 -0.758820 -0.079382  0.485555 -0.755616 -0.082952  0.490093   \n",
      "84  -0.591712 -0.056533  0.159908  0.085791 -0.070513  0.152080  0.077642   \n",
      "58   0.433012  0.990842 -0.998585 -0.991308  0.104353  0.031198  0.169282   \n",
      "154  0.432024 -0.701279 -0.998312  0.702214  0.016179  0.111496 -0.099057   \n",
      "\n",
      "     RESULTANT  class  \n",
      "481  10.144800   1642  \n",
      "300   0.031457   1610  \n",
      "84    0.016921   1639  \n",
      "58    9.217230   1632  \n",
      "154   9.671100   1619  \n",
      "\n",
      "[5 rows x 93 columns]\n"
     ]
    }
   ],
   "source": [
    "df = df.sample(frac=1, random_state=1)\n",
    "# Shuffle the data inside the dataframe\n",
    "print(df.head())"
   ]
  },
  {
   "cell_type": "code",
   "execution_count": 17,
   "metadata": {},
   "outputs": [],
   "source": [
    "individuals = df.pop('class')\n",
    "activity = df.pop('ACTIVITY')\n",
    "#get the ids of the indiviual in a separate list and remove that colummn from data frame"
   ]
  },
  {
   "cell_type": "code",
   "execution_count": 18,
   "metadata": {},
   "outputs": [],
   "source": [
    "activty_map = {\n",
    "    0: 'Non Hand Oriented',\n",
    "    1: 'Hand Oriented General',\n",
    "    2: 'Hand Oriented Eating'\n",
    "}"
   ]
  },
  {
   "cell_type": "code",
   "execution_count": 19,
   "metadata": {},
   "outputs": [
    {
     "data": {
      "application/vnd.plotly.v1+json": {
       "config": {
        "linkText": "Export to plot.ly",
        "plotlyServerURL": "https://plot.ly",
        "showLink": false
       },
       "data": [
        {
         "marker": {
          "color": [
           "#440154",
           "#21918c",
           "#fde725"
          ]
         },
         "type": "bar",
         "x": [
          "Hand Oriented General",
          "Non Hand Oriented",
          "Hand Oriented Eating"
         ],
         "y": [
          29342,
          25107,
          20650
         ]
        }
       ],
       "layout": {
        "template": {
         "data": {
          "bar": [
           {
            "error_x": {
             "color": "#2a3f5f"
            },
            "error_y": {
             "color": "#2a3f5f"
            },
            "marker": {
             "line": {
              "color": "#E5ECF6",
              "width": 0.5
             }
            },
            "type": "bar"
           }
          ],
          "barpolar": [
           {
            "marker": {
             "line": {
              "color": "#E5ECF6",
              "width": 0.5
             }
            },
            "type": "barpolar"
           }
          ],
          "carpet": [
           {
            "aaxis": {
             "endlinecolor": "#2a3f5f",
             "gridcolor": "white",
             "linecolor": "white",
             "minorgridcolor": "white",
             "startlinecolor": "#2a3f5f"
            },
            "baxis": {
             "endlinecolor": "#2a3f5f",
             "gridcolor": "white",
             "linecolor": "white",
             "minorgridcolor": "white",
             "startlinecolor": "#2a3f5f"
            },
            "type": "carpet"
           }
          ],
          "choropleth": [
           {
            "colorbar": {
             "outlinewidth": 0,
             "ticks": ""
            },
            "type": "choropleth"
           }
          ],
          "contour": [
           {
            "colorbar": {
             "outlinewidth": 0,
             "ticks": ""
            },
            "colorscale": [
             [
              0,
              "#0d0887"
             ],
             [
              0.1111111111111111,
              "#46039f"
             ],
             [
              0.2222222222222222,
              "#7201a8"
             ],
             [
              0.3333333333333333,
              "#9c179e"
             ],
             [
              0.4444444444444444,
              "#bd3786"
             ],
             [
              0.5555555555555556,
              "#d8576b"
             ],
             [
              0.6666666666666666,
              "#ed7953"
             ],
             [
              0.7777777777777778,
              "#fb9f3a"
             ],
             [
              0.8888888888888888,
              "#fdca26"
             ],
             [
              1,
              "#f0f921"
             ]
            ],
            "type": "contour"
           }
          ],
          "contourcarpet": [
           {
            "colorbar": {
             "outlinewidth": 0,
             "ticks": ""
            },
            "type": "contourcarpet"
           }
          ],
          "heatmap": [
           {
            "colorbar": {
             "outlinewidth": 0,
             "ticks": ""
            },
            "colorscale": [
             [
              0,
              "#0d0887"
             ],
             [
              0.1111111111111111,
              "#46039f"
             ],
             [
              0.2222222222222222,
              "#7201a8"
             ],
             [
              0.3333333333333333,
              "#9c179e"
             ],
             [
              0.4444444444444444,
              "#bd3786"
             ],
             [
              0.5555555555555556,
              "#d8576b"
             ],
             [
              0.6666666666666666,
              "#ed7953"
             ],
             [
              0.7777777777777778,
              "#fb9f3a"
             ],
             [
              0.8888888888888888,
              "#fdca26"
             ],
             [
              1,
              "#f0f921"
             ]
            ],
            "type": "heatmap"
           }
          ],
          "heatmapgl": [
           {
            "colorbar": {
             "outlinewidth": 0,
             "ticks": ""
            },
            "colorscale": [
             [
              0,
              "#0d0887"
             ],
             [
              0.1111111111111111,
              "#46039f"
             ],
             [
              0.2222222222222222,
              "#7201a8"
             ],
             [
              0.3333333333333333,
              "#9c179e"
             ],
             [
              0.4444444444444444,
              "#bd3786"
             ],
             [
              0.5555555555555556,
              "#d8576b"
             ],
             [
              0.6666666666666666,
              "#ed7953"
             ],
             [
              0.7777777777777778,
              "#fb9f3a"
             ],
             [
              0.8888888888888888,
              "#fdca26"
             ],
             [
              1,
              "#f0f921"
             ]
            ],
            "type": "heatmapgl"
           }
          ],
          "histogram": [
           {
            "marker": {
             "colorbar": {
              "outlinewidth": 0,
              "ticks": ""
             }
            },
            "type": "histogram"
           }
          ],
          "histogram2d": [
           {
            "colorbar": {
             "outlinewidth": 0,
             "ticks": ""
            },
            "colorscale": [
             [
              0,
              "#0d0887"
             ],
             [
              0.1111111111111111,
              "#46039f"
             ],
             [
              0.2222222222222222,
              "#7201a8"
             ],
             [
              0.3333333333333333,
              "#9c179e"
             ],
             [
              0.4444444444444444,
              "#bd3786"
             ],
             [
              0.5555555555555556,
              "#d8576b"
             ],
             [
              0.6666666666666666,
              "#ed7953"
             ],
             [
              0.7777777777777778,
              "#fb9f3a"
             ],
             [
              0.8888888888888888,
              "#fdca26"
             ],
             [
              1,
              "#f0f921"
             ]
            ],
            "type": "histogram2d"
           }
          ],
          "histogram2dcontour": [
           {
            "colorbar": {
             "outlinewidth": 0,
             "ticks": ""
            },
            "colorscale": [
             [
              0,
              "#0d0887"
             ],
             [
              0.1111111111111111,
              "#46039f"
             ],
             [
              0.2222222222222222,
              "#7201a8"
             ],
             [
              0.3333333333333333,
              "#9c179e"
             ],
             [
              0.4444444444444444,
              "#bd3786"
             ],
             [
              0.5555555555555556,
              "#d8576b"
             ],
             [
              0.6666666666666666,
              "#ed7953"
             ],
             [
              0.7777777777777778,
              "#fb9f3a"
             ],
             [
              0.8888888888888888,
              "#fdca26"
             ],
             [
              1,
              "#f0f921"
             ]
            ],
            "type": "histogram2dcontour"
           }
          ],
          "mesh3d": [
           {
            "colorbar": {
             "outlinewidth": 0,
             "ticks": ""
            },
            "type": "mesh3d"
           }
          ],
          "parcoords": [
           {
            "line": {
             "colorbar": {
              "outlinewidth": 0,
              "ticks": ""
             }
            },
            "type": "parcoords"
           }
          ],
          "scatter": [
           {
            "marker": {
             "colorbar": {
              "outlinewidth": 0,
              "ticks": ""
             }
            },
            "type": "scatter"
           }
          ],
          "scatter3d": [
           {
            "line": {
             "colorbar": {
              "outlinewidth": 0,
              "ticks": ""
             }
            },
            "marker": {
             "colorbar": {
              "outlinewidth": 0,
              "ticks": ""
             }
            },
            "type": "scatter3d"
           }
          ],
          "scattercarpet": [
           {
            "marker": {
             "colorbar": {
              "outlinewidth": 0,
              "ticks": ""
             }
            },
            "type": "scattercarpet"
           }
          ],
          "scattergeo": [
           {
            "marker": {
             "colorbar": {
              "outlinewidth": 0,
              "ticks": ""
             }
            },
            "type": "scattergeo"
           }
          ],
          "scattergl": [
           {
            "marker": {
             "colorbar": {
              "outlinewidth": 0,
              "ticks": ""
             }
            },
            "type": "scattergl"
           }
          ],
          "scattermapbox": [
           {
            "marker": {
             "colorbar": {
              "outlinewidth": 0,
              "ticks": ""
             }
            },
            "type": "scattermapbox"
           }
          ],
          "scatterpolar": [
           {
            "marker": {
             "colorbar": {
              "outlinewidth": 0,
              "ticks": ""
             }
            },
            "type": "scatterpolar"
           }
          ],
          "scatterpolargl": [
           {
            "marker": {
             "colorbar": {
              "outlinewidth": 0,
              "ticks": ""
             }
            },
            "type": "scatterpolargl"
           }
          ],
          "scatterternary": [
           {
            "marker": {
             "colorbar": {
              "outlinewidth": 0,
              "ticks": ""
             }
            },
            "type": "scatterternary"
           }
          ],
          "surface": [
           {
            "colorbar": {
             "outlinewidth": 0,
             "ticks": ""
            },
            "colorscale": [
             [
              0,
              "#0d0887"
             ],
             [
              0.1111111111111111,
              "#46039f"
             ],
             [
              0.2222222222222222,
              "#7201a8"
             ],
             [
              0.3333333333333333,
              "#9c179e"
             ],
             [
              0.4444444444444444,
              "#bd3786"
             ],
             [
              0.5555555555555556,
              "#d8576b"
             ],
             [
              0.6666666666666666,
              "#ed7953"
             ],
             [
              0.7777777777777778,
              "#fb9f3a"
             ],
             [
              0.8888888888888888,
              "#fdca26"
             ],
             [
              1,
              "#f0f921"
             ]
            ],
            "type": "surface"
           }
          ],
          "table": [
           {
            "cells": {
             "fill": {
              "color": "#EBF0F8"
             },
             "line": {
              "color": "white"
             }
            },
            "header": {
             "fill": {
              "color": "#C8D4E3"
             },
             "line": {
              "color": "white"
             }
            },
            "type": "table"
           }
          ]
         },
         "layout": {
          "annotationdefaults": {
           "arrowcolor": "#2a3f5f",
           "arrowhead": 0,
           "arrowwidth": 1
          },
          "colorscale": {
           "diverging": [
            [
             0,
             "#8e0152"
            ],
            [
             0.1,
             "#c51b7d"
            ],
            [
             0.2,
             "#de77ae"
            ],
            [
             0.3,
             "#f1b6da"
            ],
            [
             0.4,
             "#fde0ef"
            ],
            [
             0.5,
             "#f7f7f7"
            ],
            [
             0.6,
             "#e6f5d0"
            ],
            [
             0.7,
             "#b8e186"
            ],
            [
             0.8,
             "#7fbc41"
            ],
            [
             0.9,
             "#4d9221"
            ],
            [
             1,
             "#276419"
            ]
           ],
           "sequential": [
            [
             0,
             "#0d0887"
            ],
            [
             0.1111111111111111,
             "#46039f"
            ],
            [
             0.2222222222222222,
             "#7201a8"
            ],
            [
             0.3333333333333333,
             "#9c179e"
            ],
            [
             0.4444444444444444,
             "#bd3786"
            ],
            [
             0.5555555555555556,
             "#d8576b"
            ],
            [
             0.6666666666666666,
             "#ed7953"
            ],
            [
             0.7777777777777778,
             "#fb9f3a"
            ],
            [
             0.8888888888888888,
             "#fdca26"
            ],
            [
             1,
             "#f0f921"
            ]
           ],
           "sequentialminus": [
            [
             0,
             "#0d0887"
            ],
            [
             0.1111111111111111,
             "#46039f"
            ],
            [
             0.2222222222222222,
             "#7201a8"
            ],
            [
             0.3333333333333333,
             "#9c179e"
            ],
            [
             0.4444444444444444,
             "#bd3786"
            ],
            [
             0.5555555555555556,
             "#d8576b"
            ],
            [
             0.6666666666666666,
             "#ed7953"
            ],
            [
             0.7777777777777778,
             "#fb9f3a"
            ],
            [
             0.8888888888888888,
             "#fdca26"
            ],
            [
             1,
             "#f0f921"
            ]
           ]
          },
          "colorway": [
           "#636efa",
           "#EF553B",
           "#00cc96",
           "#ab63fa",
           "#FFA15A",
           "#19d3f3",
           "#FF6692",
           "#B6E880",
           "#FF97FF",
           "#FECB52"
          ],
          "font": {
           "color": "#2a3f5f"
          },
          "geo": {
           "bgcolor": "white",
           "lakecolor": "white",
           "landcolor": "#E5ECF6",
           "showlakes": true,
           "showland": true,
           "subunitcolor": "white"
          },
          "hoverlabel": {
           "align": "left"
          },
          "hovermode": "closest",
          "mapbox": {
           "style": "light"
          },
          "paper_bgcolor": "white",
          "plot_bgcolor": "#E5ECF6",
          "polar": {
           "angularaxis": {
            "gridcolor": "white",
            "linecolor": "white",
            "ticks": ""
           },
           "bgcolor": "#E5ECF6",
           "radialaxis": {
            "gridcolor": "white",
            "linecolor": "white",
            "ticks": ""
           }
          },
          "scene": {
           "xaxis": {
            "backgroundcolor": "#E5ECF6",
            "gridcolor": "white",
            "gridwidth": 2,
            "linecolor": "white",
            "showbackground": true,
            "ticks": "",
            "zerolinecolor": "white"
           },
           "yaxis": {
            "backgroundcolor": "#E5ECF6",
            "gridcolor": "white",
            "gridwidth": 2,
            "linecolor": "white",
            "showbackground": true,
            "ticks": "",
            "zerolinecolor": "white"
           },
           "zaxis": {
            "backgroundcolor": "#E5ECF6",
            "gridcolor": "white",
            "gridwidth": 2,
            "linecolor": "white",
            "showbackground": true,
            "ticks": "",
            "zerolinecolor": "white"
           }
          },
          "shapedefaults": {
           "line": {
            "color": "#2a3f5f"
           }
          },
          "ternary": {
           "aaxis": {
            "gridcolor": "white",
            "linecolor": "white",
            "ticks": ""
           },
           "baxis": {
            "gridcolor": "white",
            "linecolor": "white",
            "ticks": ""
           },
           "bgcolor": "#E5ECF6",
           "caxis": {
            "gridcolor": "white",
            "linecolor": "white",
            "ticks": ""
           }
          },
          "title": {
           "x": 0.05
          },
          "xaxis": {
           "automargin": true,
           "gridcolor": "white",
           "linecolor": "white",
           "ticks": "",
           "zerolinecolor": "white",
           "zerolinewidth": 2
          },
          "yaxis": {
           "automargin": true,
           "gridcolor": "white",
           "linecolor": "white",
           "ticks": "",
           "zerolinecolor": "white",
           "zerolinewidth": 2
          }
         }
        },
        "title": {
         "text": "Human Activity Label Distribution"
        },
        "xaxis": {
         "title": {
          "text": "Activity"
         }
        },
        "yaxis": {
         "title": {
          "text": "Count"
         }
        }
       }
      },
      "text/html": [
       "<div>\n",
       "        \n",
       "        \n",
       "            <div id=\"206557f2-2e71-460b-83fa-8d47ffc35e83\" class=\"plotly-graph-div\" style=\"height:525px; width:100%;\"></div>\n",
       "            <script type=\"text/javascript\">\n",
       "                require([\"plotly\"], function(Plotly) {\n",
       "                    window.PLOTLYENV=window.PLOTLYENV || {};\n",
       "                    \n",
       "                if (document.getElementById(\"206557f2-2e71-460b-83fa-8d47ffc35e83\")) {\n",
       "                    Plotly.newPlot(\n",
       "                        '206557f2-2e71-460b-83fa-8d47ffc35e83',\n",
       "                        [{\"marker\": {\"color\": [\"#440154\", \"#21918c\", \"#fde725\"]}, \"type\": \"bar\", \"x\": [\"Hand Oriented General\", \"Non Hand Oriented\", \"Hand Oriented Eating\"], \"y\": [29342, 25107, 20650]}],\n",
       "                        {\"template\": {\"data\": {\"bar\": [{\"error_x\": {\"color\": \"#2a3f5f\"}, \"error_y\": {\"color\": \"#2a3f5f\"}, \"marker\": {\"line\": {\"color\": \"#E5ECF6\", \"width\": 0.5}}, \"type\": \"bar\"}], \"barpolar\": [{\"marker\": {\"line\": {\"color\": \"#E5ECF6\", \"width\": 0.5}}, \"type\": \"barpolar\"}], \"carpet\": [{\"aaxis\": {\"endlinecolor\": \"#2a3f5f\", \"gridcolor\": \"white\", \"linecolor\": \"white\", \"minorgridcolor\": \"white\", \"startlinecolor\": \"#2a3f5f\"}, \"baxis\": {\"endlinecolor\": \"#2a3f5f\", \"gridcolor\": \"white\", \"linecolor\": \"white\", \"minorgridcolor\": \"white\", \"startlinecolor\": \"#2a3f5f\"}, \"type\": \"carpet\"}], \"choropleth\": [{\"colorbar\": {\"outlinewidth\": 0, \"ticks\": \"\"}, \"type\": \"choropleth\"}], \"contour\": [{\"colorbar\": {\"outlinewidth\": 0, \"ticks\": \"\"}, \"colorscale\": [[0.0, \"#0d0887\"], [0.1111111111111111, \"#46039f\"], [0.2222222222222222, \"#7201a8\"], [0.3333333333333333, \"#9c179e\"], [0.4444444444444444, \"#bd3786\"], [0.5555555555555556, \"#d8576b\"], [0.6666666666666666, \"#ed7953\"], [0.7777777777777778, \"#fb9f3a\"], [0.8888888888888888, \"#fdca26\"], [1.0, \"#f0f921\"]], \"type\": \"contour\"}], \"contourcarpet\": [{\"colorbar\": {\"outlinewidth\": 0, \"ticks\": \"\"}, \"type\": \"contourcarpet\"}], \"heatmap\": [{\"colorbar\": {\"outlinewidth\": 0, \"ticks\": \"\"}, \"colorscale\": [[0.0, \"#0d0887\"], [0.1111111111111111, \"#46039f\"], [0.2222222222222222, \"#7201a8\"], [0.3333333333333333, \"#9c179e\"], [0.4444444444444444, \"#bd3786\"], [0.5555555555555556, \"#d8576b\"], [0.6666666666666666, \"#ed7953\"], [0.7777777777777778, \"#fb9f3a\"], [0.8888888888888888, \"#fdca26\"], [1.0, \"#f0f921\"]], \"type\": \"heatmap\"}], \"heatmapgl\": [{\"colorbar\": {\"outlinewidth\": 0, \"ticks\": \"\"}, \"colorscale\": [[0.0, \"#0d0887\"], [0.1111111111111111, \"#46039f\"], [0.2222222222222222, \"#7201a8\"], [0.3333333333333333, \"#9c179e\"], [0.4444444444444444, \"#bd3786\"], [0.5555555555555556, \"#d8576b\"], [0.6666666666666666, \"#ed7953\"], [0.7777777777777778, \"#fb9f3a\"], [0.8888888888888888, \"#fdca26\"], [1.0, \"#f0f921\"]], \"type\": \"heatmapgl\"}], \"histogram\": [{\"marker\": {\"colorbar\": {\"outlinewidth\": 0, \"ticks\": \"\"}}, \"type\": \"histogram\"}], \"histogram2d\": [{\"colorbar\": {\"outlinewidth\": 0, \"ticks\": \"\"}, \"colorscale\": [[0.0, \"#0d0887\"], [0.1111111111111111, \"#46039f\"], [0.2222222222222222, \"#7201a8\"], [0.3333333333333333, \"#9c179e\"], [0.4444444444444444, \"#bd3786\"], [0.5555555555555556, \"#d8576b\"], [0.6666666666666666, \"#ed7953\"], [0.7777777777777778, \"#fb9f3a\"], [0.8888888888888888, \"#fdca26\"], [1.0, \"#f0f921\"]], \"type\": \"histogram2d\"}], \"histogram2dcontour\": [{\"colorbar\": {\"outlinewidth\": 0, \"ticks\": \"\"}, \"colorscale\": [[0.0, \"#0d0887\"], [0.1111111111111111, \"#46039f\"], [0.2222222222222222, \"#7201a8\"], [0.3333333333333333, \"#9c179e\"], [0.4444444444444444, \"#bd3786\"], [0.5555555555555556, \"#d8576b\"], [0.6666666666666666, \"#ed7953\"], [0.7777777777777778, \"#fb9f3a\"], [0.8888888888888888, \"#fdca26\"], [1.0, \"#f0f921\"]], \"type\": \"histogram2dcontour\"}], \"mesh3d\": [{\"colorbar\": {\"outlinewidth\": 0, \"ticks\": \"\"}, \"type\": \"mesh3d\"}], \"parcoords\": [{\"line\": {\"colorbar\": {\"outlinewidth\": 0, \"ticks\": \"\"}}, \"type\": \"parcoords\"}], \"scatter\": [{\"marker\": {\"colorbar\": {\"outlinewidth\": 0, \"ticks\": \"\"}}, \"type\": \"scatter\"}], \"scatter3d\": [{\"line\": {\"colorbar\": {\"outlinewidth\": 0, \"ticks\": \"\"}}, \"marker\": {\"colorbar\": {\"outlinewidth\": 0, \"ticks\": \"\"}}, \"type\": \"scatter3d\"}], \"scattercarpet\": [{\"marker\": {\"colorbar\": {\"outlinewidth\": 0, \"ticks\": \"\"}}, \"type\": \"scattercarpet\"}], \"scattergeo\": [{\"marker\": {\"colorbar\": {\"outlinewidth\": 0, \"ticks\": \"\"}}, \"type\": \"scattergeo\"}], \"scattergl\": [{\"marker\": {\"colorbar\": {\"outlinewidth\": 0, \"ticks\": \"\"}}, \"type\": \"scattergl\"}], \"scattermapbox\": [{\"marker\": {\"colorbar\": {\"outlinewidth\": 0, \"ticks\": \"\"}}, \"type\": \"scattermapbox\"}], \"scatterpolar\": [{\"marker\": {\"colorbar\": {\"outlinewidth\": 0, \"ticks\": \"\"}}, \"type\": \"scatterpolar\"}], \"scatterpolargl\": [{\"marker\": {\"colorbar\": {\"outlinewidth\": 0, \"ticks\": \"\"}}, \"type\": \"scatterpolargl\"}], \"scatterternary\": [{\"marker\": {\"colorbar\": {\"outlinewidth\": 0, \"ticks\": \"\"}}, \"type\": \"scatterternary\"}], \"surface\": [{\"colorbar\": {\"outlinewidth\": 0, \"ticks\": \"\"}, \"colorscale\": [[0.0, \"#0d0887\"], [0.1111111111111111, \"#46039f\"], [0.2222222222222222, \"#7201a8\"], [0.3333333333333333, \"#9c179e\"], [0.4444444444444444, \"#bd3786\"], [0.5555555555555556, \"#d8576b\"], [0.6666666666666666, \"#ed7953\"], [0.7777777777777778, \"#fb9f3a\"], [0.8888888888888888, \"#fdca26\"], [1.0, \"#f0f921\"]], \"type\": \"surface\"}], \"table\": [{\"cells\": {\"fill\": {\"color\": \"#EBF0F8\"}, \"line\": {\"color\": \"white\"}}, \"header\": {\"fill\": {\"color\": \"#C8D4E3\"}, \"line\": {\"color\": \"white\"}}, \"type\": \"table\"}]}, \"layout\": {\"annotationdefaults\": {\"arrowcolor\": \"#2a3f5f\", \"arrowhead\": 0, \"arrowwidth\": 1}, \"colorscale\": {\"diverging\": [[0, \"#8e0152\"], [0.1, \"#c51b7d\"], [0.2, \"#de77ae\"], [0.3, \"#f1b6da\"], [0.4, \"#fde0ef\"], [0.5, \"#f7f7f7\"], [0.6, \"#e6f5d0\"], [0.7, \"#b8e186\"], [0.8, \"#7fbc41\"], [0.9, \"#4d9221\"], [1, \"#276419\"]], \"sequential\": [[0.0, \"#0d0887\"], [0.1111111111111111, \"#46039f\"], [0.2222222222222222, \"#7201a8\"], [0.3333333333333333, \"#9c179e\"], [0.4444444444444444, \"#bd3786\"], [0.5555555555555556, \"#d8576b\"], [0.6666666666666666, \"#ed7953\"], [0.7777777777777778, \"#fb9f3a\"], [0.8888888888888888, \"#fdca26\"], [1.0, \"#f0f921\"]], \"sequentialminus\": [[0.0, \"#0d0887\"], [0.1111111111111111, \"#46039f\"], [0.2222222222222222, \"#7201a8\"], [0.3333333333333333, \"#9c179e\"], [0.4444444444444444, \"#bd3786\"], [0.5555555555555556, \"#d8576b\"], [0.6666666666666666, \"#ed7953\"], [0.7777777777777778, \"#fb9f3a\"], [0.8888888888888888, \"#fdca26\"], [1.0, \"#f0f921\"]]}, \"colorway\": [\"#636efa\", \"#EF553B\", \"#00cc96\", \"#ab63fa\", \"#FFA15A\", \"#19d3f3\", \"#FF6692\", \"#B6E880\", \"#FF97FF\", \"#FECB52\"], \"font\": {\"color\": \"#2a3f5f\"}, \"geo\": {\"bgcolor\": \"white\", \"lakecolor\": \"white\", \"landcolor\": \"#E5ECF6\", \"showlakes\": true, \"showland\": true, \"subunitcolor\": \"white\"}, \"hoverlabel\": {\"align\": \"left\"}, \"hovermode\": \"closest\", \"mapbox\": {\"style\": \"light\"}, \"paper_bgcolor\": \"white\", \"plot_bgcolor\": \"#E5ECF6\", \"polar\": {\"angularaxis\": {\"gridcolor\": \"white\", \"linecolor\": \"white\", \"ticks\": \"\"}, \"bgcolor\": \"#E5ECF6\", \"radialaxis\": {\"gridcolor\": \"white\", \"linecolor\": \"white\", \"ticks\": \"\"}}, \"scene\": {\"xaxis\": {\"backgroundcolor\": \"#E5ECF6\", \"gridcolor\": \"white\", \"gridwidth\": 2, \"linecolor\": \"white\", \"showbackground\": true, \"ticks\": \"\", \"zerolinecolor\": \"white\"}, \"yaxis\": {\"backgroundcolor\": \"#E5ECF6\", \"gridcolor\": \"white\", \"gridwidth\": 2, \"linecolor\": \"white\", \"showbackground\": true, \"ticks\": \"\", \"zerolinecolor\": \"white\"}, \"zaxis\": {\"backgroundcolor\": \"#E5ECF6\", \"gridcolor\": \"white\", \"gridwidth\": 2, \"linecolor\": \"white\", \"showbackground\": true, \"ticks\": \"\", \"zerolinecolor\": \"white\"}}, \"shapedefaults\": {\"line\": {\"color\": \"#2a3f5f\"}}, \"ternary\": {\"aaxis\": {\"gridcolor\": \"white\", \"linecolor\": \"white\", \"ticks\": \"\"}, \"baxis\": {\"gridcolor\": \"white\", \"linecolor\": \"white\", \"ticks\": \"\"}, \"bgcolor\": \"#E5ECF6\", \"caxis\": {\"gridcolor\": \"white\", \"linecolor\": \"white\", \"ticks\": \"\"}}, \"title\": {\"x\": 0.05}, \"xaxis\": {\"automargin\": true, \"gridcolor\": \"white\", \"linecolor\": \"white\", \"ticks\": \"\", \"zerolinecolor\": \"white\", \"zerolinewidth\": 2}, \"yaxis\": {\"automargin\": true, \"gridcolor\": \"white\", \"linecolor\": \"white\", \"ticks\": \"\", \"zerolinecolor\": \"white\", \"zerolinewidth\": 2}}}, \"title\": {\"text\": \"Human Activity Label Distribution\"}, \"xaxis\": {\"title\": {\"text\": \"Activity\"}}, \"yaxis\": {\"title\": {\"text\": \"Count\"}}},\n",
       "                        {\"responsive\": true}\n",
       "                    ).then(function(){\n",
       "                            \n",
       "var gd = document.getElementById('206557f2-2e71-460b-83fa-8d47ffc35e83');\n",
       "var x = new MutationObserver(function (mutations, observer) {{\n",
       "        var display = window.getComputedStyle(gd).display;\n",
       "        if (!display || display === 'none') {{\n",
       "            console.log([gd, 'removed!']);\n",
       "            Plotly.purge(gd);\n",
       "            observer.disconnect();\n",
       "        }}\n",
       "}});\n",
       "\n",
       "// Listen for the removal of the full notebook cells\n",
       "var notebookContainer = gd.closest('#notebook-container');\n",
       "if (notebookContainer) {{\n",
       "    x.observe(notebookContainer, {childList: true});\n",
       "}}\n",
       "\n",
       "// Listen for the clearing of the current output cell\n",
       "var outputEl = gd.closest('.output');\n",
       "if (outputEl) {{\n",
       "    x.observe(outputEl, {childList: true});\n",
       "}}\n",
       "\n",
       "                        })\n",
       "                };\n",
       "                });\n",
       "            </script>\n",
       "        </div>"
      ]
     },
     "metadata": {},
     "output_type": "display_data"
    }
   ],
   "source": [
    "# Plotting data\n",
    "label_counts = activity.value_counts()\n",
    "\n",
    "x_labels = [activty_map[index] for index in label_counts.index]\n",
    "# Get colors\n",
    "n = label_counts.shape[0]\n",
    "colormap = get_cmap('viridis')\n",
    "colors = [rgb2hex(colormap(col)) for col in np.arange(0, 1.01, 1/(n-1))]\n",
    "\n",
    "# Create plot\n",
    "data = go.Bar(x = x_labels,\n",
    "              y = label_counts,\n",
    "              marker = dict(color = colors))\n",
    "\n",
    "layout = go.Layout(title = 'Human Activity Label Distribution',\n",
    "                   xaxis = dict(title = 'Activity'),\n",
    "                   yaxis = dict(title = 'Count'))\n",
    "\n",
    "fig = go.Figure(data=[data], layout=layout)\n",
    "iplot(fig)"
   ]
  },
  {
   "cell_type": "markdown",
   "metadata": {},
   "source": [
    "#### We observe that the distribution of data in the three groups is not entirely uniform. "
   ]
  },
  {
   "cell_type": "markdown",
   "metadata": {},
   "source": [
    "## Normalization"
   ]
  },
  {
   "cell_type": "code",
   "execution_count": 20,
   "metadata": {},
   "outputs": [],
   "source": [
    "from sklearn.preprocessing import MinMaxScaler\n",
    "# we scale the values of columns so that all the values are between 0 and 1\n",
    "scaler = MinMaxScaler()\n",
    "df[df.columns] = scaler.fit_transform(df[df.columns])"
   ]
  },
  {
   "cell_type": "code",
   "execution_count": 35,
   "metadata": {},
   "outputs": [],
   "source": [
    "features = df.to_numpy(dtype=np.float32)\n",
    "activity_labels = activity.to_numpy(dtype=np.float32)\n"
   ]
  },
  {
   "cell_type": "code",
   "execution_count": 36,
   "metadata": {},
   "outputs": [],
   "source": [
    "xTrain, xTest, yTrain, yTest = train_test_split(features, activity_labels, test_size = 0.2, random_state = 0)\n",
    "xVal, xTest, yVal, yTest = train_test_split(xTest, yTest, test_size = 0.5, random_state = 0)"
   ]
  },
  {
   "cell_type": "code",
   "execution_count": 37,
   "metadata": {},
   "outputs": [
    {
     "name": "stdout",
     "output_type": "stream",
     "text": [
      "Training size:  60079\n",
      "Test size:  7510\n",
      "Validation size:  7510\n",
      "\n",
      "Training df sample: \n",
      " [[0.00000000e+00 5.60000002e-01 4.39999998e-01 0.00000000e+00\n",
      "  0.00000000e+00 0.00000000e+00 0.00000000e+00 0.00000000e+00\n",
      "  0.00000000e+00 0.00000000e+00 0.00000000e+00 6.49999976e-01\n",
      "  3.49999994e-01 0.00000000e+00 0.00000000e+00 0.00000000e+00\n",
      "  0.00000000e+00 0.00000000e+00 0.00000000e+00 0.00000000e+00\n",
      "  0.00000000e+00 3.35000008e-01 6.65000021e-01 0.00000000e+00\n",
      "  0.00000000e+00 0.00000000e+00 0.00000000e+00 0.00000000e+00\n",
      "  0.00000000e+00 0.00000000e+00 4.58920598e-01 6.53594494e-01\n",
      "  5.20891130e-01 5.20741567e-02 8.50413963e-02 6.15954632e-03\n",
      "  9.02114494e-04 7.02926714e-04 2.60425790e-04 8.41249654e-04\n",
      "  7.13959394e-04 2.32849212e-04 2.41695400e-02 2.28345431e-02\n",
      "  1.15161026e-02 2.72834957e-01 2.72834122e-01 2.72836149e-01\n",
      "  2.72836417e-01 2.72833943e-01 2.72834420e-01 2.72835195e-01\n",
      "  2.72834599e-01 2.72836179e-01 2.72833377e-01 2.72837132e-01\n",
      "  2.72834837e-01 2.72833675e-01 3.11300963e-01 3.11301887e-01\n",
      "  3.11301559e-01 3.11299592e-01 3.11301172e-01 3.11301947e-01\n",
      "  3.11302364e-01 3.11300784e-01 3.11300635e-01 3.11302841e-01\n",
      "  3.11302245e-01 3.11302662e-01 3.11302423e-01 2.27058649e-01\n",
      "  2.27057070e-01 2.27058083e-01 2.27058440e-01 2.27059469e-01\n",
      "  2.27060497e-01 2.27058411e-01 2.27058411e-01 2.27057040e-01\n",
      "  2.27057695e-01 2.27060303e-01 2.27059886e-01 2.27058664e-01\n",
      "  1.95035577e-01 3.92918676e-01 5.68347514e-01 1.38668954e-01\n",
      "  4.40076172e-01 6.21279597e-01 6.05705136e-04]\n",
      " [0.00000000e+00 0.00000000e+00 0.00000000e+00 0.00000000e+00\n",
      "  2.24999994e-01 7.74999976e-01 0.00000000e+00 0.00000000e+00\n",
      "  0.00000000e+00 0.00000000e+00 9.25000012e-01 7.50000030e-02\n",
      "  0.00000000e+00 0.00000000e+00 0.00000000e+00 0.00000000e+00\n",
      "  0.00000000e+00 0.00000000e+00 0.00000000e+00 0.00000000e+00\n",
      "  1.00000000e+00 0.00000000e+00 0.00000000e+00 0.00000000e+00\n",
      "  0.00000000e+00 0.00000000e+00 0.00000000e+00 0.00000000e+00\n",
      "  0.00000000e+00 0.00000000e+00 7.41693795e-01 5.57328641e-01\n",
      "  2.60276169e-01 3.98397781e-02 1.04677670e-01 1.99475549e-02\n",
      "  1.55168790e-02 9.80561040e-03 1.53820664e-02 1.39809018e-02\n",
      "  9.64574981e-03 1.32752443e-02 1.13507830e-01 9.43827257e-02\n",
      "  1.11373097e-01 7.50389397e-01 7.50388980e-01 7.50389516e-01\n",
      "  7.50389814e-01 7.50388801e-01 7.50388980e-01 7.50389397e-01\n",
      "  7.50389278e-01 7.50389755e-01 7.50388682e-01 7.50389934e-01\n",
      "  7.50389338e-01 7.50388801e-01 6.52312934e-01 6.52312875e-01\n",
      "  6.52312815e-01 6.52311623e-01 6.52312636e-01 6.52313054e-01\n",
      "  6.52313530e-01 6.52312517e-01 6.52312279e-01 6.52313292e-01\n",
      "  6.52313054e-01 6.52313232e-01 6.52313292e-01 7.15116799e-01\n",
      "  7.15116501e-01 7.15116978e-01 7.15116918e-01 7.15117157e-01\n",
      "  7.15117633e-01 7.15117335e-01 7.15116858e-01 7.15116620e-01\n",
      "  7.15116918e-01 7.15117335e-01 7.15117455e-01 7.15117276e-01\n",
      "  2.73301499e-03 1.88350561e-03 9.98062968e-01 7.00007021e-01\n",
      "  9.52780008e-01 6.41110063e-01 2.64197350e-01]\n",
      " [0.00000000e+00 1.00000000e+00 0.00000000e+00 0.00000000e+00\n",
      "  0.00000000e+00 0.00000000e+00 0.00000000e+00 0.00000000e+00\n",
      "  0.00000000e+00 0.00000000e+00 0.00000000e+00 0.00000000e+00\n",
      "  0.00000000e+00 0.00000000e+00 1.00000000e+00 0.00000000e+00\n",
      "  0.00000000e+00 0.00000000e+00 0.00000000e+00 0.00000000e+00\n",
      "  0.00000000e+00 0.00000000e+00 0.00000000e+00 0.00000000e+00\n",
      "  0.00000000e+00 1.00000000e+00 0.00000000e+00 0.00000000e+00\n",
      "  0.00000000e+00 0.00000000e+00 4.25747991e-01 8.64437163e-01\n",
      "  8.86337936e-01 1.48116602e-02 3.29654962e-02 9.75294970e-03\n",
      "  1.09825993e-03 1.64558389e-03 1.86777464e-03 1.09579728e-03\n",
      "  1.64519111e-03 1.66909059e-03 2.82275565e-02 3.66166830e-02\n",
      "  3.68338116e-02 5.41385114e-01 5.41384101e-01 5.41385293e-01\n",
      "  5.41385531e-01 5.41384041e-01 5.41384280e-01 5.41384876e-01\n",
      "  5.41384578e-01 5.41385531e-01 5.41383862e-01 5.41386187e-01\n",
      "  5.41384757e-01 5.41383922e-01 7.24756479e-01 7.24756479e-01\n",
      "  7.24756241e-01 7.24755228e-01 7.24756002e-01 7.24756300e-01\n",
      "  7.24756837e-01 7.24755824e-01 7.24756062e-01 7.24756896e-01\n",
      "  7.24756837e-01 7.24756598e-01 7.24756777e-01 7.44234204e-01\n",
      "  7.44233489e-01 7.44233787e-01 7.44233847e-01 7.44234025e-01\n",
      "  7.44234502e-01 7.44233787e-01 7.44233608e-01 7.44233727e-01\n",
      "  7.44233549e-01 7.44234383e-01 7.44234145e-01 7.44233787e-01\n",
      "  1.47000814e-04 1.34500398e-04 9.99978006e-01 5.23505330e-01\n",
      "  4.55664963e-01 3.21034580e-01 2.62697011e-01]\n",
      " [2.04999998e-01 2.04999998e-01 1.80000007e-01 1.55000001e-01\n",
      "  1.40000001e-01 5.99999987e-02 2.50000004e-02 1.05263162e-02\n",
      "  3.50877196e-02 4.05405387e-02 8.70000005e-01 7.00000003e-02\n",
      "  5.99999987e-02 0.00000000e+00 0.00000000e+00 0.00000000e+00\n",
      "  0.00000000e+00 0.00000000e+00 0.00000000e+00 0.00000000e+00\n",
      "  2.00000003e-01 3.14999998e-01 2.94999987e-01 9.00000036e-02\n",
      "  5.99999987e-02 1.49999997e-02 2.56410260e-02 5.12820520e-02\n",
      "  3.12500000e-02 0.00000000e+00 5.21331072e-01 3.15758675e-01\n",
      "  5.07665634e-01 7.88502917e-02 1.65964887e-01 3.85241695e-02\n",
      "  2.74129272e-01 2.31389761e-01 1.93174139e-01 2.81120509e-01\n",
      "  2.45879769e-01 2.15941444e-01 5.27638853e-01 4.93682802e-01\n",
      "  4.62335587e-01 8.54308784e-01 8.54308009e-01 8.54308486e-01\n",
      "  8.54308248e-01 8.54307950e-01 8.54307890e-01 8.54308367e-01\n",
      "  8.54308307e-01 8.54308367e-01 8.54308128e-01 8.54308784e-01\n",
      "  8.54308248e-01 8.54307771e-01 8.77255440e-01 8.77255440e-01\n",
      "  8.77254963e-01 8.77254903e-01 8.77255261e-01 8.77255201e-01\n",
      "  8.77255619e-01 8.77254903e-01 8.77254784e-01 8.77255678e-01\n",
      "  8.77255380e-01 8.77255201e-01 8.77255321e-01 8.44687462e-01\n",
      "  8.44687164e-01 8.44687223e-01 8.44687462e-01 8.44687521e-01\n",
      "  8.44687998e-01 8.44687581e-01 8.44687641e-01 8.44687223e-01\n",
      "  8.44687581e-01 8.44687700e-01 8.44687462e-01 8.44687223e-01\n",
      "  2.51187891e-01 2.67770797e-01 6.60138786e-01 2.64227957e-01\n",
      "  2.64787376e-01 7.56703734e-01 3.29090565e-01]\n",
      " [0.00000000e+00 4.74999994e-01 5.24999976e-01 0.00000000e+00\n",
      "  0.00000000e+00 0.00000000e+00 0.00000000e+00 0.00000000e+00\n",
      "  0.00000000e+00 0.00000000e+00 0.00000000e+00 3.75000000e-01\n",
      "  6.25000000e-01 0.00000000e+00 0.00000000e+00 0.00000000e+00\n",
      "  0.00000000e+00 0.00000000e+00 0.00000000e+00 0.00000000e+00\n",
      "  0.00000000e+00 5.00000000e-01 5.00000000e-01 0.00000000e+00\n",
      "  0.00000000e+00 0.00000000e+00 0.00000000e+00 0.00000000e+00\n",
      "  0.00000000e+00 0.00000000e+00 4.59155798e-01 6.53810859e-01\n",
      "  5.20763874e-01 8.26253965e-02 9.01010782e-02 4.07754034e-02\n",
      "  7.90587452e-04 5.89964853e-04 2.62009795e-04 7.29840307e-04\n",
      "  5.74741280e-04 2.33741404e-04 2.22070329e-02 2.01158747e-02\n",
      "  1.15442872e-02 2.46281296e-01 2.46280164e-01 2.46282145e-01\n",
      "  2.46282697e-01 2.46280000e-01 2.46280462e-01 2.46281534e-01\n",
      "  2.46280596e-01 2.46282607e-01 2.46279970e-01 2.46283218e-01\n",
      "  2.46281177e-01 2.46280074e-01 2.83203214e-01 2.83203870e-01\n",
      "  2.83203691e-01 2.83201456e-01 2.83203125e-01 2.83203810e-01\n",
      "  2.83204198e-01 2.83202648e-01 2.83203006e-01 2.83204496e-01\n",
      "  2.83204556e-01 2.83204943e-01 2.83204764e-01 2.09812894e-01\n",
      "  2.09810972e-01 2.09812358e-01 2.09812120e-01 2.09813505e-01\n",
      "  2.09814474e-01 2.09812462e-01 2.09812403e-01 2.09810853e-01\n",
      "  2.09811494e-01 2.09814385e-01 2.09813684e-01 2.09812865e-01\n",
      "  6.99612856e-01 2.55375773e-01 3.01149547e-01 6.95403039e-01\n",
      "  2.57039219e-01 3.03526253e-01 5.18689048e-04]\n",
      " [0.00000000e+00 5.69999993e-01 4.30000007e-01 0.00000000e+00\n",
      "  0.00000000e+00 0.00000000e+00 0.00000000e+00 0.00000000e+00\n",
      "  0.00000000e+00 0.00000000e+00 0.00000000e+00 4.85000014e-01\n",
      "  5.14999986e-01 0.00000000e+00 0.00000000e+00 0.00000000e+00\n",
      "  0.00000000e+00 0.00000000e+00 0.00000000e+00 0.00000000e+00\n",
      "  0.00000000e+00 5.14999986e-01 4.85000014e-01 0.00000000e+00\n",
      "  0.00000000e+00 0.00000000e+00 0.00000000e+00 0.00000000e+00\n",
      "  0.00000000e+00 0.00000000e+00 4.58217591e-01 6.53757572e-01\n",
      "  5.21085262e-01 2.43827850e-02 6.22728430e-02 1.89645085e-02\n",
      "  3.74016259e-03 7.51773012e-04 1.21238548e-03 9.03122313e-03\n",
      "  8.39796965e-04 2.76760501e-03 9.02034417e-02 2.50764657e-02\n",
      "  4.85861376e-02 5.47211170e-01 5.47210157e-01 5.47211349e-01\n",
      "  5.47211587e-01 5.47210097e-01 5.47210276e-01 5.47210872e-01\n",
      "  5.47210634e-01 5.47211587e-01 5.47209918e-01 5.47212183e-01\n",
      "  5.47210813e-01 5.47209978e-01 3.35240155e-01 3.35240483e-01\n",
      "  3.35240424e-01 3.35238427e-01 3.35240394e-01 3.35240602e-01\n",
      "  3.35241258e-01 3.35240096e-01 3.35239857e-01 3.35241675e-01\n",
      "  3.35241258e-01 3.35241556e-01 3.35241765e-01 4.61702555e-01\n",
      "  4.61701334e-01 4.61702198e-01 4.61702526e-01 4.61703032e-01\n",
      "  4.61703777e-01 4.61702734e-01 4.61702257e-01 4.61701512e-01\n",
      "  4.61702019e-01 4.61703897e-01 4.61703479e-01 4.61702734e-01\n",
      "  3.04303676e-01 2.53005754e-02 6.63124800e-01 3.04040402e-01\n",
      "  2.52666343e-02 6.62729681e-01 1.65685290e-03]\n",
      " [1.00000000e+00 0.00000000e+00 0.00000000e+00 0.00000000e+00\n",
      "  0.00000000e+00 0.00000000e+00 0.00000000e+00 0.00000000e+00\n",
      "  0.00000000e+00 0.00000000e+00 6.44999981e-01 2.80000001e-01\n",
      "  7.50000030e-02 0.00000000e+00 0.00000000e+00 0.00000000e+00\n",
      "  0.00000000e+00 0.00000000e+00 0.00000000e+00 0.00000000e+00\n",
      "  5.99999987e-02 3.89999986e-01 4.69999999e-01 7.99999982e-02\n",
      "  0.00000000e+00 0.00000000e+00 0.00000000e+00 0.00000000e+00\n",
      "  0.00000000e+00 0.00000000e+00 1.19009688e-01 5.45783877e-01\n",
      "  5.26756644e-01 7.33132511e-02 1.85054377e-01 4.05403823e-02\n",
      "  5.82602061e-02 7.66970739e-02 8.02783370e-02 6.15981072e-02\n",
      "  7.59143233e-02 7.42983967e-02 2.44103730e-01 2.72403598e-01\n",
      "  2.69381225e-01 7.87199020e-01 7.87198424e-01 7.87198782e-01\n",
      "  7.87198842e-01 7.87198424e-01 7.87198484e-01 7.87198663e-01\n",
      "  7.87198901e-01 7.87198842e-01 7.87198544e-01 7.87199318e-01\n",
      "  7.87198722e-01 7.87198484e-01 7.46914446e-01 7.46914625e-01\n",
      "  7.46914625e-01 7.46914029e-01 7.46914625e-01 7.46914804e-01\n",
      "  7.46914983e-01 7.46914387e-01 7.46914506e-01 7.46914983e-01\n",
      "  7.46915221e-01 7.46915042e-01 7.46914923e-01 7.34436512e-01\n",
      "  7.34436154e-01 7.34436333e-01 7.34436452e-01 7.34436750e-01\n",
      "  7.34437585e-01 7.34436929e-01 7.34436631e-01 7.34436035e-01\n",
      "  7.34436572e-01 7.34437287e-01 7.34437048e-01 7.34436572e-01\n",
      "  9.11497533e-01 4.75769222e-01 2.96065539e-01 3.02229702e-01\n",
      "  6.03803992e-01 1.67389050e-01 2.72241294e-01]\n",
      " [5.14999986e-01 1.94999993e-01 2.89999992e-01 0.00000000e+00\n",
      "  0.00000000e+00 0.00000000e+00 0.00000000e+00 0.00000000e+00\n",
      "  0.00000000e+00 0.00000000e+00 7.20000029e-01 1.85000002e-01\n",
      "  9.49999988e-02 0.00000000e+00 0.00000000e+00 0.00000000e+00\n",
      "  0.00000000e+00 0.00000000e+00 0.00000000e+00 0.00000000e+00\n",
      "  0.00000000e+00 1.19999997e-01 5.99999987e-02 1.59999996e-01\n",
      "  5.69999993e-01 7.50000030e-02 3.84615399e-02 0.00000000e+00\n",
      "  0.00000000e+00 0.00000000e+00 3.32809180e-01 4.73768622e-01\n",
      "  7.51537204e-01 3.78377140e-02 4.27441671e-02 2.81863678e-02\n",
      "  2.44958758e-01 1.46039367e-01 1.22010171e-01 2.06559598e-01\n",
      "  1.37211010e-01 1.22131765e-01 4.51507807e-01 3.67701143e-01\n",
      "  3.46609592e-01 7.54852176e-01 7.54851639e-01 7.54851937e-01\n",
      "  7.54851997e-01 7.54851103e-01 7.54851162e-01 7.54851878e-01\n",
      "  7.54851818e-01 7.54852057e-01 7.54851043e-01 7.54852533e-01\n",
      "  7.54851818e-01 7.54851282e-01 8.01401973e-01 8.01401913e-01\n",
      "  8.01401734e-01 8.01401317e-01 8.01401913e-01 8.01402092e-01\n",
      "  8.01402271e-01 8.01402032e-01 8.01401675e-01 8.01402330e-01\n",
      "  8.01402092e-01 8.01402032e-01 8.01402509e-01 7.51633465e-01\n",
      "  7.51633465e-01 7.51633644e-01 7.51633763e-01 7.51634061e-01\n",
      "  7.51634657e-01 7.51634121e-01 7.51634002e-01 7.51633644e-01\n",
      "  7.51633763e-01 7.51634121e-01 7.51634121e-01 7.51633644e-01\n",
      "  6.33139968e-01 2.90865362e-01 1.57664046e-01 1.49297148e-01\n",
      "  7.14829385e-01 5.76948285e-01 2.62350172e-01]\n",
      " [1.29999995e-01 3.84999990e-01 3.79999995e-01 7.50000030e-02\n",
      "  9.99999978e-03 9.99999978e-03 9.99999978e-03 0.00000000e+00\n",
      "  0.00000000e+00 0.00000000e+00 5.00000007e-02 4.35000002e-01\n",
      "  4.95000005e-01 1.99999996e-02 0.00000000e+00 0.00000000e+00\n",
      "  0.00000000e+00 0.00000000e+00 0.00000000e+00 0.00000000e+00\n",
      "  1.50000006e-01 4.79999989e-01 1.94999993e-01 1.25000000e-01\n",
      "  4.50000018e-02 4.99999989e-03 0.00000000e+00 0.00000000e+00\n",
      "  0.00000000e+00 0.00000000e+00 4.54628021e-01 6.46437109e-01\n",
      "  5.18453300e-01 7.78087452e-02 1.10885561e-01 9.36049819e-02\n",
      "  1.23826027e-01 4.25015204e-02 1.23880975e-01 1.45487979e-01\n",
      "  4.72662933e-02 1.15461171e-01 3.78053367e-01 2.14043126e-01\n",
      "  3.36890399e-01 7.99956739e-01 7.99955904e-01 7.99956739e-01\n",
      "  7.99956739e-01 7.99956143e-01 7.99955964e-01 7.99956083e-01\n",
      "  7.99956560e-01 7.99956799e-01 7.99955904e-01 7.99956858e-01\n",
      "  7.99956262e-01 7.99956143e-01 7.06835091e-01 7.06835091e-01\n",
      "  7.06834793e-01 7.06833959e-01 7.06834614e-01 7.06835151e-01\n",
      "  7.06835389e-01 7.06834495e-01 7.06834614e-01 7.06835151e-01\n",
      "  7.06835330e-01 7.06834972e-01 7.06835091e-01 7.53994823e-01\n",
      "  7.53994465e-01 7.53994823e-01 7.53995240e-01 7.53995121e-01\n",
      "  7.53996074e-01 7.53995121e-01 7.53995240e-01 7.53994823e-01\n",
      "  7.53994942e-01 7.53995538e-01 7.53995359e-01 7.53995240e-01\n",
      "  5.02669513e-01 3.78610641e-01 4.86559898e-01 4.98692840e-01\n",
      "  3.78064454e-01 4.84655201e-01 8.92242044e-02]\n",
      " [0.00000000e+00 5.64999998e-01 4.35000002e-01 0.00000000e+00\n",
      "  0.00000000e+00 0.00000000e+00 0.00000000e+00 0.00000000e+00\n",
      "  0.00000000e+00 0.00000000e+00 0.00000000e+00 5.04999995e-01\n",
      "  4.95000005e-01 0.00000000e+00 0.00000000e+00 0.00000000e+00\n",
      "  0.00000000e+00 0.00000000e+00 0.00000000e+00 0.00000000e+00\n",
      "  0.00000000e+00 5.45000017e-01 4.55000013e-01 0.00000000e+00\n",
      "  0.00000000e+00 0.00000000e+00 0.00000000e+00 0.00000000e+00\n",
      "  0.00000000e+00 0.00000000e+00 4.57552701e-01 6.54526830e-01\n",
      "  5.15666604e-01 2.14494504e-02 9.60040316e-02 2.32244134e-02\n",
      "  8.48946162e-03 4.18777345e-03 1.13698142e-02 1.06361611e-02\n",
      "  6.47366932e-03 1.52269462e-02 9.83347520e-02 7.65732005e-02\n",
      "  1.19582489e-01 5.43630421e-01 5.43629527e-01 5.43630660e-01\n",
      "  5.43630898e-01 5.43629408e-01 5.43629646e-01 5.43630183e-01\n",
      "  5.43629885e-01 5.43630898e-01 5.43629229e-01 5.43631554e-01\n",
      "  5.43630123e-01 5.43629289e-01 5.14228523e-01 5.14228821e-01\n",
      "  5.14228642e-01 5.14227271e-01 5.14228463e-01 5.14228880e-01\n",
      "  5.14229298e-01 5.14228225e-01 5.14228165e-01 5.14229536e-01\n",
      "  5.14229298e-01 5.14229417e-01 5.14229476e-01 5.57762682e-01\n",
      "  5.57761669e-01 5.57762325e-01 5.57762504e-01 5.57763100e-01\n",
      "  5.57763755e-01 5.57762623e-01 5.57762444e-01 5.57761729e-01\n",
      "  5.57762146e-01 5.57763517e-01 5.57763338e-01 5.57762682e-01\n",
      "  2.26854250e-01 8.21947992e-01 1.28588453e-01 2.32879460e-01\n",
      "  8.11826587e-01 1.28995672e-01 6.13461109e-03]]\n"
     ]
    }
   ],
   "source": [
    "# check that division of samples seems correct\n",
    "# these should add up to 95 (100 - 5 original files)\n",
    "print('Training size: ', len(xTrain))\n",
    "print('Test size: ', len(xTest))\n",
    "print('Validation size: ', len(xVal))\n",
    "\n",
    "print()\n",
    "print('Training df sample: \\n', xTrain[:10])"
   ]
  },
  {
   "cell_type": "code",
   "execution_count": 38,
   "metadata": {},
   "outputs": [],
   "source": [
    "linear_learner_estimator = sagemaker.LinearLearner(role=sagemaker.get_execution_role(),\n",
    "                                               train_instance_count=1,\n",
    "                                               train_instance_type='ml.m4.xlarge',\n",
    "                                               predictor_type='multiclass_classifier',\n",
    "                                               num_classes=3)"
   ]
  },
  {
   "cell_type": "code",
   "execution_count": 39,
   "metadata": {},
   "outputs": [],
   "source": [
    "# create RecordSet\n",
    "train_records = linear_learner_estimator.record_set(xTrain, yTrain, channel='train')\n",
    "val_records = linear_learner_estimator.record_set(xVal, yVal, channel='validation')\n",
    "test_records = linear_learner_estimator.record_set(xTest, yTest, channel='test')"
   ]
  },
  {
   "cell_type": "code",
   "execution_count": null,
   "metadata": {},
   "outputs": [
    {
     "name": "stdout",
     "output_type": "stream",
     "text": [
      "2020-01-24 17:45:39 Starting - Starting the training job...\n",
      "2020-01-24 17:45:40 Starting - Launching requested ML instances...\n",
      "2020-01-24 17:46:37 Starting - Preparing the instances for training......\n",
      "2020-01-24 17:47:38 Downloading - Downloading input data...\n",
      "2020-01-24 17:47:53 Training - Downloading the training image..\u001b[34mDocker entrypoint called with argument(s): train\u001b[0m\n",
      "\u001b[34m[01/24/2020 17:48:16 INFO 140276589545280] Reading default configuration from /opt/amazon/lib/python2.7/site-packages/algorithm/resources/default-input.json: {u'loss_insensitivity': u'0.01', u'epochs': u'15', u'feature_dim': u'auto', u'init_bias': u'0.0', u'lr_scheduler_factor': u'auto', u'num_calibration_samples': u'10000000', u'accuracy_top_k': u'3', u'_num_kv_servers': u'auto', u'use_bias': u'true', u'num_point_for_scaler': u'10000', u'_log_level': u'info', u'quantile': u'0.5', u'bias_lr_mult': u'auto', u'lr_scheduler_step': u'auto', u'init_method': u'uniform', u'init_sigma': u'0.01', u'lr_scheduler_minimum_lr': u'auto', u'target_recall': u'0.8', u'num_models': u'auto', u'early_stopping_patience': u'3', u'momentum': u'auto', u'unbias_label': u'auto', u'wd': u'auto', u'optimizer': u'auto', u'_tuning_objective_metric': u'', u'early_stopping_tolerance': u'0.001', u'learning_rate': u'auto', u'_kvstore': u'auto', u'normalize_data': u'true', u'binary_classifier_model_selection_criteria': u'accuracy', u'use_lr_scheduler': u'true', u'target_precision': u'0.8', u'unbias_data': u'auto', u'init_scale': u'0.07', u'bias_wd_mult': u'auto', u'f_beta': u'1.0', u'mini_batch_size': u'1000', u'huber_delta': u'1.0', u'num_classes': u'1', u'beta_1': u'auto', u'loss': u'auto', u'beta_2': u'auto', u'_enable_profiler': u'false', u'normalize_label': u'auto', u'_num_gpus': u'auto', u'balance_multiclass_weights': u'false', u'positive_example_weight_mult': u'1.0', u'l1': u'auto', u'margin': u'1.0'}\u001b[0m\n",
      "\u001b[34m[01/24/2020 17:48:16 INFO 140276589545280] Reading provided configuration from /opt/ml/input/config/hyperparameters.json: {u'feature_dim': u'91', u'mini_batch_size': u'1000', u'predictor_type': u'multiclass_classifier', u'num_classes': u'3'}\u001b[0m\n",
      "\u001b[34m[01/24/2020 17:48:16 INFO 140276589545280] Final configuration: {u'loss_insensitivity': u'0.01', u'epochs': u'15', u'feature_dim': u'91', u'init_bias': u'0.0', u'lr_scheduler_factor': u'auto', u'num_calibration_samples': u'10000000', u'accuracy_top_k': u'3', u'_num_kv_servers': u'auto', u'use_bias': u'true', u'num_point_for_scaler': u'10000', u'_log_level': u'info', u'quantile': u'0.5', u'bias_lr_mult': u'auto', u'lr_scheduler_step': u'auto', u'init_method': u'uniform', u'init_sigma': u'0.01', u'lr_scheduler_minimum_lr': u'auto', u'target_recall': u'0.8', u'num_models': u'auto', u'early_stopping_patience': u'3', u'momentum': u'auto', u'unbias_label': u'auto', u'wd': u'auto', u'optimizer': u'auto', u'_tuning_objective_metric': u'', u'early_stopping_tolerance': u'0.001', u'learning_rate': u'auto', u'_kvstore': u'auto', u'normalize_data': u'true', u'binary_classifier_model_selection_criteria': u'accuracy', u'use_lr_scheduler': u'true', u'target_precision': u'0.8', u'unbias_data': u'auto', u'init_scale': u'0.07', u'bias_wd_mult': u'auto', u'f_beta': u'1.0', u'mini_batch_size': u'1000', u'huber_delta': u'1.0', u'num_classes': u'3', u'predictor_type': u'multiclass_classifier', u'beta_1': u'auto', u'loss': u'auto', u'beta_2': u'auto', u'_enable_profiler': u'false', u'normalize_label': u'auto', u'_num_gpus': u'auto', u'balance_multiclass_weights': u'false', u'positive_example_weight_mult': u'1.0', u'l1': u'auto', u'margin': u'1.0'}\u001b[0m\n",
      "\u001b[34m[01/24/2020 17:48:16 WARNING 140276589545280] Loggers have already been setup.\u001b[0m\n",
      "\u001b[34mProcess 1 is a worker.\u001b[0m\n",
      "\u001b[34m[01/24/2020 17:48:16 INFO 140276589545280] Using default worker.\u001b[0m\n",
      "\u001b[34m[2020-01-24 17:48:16.657] [tensorio] [warning] TensorIO is already initialized; ignoring the initialization routine.\u001b[0m\n",
      "\u001b[34m[2020-01-24 17:48:16.664] [tensorio] [warning] TensorIO is already initialized; ignoring the initialization routine.\u001b[0m\n",
      "\u001b[34m[2020-01-24 17:48:16.707] [tensorio] [info] epoch_stats={\"data_pipeline\": \"/opt/ml/input/data/train\", \"epoch\": 0, \"duration\": 55, \"num_examples\": 1, \"num_bytes\": 412000}\u001b[0m\n",
      "\u001b[34m[01/24/2020 17:48:16 INFO 140276589545280] Create Store: local\u001b[0m\n",
      "\u001b[34m[2020-01-24 17:48:16.776] [tensorio] [info] epoch_stats={\"data_pipeline\": \"/opt/ml/input/data/train\", \"epoch\": 1, \"duration\": 67, \"num_examples\": 11, \"num_bytes\": 4532000}\u001b[0m\n",
      "\u001b[34m[01/24/2020 17:48:16 INFO 140276589545280] Scaler algorithm parameters\n",
      " <algorithm.scaler.ScalerAlgorithmStable object at 0x7f945b15d350>\u001b[0m\n",
      "\u001b[34m[01/24/2020 17:48:16 INFO 140276589545280] Scaling model computed with parameters:\n",
      " {'stdev_weight': \u001b[0m\n",
      "\u001b[34m[0.33562687 0.2805359  0.26561087 0.1791667  0.17462423 0.2114733\n",
      " 0.05832912 0.05410581 0.04519978 0.06581129 0.4140131  0.27967215\n",
      " 0.26674724 0.14489874 0.10180167 0.16227338 0.0440416  0.05029359\n",
      " 0.03902063 0.04619246 0.27505833 0.26410356 0.2524848  0.19208325\n",
      " 0.19429605 0.19512995 0.04161161 0.03680304 0.03064851 0.03771748\n",
      " 0.15275978 0.14654133 0.15305209 0.0325244  0.05426938 0.02575855\n",
      " 0.11022007 0.08432315 0.08548461 0.10813726 0.0854397  0.08265294\n",
      " 0.17244068 0.15204793 0.15263724 0.17873491 0.1787352  0.17873463\n",
      " 0.17873453 0.17873512 0.17873505 0.1787348  0.17873506 0.17873457\n",
      " 0.1787353  0.17873445 0.17873488 0.17873515 0.17480156 0.1748014\n",
      " 0.17480138 0.17480189 0.1748015  0.17480141 0.17480122 0.17480162\n",
      " 0.17480159 0.17480119 0.17480122 0.17480107 0.17480117 0.17356203\n",
      " 0.1735625  0.1735622  0.1735622  0.17356187 0.17356177 0.1735622\n",
      " 0.1735622  0.17356257 0.17356236 0.17356174 0.1735618  0.17356203\n",
      " 0.3256555  0.3125532  0.3191923  0.21070611 0.22251475 0.21867669\n",
      " 0.12925674]\u001b[0m\n",
      "\u001b[34m<NDArray 91 @cpu(0)>, 'stdev_label': None, 'mean_label': None, 'mean_weight': \u001b[0m\n",
      "\u001b[34m[0.18877411 0.31200725 0.28356406 0.06516909 0.05333364 0.06778908\n",
      " 0.01521364 0.01344306 0.01043222 0.01294717 0.3132364  0.30852273\n",
      " 0.26566955 0.040345   0.02053591 0.03785864 0.008381   0.00887762\n",
      " 0.00620996 0.0059697  0.13593501 0.3320218  0.31967998 0.08525137\n",
      " 0.06532909 0.05357908 0.01036247 0.00775991 0.00565625 0.00611962\n",
      " 0.4705214  0.6020736  0.5461286  0.04583655 0.09048669 0.03305996\n",
      " 0.07400002 0.05311849 0.06017501 0.0764074  0.05649736 0.05899986\n",
      " 0.2125352  0.17973867 0.18594219 0.66444457 0.66444373 0.6644446\n",
      " 0.66444474 0.6644437  0.66444373 0.66444427 0.6644441  0.66444474\n",
      " 0.66444355 0.66444534 0.6644442  0.66444355 0.6567853  0.6567855\n",
      " 0.6567853  0.6567843  0.6567853  0.6567855  0.65678585 0.6567851\n",
      " 0.65678495 0.656786   0.65678585 0.65678585 0.65678596 0.6452872\n",
      " 0.64528656 0.64528704 0.6452872  0.6452876  0.6452881  0.6452872\n",
      " 0.6452872  0.6452867  0.64528686 0.645288   0.64528775 0.6452872\n",
      " 0.5151189  0.48929808 0.4987596  0.47302192 0.51803035 0.51380754\n",
      " 0.16494292]\u001b[0m\n",
      "\u001b[34m<NDArray 91 @cpu(0)>}\u001b[0m\n",
      "\u001b[34m[01/24/2020 17:48:16 INFO 140276589545280] nvidia-smi took: 0.0251801013947 secs to identify 0 gpus\u001b[0m\n",
      "\u001b[34m[01/24/2020 17:48:16 INFO 140276589545280] Number of GPUs being used: 0\u001b[0m\n",
      "\u001b[34m[01/24/2020 17:48:16 WARNING 140276589545280] Setting num_models to 32.\u001b[0m\n",
      "\u001b[34m[01/24/2020 17:48:16 WARNING 140276589545280] Setting num_models to 32.\u001b[0m\n",
      "\u001b[34m[01/24/2020 17:48:16 WARNING 140276589545280] Setting num_models to 32.\u001b[0m\n",
      "\u001b[34m[01/24/2020 17:48:16 WARNING 140276589545280] Setting num_models to 32.\u001b[0m\n",
      "\u001b[34m[01/24/2020 17:48:16 WARNING 140276589545280] Setting num_models to 32.\u001b[0m\n",
      "\u001b[34m[01/24/2020 17:48:16 WARNING 140276589545280] Setting num_models to 32.\u001b[0m\n",
      "\u001b[34m[01/24/2020 17:48:16 WARNING 140276589545280] Setting num_models to 32.\u001b[0m\n",
      "\u001b[34m[01/24/2020 17:48:16 WARNING 140276589545280] Setting num_models to 32.\u001b[0m\n",
      "\u001b[34m[01/24/2020 17:48:16 WARNING 140276589545280] Setting num_models to 32.\u001b[0m\n",
      "\u001b[34m[01/24/2020 17:48:16 WARNING 140276589545280] Setting num_models to 32.\u001b[0m\n",
      "\u001b[34m[01/24/2020 17:48:16 WARNING 140276589545280] Setting num_models to 32.\u001b[0m\n",
      "\u001b[34m[01/24/2020 17:48:16 WARNING 140276589545280] Setting num_models to 32.\u001b[0m\n",
      "\u001b[34m[01/24/2020 17:48:16 WARNING 140276589545280] Setting num_models to 32.\u001b[0m\n",
      "\u001b[34m[01/24/2020 17:48:16 WARNING 140276589545280] Setting num_models to 32.\u001b[0m\n",
      "\u001b[34m[01/24/2020 17:48:16 WARNING 140276589545280] Setting num_models to 32.\u001b[0m\n",
      "\u001b[34m[01/24/2020 17:48:16 WARNING 140276589545280] Setting num_models to 32.\u001b[0m\n",
      "\u001b[34m[01/24/2020 17:48:16 WARNING 140276589545280] Setting num_models to 32.\u001b[0m\n",
      "\u001b[34m[01/24/2020 17:48:16 WARNING 140276589545280] Setting num_models to 32.\u001b[0m\n",
      "\u001b[34m[01/24/2020 17:48:16 WARNING 140276589545280] Setting num_models to 32.\u001b[0m\n",
      "\u001b[34m[01/24/2020 17:48:16 WARNING 140276589545280] Setting num_models to 32.\u001b[0m\n",
      "\u001b[34m[01/24/2020 17:48:16 WARNING 140276589545280] Setting num_models to 32.\u001b[0m\n",
      "\u001b[34m#metrics {\"Metrics\": {\"Max Batches Seen Between Resets\": {\"count\": 1, \"max\": 11, \"sum\": 11.0, \"min\": 11}, \"Number of Batches Since Last Reset\": {\"count\": 1, \"max\": 0, \"sum\": 0.0, \"min\": 0}, \"Number of Records Since Last Reset\": {\"count\": 1, \"max\": 0, \"sum\": 0.0, \"min\": 0}, \"Total Batches Seen\": {\"count\": 1, \"max\": 12, \"sum\": 12.0, \"min\": 12}, \"Total Records Seen\": {\"count\": 1, \"max\": 12000, \"sum\": 12000.0, \"min\": 12000}, \"Max Records Seen Between Resets\": {\"count\": 1, \"max\": 11000, \"sum\": 11000.0, \"min\": 11000}, \"Reset Count\": {\"count\": 1, \"max\": 2, \"sum\": 2.0, \"min\": 2}}, \"EndTime\": 1579888096.987173, \"Dimensions\": {\"Host\": \"algo-1\", \"Meta\": \"init_train_data_iter\", \"Operation\": \"training\", \"Algorithm\": \"Linear Learner\"}, \"StartTime\": 1579888096.987132}\n",
      "\u001b[0m\n",
      "\u001b[34m[2020-01-24 17:48:19.708] [tensorio] [info] epoch_stats={\"data_pipeline\": \"/opt/ml/input/data/train\", \"epoch\": 3, \"duration\": 2720, \"num_examples\": 61, \"num_bytes\": 24752548}\u001b[0m\n",
      "\u001b[34m#metrics {\"Metrics\": {\"train_multiclass_cross_entropy_objective\": {\"count\": 1, \"max\": 0.924326205444336, \"sum\": 0.924326205444336, \"min\": 0.924326205444336}}, \"EndTime\": 1579888099.708594, \"Dimensions\": {\"model\": 0, \"Host\": \"algo-1\", \"Operation\": \"training\", \"Algorithm\": \"Linear Learner\", \"epoch\": 0}, \"StartTime\": 1579888099.708501}\n",
      "\u001b[0m\n",
      "\u001b[34m#metrics {\"Metrics\": {\"train_multiclass_cross_entropy_objective\": {\"count\": 1, \"max\": 1.107098846435547, \"sum\": 1.107098846435547, \"min\": 1.107098846435547}}, \"EndTime\": 1579888099.708702, \"Dimensions\": {\"model\": 1, \"Host\": \"algo-1\", \"Operation\": \"training\", \"Algorithm\": \"Linear Learner\", \"epoch\": 0}, \"StartTime\": 1579888099.70868}\n",
      "\u001b[0m\n",
      "\u001b[34m#metrics {\"Metrics\": {\"train_multiclass_cross_entropy_objective\": {\"count\": 1, \"max\": 1.5113025634765624, \"sum\": 1.5113025634765624, \"min\": 1.5113025634765624}}, \"EndTime\": 1579888099.708766, \"Dimensions\": {\"model\": 2, \"Host\": \"algo-1\", \"Operation\": \"training\", \"Algorithm\": \"Linear Learner\", \"epoch\": 0}, \"StartTime\": 1579888099.708752}\n",
      "\u001b[0m\n",
      "\u001b[34m#metrics {\"Metrics\": {\"train_multiclass_cross_entropy_objective\": {\"count\": 1, \"max\": 0.9518657796223958, \"sum\": 0.9518657796223958, \"min\": 0.9518657796223958}}, \"EndTime\": 1579888099.708825, \"Dimensions\": {\"model\": 3, \"Host\": \"algo-1\", \"Operation\": \"training\", \"Algorithm\": \"Linear Learner\", \"epoch\": 0}, \"StartTime\": 1579888099.708813}\n",
      "\u001b[0m\n",
      "\u001b[34m#metrics {\"Metrics\": {\"train_multiclass_cross_entropy_objective\": {\"count\": 1, \"max\": 1.0973142791748047, \"sum\": 1.0973142791748047, \"min\": 1.0973142791748047}}, \"EndTime\": 1579888099.708884, \"Dimensions\": {\"model\": 4, \"Host\": \"algo-1\", \"Operation\": \"training\", \"Algorithm\": \"Linear Learner\", \"epoch\": 0}, \"StartTime\": 1579888099.708867}\n",
      "\u001b[0m\n",
      "\u001b[34m#metrics {\"Metrics\": {\"train_multiclass_cross_entropy_objective\": {\"count\": 1, \"max\": 0.992035801188151, \"sum\": 0.992035801188151, \"min\": 0.992035801188151}}, \"EndTime\": 1579888099.708958, \"Dimensions\": {\"model\": 5, \"Host\": \"algo-1\", \"Operation\": \"training\", \"Algorithm\": \"Linear Learner\", \"epoch\": 0}, \"StartTime\": 1579888099.708938}\n",
      "\u001b[0m\n",
      "\u001b[34m#metrics {\"Metrics\": {\"train_multiclass_cross_entropy_objective\": {\"count\": 1, \"max\": 0.9531870198567708, \"sum\": 0.9531870198567708, \"min\": 0.9531870198567708}}, \"EndTime\": 1579888099.709031, \"Dimensions\": {\"model\": 6, \"Host\": \"algo-1\", \"Operation\": \"training\", \"Algorithm\": \"Linear Learner\", \"epoch\": 0}, \"StartTime\": 1579888099.709013}\n",
      "\u001b[0m\n",
      "\u001b[34m#metrics {\"Metrics\": {\"train_multiclass_cross_entropy_objective\": {\"count\": 1, \"max\": 1.0019986450195313, \"sum\": 1.0019986450195313, \"min\": 1.0019986450195313}}, \"EndTime\": 1579888099.709097, \"Dimensions\": {\"model\": 7, \"Host\": \"algo-1\", \"Operation\": \"training\", \"Algorithm\": \"Linear Learner\", \"epoch\": 0}, \"StartTime\": 1579888099.70908}\n",
      "\u001b[0m\n",
      "\u001b[34m#metrics {\"Metrics\": {\"train_multiclass_cross_entropy_objective\": {\"count\": 1, \"max\": 1.1632694030761719, \"sum\": 1.1632694030761719, \"min\": 1.1632694030761719}}, \"EndTime\": 1579888099.70917, \"Dimensions\": {\"model\": 8, \"Host\": \"algo-1\", \"Operation\": \"training\", \"Algorithm\": \"Linear Learner\", \"epoch\": 0}, \"StartTime\": 1579888099.709153}\n",
      "\u001b[0m\n",
      "\u001b[34m#metrics {\"Metrics\": {\"train_multiclass_cross_entropy_objective\": {\"count\": 1, \"max\": 3.5247825439453124, \"sum\": 3.5247825439453124, \"min\": 3.5247825439453124}}, \"EndTime\": 1579888099.709242, \"Dimensions\": {\"model\": 9, \"Host\": \"algo-1\", \"Operation\": \"training\", \"Algorithm\": \"Linear Learner\", \"epoch\": 0}, \"StartTime\": 1579888099.709224}\n",
      "\u001b[0m\n",
      "\u001b[34m#metrics {\"Metrics\": {\"train_multiclass_cross_entropy_objective\": {\"count\": 1, \"max\": 0.9681121419270833, \"sum\": 0.9681121419270833, \"min\": 0.9681121419270833}}, \"EndTime\": 1579888099.709314, \"Dimensions\": {\"model\": 10, \"Host\": \"algo-1\", \"Operation\": \"training\", \"Algorithm\": \"Linear Learner\", \"epoch\": 0}, \"StartTime\": 1579888099.709295}\n",
      "\u001b[0m\n",
      "\u001b[34m#metrics {\"Metrics\": {\"train_multiclass_cross_entropy_objective\": {\"count\": 1, \"max\": 1.030328086344401, \"sum\": 1.030328086344401, \"min\": 1.030328086344401}}, \"EndTime\": 1579888099.709375, \"Dimensions\": {\"model\": 11, \"Host\": \"algo-1\", \"Operation\": \"training\", \"Algorithm\": \"Linear Learner\", \"epoch\": 0}, \"StartTime\": 1579888099.709358}\n",
      "\u001b[0m\n",
      "\u001b[34m#metrics {\"Metrics\": {\"train_multiclass_cross_entropy_objective\": {\"count\": 1, \"max\": 0.9374443725585937, \"sum\": 0.9374443725585937, \"min\": 0.9374443725585937}}, \"EndTime\": 1579888099.709432, \"Dimensions\": {\"model\": 12, \"Host\": \"algo-1\", \"Operation\": \"training\", \"Algorithm\": \"Linear Learner\", \"epoch\": 0}, \"StartTime\": 1579888099.709418}\n",
      "\u001b[0m\n",
      "\u001b[34m#metrics {\"Metrics\": {\"train_multiclass_cross_entropy_objective\": {\"count\": 1, \"max\": 1.1359935221354167, \"sum\": 1.1359935221354167, \"min\": 1.1359935221354167}}, \"EndTime\": 1579888099.709472, \"Dimensions\": {\"model\": 13, \"Host\": \"algo-1\", \"Operation\": \"training\", \"Algorithm\": \"Linear Learner\", \"epoch\": 0}, \"StartTime\": 1579888099.709458}\n",
      "\u001b[0m\n",
      "\u001b[34m#metrics {\"Metrics\": {\"train_multiclass_cross_entropy_objective\": {\"count\": 1, \"max\": 3.0638847412109373, \"sum\": 3.0638847412109373, \"min\": 3.0638847412109373}}, \"EndTime\": 1579888099.70953, \"Dimensions\": {\"model\": 14, \"Host\": \"algo-1\", \"Operation\": \"training\", \"Algorithm\": \"Linear Learner\", \"epoch\": 0}, \"StartTime\": 1579888099.709514}\n",
      "\u001b[0m\n",
      "\u001b[34m#metrics {\"Metrics\": {\"train_multiclass_cross_entropy_objective\": {\"count\": 1, \"max\": 0.9549829956054687, \"sum\": 0.9549829956054687, \"min\": 0.9549829956054687}}, \"EndTime\": 1579888099.709573, \"Dimensions\": {\"model\": 15, \"Host\": \"algo-1\", \"Operation\": \"training\", \"Algorithm\": \"Linear Learner\", \"epoch\": 0}, \"StartTime\": 1579888099.709557}\n",
      "\u001b[0m\n",
      "\u001b[34m#metrics {\"Metrics\": {\"train_multiclass_cross_entropy_objective\": {\"count\": 1, \"max\": 0.9447216044108073, \"sum\": 0.9447216044108073, \"min\": 0.9447216044108073}}, \"EndTime\": 1579888099.709635, \"Dimensions\": {\"model\": 16, \"Host\": \"algo-1\", \"Operation\": \"training\", \"Algorithm\": \"Linear Learner\", \"epoch\": 0}, \"StartTime\": 1579888099.709618}\n",
      "\u001b[0m\n",
      "\u001b[34m#metrics {\"Metrics\": {\"train_multiclass_cross_entropy_objective\": {\"count\": 1, \"max\": 0.9526611592610678, \"sum\": 0.9526611592610678, \"min\": 0.9526611592610678}}, \"EndTime\": 1579888099.709696, \"Dimensions\": {\"model\": 17, \"Host\": \"algo-1\", \"Operation\": \"training\", \"Algorithm\": \"Linear Learner\", \"epoch\": 0}, \"StartTime\": 1579888099.709679}\n",
      "\u001b[0m\n",
      "\u001b[34m#metrics {\"Metrics\": {\"train_multiclass_cross_entropy_objective\": {\"count\": 1, \"max\": 2.189287803141276, \"sum\": 2.189287803141276, \"min\": 2.189287803141276}}, \"EndTime\": 1579888099.709761, \"Dimensions\": {\"model\": 18, \"Host\": \"algo-1\", \"Operation\": \"training\", \"Algorithm\": \"Linear Learner\", \"epoch\": 0}, \"StartTime\": 1579888099.709743}\n",
      "\u001b[0m\n",
      "\u001b[34m#metrics {\"Metrics\": {\"train_multiclass_cross_entropy_objective\": {\"count\": 1, \"max\": 1.7634132731119792, \"sum\": 1.7634132731119792, \"min\": 1.7634132731119792}}, \"EndTime\": 1579888099.709831, \"Dimensions\": {\"model\": 19, \"Host\": \"algo-1\", \"Operation\": \"training\", \"Algorithm\": \"Linear Learner\", \"epoch\": 0}, \"StartTime\": 1579888099.709814}\n",
      "\u001b[0m\n",
      "\u001b[34m#metrics {\"Metrics\": {\"train_multiclass_cross_entropy_objective\": {\"count\": 1, \"max\": 2.3623472534179686, \"sum\": 2.3623472534179686, \"min\": 2.3623472534179686}}, \"EndTime\": 1579888099.709904, \"Dimensions\": {\"model\": 20, \"Host\": \"algo-1\", \"Operation\": \"training\", \"Algorithm\": \"Linear Learner\", \"epoch\": 0}, \"StartTime\": 1579888099.709886}\n",
      "\u001b[0m\n",
      "\u001b[34m#metrics {\"Metrics\": {\"train_multiclass_cross_entropy_objective\": {\"count\": 1, \"max\": 3.4509052998860676, \"sum\": 3.4509052998860676, \"min\": 3.4509052998860676}}, \"EndTime\": 1579888099.709976, \"Dimensions\": {\"model\": 21, \"Host\": \"algo-1\", \"Operation\": \"training\", \"Algorithm\": \"Linear Learner\", \"epoch\": 0}, \"StartTime\": 1579888099.709958}\n",
      "\u001b[0m\n",
      "\u001b[34m#metrics {\"Metrics\": {\"train_multiclass_cross_entropy_objective\": {\"count\": 1, \"max\": 1.0277337148030599, \"sum\": 1.0277337148030599, \"min\": 1.0277337148030599}}, \"EndTime\": 1579888099.710049, \"Dimensions\": {\"model\": 22, \"Host\": \"algo-1\", \"Operation\": \"training\", \"Algorithm\": \"Linear Learner\", \"epoch\": 0}, \"StartTime\": 1579888099.710031}\n",
      "\u001b[0m\n",
      "\u001b[34m#metrics {\"Metrics\": {\"train_multiclass_cross_entropy_objective\": {\"count\": 1, \"max\": 0.9287416097005209, \"sum\": 0.9287416097005209, \"min\": 0.9287416097005209}}, \"EndTime\": 1579888099.710121, \"Dimensions\": {\"model\": 23, \"Host\": \"algo-1\", \"Operation\": \"training\", \"Algorithm\": \"Linear Learner\", \"epoch\": 0}, \"StartTime\": 1579888099.710102}\n",
      "\u001b[0m\n",
      "\u001b[34m#metrics {\"Metrics\": {\"train_multiclass_cross_entropy_objective\": {\"count\": 1, \"max\": 1.7794925170898437, \"sum\": 1.7794925170898437, \"min\": 1.7794925170898437}}, \"EndTime\": 1579888099.710191, \"Dimensions\": {\"model\": 24, \"Host\": \"algo-1\", \"Operation\": \"training\", \"Algorithm\": \"Linear Learner\", \"epoch\": 0}, \"StartTime\": 1579888099.710174}\n",
      "\u001b[0m\n",
      "\u001b[34m#metrics {\"Metrics\": {\"train_multiclass_cross_entropy_objective\": {\"count\": 1, \"max\": 0.9436209248860677, \"sum\": 0.9436209248860677, \"min\": 0.9436209248860677}}, \"EndTime\": 1579888099.71026, \"Dimensions\": {\"model\": 25, \"Host\": \"algo-1\", \"Operation\": \"training\", \"Algorithm\": \"Linear Learner\", \"epoch\": 0}, \"StartTime\": 1579888099.710243}\n",
      "\u001b[0m\n",
      "\u001b[34m#metrics {\"Metrics\": {\"train_multiclass_cross_entropy_objective\": {\"count\": 1, \"max\": 1.2754494201660156, \"sum\": 1.2754494201660156, \"min\": 1.2754494201660156}}, \"EndTime\": 1579888099.71032, \"Dimensions\": {\"model\": 26, \"Host\": \"algo-1\", \"Operation\": \"training\", \"Algorithm\": \"Linear Learner\", \"epoch\": 0}, \"StartTime\": 1579888099.710303}\n",
      "\u001b[0m\n",
      "\u001b[34m#metrics {\"Metrics\": {\"train_multiclass_cross_entropy_objective\": {\"count\": 1, \"max\": 0.9322130045572916, \"sum\": 0.9322130045572916, \"min\": 0.9322130045572916}}, \"EndTime\": 1579888099.710378, \"Dimensions\": {\"model\": 27, \"Host\": \"algo-1\", \"Operation\": \"training\", \"Algorithm\": \"Linear Learner\", \"epoch\": 0}, \"StartTime\": 1579888099.710361}\n",
      "\u001b[0m\n",
      "\u001b[34m#metrics {\"Metrics\": {\"train_multiclass_cross_entropy_objective\": {\"count\": 1, \"max\": 1.1732801584879557, \"sum\": 1.1732801584879557, \"min\": 1.1732801584879557}}, \"EndTime\": 1579888099.710448, \"Dimensions\": {\"model\": 28, \"Host\": \"algo-1\", \"Operation\": \"training\", \"Algorithm\": \"Linear Learner\", \"epoch\": 0}, \"StartTime\": 1579888099.71043}\n",
      "\u001b[0m\n",
      "\u001b[34m#metrics {\"Metrics\": {\"train_multiclass_cross_entropy_objective\": {\"count\": 1, \"max\": 1.058207953898112, \"sum\": 1.058207953898112, \"min\": 1.058207953898112}}, \"EndTime\": 1579888099.710512, \"Dimensions\": {\"model\": 29, \"Host\": \"algo-1\", \"Operation\": \"training\", \"Algorithm\": \"Linear Learner\", \"epoch\": 0}, \"StartTime\": 1579888099.710494}\n",
      "\u001b[0m\n",
      "\u001b[34m#metrics {\"Metrics\": {\"train_multiclass_cross_entropy_objective\": {\"count\": 1, \"max\": 0.9883454701741536, \"sum\": 0.9883454701741536, \"min\": 0.9883454701741536}}, \"EndTime\": 1579888099.710574, \"Dimensions\": {\"model\": 30, \"Host\": \"algo-1\", \"Operation\": \"training\", \"Algorithm\": \"Linear Learner\", \"epoch\": 0}, \"StartTime\": 1579888099.710557}\n",
      "\u001b[0m\n",
      "\u001b[34m#metrics {\"Metrics\": {\"train_multiclass_cross_entropy_objective\": {\"count\": 1, \"max\": 0.9399204783121745, \"sum\": 0.9399204783121745, \"min\": 0.9399204783121745}}, \"EndTime\": 1579888099.710641, \"Dimensions\": {\"model\": 31, \"Host\": \"algo-1\", \"Operation\": \"training\", \"Algorithm\": \"Linear Learner\", \"epoch\": 0}, \"StartTime\": 1579888099.710624}\n",
      "\u001b[0m\n",
      "\u001b[34m[01/24/2020 17:48:19 INFO 140276589545280] #quality_metric: host=algo-1, epoch=0, train multiclass_cross_entropy_objective <loss>=0.924326205444\u001b[0m\n",
      "\u001b[34m[2020-01-24 17:48:19.732] [tensorio] [info] epoch_stats={\"data_pipeline\": \"/opt/ml/input/data/validation\", \"epoch\": 0, \"duration\": 3074, \"num_examples\": 1, \"num_bytes\": 412000}\u001b[0m\n",
      "\u001b[34m[2020-01-24 17:48:19.931] [tensorio] [info] epoch_stats={\"data_pipeline\": \"/opt/ml/input/data/validation\", \"epoch\": 2, \"duration\": 198, \"num_examples\": 8, \"num_bytes\": 3094120}\u001b[0m\n",
      "\u001b[34m#metrics {\"Metrics\": {\"validation_multiclass_cross_entropy_objective\": {\"count\": 1, \"max\": 0.9088934196136922, \"sum\": 0.9088934196136922, \"min\": 0.9088934196136922}}, \"EndTime\": 1579888099.938049, \"Dimensions\": {\"model\": 0, \"Host\": \"algo-1\", \"Operation\": \"training\", \"Algorithm\": \"Linear Learner\", \"epoch\": 0}, \"StartTime\": 1579888099.937981}\n",
      "\u001b[0m\n",
      "\u001b[34m#metrics {\"Metrics\": {\"validation_multiclass_cross_entropy_objective\": {\"count\": 1, \"max\": 1.1515646130679926, \"sum\": 1.1515646130679926, \"min\": 1.1515646130679926}}, \"EndTime\": 1579888099.938131, \"Dimensions\": {\"model\": 1, \"Host\": \"algo-1\", \"Operation\": \"training\", \"Algorithm\": \"Linear Learner\", \"epoch\": 0}, \"StartTime\": 1579888099.938115}\n",
      "\u001b[0m\n",
      "\u001b[34m#metrics {\"Metrics\": {\"validation_multiclass_cross_entropy_objective\": {\"count\": 1, \"max\": 1.362016009903462, \"sum\": 1.362016009903462, \"min\": 1.362016009903462}}, \"EndTime\": 1579888099.938202, \"Dimensions\": {\"model\": 2, \"Host\": \"algo-1\", \"Operation\": \"training\", \"Algorithm\": \"Linear Learner\", \"epoch\": 0}, \"StartTime\": 1579888099.938182}\n",
      "\u001b[0m\n",
      "\u001b[34m#metrics {\"Metrics\": {\"validation_multiclass_cross_entropy_objective\": {\"count\": 1, \"max\": 0.914208236674018, \"sum\": 0.914208236674018, \"min\": 0.914208236674018}}, \"EndTime\": 1579888099.938277, \"Dimensions\": {\"model\": 3, \"Host\": \"algo-1\", \"Operation\": \"training\", \"Algorithm\": \"Linear Learner\", \"epoch\": 0}, \"StartTime\": 1579888099.938257}\n",
      "\u001b[0m\n",
      "\u001b[34m#metrics {\"Metrics\": {\"validation_multiclass_cross_entropy_objective\": {\"count\": 1, \"max\": 1.0391357340603153, \"sum\": 1.0391357340603153, \"min\": 1.0391357340603153}}, \"EndTime\": 1579888099.938354, \"Dimensions\": {\"model\": 4, \"Host\": \"algo-1\", \"Operation\": \"training\", \"Algorithm\": \"Linear Learner\", \"epoch\": 0}, \"StartTime\": 1579888099.938334}\n",
      "\u001b[0m\n",
      "\u001b[34m#metrics {\"Metrics\": {\"validation_multiclass_cross_entropy_objective\": {\"count\": 1, \"max\": 0.9740255627587695, \"sum\": 0.9740255627587695, \"min\": 0.9740255627587695}}, \"EndTime\": 1579888099.938433, \"Dimensions\": {\"model\": 5, \"Host\": \"algo-1\", \"Operation\": \"training\", \"Algorithm\": \"Linear Learner\", \"epoch\": 0}, \"StartTime\": 1579888099.938413}\n",
      "\u001b[0m\n",
      "\u001b[34m#metrics {\"Metrics\": {\"validation_multiclass_cross_entropy_objective\": {\"count\": 1, \"max\": 0.903973693441297, \"sum\": 0.903973693441297, \"min\": 0.903973693441297}}, \"EndTime\": 1579888099.938507, \"Dimensions\": {\"model\": 6, \"Host\": \"algo-1\", \"Operation\": \"training\", \"Algorithm\": \"Linear Learner\", \"epoch\": 0}, \"StartTime\": 1579888099.938488}\n",
      "\u001b[0m\n",
      "\u001b[34m#metrics {\"Metrics\": {\"validation_multiclass_cross_entropy_objective\": {\"count\": 1, \"max\": 0.9676761672912679, \"sum\": 0.9676761672912679, \"min\": 0.9676761672912679}}, \"EndTime\": 1579888099.938575, \"Dimensions\": {\"model\": 7, \"Host\": \"algo-1\", \"Operation\": \"training\", \"Algorithm\": \"Linear Learner\", \"epoch\": 0}, \"StartTime\": 1579888099.938556}\n",
      "\u001b[0m\n",
      "\u001b[34m#metrics {\"Metrics\": {\"validation_multiclass_cross_entropy_objective\": {\"count\": 1, \"max\": 0.9065705361601198, \"sum\": 0.9065705361601198, \"min\": 0.9065705361601198}}, \"EndTime\": 1579888099.938646, \"Dimensions\": {\"model\": 8, \"Host\": \"algo-1\", \"Operation\": \"training\", \"Algorithm\": \"Linear Learner\", \"epoch\": 0}, \"StartTime\": 1579888099.938627}\n",
      "\u001b[0m\n",
      "\u001b[34m#metrics {\"Metrics\": {\"validation_multiclass_cross_entropy_objective\": {\"count\": 1, \"max\": 2.308391188051348, \"sum\": 2.308391188051348, \"min\": 2.308391188051348}}, \"EndTime\": 1579888099.938717, \"Dimensions\": {\"model\": 9, \"Host\": \"algo-1\", \"Operation\": \"training\", \"Algorithm\": \"Linear Learner\", \"epoch\": 0}, \"StartTime\": 1579888099.938698}\n",
      "\u001b[0m\n",
      "\u001b[34m#metrics {\"Metrics\": {\"validation_multiclass_cross_entropy_objective\": {\"count\": 1, \"max\": 0.9437440183921438, \"sum\": 0.9437440183921438, \"min\": 0.9437440183921438}}, \"EndTime\": 1579888099.938787, \"Dimensions\": {\"model\": 10, \"Host\": \"algo-1\", \"Operation\": \"training\", \"Algorithm\": \"Linear Learner\", \"epoch\": 0}, \"StartTime\": 1579888099.938768}\n",
      "\u001b[0m\n",
      "\u001b[34m#metrics {\"Metrics\": {\"validation_multiclass_cross_entropy_objective\": {\"count\": 1, \"max\": 0.9629361087885424, \"sum\": 0.9629361087885424, \"min\": 0.9629361087885424}}, \"EndTime\": 1579888099.938858, \"Dimensions\": {\"model\": 11, \"Host\": \"algo-1\", \"Operation\": \"training\", \"Algorithm\": \"Linear Learner\", \"epoch\": 0}, \"StartTime\": 1579888099.938839}\n",
      "\u001b[0m\n",
      "\u001b[34m#metrics {\"Metrics\": {\"validation_multiclass_cross_entropy_objective\": {\"count\": 1, \"max\": 0.9140169349396118, \"sum\": 0.9140169349396118, \"min\": 0.9140169349396118}}, \"EndTime\": 1579888099.938925, \"Dimensions\": {\"model\": 12, \"Host\": \"algo-1\", \"Operation\": \"training\", \"Algorithm\": \"Linear Learner\", \"epoch\": 0}, \"StartTime\": 1579888099.938906}\n",
      "\u001b[0m\n",
      "\u001b[34m#metrics {\"Metrics\": {\"validation_multiclass_cross_entropy_objective\": {\"count\": 1, \"max\": 1.0627803553595205, \"sum\": 1.0627803553595205, \"min\": 1.0627803553595205}}, \"EndTime\": 1579888099.938997, \"Dimensions\": {\"model\": 13, \"Host\": \"algo-1\", \"Operation\": \"training\", \"Algorithm\": \"Linear Learner\", \"epoch\": 0}, \"StartTime\": 1579888099.938977}\n",
      "\u001b[0m\n",
      "\u001b[34m#metrics {\"Metrics\": {\"validation_multiclass_cross_entropy_objective\": {\"count\": 1, \"max\": 1.6373984020654753, \"sum\": 1.6373984020654753, \"min\": 1.6373984020654753}}, \"EndTime\": 1579888099.939069, \"Dimensions\": {\"model\": 14, \"Host\": \"algo-1\", \"Operation\": \"training\", \"Algorithm\": \"Linear Learner\", \"epoch\": 0}, \"StartTime\": 1579888099.93905}\n",
      "\u001b[0m\n",
      "\u001b[34m#metrics {\"Metrics\": {\"validation_multiclass_cross_entropy_objective\": {\"count\": 1, \"max\": 0.9219607458609874, \"sum\": 0.9219607458609874, \"min\": 0.9219607458609874}}, \"EndTime\": 1579888099.939135, \"Dimensions\": {\"model\": 15, \"Host\": \"algo-1\", \"Operation\": \"training\", \"Algorithm\": \"Linear Learner\", \"epoch\": 0}, \"StartTime\": 1579888099.939116}\n",
      "\u001b[0m\n",
      "\u001b[34m#metrics {\"Metrics\": {\"validation_multiclass_cross_entropy_objective\": {\"count\": 1, \"max\": 0.9178696064752205, \"sum\": 0.9178696064752205, \"min\": 0.9178696064752205}}, \"EndTime\": 1579888099.939205, \"Dimensions\": {\"model\": 16, \"Host\": \"algo-1\", \"Operation\": \"training\", \"Algorithm\": \"Linear Learner\", \"epoch\": 0}, \"StartTime\": 1579888099.939187}\n",
      "\u001b[0m\n",
      "\u001b[34m#metrics {\"Metrics\": {\"validation_multiclass_cross_entropy_objective\": {\"count\": 1, \"max\": 0.9244955293983023, \"sum\": 0.9244955293983023, \"min\": 0.9244955293983023}}, \"EndTime\": 1579888099.939269, \"Dimensions\": {\"model\": 17, \"Host\": \"algo-1\", \"Operation\": \"training\", \"Algorithm\": \"Linear Learner\", \"epoch\": 0}, \"StartTime\": 1579888099.93925}\n",
      "\u001b[0m\n",
      "\u001b[34m#metrics {\"Metrics\": {\"validation_multiclass_cross_entropy_objective\": {\"count\": 1, \"max\": 1.4977169763232356, \"sum\": 1.4977169763232356, \"min\": 1.4977169763232356}}, \"EndTime\": 1579888099.939332, \"Dimensions\": {\"model\": 18, \"Host\": \"algo-1\", \"Operation\": \"training\", \"Algorithm\": \"Linear Learner\", \"epoch\": 0}, \"StartTime\": 1579888099.939315}\n",
      "\u001b[0m\n",
      "\u001b[34m#metrics {\"Metrics\": {\"validation_multiclass_cross_entropy_objective\": {\"count\": 1, \"max\": 1.3356397037023553, \"sum\": 1.3356397037023553, \"min\": 1.3356397037023553}}, \"EndTime\": 1579888099.939395, \"Dimensions\": {\"model\": 19, \"Host\": \"algo-1\", \"Operation\": \"training\", \"Algorithm\": \"Linear Learner\", \"epoch\": 0}, \"StartTime\": 1579888099.939377}\n",
      "\u001b[0m\n",
      "\u001b[34m#metrics {\"Metrics\": {\"validation_multiclass_cross_entropy_objective\": {\"count\": 1, \"max\": 2.4217912737443825, \"sum\": 2.4217912737443825, \"min\": 2.4217912737443825}}, \"EndTime\": 1579888099.939459, \"Dimensions\": {\"model\": 20, \"Host\": \"algo-1\", \"Operation\": \"training\", \"Algorithm\": \"Linear Learner\", \"epoch\": 0}, \"StartTime\": 1579888099.939441}\n",
      "\u001b[0m\n",
      "\u001b[34m#metrics {\"Metrics\": {\"validation_multiclass_cross_entropy_objective\": {\"count\": 1, \"max\": 1.863247839144162, \"sum\": 1.863247839144162, \"min\": 1.863247839144162}}, \"EndTime\": 1579888099.939523, \"Dimensions\": {\"model\": 21, \"Host\": \"algo-1\", \"Operation\": \"training\", \"Algorithm\": \"Linear Learner\", \"epoch\": 0}, \"StartTime\": 1579888099.939505}\n",
      "\u001b[0m\n",
      "\u001b[34m#metrics {\"Metrics\": {\"validation_multiclass_cross_entropy_objective\": {\"count\": 1, \"max\": 0.9375512540895993, \"sum\": 0.9375512540895993, \"min\": 0.9375512540895993}}, \"EndTime\": 1579888099.939586, \"Dimensions\": {\"model\": 22, \"Host\": \"algo-1\", \"Operation\": \"training\", \"Algorithm\": \"Linear Learner\", \"epoch\": 0}, \"StartTime\": 1579888099.939568}\n",
      "\u001b[0m\n",
      "\u001b[34m#metrics {\"Metrics\": {\"validation_multiclass_cross_entropy_objective\": {\"count\": 1, \"max\": 0.9119399841552409, \"sum\": 0.9119399841552409, \"min\": 0.9119399841552409}}, \"EndTime\": 1579888099.939654, \"Dimensions\": {\"model\": 23, \"Host\": \"algo-1\", \"Operation\": \"training\", \"Algorithm\": \"Linear Learner\", \"epoch\": 0}, \"StartTime\": 1579888099.939636}\n",
      "\u001b[0m\n",
      "\u001b[34m#metrics {\"Metrics\": {\"validation_multiclass_cross_entropy_objective\": {\"count\": 1, \"max\": 1.304631820658393, \"sum\": 1.304631820658393, \"min\": 1.304631820658393}}, \"EndTime\": 1579888099.939718, \"Dimensions\": {\"model\": 24, \"Host\": \"algo-1\", \"Operation\": \"training\", \"Algorithm\": \"Linear Learner\", \"epoch\": 0}, \"StartTime\": 1579888099.9397}\n",
      "\u001b[0m\n",
      "\u001b[34m#metrics {\"Metrics\": {\"validation_multiclass_cross_entropy_objective\": {\"count\": 1, \"max\": 0.9155571786446197, \"sum\": 0.9155571786446197, \"min\": 0.9155571786446197}}, \"EndTime\": 1579888099.939783, \"Dimensions\": {\"model\": 25, \"Host\": \"algo-1\", \"Operation\": \"training\", \"Algorithm\": \"Linear Learner\", \"epoch\": 0}, \"StartTime\": 1579888099.939764}\n",
      "\u001b[0m\n",
      "\u001b[34m#metrics {\"Metrics\": {\"validation_multiclass_cross_entropy_objective\": {\"count\": 1, \"max\": 1.1956513304526257, \"sum\": 1.1956513304526257, \"min\": 1.1956513304526257}}, \"EndTime\": 1579888099.939854, \"Dimensions\": {\"model\": 26, \"Host\": \"algo-1\", \"Operation\": \"training\", \"Algorithm\": \"Linear Learner\", \"epoch\": 0}, \"StartTime\": 1579888099.939835}\n",
      "\u001b[0m\n",
      "\u001b[34m#metrics {\"Metrics\": {\"validation_multiclass_cross_entropy_objective\": {\"count\": 1, \"max\": 0.9132411504712467, \"sum\": 0.9132411504712467, \"min\": 0.9132411504712467}}, \"EndTime\": 1579888099.939918, \"Dimensions\": {\"model\": 27, \"Host\": \"algo-1\", \"Operation\": \"training\", \"Algorithm\": \"Linear Learner\", \"epoch\": 0}, \"StartTime\": 1579888099.9399}\n",
      "\u001b[0m\n",
      "\u001b[34m#metrics {\"Metrics\": {\"validation_multiclass_cross_entropy_objective\": {\"count\": 1, \"max\": 0.9741675609278774, \"sum\": 0.9741675609278774, \"min\": 0.9741675609278774}}, \"EndTime\": 1579888099.939982, \"Dimensions\": {\"model\": 28, \"Host\": \"algo-1\", \"Operation\": \"training\", \"Algorithm\": \"Linear Learner\", \"epoch\": 0}, \"StartTime\": 1579888099.939964}\n",
      "\u001b[0m\n",
      "\u001b[34m#metrics {\"Metrics\": {\"validation_multiclass_cross_entropy_objective\": {\"count\": 1, \"max\": 1.0203065224557362, \"sum\": 1.0203065224557362, \"min\": 1.0203065224557362}}, \"EndTime\": 1579888099.940045, \"Dimensions\": {\"model\": 29, \"Host\": \"algo-1\", \"Operation\": \"training\", \"Algorithm\": \"Linear Learner\", \"epoch\": 0}, \"StartTime\": 1579888099.940028}\n",
      "\u001b[0m\n",
      "\u001b[34m#metrics {\"Metrics\": {\"validation_multiclass_cross_entropy_objective\": {\"count\": 1, \"max\": 0.9578486537806362, \"sum\": 0.9578486537806362, \"min\": 0.9578486537806362}}, \"EndTime\": 1579888099.940109, \"Dimensions\": {\"model\": 30, \"Host\": \"algo-1\", \"Operation\": \"training\", \"Algorithm\": \"Linear Learner\", \"epoch\": 0}, \"StartTime\": 1579888099.94009}\n",
      "\u001b[0m\n",
      "\u001b[34m#metrics {\"Metrics\": {\"validation_multiclass_cross_entropy_objective\": {\"count\": 1, \"max\": 0.9239628940384176, \"sum\": 0.9239628940384176, \"min\": 0.9239628940384176}}, \"EndTime\": 1579888099.940172, \"Dimensions\": {\"model\": 31, \"Host\": \"algo-1\", \"Operation\": \"training\", \"Algorithm\": \"Linear Learner\", \"epoch\": 0}, \"StartTime\": 1579888099.940154}\n",
      "\u001b[0m\n",
      "\u001b[34m[01/24/2020 17:48:19 INFO 140276589545280] #quality_metric: host=algo-1, epoch=0, validation multiclass_cross_entropy_objective <loss>=0.908893419614\u001b[0m\n",
      "\u001b[34m[01/24/2020 17:48:19 INFO 140276589545280] #early_stopping_criteria_metric: host=algo-1, epoch=0, criteria=multiclass_cross_entropy_objective, value=0.903973693441\u001b[0m\n",
      "\u001b[34m[01/24/2020 17:48:19 INFO 140276589545280] Epoch 0: Loss improved. Updating best model\u001b[0m\n",
      "\u001b[34m[01/24/2020 17:48:19 INFO 140276589545280] #progress_metric: host=algo-1, completed 6 % of epochs\u001b[0m\n",
      "\u001b[34m#metrics {\"Metrics\": {\"Max Batches Seen Between Resets\": {\"count\": 1, \"max\": 61, \"sum\": 61.0, \"min\": 61}, \"Number of Batches Since Last Reset\": {\"count\": 1, \"max\": 61, \"sum\": 61.0, \"min\": 61}, \"Number of Records Since Last Reset\": {\"count\": 1, \"max\": 60079, \"sum\": 60079.0, \"min\": 60079}, \"Total Batches Seen\": {\"count\": 1, \"max\": 73, \"sum\": 73.0, \"min\": 73}, \"Total Records Seen\": {\"count\": 1, \"max\": 72079, \"sum\": 72079.0, \"min\": 72079}, \"Max Records Seen Between Resets\": {\"count\": 1, \"max\": 60079, \"sum\": 60079.0, \"min\": 60079}, \"Reset Count\": {\"count\": 1, \"max\": 3, \"sum\": 3.0, \"min\": 3}}, \"EndTime\": 1579888099.94208, \"Dimensions\": {\"Host\": \"algo-1\", \"Meta\": \"training_data_iter\", \"Operation\": \"training\", \"Algorithm\": \"Linear Learner\", \"epoch\": 0}, \"StartTime\": 1579888096.987396}\n",
      "\u001b[0m\n",
      "\u001b[34m[01/24/2020 17:48:19 INFO 140276589545280] #throughput_metric: host=algo-1, train throughput=20332.6108785 records/second\u001b[0m\n",
      "\u001b[34m[2020-01-24 17:48:22.895] [tensorio] [info] epoch_stats={\"data_pipeline\": \"/opt/ml/input/data/train\", \"epoch\": 5, \"duration\": 2952, \"num_examples\": 61, \"num_bytes\": 24752548}\u001b[0m\n",
      "\u001b[34m#metrics {\"Metrics\": {\"train_multiclass_cross_entropy_objective\": {\"count\": 1, \"max\": 0.9015669769287109, \"sum\": 0.9015669769287109, \"min\": 0.9015669769287109}}, \"EndTime\": 1579888102.895641, \"Dimensions\": {\"model\": 0, \"Host\": \"algo-1\", \"Operation\": \"training\", \"Algorithm\": \"Linear Learner\", \"epoch\": 1}, \"StartTime\": 1579888102.895517}\n",
      "\u001b[0m\n",
      "\u001b[34m#metrics {\"Metrics\": {\"train_multiclass_cross_entropy_objective\": {\"count\": 1, \"max\": 1.0548296559651693, \"sum\": 1.0548296559651693, \"min\": 1.0548296559651693}}, \"EndTime\": 1579888102.895806, \"Dimensions\": {\"model\": 1, \"Host\": \"algo-1\", \"Operation\": \"training\", \"Algorithm\": \"Linear Learner\", \"epoch\": 1}, \"StartTime\": 1579888102.895783}\n",
      "\u001b[0m\n",
      "\u001b[34m#metrics {\"Metrics\": {\"train_multiclass_cross_entropy_objective\": {\"count\": 1, \"max\": 1.2952057525634766, \"sum\": 1.2952057525634766, \"min\": 1.2952057525634766}}, \"EndTime\": 1579888102.895903, \"Dimensions\": {\"model\": 2, \"Host\": \"algo-1\", \"Operation\": \"training\", \"Algorithm\": \"Linear Learner\", \"epoch\": 1}, \"StartTime\": 1579888102.895881}\n",
      "\u001b[0m\n",
      "\u001b[34m#metrics {\"Metrics\": {\"train_multiclass_cross_entropy_objective\": {\"count\": 1, \"max\": 0.9013351755777995, \"sum\": 0.9013351755777995, \"min\": 0.9013351755777995}}, \"EndTime\": 1579888102.895972, \"Dimensions\": {\"model\": 3, \"Host\": \"algo-1\", \"Operation\": \"training\", \"Algorithm\": \"Linear Learner\", \"epoch\": 1}, \"StartTime\": 1579888102.895953}\n",
      "\u001b[0m\n",
      "\u001b[34m#metrics {\"Metrics\": {\"train_multiclass_cross_entropy_objective\": {\"count\": 1, \"max\": 1.0376922505696615, \"sum\": 1.0376922505696615, \"min\": 1.0376922505696615}}, \"EndTime\": 1579888102.896052, \"Dimensions\": {\"model\": 4, \"Host\": \"algo-1\", \"Operation\": \"training\", \"Algorithm\": \"Linear Learner\", \"epoch\": 1}, \"StartTime\": 1579888102.896034}\n",
      "\u001b[0m\n",
      "\u001b[34m#metrics {\"Metrics\": {\"train_multiclass_cross_entropy_objective\": {\"count\": 1, \"max\": 0.9535490325927735, \"sum\": 0.9535490325927735, \"min\": 0.9535490325927735}}, \"EndTime\": 1579888102.896119, \"Dimensions\": {\"model\": 5, \"Host\": \"algo-1\", \"Operation\": \"training\", \"Algorithm\": \"Linear Learner\", \"epoch\": 1}, \"StartTime\": 1579888102.896101}\n",
      "\u001b[0m\n",
      "\u001b[34m#metrics {\"Metrics\": {\"train_multiclass_cross_entropy_objective\": {\"count\": 1, \"max\": 0.9028322031656901, \"sum\": 0.9028322031656901, \"min\": 0.9028322031656901}}, \"EndTime\": 1579888102.896182, \"Dimensions\": {\"model\": 6, \"Host\": \"algo-1\", \"Operation\": \"training\", \"Algorithm\": \"Linear Learner\", \"epoch\": 1}, \"StartTime\": 1579888102.896163}\n",
      "\u001b[0m\n",
      "\u001b[34m#metrics {\"Metrics\": {\"train_multiclass_cross_entropy_objective\": {\"count\": 1, \"max\": 0.9575322377522787, \"sum\": 0.9575322377522787, \"min\": 0.9575322377522787}}, \"EndTime\": 1579888102.896244, \"Dimensions\": {\"model\": 7, \"Host\": \"algo-1\", \"Operation\": \"training\", \"Algorithm\": \"Linear Learner\", \"epoch\": 1}, \"StartTime\": 1579888102.896226}\n",
      "\u001b[0m\n",
      "\u001b[34m#metrics {\"Metrics\": {\"train_multiclass_cross_entropy_objective\": {\"count\": 1, \"max\": 0.9149442626953125, \"sum\": 0.9149442626953125, \"min\": 0.9149442626953125}}, \"EndTime\": 1579888102.896306, \"Dimensions\": {\"model\": 8, \"Host\": \"algo-1\", \"Operation\": \"training\", \"Algorithm\": \"Linear Learner\", \"epoch\": 1}, \"StartTime\": 1579888102.89629}\n",
      "\u001b[0m\n",
      "\u001b[34m#metrics {\"Metrics\": {\"train_multiclass_cross_entropy_objective\": {\"count\": 1, \"max\": 3.12556283976237, \"sum\": 3.12556283976237, \"min\": 3.12556283976237}}, \"EndTime\": 1579888102.896369, \"Dimensions\": {\"model\": 9, \"Host\": \"algo-1\", \"Operation\": \"training\", \"Algorithm\": \"Linear Learner\", \"epoch\": 1}, \"StartTime\": 1579888102.896352}\n",
      "\u001b[0m\n",
      "\u001b[34m#metrics {\"Metrics\": {\"train_multiclass_cross_entropy_objective\": {\"count\": 1, \"max\": 0.9403844848632813, \"sum\": 0.9403844848632813, \"min\": 0.9403844848632813}}, \"EndTime\": 1579888102.896432, \"Dimensions\": {\"model\": 10, \"Host\": \"algo-1\", \"Operation\": \"training\", \"Algorithm\": \"Linear Learner\", \"epoch\": 1}, \"StartTime\": 1579888102.896414}\n",
      "\u001b[0m\n",
      "\u001b[34m#metrics {\"Metrics\": {\"train_multiclass_cross_entropy_objective\": {\"count\": 1, \"max\": 0.9545375722249348, \"sum\": 0.9545375722249348, \"min\": 0.9545375722249348}}, \"EndTime\": 1579888102.896517, \"Dimensions\": {\"model\": 11, \"Host\": \"algo-1\", \"Operation\": \"training\", \"Algorithm\": \"Linear Learner\", \"epoch\": 1}, \"StartTime\": 1579888102.896499}\n",
      "\u001b[0m\n",
      "\u001b[34m#metrics {\"Metrics\": {\"train_multiclass_cross_entropy_objective\": {\"count\": 1, \"max\": 0.9078884755452474, \"sum\": 0.9078884755452474, \"min\": 0.9078884755452474}}, \"EndTime\": 1579888102.896582, \"Dimensions\": {\"model\": 12, \"Host\": \"algo-1\", \"Operation\": \"training\", \"Algorithm\": \"Linear Learner\", \"epoch\": 1}, \"StartTime\": 1579888102.896564}\n",
      "\u001b[0m\n",
      "\u001b[34m#metrics {\"Metrics\": {\"train_multiclass_cross_entropy_objective\": {\"count\": 1, \"max\": 1.0882629465738933, \"sum\": 1.0882629465738933, \"min\": 1.0882629465738933}}, \"EndTime\": 1579888102.896645, \"Dimensions\": {\"model\": 13, \"Host\": \"algo-1\", \"Operation\": \"training\", \"Algorithm\": \"Linear Learner\", \"epoch\": 1}, \"StartTime\": 1579888102.896627}\n",
      "\u001b[0m\n",
      "\u001b[34m#metrics {\"Metrics\": {\"train_multiclass_cross_entropy_objective\": {\"count\": 1, \"max\": 2.5164452799479164, \"sum\": 2.5164452799479164, \"min\": 2.5164452799479164}}, \"EndTime\": 1579888102.896706, \"Dimensions\": {\"model\": 14, \"Host\": \"algo-1\", \"Operation\": \"training\", \"Algorithm\": \"Linear Learner\", \"epoch\": 1}, \"StartTime\": 1579888102.896689}\n",
      "\u001b[0m\n",
      "\u001b[34m#metrics {\"Metrics\": {\"train_multiclass_cross_entropy_objective\": {\"count\": 1, \"max\": 0.9061323740641276, \"sum\": 0.9061323740641276, \"min\": 0.9061323740641276}}, \"EndTime\": 1579888102.896768, \"Dimensions\": {\"model\": 15, \"Host\": \"algo-1\", \"Operation\": \"training\", \"Algorithm\": \"Linear Learner\", \"epoch\": 1}, \"StartTime\": 1579888102.896751}\n",
      "\u001b[0m\n",
      "\u001b[34m#metrics {\"Metrics\": {\"train_multiclass_cross_entropy_objective\": {\"count\": 1, \"max\": 0.9041985778808593, \"sum\": 0.9041985778808593, \"min\": 0.9041985778808593}}, \"EndTime\": 1579888102.896828, \"Dimensions\": {\"model\": 16, \"Host\": \"algo-1\", \"Operation\": \"training\", \"Algorithm\": \"Linear Learner\", \"epoch\": 1}, \"StartTime\": 1579888102.896812}\n",
      "\u001b[0m\n",
      "\u001b[34m#metrics {\"Metrics\": {\"train_multiclass_cross_entropy_objective\": {\"count\": 1, \"max\": 0.9081930735270183, \"sum\": 0.9081930735270183, \"min\": 0.9081930735270183}}, \"EndTime\": 1579888102.896889, \"Dimensions\": {\"model\": 17, \"Host\": \"algo-1\", \"Operation\": \"training\", \"Algorithm\": \"Linear Learner\", \"epoch\": 1}, \"StartTime\": 1579888102.896871}\n",
      "\u001b[0m\n",
      "\u001b[34m#metrics {\"Metrics\": {\"train_multiclass_cross_entropy_objective\": {\"count\": 1, \"max\": 1.7874916625976562, \"sum\": 1.7874916625976562, \"min\": 1.7874916625976562}}, \"EndTime\": 1579888102.896958, \"Dimensions\": {\"model\": 18, \"Host\": \"algo-1\", \"Operation\": \"training\", \"Algorithm\": \"Linear Learner\", \"epoch\": 1}, \"StartTime\": 1579888102.89694}\n",
      "\u001b[0m\n",
      "\u001b[34m#metrics {\"Metrics\": {\"train_multiclass_cross_entropy_objective\": {\"count\": 1, \"max\": 1.5343989156087239, \"sum\": 1.5343989156087239, \"min\": 1.5343989156087239}}, \"EndTime\": 1579888102.897024, \"Dimensions\": {\"model\": 19, \"Host\": \"algo-1\", \"Operation\": \"training\", \"Algorithm\": \"Linear Learner\", \"epoch\": 1}, \"StartTime\": 1579888102.897007}\n",
      "\u001b[0m\n",
      "\u001b[34m#metrics {\"Metrics\": {\"train_multiclass_cross_entropy_objective\": {\"count\": 1, \"max\": 2.043638336181641, \"sum\": 2.043638336181641, \"min\": 2.043638336181641}}, \"EndTime\": 1579888102.897089, \"Dimensions\": {\"model\": 20, \"Host\": \"algo-1\", \"Operation\": \"training\", \"Algorithm\": \"Linear Learner\", \"epoch\": 1}, \"StartTime\": 1579888102.897071}\n",
      "\u001b[0m\n",
      "\u001b[34m#metrics {\"Metrics\": {\"train_multiclass_cross_entropy_objective\": {\"count\": 1, \"max\": 2.733131972249349, \"sum\": 2.733131972249349, \"min\": 2.733131972249349}}, \"EndTime\": 1579888102.897156, \"Dimensions\": {\"model\": 21, \"Host\": \"algo-1\", \"Operation\": \"training\", \"Algorithm\": \"Linear Learner\", \"epoch\": 1}, \"StartTime\": 1579888102.897137}\n",
      "\u001b[0m\n",
      "\u001b[34m#metrics {\"Metrics\": {\"train_multiclass_cross_entropy_objective\": {\"count\": 1, \"max\": 0.9242185963948568, \"sum\": 0.9242185963948568, \"min\": 0.9242185963948568}}, \"EndTime\": 1579888102.897219, \"Dimensions\": {\"model\": 22, \"Host\": \"algo-1\", \"Operation\": \"training\", \"Algorithm\": \"Linear Learner\", \"epoch\": 1}, \"StartTime\": 1579888102.897202}\n",
      "\u001b[0m\n",
      "\u001b[34m#metrics {\"Metrics\": {\"train_multiclass_cross_entropy_objective\": {\"count\": 1, \"max\": 0.9034348429361979, \"sum\": 0.9034348429361979, \"min\": 0.9034348429361979}}, \"EndTime\": 1579888102.897283, \"Dimensions\": {\"model\": 23, \"Host\": \"algo-1\", \"Operation\": \"training\", \"Algorithm\": \"Linear Learner\", \"epoch\": 1}, \"StartTime\": 1579888102.897264}\n",
      "\u001b[0m\n",
      "\u001b[34m#metrics {\"Metrics\": {\"train_multiclass_cross_entropy_objective\": {\"count\": 1, \"max\": 1.5476850341796875, \"sum\": 1.5476850341796875, \"min\": 1.5476850341796875}}, \"EndTime\": 1579888102.897345, \"Dimensions\": {\"model\": 24, \"Host\": \"algo-1\", \"Operation\": \"training\", \"Algorithm\": \"Linear Learner\", \"epoch\": 1}, \"StartTime\": 1579888102.897327}\n",
      "\u001b[0m\n",
      "\u001b[34m#metrics {\"Metrics\": {\"train_multiclass_cross_entropy_objective\": {\"count\": 1, \"max\": 0.9040938079833984, \"sum\": 0.9040938079833984, \"min\": 0.9040938079833984}}, \"EndTime\": 1579888102.897413, \"Dimensions\": {\"model\": 25, \"Host\": \"algo-1\", \"Operation\": \"training\", \"Algorithm\": \"Linear Learner\", \"epoch\": 1}, \"StartTime\": 1579888102.897395}\n",
      "\u001b[0m\n",
      "\u001b[34m#metrics {\"Metrics\": {\"train_multiclass_cross_entropy_objective\": {\"count\": 1, \"max\": 1.1561836588541667, \"sum\": 1.1561836588541667, \"min\": 1.1561836588541667}}, \"EndTime\": 1579888102.897488, \"Dimensions\": {\"model\": 26, \"Host\": \"algo-1\", \"Operation\": \"training\", \"Algorithm\": \"Linear Learner\", \"epoch\": 1}, \"StartTime\": 1579888102.897469}\n",
      "\u001b[0m\n",
      "\u001b[34m#metrics {\"Metrics\": {\"train_multiclass_cross_entropy_objective\": {\"count\": 1, \"max\": 0.9030899322509766, \"sum\": 0.9030899322509766, \"min\": 0.9030899322509766}}, \"EndTime\": 1579888102.897553, \"Dimensions\": {\"model\": 27, \"Host\": \"algo-1\", \"Operation\": \"training\", \"Algorithm\": \"Linear Learner\", \"epoch\": 1}, \"StartTime\": 1579888102.897534}\n",
      "\u001b[0m\n",
      "\u001b[34m#metrics {\"Metrics\": {\"train_multiclass_cross_entropy_objective\": {\"count\": 1, \"max\": 0.9724229675292969, \"sum\": 0.9724229675292969, \"min\": 0.9724229675292969}}, \"EndTime\": 1579888102.89762, \"Dimensions\": {\"model\": 28, \"Host\": \"algo-1\", \"Operation\": \"training\", \"Algorithm\": \"Linear Learner\", \"epoch\": 1}, \"StartTime\": 1579888102.897601}\n",
      "\u001b[0m\n",
      "\u001b[34m#metrics {\"Metrics\": {\"train_multiclass_cross_entropy_objective\": {\"count\": 1, \"max\": 1.0087704416910808, \"sum\": 1.0087704416910808, \"min\": 1.0087704416910808}}, \"EndTime\": 1579888102.897683, \"Dimensions\": {\"model\": 29, \"Host\": \"algo-1\", \"Operation\": \"training\", \"Algorithm\": \"Linear Learner\", \"epoch\": 1}, \"StartTime\": 1579888102.897665}\n",
      "\u001b[0m\n",
      "\u001b[34m#metrics {\"Metrics\": {\"train_multiclass_cross_entropy_objective\": {\"count\": 1, \"max\": 0.9607210184733073, \"sum\": 0.9607210184733073, \"min\": 0.9607210184733073}}, \"EndTime\": 1579888102.897749, \"Dimensions\": {\"model\": 30, \"Host\": \"algo-1\", \"Operation\": \"training\", \"Algorithm\": \"Linear Learner\", \"epoch\": 1}, \"StartTime\": 1579888102.89773}\n",
      "\u001b[0m\n",
      "\u001b[34m#metrics {\"Metrics\": {\"train_multiclass_cross_entropy_objective\": {\"count\": 1, \"max\": 0.9113351328531901, \"sum\": 0.9113351328531901, \"min\": 0.9113351328531901}}, \"EndTime\": 1579888102.897821, \"Dimensions\": {\"model\": 31, \"Host\": \"algo-1\", \"Operation\": \"training\", \"Algorithm\": \"Linear Learner\", \"epoch\": 1}, \"StartTime\": 1579888102.897802}\n",
      "\u001b[0m\n",
      "\u001b[34m[01/24/2020 17:48:22 INFO 140276589545280] #quality_metric: host=algo-1, epoch=1, train multiclass_cross_entropy_objective <loss>=0.901566976929\u001b[0m\n",
      "\u001b[34m[2020-01-24 17:48:23.128] [tensorio] [info] epoch_stats={\"data_pipeline\": \"/opt/ml/input/data/validation\", \"epoch\": 5, \"duration\": 206, \"num_examples\": 8, \"num_bytes\": 3094120}\u001b[0m\n",
      "\u001b[34m#metrics {\"Metrics\": {\"validation_multiclass_cross_entropy_objective\": {\"count\": 1, \"max\": 0.9073500753877642, \"sum\": 0.9073500753877642, \"min\": 0.9073500753877642}}, \"EndTime\": 1579888103.137214, \"Dimensions\": {\"model\": 0, \"Host\": \"algo-1\", \"Operation\": \"training\", \"Algorithm\": \"Linear Learner\", \"epoch\": 1}, \"StartTime\": 1579888103.137148}\n",
      "\u001b[0m\n",
      "\u001b[34m#metrics {\"Metrics\": {\"validation_multiclass_cross_entropy_objective\": {\"count\": 1, \"max\": 1.0941928827968959, \"sum\": 1.0941928827968959, \"min\": 1.0941928827968959}}, \"EndTime\": 1579888103.137307, \"Dimensions\": {\"model\": 1, \"Host\": \"algo-1\", \"Operation\": \"training\", \"Algorithm\": \"Linear Learner\", \"epoch\": 1}, \"StartTime\": 1579888103.137284}\n",
      "\u001b[0m\n",
      "\u001b[34m#metrics {\"Metrics\": {\"validation_multiclass_cross_entropy_objective\": {\"count\": 1, \"max\": 1.2061060106706682, \"sum\": 1.2061060106706682, \"min\": 1.2061060106706682}}, \"EndTime\": 1579888103.137386, \"Dimensions\": {\"model\": 2, \"Host\": \"algo-1\", \"Operation\": \"training\", \"Algorithm\": \"Linear Learner\", \"epoch\": 1}, \"StartTime\": 1579888103.137366}\n",
      "\u001b[0m\n",
      "\u001b[34m#metrics {\"Metrics\": {\"validation_multiclass_cross_entropy_objective\": {\"count\": 1, \"max\": 0.909703427656354, \"sum\": 0.909703427656354, \"min\": 0.909703427656354}}, \"EndTime\": 1579888103.137452, \"Dimensions\": {\"model\": 3, \"Host\": \"algo-1\", \"Operation\": \"training\", \"Algorithm\": \"Linear Learner\", \"epoch\": 1}, \"StartTime\": 1579888103.137434}\n",
      "\u001b[0m\n",
      "\u001b[34m#metrics {\"Metrics\": {\"validation_multiclass_cross_entropy_objective\": {\"count\": 1, \"max\": 1.0390269801397616, \"sum\": 1.0390269801397616, \"min\": 1.0390269801397616}}, \"EndTime\": 1579888103.137516, \"Dimensions\": {\"model\": 4, \"Host\": \"algo-1\", \"Operation\": \"training\", \"Algorithm\": \"Linear Learner\", \"epoch\": 1}, \"StartTime\": 1579888103.137499}\n",
      "\u001b[0m\n",
      "\u001b[34m#metrics {\"Metrics\": {\"validation_multiclass_cross_entropy_objective\": {\"count\": 1, \"max\": 0.9467624059847287, \"sum\": 0.9467624059847287, \"min\": 0.9467624059847287}}, \"EndTime\": 1579888103.137572, \"Dimensions\": {\"model\": 5, \"Host\": \"algo-1\", \"Operation\": \"training\", \"Algorithm\": \"Linear Learner\", \"epoch\": 1}, \"StartTime\": 1579888103.137558}\n",
      "\u001b[0m\n",
      "\u001b[34m#metrics {\"Metrics\": {\"validation_multiclass_cross_entropy_objective\": {\"count\": 1, \"max\": 0.9078655136250624, \"sum\": 0.9078655136250624, \"min\": 0.9078655136250624}}, \"EndTime\": 1579888103.137627, \"Dimensions\": {\"model\": 6, \"Host\": \"algo-1\", \"Operation\": \"training\", \"Algorithm\": \"Linear Learner\", \"epoch\": 1}, \"StartTime\": 1579888103.137612}\n",
      "\u001b[0m\n",
      "\u001b[34m#metrics {\"Metrics\": {\"validation_multiclass_cross_entropy_objective\": {\"count\": 1, \"max\": 0.971921101454571, \"sum\": 0.971921101454571, \"min\": 0.971921101454571}}, \"EndTime\": 1579888103.137705, \"Dimensions\": {\"model\": 7, \"Host\": \"algo-1\", \"Operation\": \"training\", \"Algorithm\": \"Linear Learner\", \"epoch\": 1}, \"StartTime\": 1579888103.137688}\n",
      "\u001b[0m\n",
      "\u001b[34m#metrics {\"Metrics\": {\"validation_multiclass_cross_entropy_objective\": {\"count\": 1, \"max\": 0.9435801174605734, \"sum\": 0.9435801174605734, \"min\": 0.9435801174605734}}, \"EndTime\": 1579888103.137766, \"Dimensions\": {\"model\": 8, \"Host\": \"algo-1\", \"Operation\": \"training\", \"Algorithm\": \"Linear Learner\", \"epoch\": 1}, \"StartTime\": 1579888103.13775}\n",
      "\u001b[0m\n",
      "\u001b[34m#metrics {\"Metrics\": {\"validation_multiclass_cross_entropy_objective\": {\"count\": 1, \"max\": 1.4955495455928554, \"sum\": 1.4955495455928554, \"min\": 1.4955495455928554}}, \"EndTime\": 1579888103.137826, \"Dimensions\": {\"model\": 9, \"Host\": \"algo-1\", \"Operation\": \"training\", \"Algorithm\": \"Linear Learner\", \"epoch\": 1}, \"StartTime\": 1579888103.13781}\n",
      "\u001b[0m\n",
      "\u001b[34m#metrics {\"Metrics\": {\"validation_multiclass_cross_entropy_objective\": {\"count\": 1, \"max\": 0.9344952416959679, \"sum\": 0.9344952416959679, \"min\": 0.9344952416959679}}, \"EndTime\": 1579888103.13788, \"Dimensions\": {\"model\": 10, \"Host\": \"algo-1\", \"Operation\": \"training\", \"Algorithm\": \"Linear Learner\", \"epoch\": 1}, \"StartTime\": 1579888103.137866}\n",
      "\u001b[0m\n",
      "\u001b[34m#metrics {\"Metrics\": {\"validation_multiclass_cross_entropy_objective\": {\"count\": 1, \"max\": 0.9549374312440184, \"sum\": 0.9549374312440184, \"min\": 0.9549374312440184}}, \"EndTime\": 1579888103.137933, \"Dimensions\": {\"model\": 11, \"Host\": \"algo-1\", \"Operation\": \"training\", \"Algorithm\": \"Linear Learner\", \"epoch\": 1}, \"StartTime\": 1579888103.137919}\n",
      "\u001b[0m\n",
      "\u001b[34m#metrics {\"Metrics\": {\"validation_multiclass_cross_entropy_objective\": {\"count\": 1, \"max\": 0.9196252733984895, \"sum\": 0.9196252733984895, \"min\": 0.9196252733984895}}, \"EndTime\": 1579888103.137988, \"Dimensions\": {\"model\": 12, \"Host\": \"algo-1\", \"Operation\": \"training\", \"Algorithm\": \"Linear Learner\", \"epoch\": 1}, \"StartTime\": 1579888103.137973}\n",
      "\u001b[0m\n",
      "\u001b[34m#metrics {\"Metrics\": {\"validation_multiclass_cross_entropy_objective\": {\"count\": 1, \"max\": 1.1328702761552305, \"sum\": 1.1328702761552305, \"min\": 1.1328702761552305}}, \"EndTime\": 1579888103.13805, \"Dimensions\": {\"model\": 13, \"Host\": \"algo-1\", \"Operation\": \"training\", \"Algorithm\": \"Linear Learner\", \"epoch\": 1}, \"StartTime\": 1579888103.138036}\n",
      "\u001b[0m\n",
      "\u001b[34m#metrics {\"Metrics\": {\"validation_multiclass_cross_entropy_objective\": {\"count\": 1, \"max\": 1.8569781957390146, \"sum\": 1.8569781957390146, \"min\": 1.8569781957390146}}, \"EndTime\": 1579888103.138102, \"Dimensions\": {\"model\": 14, \"Host\": \"algo-1\", \"Operation\": \"training\", \"Algorithm\": \"Linear Learner\", \"epoch\": 1}, \"StartTime\": 1579888103.138089}\n",
      "\u001b[0m\n",
      "\u001b[34m#metrics {\"Metrics\": {\"validation_multiclass_cross_entropy_objective\": {\"count\": 1, \"max\": 0.9074849297616199, \"sum\": 0.9074849297616199, \"min\": 0.9074849297616199}}, \"EndTime\": 1579888103.138154, \"Dimensions\": {\"model\": 15, \"Host\": \"algo-1\", \"Operation\": \"training\", \"Algorithm\": \"Linear Learner\", \"epoch\": 1}, \"StartTime\": 1579888103.13814}\n",
      "\u001b[0m\n",
      "\u001b[34m#metrics {\"Metrics\": {\"validation_multiclass_cross_entropy_objective\": {\"count\": 1, \"max\": 0.9053047230970684, \"sum\": 0.9053047230970684, \"min\": 0.9053047230970684}}, \"EndTime\": 1579888103.138207, \"Dimensions\": {\"model\": 16, \"Host\": \"algo-1\", \"Operation\": \"training\", \"Algorithm\": \"Linear Learner\", \"epoch\": 1}, \"StartTime\": 1579888103.138193}\n",
      "\u001b[0m\n",
      "\u001b[34m#metrics {\"Metrics\": {\"validation_multiclass_cross_entropy_objective\": {\"count\": 1, \"max\": 0.9087052265273906, \"sum\": 0.9087052265273906, \"min\": 0.9087052265273906}}, \"EndTime\": 1579888103.138258, \"Dimensions\": {\"model\": 17, \"Host\": \"algo-1\", \"Operation\": \"training\", \"Algorithm\": \"Linear Learner\", \"epoch\": 1}, \"StartTime\": 1579888103.138243}\n",
      "\u001b[0m\n",
      "\u001b[34m#metrics {\"Metrics\": {\"validation_multiclass_cross_entropy_objective\": {\"count\": 1, \"max\": 1.4471069092121962, \"sum\": 1.4471069092121962, \"min\": 1.4471069092121962}}, \"EndTime\": 1579888103.138317, \"Dimensions\": {\"model\": 18, \"Host\": \"algo-1\", \"Operation\": \"training\", \"Algorithm\": \"Linear Learner\", \"epoch\": 1}, \"StartTime\": 1579888103.138301}\n",
      "\u001b[0m\n",
      "\u001b[34m#metrics {\"Metrics\": {\"validation_multiclass_cross_entropy_objective\": {\"count\": 1, \"max\": 1.369127710903691, \"sum\": 1.369127710903691, \"min\": 1.369127710903691}}, \"EndTime\": 1579888103.138372, \"Dimensions\": {\"model\": 19, \"Host\": \"algo-1\", \"Operation\": \"training\", \"Algorithm\": \"Linear Learner\", \"epoch\": 1}, \"StartTime\": 1579888103.138357}\n",
      "\u001b[0m\n",
      "\u001b[34m#metrics {\"Metrics\": {\"validation_multiclass_cross_entropy_objective\": {\"count\": 1, \"max\": 1.6997955444173394, \"sum\": 1.6997955444173394, \"min\": 1.6997955444173394}}, \"EndTime\": 1579888103.13843, \"Dimensions\": {\"model\": 20, \"Host\": \"algo-1\", \"Operation\": \"training\", \"Algorithm\": \"Linear Learner\", \"epoch\": 1}, \"StartTime\": 1579888103.138413}\n",
      "\u001b[0m\n",
      "\u001b[34m#metrics {\"Metrics\": {\"validation_multiclass_cross_entropy_objective\": {\"count\": 1, \"max\": 2.3888518596298685, \"sum\": 2.3888518596298685, \"min\": 2.3888518596298685}}, \"EndTime\": 1579888103.138484, \"Dimensions\": {\"model\": 21, \"Host\": \"algo-1\", \"Operation\": \"training\", \"Algorithm\": \"Linear Learner\", \"epoch\": 1}, \"StartTime\": 1579888103.138469}\n",
      "\u001b[0m\n",
      "\u001b[34m#metrics {\"Metrics\": {\"validation_multiclass_cross_entropy_objective\": {\"count\": 1, \"max\": 0.9318180170579852, \"sum\": 0.9318180170579852, \"min\": 0.9318180170579852}}, \"EndTime\": 1579888103.138546, \"Dimensions\": {\"model\": 22, \"Host\": \"algo-1\", \"Operation\": \"training\", \"Algorithm\": \"Linear Learner\", \"epoch\": 1}, \"StartTime\": 1579888103.138529}\n",
      "\u001b[0m\n",
      "\u001b[34m#metrics {\"Metrics\": {\"validation_multiclass_cross_entropy_objective\": {\"count\": 1, \"max\": 0.9099891794664405, \"sum\": 0.9099891794664405, \"min\": 0.9099891794664405}}, \"EndTime\": 1579888103.138581, \"Dimensions\": {\"model\": 23, \"Host\": \"algo-1\", \"Operation\": \"training\", \"Algorithm\": \"Linear Learner\", \"epoch\": 1}, \"StartTime\": 1579888103.138572}\n",
      "\u001b[0m\n",
      "\u001b[34m#metrics {\"Metrics\": {\"validation_multiclass_cross_entropy_objective\": {\"count\": 1, \"max\": 1.6667555726479277, \"sum\": 1.6667555726479277, \"min\": 1.6667555726479277}}, \"EndTime\": 1579888103.138626, \"Dimensions\": {\"model\": 24, \"Host\": \"algo-1\", \"Operation\": \"training\", \"Algorithm\": \"Linear Learner\", \"epoch\": 1}, \"StartTime\": 1579888103.138611}\n",
      "\u001b[0m\n",
      "\u001b[34m#metrics {\"Metrics\": {\"validation_multiclass_cross_entropy_objective\": {\"count\": 1, \"max\": 0.90761010059504, \"sum\": 0.90761010059504, \"min\": 0.90761010059504}}, \"EndTime\": 1579888103.138692, \"Dimensions\": {\"model\": 25, \"Host\": \"algo-1\", \"Operation\": \"training\", \"Algorithm\": \"Linear Learner\", \"epoch\": 1}, \"StartTime\": 1579888103.138674}\n",
      "\u001b[0m\n",
      "\u001b[34m#metrics {\"Metrics\": {\"validation_multiclass_cross_entropy_objective\": {\"count\": 1, \"max\": 1.1340287494278463, \"sum\": 1.1340287494278463, \"min\": 1.1340287494278463}}, \"EndTime\": 1579888103.138753, \"Dimensions\": {\"model\": 26, \"Host\": \"algo-1\", \"Operation\": \"training\", \"Algorithm\": \"Linear Learner\", \"epoch\": 1}, \"StartTime\": 1579888103.138736}\n",
      "\u001b[0m\n",
      "\u001b[34m#metrics {\"Metrics\": {\"validation_multiclass_cross_entropy_objective\": {\"count\": 1, \"max\": 0.9077251246385029, \"sum\": 0.9077251246385029, \"min\": 0.9077251246385029}}, \"EndTime\": 1579888103.138816, \"Dimensions\": {\"model\": 27, \"Host\": \"algo-1\", \"Operation\": \"training\", \"Algorithm\": \"Linear Learner\", \"epoch\": 1}, \"StartTime\": 1579888103.138798}\n",
      "\u001b[0m\n",
      "\u001b[34m#metrics {\"Metrics\": {\"validation_multiclass_cross_entropy_objective\": {\"count\": 1, \"max\": 0.9496380030077085, \"sum\": 0.9496380030077085, \"min\": 0.9496380030077085}}, \"EndTime\": 1579888103.138879, \"Dimensions\": {\"model\": 28, \"Host\": \"algo-1\", \"Operation\": \"training\", \"Algorithm\": \"Linear Learner\", \"epoch\": 1}, \"StartTime\": 1579888103.138861}\n",
      "\u001b[0m\n",
      "\u001b[34m#metrics {\"Metrics\": {\"validation_multiclass_cross_entropy_objective\": {\"count\": 1, \"max\": 1.006610050531583, \"sum\": 1.006610050531583, \"min\": 1.006610050531583}}, \"EndTime\": 1579888103.138942, \"Dimensions\": {\"model\": 29, \"Host\": \"algo-1\", \"Operation\": \"training\", \"Algorithm\": \"Linear Learner\", \"epoch\": 1}, \"StartTime\": 1579888103.138924}\n",
      "\u001b[0m\n",
      "\u001b[34m#metrics {\"Metrics\": {\"validation_multiclass_cross_entropy_objective\": {\"count\": 1, \"max\": 0.9550327956279648, \"sum\": 0.9550327956279648, \"min\": 0.9550327956279648}}, \"EndTime\": 1579888103.139003, \"Dimensions\": {\"model\": 30, \"Host\": \"algo-1\", \"Operation\": \"training\", \"Algorithm\": \"Linear Learner\", \"epoch\": 1}, \"StartTime\": 1579888103.138986}\n",
      "\u001b[0m\n",
      "\u001b[34m#metrics {\"Metrics\": {\"validation_multiclass_cross_entropy_objective\": {\"count\": 1, \"max\": 0.9182211925440559, \"sum\": 0.9182211925440559, \"min\": 0.9182211925440559}}, \"EndTime\": 1579888103.139074, \"Dimensions\": {\"model\": 31, \"Host\": \"algo-1\", \"Operation\": \"training\", \"Algorithm\": \"Linear Learner\", \"epoch\": 1}, \"StartTime\": 1579888103.139056}\n",
      "\u001b[0m\n",
      "\u001b[34m[01/24/2020 17:48:23 INFO 140276589545280] #quality_metric: host=algo-1, epoch=1, validation multiclass_cross_entropy_objective <loss>=0.907350075388\u001b[0m\n",
      "\u001b[34m[01/24/2020 17:48:23 INFO 140276589545280] #early_stopping_criteria_metric: host=algo-1, epoch=1, criteria=multiclass_cross_entropy_objective, value=0.905304723097\u001b[0m\n",
      "\u001b[34m[01/24/2020 17:48:23 INFO 140276589545280] #progress_metric: host=algo-1, completed 13 % of epochs\u001b[0m\n",
      "\u001b[34m#metrics {\"Metrics\": {\"Max Batches Seen Between Resets\": {\"count\": 1, \"max\": 61, \"sum\": 61.0, \"min\": 61}, \"Number of Batches Since Last Reset\": {\"count\": 1, \"max\": 61, \"sum\": 61.0, \"min\": 61}, \"Number of Records Since Last Reset\": {\"count\": 1, \"max\": 60079, \"sum\": 60079.0, \"min\": 60079}, \"Total Batches Seen\": {\"count\": 1, \"max\": 134, \"sum\": 134.0, \"min\": 134}, \"Total Records Seen\": {\"count\": 1, \"max\": 132158, \"sum\": 132158.0, \"min\": 132158}, \"Max Records Seen Between Resets\": {\"count\": 1, \"max\": 60079, \"sum\": 60079.0, \"min\": 60079}, \"Reset Count\": {\"count\": 1, \"max\": 4, \"sum\": 4.0, \"min\": 4}}, \"EndTime\": 1579888103.140208, \"Dimensions\": {\"Host\": \"algo-1\", \"Meta\": \"training_data_iter\", \"Operation\": \"training\", \"Algorithm\": \"Linear Learner\", \"epoch\": 1}, \"StartTime\": 1579888099.942344}\n",
      "\u001b[0m\n",
      "\u001b[34m[01/24/2020 17:48:23 INFO 140276589545280] #throughput_metric: host=algo-1, train throughput=18786.4460939 records/second\u001b[0m\n",
      "\u001b[34m[2020-01-24 17:48:25.760] [tensorio] [info] epoch_stats={\"data_pipeline\": \"/opt/ml/input/data/train\", \"epoch\": 7, \"duration\": 2619, \"num_examples\": 61, \"num_bytes\": 24752548}\u001b[0m\n",
      "\u001b[34m#metrics {\"Metrics\": {\"train_multiclass_cross_entropy_objective\": {\"count\": 1, \"max\": 0.8997965362548828, \"sum\": 0.8997965362548828, \"min\": 0.8997965362548828}}, \"EndTime\": 1579888105.76016, \"Dimensions\": {\"model\": 0, \"Host\": \"algo-1\", \"Operation\": \"training\", \"Algorithm\": \"Linear Learner\", \"epoch\": 2}, \"StartTime\": 1579888105.760055}\n",
      "\u001b[0m\n",
      "\u001b[34m#metrics {\"Metrics\": {\"train_multiclass_cross_entropy_objective\": {\"count\": 1, \"max\": 1.061617280069987, \"sum\": 1.061617280069987, \"min\": 1.061617280069987}}, \"EndTime\": 1579888105.760276, \"Dimensions\": {\"model\": 1, \"Host\": \"algo-1\", \"Operation\": \"training\", \"Algorithm\": \"Linear Learner\", \"epoch\": 2}, \"StartTime\": 1579888105.760254}\n",
      "\u001b[0m\n",
      "\u001b[34m#metrics {\"Metrics\": {\"train_multiclass_cross_entropy_objective\": {\"count\": 1, \"max\": 1.266932509358724, \"sum\": 1.266932509358724, \"min\": 1.266932509358724}}, \"EndTime\": 1579888105.760344, \"Dimensions\": {\"model\": 2, \"Host\": \"algo-1\", \"Operation\": \"training\", \"Algorithm\": \"Linear Learner\", \"epoch\": 2}, \"StartTime\": 1579888105.760325}\n",
      "\u001b[0m\n",
      "\u001b[34m#metrics {\"Metrics\": {\"train_multiclass_cross_entropy_objective\": {\"count\": 1, \"max\": 0.8979438588460287, \"sum\": 0.8979438588460287, \"min\": 0.8979438588460287}}, \"EndTime\": 1579888105.76041, \"Dimensions\": {\"model\": 3, \"Host\": \"algo-1\", \"Operation\": \"training\", \"Algorithm\": \"Linear Learner\", \"epoch\": 2}, \"StartTime\": 1579888105.760391}\n",
      "\u001b[0m\n",
      "\u001b[34m#metrics {\"Metrics\": {\"train_multiclass_cross_entropy_objective\": {\"count\": 1, \"max\": 1.0341512115478515, \"sum\": 1.0341512115478515, \"min\": 1.0341512115478515}}, \"EndTime\": 1579888105.760502, \"Dimensions\": {\"model\": 4, \"Host\": \"algo-1\", \"Operation\": \"training\", \"Algorithm\": \"Linear Learner\", \"epoch\": 2}, \"StartTime\": 1579888105.760482}\n",
      "\u001b[0m\n",
      "\u001b[34m#metrics {\"Metrics\": {\"train_multiclass_cross_entropy_objective\": {\"count\": 1, \"max\": 0.942428076171875, \"sum\": 0.942428076171875, \"min\": 0.942428076171875}}, \"EndTime\": 1579888105.760569, \"Dimensions\": {\"model\": 5, \"Host\": \"algo-1\", \"Operation\": \"training\", \"Algorithm\": \"Linear Learner\", \"epoch\": 2}, \"StartTime\": 1579888105.760551}\n",
      "\u001b[0m\n",
      "\u001b[34m#metrics {\"Metrics\": {\"train_multiclass_cross_entropy_objective\": {\"count\": 1, \"max\": 0.9012813283284505, \"sum\": 0.9012813283284505, \"min\": 0.9012813283284505}}, \"EndTime\": 1579888105.760632, \"Dimensions\": {\"model\": 6, \"Host\": \"algo-1\", \"Operation\": \"training\", \"Algorithm\": \"Linear Learner\", \"epoch\": 2}, \"StartTime\": 1579888105.760615}\n",
      "\u001b[0m\n",
      "\u001b[34m#metrics {\"Metrics\": {\"train_multiclass_cross_entropy_objective\": {\"count\": 1, \"max\": 0.9465372324625652, \"sum\": 0.9465372324625652, \"min\": 0.9465372324625652}}, \"EndTime\": 1579888105.760698, \"Dimensions\": {\"model\": 7, \"Host\": \"algo-1\", \"Operation\": \"training\", \"Algorithm\": \"Linear Learner\", \"epoch\": 2}, \"StartTime\": 1579888105.76068}\n",
      "\u001b[0m\n",
      "\u001b[34m#metrics {\"Metrics\": {\"train_multiclass_cross_entropy_objective\": {\"count\": 1, \"max\": 0.9212094329833984, \"sum\": 0.9212094329833984, \"min\": 0.9212094329833984}}, \"EndTime\": 1579888105.760761, \"Dimensions\": {\"model\": 8, \"Host\": \"algo-1\", \"Operation\": \"training\", \"Algorithm\": \"Linear Learner\", \"epoch\": 2}, \"StartTime\": 1579888105.760744}\n",
      "\u001b[0m\n",
      "\u001b[34m#metrics {\"Metrics\": {\"train_multiclass_cross_entropy_objective\": {\"count\": 1, \"max\": 3.0988808634440104, \"sum\": 3.0988808634440104, \"min\": 3.0988808634440104}}, \"EndTime\": 1579888105.760824, \"Dimensions\": {\"model\": 9, \"Host\": \"algo-1\", \"Operation\": \"training\", \"Algorithm\": \"Linear Learner\", \"epoch\": 2}, \"StartTime\": 1579888105.760806}\n",
      "\u001b[0m\n",
      "\u001b[34m#metrics {\"Metrics\": {\"train_multiclass_cross_entropy_objective\": {\"count\": 1, \"max\": 0.9376983591715495, \"sum\": 0.9376983591715495, \"min\": 0.9376983591715495}}, \"EndTime\": 1579888105.760885, \"Dimensions\": {\"model\": 10, \"Host\": \"algo-1\", \"Operation\": \"training\", \"Algorithm\": \"Linear Learner\", \"epoch\": 2}, \"StartTime\": 1579888105.760868}\n",
      "\u001b[0m\n",
      "\u001b[34m#metrics {\"Metrics\": {\"train_multiclass_cross_entropy_objective\": {\"count\": 1, \"max\": 0.9590290293375651, \"sum\": 0.9590290293375651, \"min\": 0.9590290293375651}}, \"EndTime\": 1579888105.760947, \"Dimensions\": {\"model\": 11, \"Host\": \"algo-1\", \"Operation\": \"training\", \"Algorithm\": \"Linear Learner\", \"epoch\": 2}, \"StartTime\": 1579888105.760929}\n",
      "\u001b[0m\n",
      "\u001b[34m#metrics {\"Metrics\": {\"train_multiclass_cross_entropy_objective\": {\"count\": 1, \"max\": 0.9087566884358724, \"sum\": 0.9087566884358724, \"min\": 0.9087566884358724}}, \"EndTime\": 1579888105.761012, \"Dimensions\": {\"model\": 12, \"Host\": \"algo-1\", \"Operation\": \"training\", \"Algorithm\": \"Linear Learner\", \"epoch\": 2}, \"StartTime\": 1579888105.760995}\n",
      "\u001b[0m\n",
      "\u001b[34m#metrics {\"Metrics\": {\"train_multiclass_cross_entropy_objective\": {\"count\": 1, \"max\": 1.0811436564127603, \"sum\": 1.0811436564127603, \"min\": 1.0811436564127603}}, \"EndTime\": 1579888105.761074, \"Dimensions\": {\"model\": 13, \"Host\": \"algo-1\", \"Operation\": \"training\", \"Algorithm\": \"Linear Learner\", \"epoch\": 2}, \"StartTime\": 1579888105.761057}\n",
      "\u001b[0m\n",
      "\u001b[34m#metrics {\"Metrics\": {\"train_multiclass_cross_entropy_objective\": {\"count\": 1, \"max\": 2.4860513997395834, \"sum\": 2.4860513997395834, \"min\": 2.4860513997395834}}, \"EndTime\": 1579888105.761135, \"Dimensions\": {\"model\": 14, \"Host\": \"algo-1\", \"Operation\": \"training\", \"Algorithm\": \"Linear Learner\", \"epoch\": 2}, \"StartTime\": 1579888105.761117}\n",
      "\u001b[0m\n",
      "\u001b[34m#metrics {\"Metrics\": {\"train_multiclass_cross_entropy_objective\": {\"count\": 1, \"max\": 0.8979939748128255, \"sum\": 0.8979939748128255, \"min\": 0.8979939748128255}}, \"EndTime\": 1579888105.7612, \"Dimensions\": {\"model\": 15, \"Host\": \"algo-1\", \"Operation\": \"training\", \"Algorithm\": \"Linear Learner\", \"epoch\": 2}, \"StartTime\": 1579888105.761182}\n",
      "\u001b[0m\n",
      "\u001b[34m#metrics {\"Metrics\": {\"train_multiclass_cross_entropy_objective\": {\"count\": 1, \"max\": 0.8971697408040364, \"sum\": 0.8971697408040364, \"min\": 0.8971697408040364}}, \"EndTime\": 1579888105.761266, \"Dimensions\": {\"model\": 16, \"Host\": \"algo-1\", \"Operation\": \"training\", \"Algorithm\": \"Linear Learner\", \"epoch\": 2}, \"StartTime\": 1579888105.761247}\n",
      "\u001b[0m\n",
      "\u001b[34m#metrics {\"Metrics\": {\"train_multiclass_cross_entropy_objective\": {\"count\": 1, \"max\": 0.899086610921224, \"sum\": 0.899086610921224, \"min\": 0.899086610921224}}, \"EndTime\": 1579888105.761327, \"Dimensions\": {\"model\": 17, \"Host\": \"algo-1\", \"Operation\": \"training\", \"Algorithm\": \"Linear Learner\", \"epoch\": 2}, \"StartTime\": 1579888105.76131}\n",
      "\u001b[0m\n",
      "\u001b[34m#metrics {\"Metrics\": {\"train_multiclass_cross_entropy_objective\": {\"count\": 1, \"max\": 1.807148203531901, \"sum\": 1.807148203531901, \"min\": 1.807148203531901}}, \"EndTime\": 1579888105.761382, \"Dimensions\": {\"model\": 18, \"Host\": \"algo-1\", \"Operation\": \"training\", \"Algorithm\": \"Linear Learner\", \"epoch\": 2}, \"StartTime\": 1579888105.761371}\n",
      "\u001b[0m\n",
      "\u001b[34m#metrics {\"Metrics\": {\"train_multiclass_cross_entropy_objective\": {\"count\": 1, \"max\": 1.516539638264974, \"sum\": 1.516539638264974, \"min\": 1.516539638264974}}, \"EndTime\": 1579888105.761415, \"Dimensions\": {\"model\": 19, \"Host\": \"algo-1\", \"Operation\": \"training\", \"Algorithm\": \"Linear Learner\", \"epoch\": 2}, \"StartTime\": 1579888105.761406}\n",
      "\u001b[0m\n",
      "\u001b[34m#metrics {\"Metrics\": {\"train_multiclass_cross_entropy_objective\": {\"count\": 1, \"max\": 2.036740002441406, \"sum\": 2.036740002441406, \"min\": 2.036740002441406}}, \"EndTime\": 1579888105.761452, \"Dimensions\": {\"model\": 20, \"Host\": \"algo-1\", \"Operation\": \"training\", \"Algorithm\": \"Linear Learner\", \"epoch\": 2}, \"StartTime\": 1579888105.761437}\n",
      "\u001b[0m\n",
      "\u001b[34m#metrics {\"Metrics\": {\"train_multiclass_cross_entropy_objective\": {\"count\": 1, \"max\": 2.4395551595052085, \"sum\": 2.4395551595052085, \"min\": 2.4395551595052085}}, \"EndTime\": 1579888105.761513, \"Dimensions\": {\"model\": 21, \"Host\": \"algo-1\", \"Operation\": \"training\", \"Algorithm\": \"Linear Learner\", \"epoch\": 2}, \"StartTime\": 1579888105.761494}\n",
      "\u001b[0m\n",
      "\u001b[34m#metrics {\"Metrics\": {\"train_multiclass_cross_entropy_objective\": {\"count\": 1, \"max\": 0.9306545227050781, \"sum\": 0.9306545227050781, \"min\": 0.9306545227050781}}, \"EndTime\": 1579888105.761578, \"Dimensions\": {\"model\": 22, \"Host\": \"algo-1\", \"Operation\": \"training\", \"Algorithm\": \"Linear Learner\", \"epoch\": 2}, \"StartTime\": 1579888105.761562}\n",
      "\u001b[0m\n",
      "\u001b[34m#metrics {\"Metrics\": {\"train_multiclass_cross_entropy_objective\": {\"count\": 1, \"max\": 0.9037675974527994, \"sum\": 0.9037675974527994, \"min\": 0.9037675974527994}}, \"EndTime\": 1579888105.761642, \"Dimensions\": {\"model\": 23, \"Host\": \"algo-1\", \"Operation\": \"training\", \"Algorithm\": \"Linear Learner\", \"epoch\": 2}, \"StartTime\": 1579888105.761624}\n",
      "\u001b[0m\n",
      "\u001b[34m#metrics {\"Metrics\": {\"train_multiclass_cross_entropy_objective\": {\"count\": 1, \"max\": 1.531312255859375, \"sum\": 1.531312255859375, \"min\": 1.531312255859375}}, \"EndTime\": 1579888105.761704, \"Dimensions\": {\"model\": 24, \"Host\": \"algo-1\", \"Operation\": \"training\", \"Algorithm\": \"Linear Learner\", \"epoch\": 2}, \"StartTime\": 1579888105.761686}\n",
      "\u001b[0m\n",
      "\u001b[34m#metrics {\"Metrics\": {\"train_multiclass_cross_entropy_objective\": {\"count\": 1, \"max\": 0.8996724395751953, \"sum\": 0.8996724395751953, \"min\": 0.8996724395751953}}, \"EndTime\": 1579888105.761763, \"Dimensions\": {\"model\": 25, \"Host\": \"algo-1\", \"Operation\": \"training\", \"Algorithm\": \"Linear Learner\", \"epoch\": 2}, \"StartTime\": 1579888105.761746}\n",
      "\u001b[0m\n",
      "\u001b[34m#metrics {\"Metrics\": {\"train_multiclass_cross_entropy_objective\": {\"count\": 1, \"max\": 1.1624081634521484, \"sum\": 1.1624081634521484, \"min\": 1.1624081634521484}}, \"EndTime\": 1579888105.76183, \"Dimensions\": {\"model\": 26, \"Host\": \"algo-1\", \"Operation\": \"training\", \"Algorithm\": \"Linear Learner\", \"epoch\": 2}, \"StartTime\": 1579888105.761812}\n",
      "\u001b[0m\n",
      "\u001b[34m#metrics {\"Metrics\": {\"train_multiclass_cross_entropy_objective\": {\"count\": 1, \"max\": 0.9006176401774089, \"sum\": 0.9006176401774089, \"min\": 0.9006176401774089}}, \"EndTime\": 1579888105.761895, \"Dimensions\": {\"model\": 27, \"Host\": \"algo-1\", \"Operation\": \"training\", \"Algorithm\": \"Linear Learner\", \"epoch\": 2}, \"StartTime\": 1579888105.761878}\n",
      "\u001b[0m\n",
      "\u001b[34m#metrics {\"Metrics\": {\"train_multiclass_cross_entropy_objective\": {\"count\": 1, \"max\": 0.9798316090901693, \"sum\": 0.9798316090901693, \"min\": 0.9798316090901693}}, \"EndTime\": 1579888105.761958, \"Dimensions\": {\"model\": 28, \"Host\": \"algo-1\", \"Operation\": \"training\", \"Algorithm\": \"Linear Learner\", \"epoch\": 2}, \"StartTime\": 1579888105.76194}\n",
      "\u001b[0m\n",
      "\u001b[34m#metrics {\"Metrics\": {\"train_multiclass_cross_entropy_objective\": {\"count\": 1, \"max\": 1.0034512908935547, \"sum\": 1.0034512908935547, \"min\": 1.0034512908935547}}, \"EndTime\": 1579888105.762005, \"Dimensions\": {\"model\": 29, \"Host\": \"algo-1\", \"Operation\": \"training\", \"Algorithm\": \"Linear Learner\", \"epoch\": 2}, \"StartTime\": 1579888105.761989}\n",
      "\u001b[0m\n",
      "\u001b[34m#metrics {\"Metrics\": {\"train_multiclass_cross_entropy_objective\": {\"count\": 1, \"max\": 0.9599960072835286, \"sum\": 0.9599960072835286, \"min\": 0.9599960072835286}}, \"EndTime\": 1579888105.762066, \"Dimensions\": {\"model\": 30, \"Host\": \"algo-1\", \"Operation\": \"training\", \"Algorithm\": \"Linear Learner\", \"epoch\": 2}, \"StartTime\": 1579888105.762048}\n",
      "\u001b[0m\n",
      "\u001b[34m#metrics {\"Metrics\": {\"train_multiclass_cross_entropy_objective\": {\"count\": 1, \"max\": 0.9075830352783203, \"sum\": 0.9075830352783203, \"min\": 0.9075830352783203}}, \"EndTime\": 1579888105.762119, \"Dimensions\": {\"model\": 31, \"Host\": \"algo-1\", \"Operation\": \"training\", \"Algorithm\": \"Linear Learner\", \"epoch\": 2}, \"StartTime\": 1579888105.762102}\n",
      "\u001b[0m\n",
      "\u001b[34m[01/24/2020 17:48:25 INFO 140276589545280] #quality_metric: host=algo-1, epoch=2, train multiclass_cross_entropy_objective <loss>=0.899796536255\u001b[0m\n",
      "\u001b[34m[2020-01-24 17:48:25.969] [tensorio] [info] epoch_stats={\"data_pipeline\": \"/opt/ml/input/data/validation\", \"epoch\": 8, \"duration\": 187, \"num_examples\": 8, \"num_bytes\": 3094120}\u001b[0m\n",
      "\u001b[34m#metrics {\"Metrics\": {\"validation_multiclass_cross_entropy_objective\": {\"count\": 1, \"max\": 0.9061923498161306, \"sum\": 0.9061923498161306, \"min\": 0.9061923498161306}}, \"EndTime\": 1579888105.976237, \"Dimensions\": {\"model\": 0, \"Host\": \"algo-1\", \"Operation\": \"training\", \"Algorithm\": \"Linear Learner\", \"epoch\": 2}, \"StartTime\": 1579888105.976173}\n",
      "\u001b[0m\n",
      "\u001b[34m#metrics {\"Metrics\": {\"validation_multiclass_cross_entropy_objective\": {\"count\": 1, \"max\": 1.020492228623554, \"sum\": 1.020492228623554, \"min\": 1.020492228623554}}, \"EndTime\": 1579888105.976329, \"Dimensions\": {\"model\": 1, \"Host\": \"algo-1\", \"Operation\": \"training\", \"Algorithm\": \"Linear Learner\", \"epoch\": 2}, \"StartTime\": 1579888105.976306}\n",
      "\u001b[0m\n",
      "\u001b[34m#metrics {\"Metrics\": {\"validation_multiclass_cross_entropy_objective\": {\"count\": 1, \"max\": 1.224534678046459, \"sum\": 1.224534678046459, \"min\": 1.224534678046459}}, \"EndTime\": 1579888105.9764, \"Dimensions\": {\"model\": 2, \"Host\": \"algo-1\", \"Operation\": \"training\", \"Algorithm\": \"Linear Learner\", \"epoch\": 2}, \"StartTime\": 1579888105.97638}\n",
      "\u001b[0m\n",
      "\u001b[34m#metrics {\"Metrics\": {\"validation_multiclass_cross_entropy_objective\": {\"count\": 1, \"max\": 0.9007090480921272, \"sum\": 0.9007090480921272, \"min\": 0.9007090480921272}}, \"EndTime\": 1579888105.976488, \"Dimensions\": {\"model\": 3, \"Host\": \"algo-1\", \"Operation\": \"training\", \"Algorithm\": \"Linear Learner\", \"epoch\": 2}, \"StartTime\": 1579888105.976449}\n",
      "\u001b[0m\n",
      "\u001b[34m#metrics {\"Metrics\": {\"validation_multiclass_cross_entropy_objective\": {\"count\": 1, \"max\": 1.0245875697637525, \"sum\": 1.0245875697637525, \"min\": 1.0245875697637525}}, \"EndTime\": 1579888105.976557, \"Dimensions\": {\"model\": 4, \"Host\": \"algo-1\", \"Operation\": \"training\", \"Algorithm\": \"Linear Learner\", \"epoch\": 2}, \"StartTime\": 1579888105.976538}\n",
      "\u001b[0m\n",
      "\u001b[34m#metrics {\"Metrics\": {\"validation_multiclass_cross_entropy_objective\": {\"count\": 1, \"max\": 0.9458290475979944, \"sum\": 0.9458290475979944, \"min\": 0.9458290475979944}}, \"EndTime\": 1579888105.976613, \"Dimensions\": {\"model\": 5, \"Host\": \"algo-1\", \"Operation\": \"training\", \"Algorithm\": \"Linear Learner\", \"epoch\": 2}, \"StartTime\": 1579888105.976596}\n",
      "\u001b[0m\n",
      "\u001b[34m#metrics {\"Metrics\": {\"validation_multiclass_cross_entropy_objective\": {\"count\": 1, \"max\": 0.8991966846938457, \"sum\": 0.8991966846938457, \"min\": 0.8991966846938457}}, \"EndTime\": 1579888105.976682, \"Dimensions\": {\"model\": 6, \"Host\": \"algo-1\", \"Operation\": \"training\", \"Algorithm\": \"Linear Learner\", \"epoch\": 2}, \"StartTime\": 1579888105.976664}\n",
      "\u001b[0m\n",
      "\u001b[34m#metrics {\"Metrics\": {\"validation_multiclass_cross_entropy_objective\": {\"count\": 1, \"max\": 0.9537374971392311, \"sum\": 0.9537374971392311, \"min\": 0.9537374971392311}}, \"EndTime\": 1579888105.976745, \"Dimensions\": {\"model\": 7, \"Host\": \"algo-1\", \"Operation\": \"training\", \"Algorithm\": \"Linear Learner\", \"epoch\": 2}, \"StartTime\": 1579888105.976727}\n",
      "\u001b[0m\n",
      "\u001b[34m#metrics {\"Metrics\": {\"validation_multiclass_cross_entropy_objective\": {\"count\": 1, \"max\": 0.9205086170912742, \"sum\": 0.9205086170912742, \"min\": 0.9205086170912742}}, \"EndTime\": 1579888105.976807, \"Dimensions\": {\"model\": 8, \"Host\": \"algo-1\", \"Operation\": \"training\", \"Algorithm\": \"Linear Learner\", \"epoch\": 2}, \"StartTime\": 1579888105.976789}\n",
      "\u001b[0m\n",
      "\u001b[34m#metrics {\"Metrics\": {\"validation_multiclass_cross_entropy_objective\": {\"count\": 1, \"max\": 2.940833836135153, \"sum\": 2.940833836135153, \"min\": 2.940833836135153}}, \"EndTime\": 1579888105.976869, \"Dimensions\": {\"model\": 9, \"Host\": \"algo-1\", \"Operation\": \"training\", \"Algorithm\": \"Linear Learner\", \"epoch\": 2}, \"StartTime\": 1579888105.976851}\n",
      "\u001b[0m\n",
      "\u001b[34m#metrics {\"Metrics\": {\"validation_multiclass_cross_entropy_objective\": {\"count\": 1, \"max\": 0.9327997647017519, \"sum\": 0.9327997647017519, \"min\": 0.9327997647017519}}, \"EndTime\": 1579888105.976932, \"Dimensions\": {\"model\": 10, \"Host\": \"algo-1\", \"Operation\": \"training\", \"Algorithm\": \"Linear Learner\", \"epoch\": 2}, \"StartTime\": 1579888105.976915}\n",
      "\u001b[0m\n",
      "\u001b[34m#metrics {\"Metrics\": {\"validation_multiclass_cross_entropy_objective\": {\"count\": 1, \"max\": 0.9746373812780875, \"sum\": 0.9746373812780875, \"min\": 0.9746373812780875}}, \"EndTime\": 1579888105.976996, \"Dimensions\": {\"model\": 11, \"Host\": \"algo-1\", \"Operation\": \"training\", \"Algorithm\": \"Linear Learner\", \"epoch\": 2}, \"StartTime\": 1579888105.976978}\n",
      "\u001b[0m\n",
      "\u001b[34m#metrics {\"Metrics\": {\"validation_multiclass_cross_entropy_objective\": {\"count\": 1, \"max\": 0.9200697003604569, \"sum\": 0.9200697003604569, \"min\": 0.9200697003604569}}, \"EndTime\": 1579888105.977062, \"Dimensions\": {\"model\": 12, \"Host\": \"algo-1\", \"Operation\": \"training\", \"Algorithm\": \"Linear Learner\", \"epoch\": 2}, \"StartTime\": 1579888105.977045}\n",
      "\u001b[0m\n",
      "\u001b[34m#metrics {\"Metrics\": {\"validation_multiclass_cross_entropy_objective\": {\"count\": 1, \"max\": 1.0446562786076898, \"sum\": 1.0446562786076898, \"min\": 1.0446562786076898}}, \"EndTime\": 1579888105.977128, \"Dimensions\": {\"model\": 13, \"Host\": \"algo-1\", \"Operation\": \"training\", \"Algorithm\": \"Linear Learner\", \"epoch\": 2}, \"StartTime\": 1579888105.97711}\n",
      "\u001b[0m\n",
      "\u001b[34m#metrics {\"Metrics\": {\"validation_multiclass_cross_entropy_objective\": {\"count\": 1, \"max\": 2.121415716544607, \"sum\": 2.121415716544607, \"min\": 2.121415716544607}}, \"EndTime\": 1579888105.977192, \"Dimensions\": {\"model\": 14, \"Host\": \"algo-1\", \"Operation\": \"training\", \"Algorithm\": \"Linear Learner\", \"epoch\": 2}, \"StartTime\": 1579888105.977175}\n",
      "\u001b[0m\n",
      "\u001b[34m#metrics {\"Metrics\": {\"validation_multiclass_cross_entropy_objective\": {\"count\": 1, \"max\": 0.9028101366147221, \"sum\": 0.9028101366147221, \"min\": 0.9028101366147221}}, \"EndTime\": 1579888105.977262, \"Dimensions\": {\"model\": 15, \"Host\": \"algo-1\", \"Operation\": \"training\", \"Algorithm\": \"Linear Learner\", \"epoch\": 2}, \"StartTime\": 1579888105.977243}\n",
      "\u001b[0m\n",
      "\u001b[34m#metrics {\"Metrics\": {\"validation_multiclass_cross_entropy_objective\": {\"count\": 1, \"max\": 0.9009761358228092, \"sum\": 0.9009761358228092, \"min\": 0.9009761358228092}}, \"EndTime\": 1579888105.977333, \"Dimensions\": {\"model\": 16, \"Host\": \"algo-1\", \"Operation\": \"training\", \"Algorithm\": \"Linear Learner\", \"epoch\": 2}, \"StartTime\": 1579888105.977314}\n",
      "\u001b[0m\n",
      "\u001b[34m#metrics {\"Metrics\": {\"validation_multiclass_cross_entropy_objective\": {\"count\": 1, \"max\": 0.9033066588298935, \"sum\": 0.9033066588298935, \"min\": 0.9033066588298935}}, \"EndTime\": 1579888105.977395, \"Dimensions\": {\"model\": 17, \"Host\": \"algo-1\", \"Operation\": \"training\", \"Algorithm\": \"Linear Learner\", \"epoch\": 2}, \"StartTime\": 1579888105.977377}\n",
      "\u001b[0m\n",
      "\u001b[34m#metrics {\"Metrics\": {\"validation_multiclass_cross_entropy_objective\": {\"count\": 1, \"max\": 1.5724161160770016, \"sum\": 1.5724161160770016, \"min\": 1.5724161160770016}}, \"EndTime\": 1579888105.977461, \"Dimensions\": {\"model\": 18, \"Host\": \"algo-1\", \"Operation\": \"training\", \"Algorithm\": \"Linear Learner\", \"epoch\": 2}, \"StartTime\": 1579888105.977442}\n",
      "\u001b[0m\n",
      "\u001b[34m#metrics {\"Metrics\": {\"validation_multiclass_cross_entropy_objective\": {\"count\": 1, \"max\": 1.830890404590754, \"sum\": 1.830890404590754, \"min\": 1.830890404590754}}, \"EndTime\": 1579888105.977534, \"Dimensions\": {\"model\": 19, \"Host\": \"algo-1\", \"Operation\": \"training\", \"Algorithm\": \"Linear Learner\", \"epoch\": 2}, \"StartTime\": 1579888105.977516}\n",
      "\u001b[0m\n",
      "\u001b[34m#metrics {\"Metrics\": {\"validation_multiclass_cross_entropy_objective\": {\"count\": 1, \"max\": 2.5128930956641145, \"sum\": 2.5128930956641145, \"min\": 2.5128930956641145}}, \"EndTime\": 1579888105.977609, \"Dimensions\": {\"model\": 20, \"Host\": \"algo-1\", \"Operation\": \"training\", \"Algorithm\": \"Linear Learner\", \"epoch\": 2}, \"StartTime\": 1579888105.97759}\n",
      "\u001b[0m\n",
      "\u001b[34m#metrics {\"Metrics\": {\"validation_multiclass_cross_entropy_objective\": {\"count\": 1, \"max\": 1.3104797444553096, \"sum\": 1.3104797444553096, \"min\": 1.3104797444553096}}, \"EndTime\": 1579888105.977682, \"Dimensions\": {\"model\": 21, \"Host\": \"algo-1\", \"Operation\": \"training\", \"Algorithm\": \"Linear Learner\", \"epoch\": 2}, \"StartTime\": 1579888105.977662}\n",
      "\u001b[0m\n",
      "\u001b[34m#metrics {\"Metrics\": {\"validation_multiclass_cross_entropy_objective\": {\"count\": 1, \"max\": 0.9521662969881304, \"sum\": 0.9521662969881304, \"min\": 0.9521662969881304}}, \"EndTime\": 1579888105.977752, \"Dimensions\": {\"model\": 22, \"Host\": \"algo-1\", \"Operation\": \"training\", \"Algorithm\": \"Linear Learner\", \"epoch\": 2}, \"StartTime\": 1579888105.977733}\n",
      "\u001b[0m\n",
      "\u001b[34m#metrics {\"Metrics\": {\"validation_multiclass_cross_entropy_objective\": {\"count\": 1, \"max\": 0.9094524317511548, \"sum\": 0.9094524317511548, \"min\": 0.9094524317511548}}, \"EndTime\": 1579888105.977824, \"Dimensions\": {\"model\": 23, \"Host\": \"algo-1\", \"Operation\": \"training\", \"Algorithm\": \"Linear Learner\", \"epoch\": 2}, \"StartTime\": 1579888105.977805}\n",
      "\u001b[0m\n",
      "\u001b[34m#metrics {\"Metrics\": {\"validation_multiclass_cross_entropy_objective\": {\"count\": 1, \"max\": 1.7993932406530875, \"sum\": 1.7993932406530875, \"min\": 1.7993932406530875}}, \"EndTime\": 1579888105.977889, \"Dimensions\": {\"model\": 24, \"Host\": \"algo-1\", \"Operation\": \"training\", \"Algorithm\": \"Linear Learner\", \"epoch\": 2}, \"StartTime\": 1579888105.97787}\n",
      "\u001b[0m\n",
      "\u001b[34m#metrics {\"Metrics\": {\"validation_multiclass_cross_entropy_objective\": {\"count\": 1, \"max\": 0.9050968215881429, \"sum\": 0.9050968215881429, \"min\": 0.9050968215881429}}, \"EndTime\": 1579888105.977955, \"Dimensions\": {\"model\": 25, \"Host\": \"algo-1\", \"Operation\": \"training\", \"Algorithm\": \"Linear Learner\", \"epoch\": 2}, \"StartTime\": 1579888105.977938}\n",
      "\u001b[0m\n",
      "\u001b[34m#metrics {\"Metrics\": {\"validation_multiclass_cross_entropy_objective\": {\"count\": 1, \"max\": 1.1407588140942286, \"sum\": 1.1407588140942286, \"min\": 1.1407588140942286}}, \"EndTime\": 1579888105.978027, \"Dimensions\": {\"model\": 26, \"Host\": \"algo-1\", \"Operation\": \"training\", \"Algorithm\": \"Linear Learner\", \"epoch\": 2}, \"StartTime\": 1579888105.978008}\n",
      "\u001b[0m\n",
      "\u001b[34m#metrics {\"Metrics\": {\"validation_multiclass_cross_entropy_objective\": {\"count\": 1, \"max\": 0.9063766824897532, \"sum\": 0.9063766824897532, \"min\": 0.9063766824897532}}, \"EndTime\": 1579888105.978094, \"Dimensions\": {\"model\": 27, \"Host\": \"algo-1\", \"Operation\": \"training\", \"Algorithm\": \"Linear Learner\", \"epoch\": 2}, \"StartTime\": 1579888105.978077}\n",
      "\u001b[0m\n",
      "\u001b[34m#metrics {\"Metrics\": {\"validation_multiclass_cross_entropy_objective\": {\"count\": 1, \"max\": 0.9791066379267748, \"sum\": 0.9791066379267748, \"min\": 0.9791066379267748}}, \"EndTime\": 1579888105.978161, \"Dimensions\": {\"model\": 28, \"Host\": \"algo-1\", \"Operation\": \"training\", \"Algorithm\": \"Linear Learner\", \"epoch\": 2}, \"StartTime\": 1579888105.978143}\n",
      "\u001b[0m\n",
      "\u001b[34m#metrics {\"Metrics\": {\"validation_multiclass_cross_entropy_objective\": {\"count\": 1, \"max\": 0.9969034085737246, \"sum\": 0.9969034085737246, \"min\": 0.9969034085737246}}, \"EndTime\": 1579888105.978221, \"Dimensions\": {\"model\": 29, \"Host\": \"algo-1\", \"Operation\": \"training\", \"Algorithm\": \"Linear Learner\", \"epoch\": 2}, \"StartTime\": 1579888105.978205}\n",
      "\u001b[0m\n",
      "\u001b[34m#metrics {\"Metrics\": {\"validation_multiclass_cross_entropy_objective\": {\"count\": 1, \"max\": 0.954395043262629, \"sum\": 0.954395043262629, \"min\": 0.954395043262629}}, \"EndTime\": 1579888105.978282, \"Dimensions\": {\"model\": 30, \"Host\": \"algo-1\", \"Operation\": \"training\", \"Algorithm\": \"Linear Learner\", \"epoch\": 2}, \"StartTime\": 1579888105.978265}\n",
      "\u001b[0m\n",
      "\u001b[34m#metrics {\"Metrics\": {\"validation_multiclass_cross_entropy_objective\": {\"count\": 1, \"max\": 0.9153582942469936, \"sum\": 0.9153582942469936, \"min\": 0.9153582942469936}}, \"EndTime\": 1579888105.97835, \"Dimensions\": {\"model\": 31, \"Host\": \"algo-1\", \"Operation\": \"training\", \"Algorithm\": \"Linear Learner\", \"epoch\": 2}, \"StartTime\": 1579888105.978331}\n",
      "\u001b[0m\n",
      "\u001b[34m[01/24/2020 17:48:25 INFO 140276589545280] #quality_metric: host=algo-1, epoch=2, validation multiclass_cross_entropy_objective <loss>=0.906192349816\u001b[0m\n",
      "\u001b[34m[01/24/2020 17:48:25 INFO 140276589545280] #early_stopping_criteria_metric: host=algo-1, epoch=2, criteria=multiclass_cross_entropy_objective, value=0.899196684694\u001b[0m\n",
      "\u001b[34m[01/24/2020 17:48:25 INFO 140276589545280] Epoch 2: Loss improved. Updating best model\u001b[0m\n",
      "\u001b[34m[01/24/2020 17:48:25 INFO 140276589545280] #progress_metric: host=algo-1, completed 20 % of epochs\u001b[0m\n",
      "\u001b[34m#metrics {\"Metrics\": {\"Max Batches Seen Between Resets\": {\"count\": 1, \"max\": 61, \"sum\": 61.0, \"min\": 61}, \"Number of Batches Since Last Reset\": {\"count\": 1, \"max\": 61, \"sum\": 61.0, \"min\": 61}, \"Number of Records Since Last Reset\": {\"count\": 1, \"max\": 60079, \"sum\": 60079.0, \"min\": 60079}, \"Total Batches Seen\": {\"count\": 1, \"max\": 195, \"sum\": 195.0, \"min\": 195}, \"Total Records Seen\": {\"count\": 1, \"max\": 192237, \"sum\": 192237.0, \"min\": 192237}, \"Max Records Seen Between Resets\": {\"count\": 1, \"max\": 60079, \"sum\": 60079.0, \"min\": 60079}, \"Reset Count\": {\"count\": 1, \"max\": 5, \"sum\": 5.0, \"min\": 5}}, \"EndTime\": 1579888105.980106, \"Dimensions\": {\"Host\": \"algo-1\", \"Meta\": \"training_data_iter\", \"Operation\": \"training\", \"Algorithm\": \"Linear Learner\", \"epoch\": 2}, \"StartTime\": 1579888103.140501}\n",
      "\u001b[0m\n",
      "\u001b[34m[01/24/2020 17:48:25 INFO 140276589545280] #throughput_metric: host=algo-1, train throughput=21156.5140463 records/second\u001b[0m\n",
      "\n",
      "2020-01-24 17:48:14 Training - Training image download completed. Training in progress.\u001b[34m[2020-01-24 17:48:28.537] [tensorio] [info] epoch_stats={\"data_pipeline\": \"/opt/ml/input/data/train\", \"epoch\": 9, \"duration\": 2555, \"num_examples\": 61, \"num_bytes\": 24752548}\u001b[0m\n",
      "\u001b[34m#metrics {\"Metrics\": {\"train_multiclass_cross_entropy_objective\": {\"count\": 1, \"max\": 0.898541298421224, \"sum\": 0.898541298421224, \"min\": 0.898541298421224}}, \"EndTime\": 1579888108.537495, \"Dimensions\": {\"model\": 0, \"Host\": \"algo-1\", \"Operation\": \"training\", \"Algorithm\": \"Linear Learner\", \"epoch\": 3}, \"StartTime\": 1579888108.537398}\n",
      "\u001b[0m\n",
      "\u001b[34m#metrics {\"Metrics\": {\"train_multiclass_cross_entropy_objective\": {\"count\": 1, \"max\": 1.050540625, \"sum\": 1.050540625, \"min\": 1.050540625}}, \"EndTime\": 1579888108.537596, \"Dimensions\": {\"model\": 1, \"Host\": \"algo-1\", \"Operation\": \"training\", \"Algorithm\": \"Linear Learner\", \"epoch\": 3}, \"StartTime\": 1579888108.537578}\n",
      "\u001b[0m\n",
      "\u001b[34m#metrics {\"Metrics\": {\"train_multiclass_cross_entropy_objective\": {\"count\": 1, \"max\": 1.2347003743489584, \"sum\": 1.2347003743489584, \"min\": 1.2347003743489584}}, \"EndTime\": 1579888108.537708, \"Dimensions\": {\"model\": 2, \"Host\": \"algo-1\", \"Operation\": \"training\", \"Algorithm\": \"Linear Learner\", \"epoch\": 3}, \"StartTime\": 1579888108.537687}\n",
      "\u001b[0m\n",
      "\u001b[34m#metrics {\"Metrics\": {\"train_multiclass_cross_entropy_objective\": {\"count\": 1, \"max\": 0.8953809509277344, \"sum\": 0.8953809509277344, \"min\": 0.8953809509277344}}, \"EndTime\": 1579888108.537764, \"Dimensions\": {\"model\": 3, \"Host\": \"algo-1\", \"Operation\": \"training\", \"Algorithm\": \"Linear Learner\", \"epoch\": 3}, \"StartTime\": 1579888108.537751}\n",
      "\u001b[0m\n",
      "\u001b[34m#metrics {\"Metrics\": {\"train_multiclass_cross_entropy_objective\": {\"count\": 1, \"max\": 1.034381440226237, \"sum\": 1.034381440226237, \"min\": 1.034381440226237}}, \"EndTime\": 1579888108.537812, \"Dimensions\": {\"model\": 4, \"Host\": \"algo-1\", \"Operation\": \"training\", \"Algorithm\": \"Linear Learner\", \"epoch\": 3}, \"StartTime\": 1579888108.5378}\n",
      "\u001b[0m\n",
      "\u001b[34m#metrics {\"Metrics\": {\"train_multiclass_cross_entropy_objective\": {\"count\": 1, \"max\": 0.9346695821126302, \"sum\": 0.9346695821126302, \"min\": 0.9346695821126302}}, \"EndTime\": 1579888108.537858, \"Dimensions\": {\"model\": 5, \"Host\": \"algo-1\", \"Operation\": \"training\", \"Algorithm\": \"Linear Learner\", \"epoch\": 3}, \"StartTime\": 1579888108.537846}\n",
      "\u001b[0m\n",
      "\u001b[34m#metrics {\"Metrics\": {\"train_multiclass_cross_entropy_objective\": {\"count\": 1, \"max\": 0.8980591339111328, \"sum\": 0.8980591339111328, \"min\": 0.8980591339111328}}, \"EndTime\": 1579888108.537903, \"Dimensions\": {\"model\": 6, \"Host\": \"algo-1\", \"Operation\": \"training\", \"Algorithm\": \"Linear Learner\", \"epoch\": 3}, \"StartTime\": 1579888108.537891}\n",
      "\u001b[0m\n",
      "\u001b[34m#metrics {\"Metrics\": {\"train_multiclass_cross_entropy_objective\": {\"count\": 1, \"max\": 0.9383661214192708, \"sum\": 0.9383661214192708, \"min\": 0.9383661214192708}}, \"EndTime\": 1579888108.537957, \"Dimensions\": {\"model\": 7, \"Host\": \"algo-1\", \"Operation\": \"training\", \"Algorithm\": \"Linear Learner\", \"epoch\": 3}, \"StartTime\": 1579888108.537943}\n",
      "\u001b[0m\n",
      "\u001b[34m#metrics {\"Metrics\": {\"train_multiclass_cross_entropy_objective\": {\"count\": 1, \"max\": 0.9301388783772786, \"sum\": 0.9301388783772786, \"min\": 0.9301388783772786}}, \"EndTime\": 1579888108.53801, \"Dimensions\": {\"model\": 8, \"Host\": \"algo-1\", \"Operation\": \"training\", \"Algorithm\": \"Linear Learner\", \"epoch\": 3}, \"StartTime\": 1579888108.537997}\n",
      "\u001b[0m\n",
      "\u001b[34m#metrics {\"Metrics\": {\"train_multiclass_cross_entropy_objective\": {\"count\": 1, \"max\": 2.9529402852376303, \"sum\": 2.9529402852376303, \"min\": 2.9529402852376303}}, \"EndTime\": 1579888108.538062, \"Dimensions\": {\"model\": 9, \"Host\": \"algo-1\", \"Operation\": \"training\", \"Algorithm\": \"Linear Learner\", \"epoch\": 3}, \"StartTime\": 1579888108.53805}\n",
      "\u001b[0m\n",
      "\u001b[34m#metrics {\"Metrics\": {\"train_multiclass_cross_entropy_objective\": {\"count\": 1, \"max\": 0.9364473999023437, \"sum\": 0.9364473999023437, \"min\": 0.9364473999023437}}, \"EndTime\": 1579888108.538115, \"Dimensions\": {\"model\": 10, \"Host\": \"algo-1\", \"Operation\": \"training\", \"Algorithm\": \"Linear Learner\", \"epoch\": 3}, \"StartTime\": 1579888108.538103}\n",
      "\u001b[0m\n",
      "\u001b[34m#metrics {\"Metrics\": {\"train_multiclass_cross_entropy_objective\": {\"count\": 1, \"max\": 0.9587863576253255, \"sum\": 0.9587863576253255, \"min\": 0.9587863576253255}}, \"EndTime\": 1579888108.538168, \"Dimensions\": {\"model\": 11, \"Host\": \"algo-1\", \"Operation\": \"training\", \"Algorithm\": \"Linear Learner\", \"epoch\": 3}, \"StartTime\": 1579888108.538156}\n",
      "\u001b[0m\n",
      "\u001b[34m#metrics {\"Metrics\": {\"train_multiclass_cross_entropy_objective\": {\"count\": 1, \"max\": 0.9089447438557943, \"sum\": 0.9089447438557943, \"min\": 0.9089447438557943}}, \"EndTime\": 1579888108.538221, \"Dimensions\": {\"model\": 12, \"Host\": \"algo-1\", \"Operation\": \"training\", \"Algorithm\": \"Linear Learner\", \"epoch\": 3}, \"StartTime\": 1579888108.538208}\n",
      "\u001b[0m\n",
      "\u001b[34m#metrics {\"Metrics\": {\"train_multiclass_cross_entropy_objective\": {\"count\": 1, \"max\": 1.0749898752848308, \"sum\": 1.0749898752848308, \"min\": 1.0749898752848308}}, \"EndTime\": 1579888108.538279, \"Dimensions\": {\"model\": 13, \"Host\": \"algo-1\", \"Operation\": \"training\", \"Algorithm\": \"Linear Learner\", \"epoch\": 3}, \"StartTime\": 1579888108.538266}\n",
      "\u001b[0m\n",
      "\u001b[34m#metrics {\"Metrics\": {\"train_multiclass_cross_entropy_objective\": {\"count\": 1, \"max\": 2.4452654561360676, \"sum\": 2.4452654561360676, \"min\": 2.4452654561360676}}, \"EndTime\": 1579888108.538331, \"Dimensions\": {\"model\": 14, \"Host\": \"algo-1\", \"Operation\": \"training\", \"Algorithm\": \"Linear Learner\", \"epoch\": 3}, \"StartTime\": 1579888108.538319}\n",
      "\u001b[0m\n",
      "\u001b[34m#metrics {\"Metrics\": {\"train_multiclass_cross_entropy_objective\": {\"count\": 1, \"max\": 0.8947385243733724, \"sum\": 0.8947385243733724, \"min\": 0.8947385243733724}}, \"EndTime\": 1579888108.538384, \"Dimensions\": {\"model\": 15, \"Host\": \"algo-1\", \"Operation\": \"training\", \"Algorithm\": \"Linear Learner\", \"epoch\": 3}, \"StartTime\": 1579888108.538371}\n",
      "\u001b[0m\n",
      "\u001b[34m#metrics {\"Metrics\": {\"train_multiclass_cross_entropy_objective\": {\"count\": 1, \"max\": 0.8941554392496744, \"sum\": 0.8941554392496744, \"min\": 0.8941554392496744}}, \"EndTime\": 1579888108.538436, \"Dimensions\": {\"model\": 16, \"Host\": \"algo-1\", \"Operation\": \"training\", \"Algorithm\": \"Linear Learner\", \"epoch\": 3}, \"StartTime\": 1579888108.538423}\n",
      "\u001b[0m\n",
      "\u001b[34m#metrics {\"Metrics\": {\"train_multiclass_cross_entropy_objective\": {\"count\": 1, \"max\": 0.895662240600586, \"sum\": 0.895662240600586, \"min\": 0.895662240600586}}, \"EndTime\": 1579888108.538488, \"Dimensions\": {\"model\": 17, \"Host\": \"algo-1\", \"Operation\": \"training\", \"Algorithm\": \"Linear Learner\", \"epoch\": 3}, \"StartTime\": 1579888108.538475}\n",
      "\u001b[0m\n",
      "\u001b[34m#metrics {\"Metrics\": {\"train_multiclass_cross_entropy_objective\": {\"count\": 1, \"max\": 1.7808914794921875, \"sum\": 1.7808914794921875, \"min\": 1.7808914794921875}}, \"EndTime\": 1579888108.53854, \"Dimensions\": {\"model\": 18, \"Host\": \"algo-1\", \"Operation\": \"training\", \"Algorithm\": \"Linear Learner\", \"epoch\": 3}, \"StartTime\": 1579888108.538528}\n",
      "\u001b[0m\n",
      "\u001b[34m#metrics {\"Metrics\": {\"train_multiclass_cross_entropy_objective\": {\"count\": 1, \"max\": 1.5302054239908853, \"sum\": 1.5302054239908853, \"min\": 1.5302054239908853}}, \"EndTime\": 1579888108.538593, \"Dimensions\": {\"model\": 19, \"Host\": \"algo-1\", \"Operation\": \"training\", \"Algorithm\": \"Linear Learner\", \"epoch\": 3}, \"StartTime\": 1579888108.53858}\n",
      "\u001b[0m\n",
      "\u001b[34m#metrics {\"Metrics\": {\"train_multiclass_cross_entropy_objective\": {\"count\": 1, \"max\": 2.0202433451334634, \"sum\": 2.0202433451334634, \"min\": 2.0202433451334634}}, \"EndTime\": 1579888108.538646, \"Dimensions\": {\"model\": 20, \"Host\": \"algo-1\", \"Operation\": \"training\", \"Algorithm\": \"Linear Learner\", \"epoch\": 3}, \"StartTime\": 1579888108.538633}\n",
      "\u001b[0m\n",
      "\u001b[34m#metrics {\"Metrics\": {\"train_multiclass_cross_entropy_objective\": {\"count\": 1, \"max\": 2.3146925048828124, \"sum\": 2.3146925048828124, \"min\": 2.3146925048828124}}, \"EndTime\": 1579888108.538698, \"Dimensions\": {\"model\": 21, \"Host\": \"algo-1\", \"Operation\": \"training\", \"Algorithm\": \"Linear Learner\", \"epoch\": 3}, \"StartTime\": 1579888108.538685}\n",
      "\u001b[0m\n",
      "\u001b[34m#metrics {\"Metrics\": {\"train_multiclass_cross_entropy_objective\": {\"count\": 1, \"max\": 0.930800493367513, \"sum\": 0.930800493367513, \"min\": 0.930800493367513}}, \"EndTime\": 1579888108.53875, \"Dimensions\": {\"model\": 22, \"Host\": \"algo-1\", \"Operation\": \"training\", \"Algorithm\": \"Linear Learner\", \"epoch\": 3}, \"StartTime\": 1579888108.538737}\n",
      "\u001b[0m\n",
      "\u001b[34m#metrics {\"Metrics\": {\"train_multiclass_cross_entropy_objective\": {\"count\": 1, \"max\": 0.9040727345784505, \"sum\": 0.9040727345784505, \"min\": 0.9040727345784505}}, \"EndTime\": 1579888108.538802, \"Dimensions\": {\"model\": 23, \"Host\": \"algo-1\", \"Operation\": \"training\", \"Algorithm\": \"Linear Learner\", \"epoch\": 3}, \"StartTime\": 1579888108.538789}\n",
      "\u001b[0m\n",
      "\u001b[34m#metrics {\"Metrics\": {\"train_multiclass_cross_entropy_objective\": {\"count\": 1, \"max\": 1.533273979695638, \"sum\": 1.533273979695638, \"min\": 1.533273979695638}}, \"EndTime\": 1579888108.538849, \"Dimensions\": {\"model\": 24, \"Host\": \"algo-1\", \"Operation\": \"training\", \"Algorithm\": \"Linear Learner\", \"epoch\": 3}, \"StartTime\": 1579888108.538837}\n",
      "\u001b[0m\n",
      "\u001b[34m#metrics {\"Metrics\": {\"train_multiclass_cross_entropy_objective\": {\"count\": 1, \"max\": 0.898063818359375, \"sum\": 0.898063818359375, \"min\": 0.898063818359375}}, \"EndTime\": 1579888108.538901, \"Dimensions\": {\"model\": 25, \"Host\": \"algo-1\", \"Operation\": \"training\", \"Algorithm\": \"Linear Learner\", \"epoch\": 3}, \"StartTime\": 1579888108.538888}\n",
      "\u001b[0m\n",
      "\u001b[34m#metrics {\"Metrics\": {\"train_multiclass_cross_entropy_objective\": {\"count\": 1, \"max\": 1.1563670166015625, \"sum\": 1.1563670166015625, \"min\": 1.1563670166015625}}, \"EndTime\": 1579888108.538952, \"Dimensions\": {\"model\": 26, \"Host\": \"algo-1\", \"Operation\": \"training\", \"Algorithm\": \"Linear Learner\", \"epoch\": 3}, \"StartTime\": 1579888108.53894}\n",
      "\u001b[0m\n",
      "\u001b[34m#metrics {\"Metrics\": {\"train_multiclass_cross_entropy_objective\": {\"count\": 1, \"max\": 0.8998885467529297, \"sum\": 0.8998885467529297, \"min\": 0.8998885467529297}}, \"EndTime\": 1579888108.539005, \"Dimensions\": {\"model\": 27, \"Host\": \"algo-1\", \"Operation\": \"training\", \"Algorithm\": \"Linear Learner\", \"epoch\": 3}, \"StartTime\": 1579888108.538992}\n",
      "\u001b[0m\n",
      "\u001b[34m#metrics {\"Metrics\": {\"train_multiclass_cross_entropy_objective\": {\"count\": 1, \"max\": 0.9813591959635417, \"sum\": 0.9813591959635417, \"min\": 0.9813591959635417}}, \"EndTime\": 1579888108.539057, \"Dimensions\": {\"model\": 28, \"Host\": \"algo-1\", \"Operation\": \"training\", \"Algorithm\": \"Linear Learner\", \"epoch\": 3}, \"StartTime\": 1579888108.539045}\n",
      "\u001b[0m\n",
      "\u001b[34m#metrics {\"Metrics\": {\"train_multiclass_cross_entropy_objective\": {\"count\": 1, \"max\": 1.0038550384521485, \"sum\": 1.0038550384521485, \"min\": 1.0038550384521485}}, \"EndTime\": 1579888108.53911, \"Dimensions\": {\"model\": 29, \"Host\": \"algo-1\", \"Operation\": \"training\", \"Algorithm\": \"Linear Learner\", \"epoch\": 3}, \"StartTime\": 1579888108.539097}\n",
      "\u001b[0m\n",
      "\u001b[34m#metrics {\"Metrics\": {\"train_multiclass_cross_entropy_objective\": {\"count\": 1, \"max\": 0.959771474202474, \"sum\": 0.959771474202474, \"min\": 0.959771474202474}}, \"EndTime\": 1579888108.539161, \"Dimensions\": {\"model\": 30, \"Host\": \"algo-1\", \"Operation\": \"training\", \"Algorithm\": \"Linear Learner\", \"epoch\": 3}, \"StartTime\": 1579888108.539151}\n",
      "\u001b[0m\n",
      "\u001b[34m#metrics {\"Metrics\": {\"train_multiclass_cross_entropy_objective\": {\"count\": 1, \"max\": 0.9052552693684895, \"sum\": 0.9052552693684895, \"min\": 0.9052552693684895}}, \"EndTime\": 1579888108.5392, \"Dimensions\": {\"model\": 31, \"Host\": \"algo-1\", \"Operation\": \"training\", \"Algorithm\": \"Linear Learner\", \"epoch\": 3}, \"StartTime\": 1579888108.53919}\n",
      "\u001b[0m\n",
      "\u001b[34m[01/24/2020 17:48:28 INFO 140276589545280] #quality_metric: host=algo-1, epoch=3, train multiclass_cross_entropy_objective <loss>=0.898541298421\u001b[0m\n",
      "\u001b[34m[2020-01-24 17:48:28.751] [tensorio] [info] epoch_stats={\"data_pipeline\": \"/opt/ml/input/data/validation\", \"epoch\": 11, \"duration\": 188, \"num_examples\": 8, \"num_bytes\": 3094120}\u001b[0m\n",
      "\u001b[34m#metrics {\"Metrics\": {\"validation_multiclass_cross_entropy_objective\": {\"count\": 1, \"max\": 0.9051079477038428, \"sum\": 0.9051079477038428, \"min\": 0.9051079477038428}}, \"EndTime\": 1579888108.758471, \"Dimensions\": {\"model\": 0, \"Host\": \"algo-1\", \"Operation\": \"training\", \"Algorithm\": \"Linear Learner\", \"epoch\": 3}, \"StartTime\": 1579888108.758407}\n",
      "\u001b[0m\n",
      "\u001b[34m#metrics {\"Metrics\": {\"validation_multiclass_cross_entropy_objective\": {\"count\": 1, \"max\": 1.2007305363681757, \"sum\": 1.2007305363681757, \"min\": 1.2007305363681757}}, \"EndTime\": 1579888108.758559, \"Dimensions\": {\"model\": 1, \"Host\": \"algo-1\", \"Operation\": \"training\", \"Algorithm\": \"Linear Learner\", \"epoch\": 3}, \"StartTime\": 1579888108.758537}\n",
      "\u001b[0m\n",
      "\u001b[34m#metrics {\"Metrics\": {\"validation_multiclass_cross_entropy_objective\": {\"count\": 1, \"max\": 1.1540739056908498, \"sum\": 1.1540739056908498, \"min\": 1.1540739056908498}}, \"EndTime\": 1579888108.758631, \"Dimensions\": {\"model\": 2, \"Host\": \"algo-1\", \"Operation\": \"training\", \"Algorithm\": \"Linear Learner\", \"epoch\": 3}, \"StartTime\": 1579888108.758611}\n",
      "\u001b[0m\n",
      "\u001b[34m#metrics {\"Metrics\": {\"validation_multiclass_cross_entropy_objective\": {\"count\": 1, \"max\": 0.8976262322437271, \"sum\": 0.8976262322437271, \"min\": 0.8976262322437271}}, \"EndTime\": 1579888108.758697, \"Dimensions\": {\"model\": 3, \"Host\": \"algo-1\", \"Operation\": \"training\", \"Algorithm\": \"Linear Learner\", \"epoch\": 3}, \"StartTime\": 1579888108.758679}\n",
      "\u001b[0m\n",
      "\u001b[34m#metrics {\"Metrics\": {\"validation_multiclass_cross_entropy_objective\": {\"count\": 1, \"max\": 0.9986426910928657, \"sum\": 0.9986426910928657, \"min\": 0.9986426910928657}}, \"EndTime\": 1579888108.758764, \"Dimensions\": {\"model\": 4, \"Host\": \"algo-1\", \"Operation\": \"training\", \"Algorithm\": \"Linear Learner\", \"epoch\": 3}, \"StartTime\": 1579888108.758746}\n",
      "\u001b[0m\n",
      "\u001b[34m#metrics {\"Metrics\": {\"validation_multiclass_cross_entropy_objective\": {\"count\": 1, \"max\": 0.9389280235402276, \"sum\": 0.9389280235402276, \"min\": 0.9389280235402276}}, \"EndTime\": 1579888108.758828, \"Dimensions\": {\"model\": 5, \"Host\": \"algo-1\", \"Operation\": \"training\", \"Algorithm\": \"Linear Learner\", \"epoch\": 3}, \"StartTime\": 1579888108.75881}\n",
      "\u001b[0m\n",
      "\u001b[34m#metrics {\"Metrics\": {\"validation_multiclass_cross_entropy_objective\": {\"count\": 1, \"max\": 0.8957202408507406, \"sum\": 0.8957202408507406, \"min\": 0.8957202408507406}}, \"EndTime\": 1579888108.75889, \"Dimensions\": {\"model\": 6, \"Host\": \"algo-1\", \"Operation\": \"training\", \"Algorithm\": \"Linear Learner\", \"epoch\": 3}, \"StartTime\": 1579888108.758872}\n",
      "\u001b[0m\n",
      "\u001b[34m#metrics {\"Metrics\": {\"validation_multiclass_cross_entropy_objective\": {\"count\": 1, \"max\": 0.9433754546347058, \"sum\": 0.9433754546347058, \"min\": 0.9433754546347058}}, \"EndTime\": 1579888108.758951, \"Dimensions\": {\"model\": 7, \"Host\": \"algo-1\", \"Operation\": \"training\", \"Algorithm\": \"Linear Learner\", \"epoch\": 3}, \"StartTime\": 1579888108.758934}\n",
      "\u001b[0m\n",
      "\u001b[34m#metrics {\"Metrics\": {\"validation_multiclass_cross_entropy_objective\": {\"count\": 1, \"max\": 0.9299148620524197, \"sum\": 0.9299148620524197, \"min\": 0.9299148620524197}}, \"EndTime\": 1579888108.759019, \"Dimensions\": {\"model\": 8, \"Host\": \"algo-1\", \"Operation\": \"training\", \"Algorithm\": \"Linear Learner\", \"epoch\": 3}, \"StartTime\": 1579888108.759002}\n",
      "\u001b[0m\n",
      "\u001b[34m#metrics {\"Metrics\": {\"validation_multiclass_cross_entropy_objective\": {\"count\": 1, \"max\": 2.7358370317441327, \"sum\": 2.7358370317441327, \"min\": 2.7358370317441327}}, \"EndTime\": 1579888108.759081, \"Dimensions\": {\"model\": 9, \"Host\": \"algo-1\", \"Operation\": \"training\", \"Algorithm\": \"Linear Learner\", \"epoch\": 3}, \"StartTime\": 1579888108.759063}\n",
      "\u001b[0m\n",
      "\u001b[34m#metrics {\"Metrics\": {\"validation_multiclass_cross_entropy_objective\": {\"count\": 1, \"max\": 0.931833751287346, \"sum\": 0.931833751287346, \"min\": 0.931833751287346}}, \"EndTime\": 1579888108.759144, \"Dimensions\": {\"model\": 10, \"Host\": \"algo-1\", \"Operation\": \"training\", \"Algorithm\": \"Linear Learner\", \"epoch\": 3}, \"StartTime\": 1579888108.759126}\n",
      "\u001b[0m\n",
      "\u001b[34m#metrics {\"Metrics\": {\"validation_multiclass_cross_entropy_objective\": {\"count\": 1, \"max\": 0.975627304869549, \"sum\": 0.975627304869549, \"min\": 0.975627304869549}}, \"EndTime\": 1579888108.759205, \"Dimensions\": {\"model\": 11, \"Host\": \"algo-1\", \"Operation\": \"training\", \"Algorithm\": \"Linear Learner\", \"epoch\": 3}, \"StartTime\": 1579888108.759188}\n",
      "\u001b[0m\n",
      "\u001b[34m#metrics {\"Metrics\": {\"validation_multiclass_cross_entropy_objective\": {\"count\": 1, \"max\": 0.9199102653168172, \"sum\": 0.9199102653168172, \"min\": 0.9199102653168172}}, \"EndTime\": 1579888108.759265, \"Dimensions\": {\"model\": 12, \"Host\": \"algo-1\", \"Operation\": \"training\", \"Algorithm\": \"Linear Learner\", \"epoch\": 3}, \"StartTime\": 1579888108.759248}\n",
      "\u001b[0m\n",
      "\u001b[34m#metrics {\"Metrics\": {\"validation_multiclass_cross_entropy_objective\": {\"count\": 1, \"max\": 1.1139334890718626, \"sum\": 1.1139334890718626, \"min\": 1.1139334890718626}}, \"EndTime\": 1579888108.759326, \"Dimensions\": {\"model\": 13, \"Host\": \"algo-1\", \"Operation\": \"training\", \"Algorithm\": \"Linear Learner\", \"epoch\": 3}, \"StartTime\": 1579888108.759308}\n",
      "\u001b[0m\n",
      "\u001b[34m#metrics {\"Metrics\": {\"validation_multiclass_cross_entropy_objective\": {\"count\": 1, \"max\": 2.9565853276360685, \"sum\": 2.9565853276360685, \"min\": 2.9565853276360685}}, \"EndTime\": 1579888108.759385, \"Dimensions\": {\"model\": 14, \"Host\": \"algo-1\", \"Operation\": \"training\", \"Algorithm\": \"Linear Learner\", \"epoch\": 3}, \"StartTime\": 1579888108.759369}\n",
      "\u001b[0m\n",
      "\u001b[34m#metrics {\"Metrics\": {\"validation_multiclass_cross_entropy_objective\": {\"count\": 1, \"max\": 0.9002264558713382, \"sum\": 0.9002264558713382, \"min\": 0.9002264558713382}}, \"EndTime\": 1579888108.759445, \"Dimensions\": {\"model\": 15, \"Host\": \"algo-1\", \"Operation\": \"training\", \"Algorithm\": \"Linear Learner\", \"epoch\": 3}, \"StartTime\": 1579888108.759429}\n",
      "\u001b[0m\n",
      "\u001b[34m#metrics {\"Metrics\": {\"validation_multiclass_cross_entropy_objective\": {\"count\": 1, \"max\": 0.8984844101094375, \"sum\": 0.8984844101094375, \"min\": 0.8984844101094375}}, \"EndTime\": 1579888108.759507, \"Dimensions\": {\"model\": 16, \"Host\": \"algo-1\", \"Operation\": \"training\", \"Algorithm\": \"Linear Learner\", \"epoch\": 3}, \"StartTime\": 1579888108.75949}\n",
      "\u001b[0m\n",
      "\u001b[34m#metrics {\"Metrics\": {\"validation_multiclass_cross_entropy_objective\": {\"count\": 1, \"max\": 0.900625147102041, \"sum\": 0.900625147102041, \"min\": 0.900625147102041}}, \"EndTime\": 1579888108.759562, \"Dimensions\": {\"model\": 17, \"Host\": \"algo-1\", \"Operation\": \"training\", \"Algorithm\": \"Linear Learner\", \"epoch\": 3}, \"StartTime\": 1579888108.759545}\n",
      "\u001b[0m\n",
      "\u001b[34m#metrics {\"Metrics\": {\"validation_multiclass_cross_entropy_objective\": {\"count\": 1, \"max\": 1.4827945958123543, \"sum\": 1.4827945958123543, \"min\": 1.4827945958123543}}, \"EndTime\": 1579888108.75962, \"Dimensions\": {\"model\": 18, \"Host\": \"algo-1\", \"Operation\": \"training\", \"Algorithm\": \"Linear Learner\", \"epoch\": 3}, \"StartTime\": 1579888108.7596}\n",
      "\u001b[0m\n",
      "\u001b[34m#metrics {\"Metrics\": {\"validation_multiclass_cross_entropy_objective\": {\"count\": 1, \"max\": 1.636718571201939, \"sum\": 1.636718571201939, \"min\": 1.636718571201939}}, \"EndTime\": 1579888108.759681, \"Dimensions\": {\"model\": 19, \"Host\": \"algo-1\", \"Operation\": \"training\", \"Algorithm\": \"Linear Learner\", \"epoch\": 3}, \"StartTime\": 1579888108.759665}\n",
      "\u001b[0m\n",
      "\u001b[34m#metrics {\"Metrics\": {\"validation_multiclass_cross_entropy_objective\": {\"count\": 1, \"max\": 1.4962934267981234, \"sum\": 1.4962934267981234, \"min\": 1.4962934267981234}}, \"EndTime\": 1579888108.759742, \"Dimensions\": {\"model\": 20, \"Host\": \"algo-1\", \"Operation\": \"training\", \"Algorithm\": \"Linear Learner\", \"epoch\": 3}, \"StartTime\": 1579888108.759725}\n",
      "\u001b[0m\n",
      "\u001b[34m#metrics {\"Metrics\": {\"validation_multiclass_cross_entropy_objective\": {\"count\": 1, \"max\": 1.4404770120958514, \"sum\": 1.4404770120958514, \"min\": 1.4404770120958514}}, \"EndTime\": 1579888108.75979, \"Dimensions\": {\"model\": 21, \"Host\": \"algo-1\", \"Operation\": \"training\", \"Algorithm\": \"Linear Learner\", \"epoch\": 3}, \"StartTime\": 1579888108.759775}\n",
      "\u001b[0m\n",
      "\u001b[34m#metrics {\"Metrics\": {\"validation_multiclass_cross_entropy_objective\": {\"count\": 1, \"max\": 0.9570106800958098, \"sum\": 0.9570106800958098, \"min\": 0.9570106800958098}}, \"EndTime\": 1579888108.759846, \"Dimensions\": {\"model\": 22, \"Host\": \"algo-1\", \"Operation\": \"training\", \"Algorithm\": \"Linear Learner\", \"epoch\": 3}, \"StartTime\": 1579888108.759829}\n",
      "\u001b[0m\n",
      "\u001b[34m#metrics {\"Metrics\": {\"validation_multiclass_cross_entropy_objective\": {\"count\": 1, \"max\": 0.9101477611556986, \"sum\": 0.9101477611556986, \"min\": 0.9101477611556986}}, \"EndTime\": 1579888108.759907, \"Dimensions\": {\"model\": 23, \"Host\": \"algo-1\", \"Operation\": \"training\", \"Algorithm\": \"Linear Learner\", \"epoch\": 3}, \"StartTime\": 1579888108.75989}\n",
      "\u001b[0m\n",
      "\u001b[34m#metrics {\"Metrics\": {\"validation_multiclass_cross_entropy_objective\": {\"count\": 1, \"max\": 1.2600034345482065, \"sum\": 1.2600034345482065, \"min\": 1.2600034345482065}}, \"EndTime\": 1579888108.759969, \"Dimensions\": {\"model\": 24, \"Host\": \"algo-1\", \"Operation\": \"training\", \"Algorithm\": \"Linear Learner\", \"epoch\": 3}, \"StartTime\": 1579888108.759952}\n",
      "\u001b[0m\n",
      "\u001b[34m#metrics {\"Metrics\": {\"validation_multiclass_cross_entropy_objective\": {\"count\": 1, \"max\": 0.9039077413383717, \"sum\": 0.9039077413383717, \"min\": 0.9039077413383717}}, \"EndTime\": 1579888108.760016, \"Dimensions\": {\"model\": 25, \"Host\": \"algo-1\", \"Operation\": \"training\", \"Algorithm\": \"Linear Learner\", \"epoch\": 3}, \"StartTime\": 1579888108.759999}\n",
      "\u001b[0m\n",
      "\u001b[34m#metrics {\"Metrics\": {\"validation_multiclass_cross_entropy_objective\": {\"count\": 1, \"max\": 1.1453332161935128, \"sum\": 1.1453332161935128, \"min\": 1.1453332161935128}}, \"EndTime\": 1579888108.760065, \"Dimensions\": {\"model\": 26, \"Host\": \"algo-1\", \"Operation\": \"training\", \"Algorithm\": \"Linear Learner\", \"epoch\": 3}, \"StartTime\": 1579888108.760049}\n",
      "\u001b[0m\n",
      "\u001b[34m#metrics {\"Metrics\": {\"validation_multiclass_cross_entropy_objective\": {\"count\": 1, \"max\": 0.905855693385382, \"sum\": 0.905855693385382, \"min\": 0.905855693385382}}, \"EndTime\": 1579888108.760124, \"Dimensions\": {\"model\": 27, \"Host\": \"algo-1\", \"Operation\": \"training\", \"Algorithm\": \"Linear Learner\", \"epoch\": 3}, \"StartTime\": 1579888108.760107}\n",
      "\u001b[0m\n",
      "\u001b[34m#metrics {\"Metrics\": {\"validation_multiclass_cross_entropy_objective\": {\"count\": 1, \"max\": 0.9878623261432673, \"sum\": 0.9878623261432673, \"min\": 0.9878623261432673}}, \"EndTime\": 1579888108.760176, \"Dimensions\": {\"model\": 28, \"Host\": \"algo-1\", \"Operation\": \"training\", \"Algorithm\": \"Linear Learner\", \"epoch\": 3}, \"StartTime\": 1579888108.76016}\n",
      "\u001b[0m\n",
      "\u001b[34m#metrics {\"Metrics\": {\"validation_multiclass_cross_entropy_objective\": {\"count\": 1, \"max\": 0.9703347969309151, \"sum\": 0.9703347969309151, \"min\": 0.9703347969309151}}, \"EndTime\": 1579888108.760221, \"Dimensions\": {\"model\": 29, \"Host\": \"algo-1\", \"Operation\": \"training\", \"Algorithm\": \"Linear Learner\", \"epoch\": 3}, \"StartTime\": 1579888108.760206}\n",
      "\u001b[0m\n",
      "\u001b[34m#metrics {\"Metrics\": {\"validation_multiclass_cross_entropy_objective\": {\"count\": 1, \"max\": 0.9541760684647033, \"sum\": 0.9541760684647033, \"min\": 0.9541760684647033}}, \"EndTime\": 1579888108.760273, \"Dimensions\": {\"model\": 30, \"Host\": \"algo-1\", \"Operation\": \"training\", \"Algorithm\": \"Linear Learner\", \"epoch\": 3}, \"StartTime\": 1579888108.760257}\n",
      "\u001b[0m\n",
      "\u001b[34m#metrics {\"Metrics\": {\"validation_multiclass_cross_entropy_objective\": {\"count\": 1, \"max\": 0.9131405521804261, \"sum\": 0.9131405521804261, \"min\": 0.9131405521804261}}, \"EndTime\": 1579888108.760333, \"Dimensions\": {\"model\": 31, \"Host\": \"algo-1\", \"Operation\": \"training\", \"Algorithm\": \"Linear Learner\", \"epoch\": 3}, \"StartTime\": 1579888108.760316}\n",
      "\u001b[0m\n",
      "\u001b[34m[01/24/2020 17:48:28 INFO 140276589545280] #quality_metric: host=algo-1, epoch=3, validation multiclass_cross_entropy_objective <loss>=0.905107947704\u001b[0m\n",
      "\u001b[34m[01/24/2020 17:48:28 INFO 140276589545280] #early_stopping_criteria_metric: host=algo-1, epoch=3, criteria=multiclass_cross_entropy_objective, value=0.895720240851\u001b[0m\n",
      "\u001b[34m[01/24/2020 17:48:28 INFO 140276589545280] Epoch 3: Loss improved. Updating best model\u001b[0m\n",
      "\u001b[34m[01/24/2020 17:48:28 INFO 140276589545280] #progress_metric: host=algo-1, completed 26 % of epochs\u001b[0m\n",
      "\u001b[34m#metrics {\"Metrics\": {\"Max Batches Seen Between Resets\": {\"count\": 1, \"max\": 61, \"sum\": 61.0, \"min\": 61}, \"Number of Batches Since Last Reset\": {\"count\": 1, \"max\": 61, \"sum\": 61.0, \"min\": 61}, \"Number of Records Since Last Reset\": {\"count\": 1, \"max\": 60079, \"sum\": 60079.0, \"min\": 60079}, \"Total Batches Seen\": {\"count\": 1, \"max\": 256, \"sum\": 256.0, \"min\": 256}, \"Total Records Seen\": {\"count\": 1, \"max\": 252316, \"sum\": 252316.0, \"min\": 252316}, \"Max Records Seen Between Resets\": {\"count\": 1, \"max\": 60079, \"sum\": 60079.0, \"min\": 60079}, \"Reset Count\": {\"count\": 1, \"max\": 6, \"sum\": 6.0, \"min\": 6}}, \"EndTime\": 1579888108.761886, \"Dimensions\": {\"Host\": \"algo-1\", \"Meta\": \"training_data_iter\", \"Operation\": \"training\", \"Algorithm\": \"Linear Learner\", \"epoch\": 3}, \"StartTime\": 1579888105.980932}\n",
      "\u001b[0m\n",
      "\u001b[34m[01/24/2020 17:48:28 INFO 140276589545280] #throughput_metric: host=algo-1, train throughput=21602.6807991 records/second\u001b[0m\n",
      "\u001b[34m[2020-01-24 17:48:31.352] [tensorio] [info] epoch_stats={\"data_pipeline\": \"/opt/ml/input/data/train\", \"epoch\": 11, \"duration\": 2589, \"num_examples\": 61, \"num_bytes\": 24752548}\u001b[0m\n",
      "\u001b[34m#metrics {\"Metrics\": {\"train_multiclass_cross_entropy_objective\": {\"count\": 1, \"max\": 0.8977575612386067, \"sum\": 0.8977575612386067, \"min\": 0.8977575612386067}}, \"EndTime\": 1579888111.352195, \"Dimensions\": {\"model\": 0, \"Host\": \"algo-1\", \"Operation\": \"training\", \"Algorithm\": \"Linear Learner\", \"epoch\": 4}, \"StartTime\": 1579888111.352126}\n",
      "\u001b[0m\n",
      "\u001b[34m#metrics {\"Metrics\": {\"train_multiclass_cross_entropy_objective\": {\"count\": 1, \"max\": 1.0540142567952473, \"sum\": 1.0540142567952473, \"min\": 1.0540142567952473}}, \"EndTime\": 1579888111.352264, \"Dimensions\": {\"model\": 1, \"Host\": \"algo-1\", \"Operation\": \"training\", \"Algorithm\": \"Linear Learner\", \"epoch\": 4}, \"StartTime\": 1579888111.352251}\n",
      "\u001b[0m\n",
      "\u001b[34m#metrics {\"Metrics\": {\"train_multiclass_cross_entropy_objective\": {\"count\": 1, \"max\": 1.220074383544922, \"sum\": 1.220074383544922, \"min\": 1.220074383544922}}, \"EndTime\": 1579888111.352315, \"Dimensions\": {\"model\": 2, \"Host\": \"algo-1\", \"Operation\": \"training\", \"Algorithm\": \"Linear Learner\", \"epoch\": 4}, \"StartTime\": 1579888111.3523}\n",
      "\u001b[0m\n",
      "\u001b[34m#metrics {\"Metrics\": {\"train_multiclass_cross_entropy_objective\": {\"count\": 1, \"max\": 0.8940900390625, \"sum\": 0.8940900390625, \"min\": 0.8940900390625}}, \"EndTime\": 1579888111.352373, \"Dimensions\": {\"model\": 3, \"Host\": \"algo-1\", \"Operation\": \"training\", \"Algorithm\": \"Linear Learner\", \"epoch\": 4}, \"StartTime\": 1579888111.352357}\n",
      "\u001b[0m\n",
      "\u001b[34m#metrics {\"Metrics\": {\"train_multiclass_cross_entropy_objective\": {\"count\": 1, \"max\": 1.0268894134521485, \"sum\": 1.0268894134521485, \"min\": 1.0268894134521485}}, \"EndTime\": 1579888111.352488, \"Dimensions\": {\"model\": 4, \"Host\": \"algo-1\", \"Operation\": \"training\", \"Algorithm\": \"Linear Learner\", \"epoch\": 4}, \"StartTime\": 1579888111.352468}\n",
      "\u001b[0m\n",
      "\u001b[34m#metrics {\"Metrics\": {\"train_multiclass_cross_entropy_objective\": {\"count\": 1, \"max\": 0.9292251597086588, \"sum\": 0.9292251597086588, \"min\": 0.9292251597086588}}, \"EndTime\": 1579888111.352572, \"Dimensions\": {\"model\": 5, \"Host\": \"algo-1\", \"Operation\": \"training\", \"Algorithm\": \"Linear Learner\", \"epoch\": 4}, \"StartTime\": 1579888111.352551}\n",
      "\u001b[0m\n",
      "\u001b[34m#metrics {\"Metrics\": {\"train_multiclass_cross_entropy_objective\": {\"count\": 1, \"max\": 0.8972577728271485, \"sum\": 0.8972577728271485, \"min\": 0.8972577728271485}}, \"EndTime\": 1579888111.352636, \"Dimensions\": {\"model\": 6, \"Host\": \"algo-1\", \"Operation\": \"training\", \"Algorithm\": \"Linear Learner\", \"epoch\": 4}, \"StartTime\": 1579888111.352618}\n",
      "\u001b[0m\n",
      "\u001b[34m#metrics {\"Metrics\": {\"train_multiclass_cross_entropy_objective\": {\"count\": 1, \"max\": 0.9325777720133464, \"sum\": 0.9325777720133464, \"min\": 0.9325777720133464}}, \"EndTime\": 1579888111.352698, \"Dimensions\": {\"model\": 7, \"Host\": \"algo-1\", \"Operation\": \"training\", \"Algorithm\": \"Linear Learner\", \"epoch\": 4}, \"StartTime\": 1579888111.35268}\n",
      "\u001b[0m\n",
      "\u001b[34m#metrics {\"Metrics\": {\"train_multiclass_cross_entropy_objective\": {\"count\": 1, \"max\": 0.9290279469807943, \"sum\": 0.9290279469807943, \"min\": 0.9290279469807943}}, \"EndTime\": 1579888111.352762, \"Dimensions\": {\"model\": 8, \"Host\": \"algo-1\", \"Operation\": \"training\", \"Algorithm\": \"Linear Learner\", \"epoch\": 4}, \"StartTime\": 1579888111.352744}\n",
      "\u001b[0m\n",
      "\u001b[34m#metrics {\"Metrics\": {\"train_multiclass_cross_entropy_objective\": {\"count\": 1, \"max\": 2.9922413655598956, \"sum\": 2.9922413655598956, \"min\": 2.9922413655598956}}, \"EndTime\": 1579888111.35281, \"Dimensions\": {\"model\": 9, \"Host\": \"algo-1\", \"Operation\": \"training\", \"Algorithm\": \"Linear Learner\", \"epoch\": 4}, \"StartTime\": 1579888111.352799}\n",
      "\u001b[0m\n",
      "\u001b[34m#metrics {\"Metrics\": {\"train_multiclass_cross_entropy_objective\": {\"count\": 1, \"max\": 0.9355743255615234, \"sum\": 0.9355743255615234, \"min\": 0.9355743255615234}}, \"EndTime\": 1579888111.352866, \"Dimensions\": {\"model\": 10, \"Host\": \"algo-1\", \"Operation\": \"training\", \"Algorithm\": \"Linear Learner\", \"epoch\": 4}, \"StartTime\": 1579888111.352849}\n",
      "\u001b[0m\n",
      "\u001b[34m#metrics {\"Metrics\": {\"train_multiclass_cross_entropy_objective\": {\"count\": 1, \"max\": 0.9598941864013671, \"sum\": 0.9598941864013671, \"min\": 0.9598941864013671}}, \"EndTime\": 1579888111.352927, \"Dimensions\": {\"model\": 11, \"Host\": \"algo-1\", \"Operation\": \"training\", \"Algorithm\": \"Linear Learner\", \"epoch\": 4}, \"StartTime\": 1579888111.35291}\n",
      "\u001b[0m\n",
      "\u001b[34m#metrics {\"Metrics\": {\"train_multiclass_cross_entropy_objective\": {\"count\": 1, \"max\": 0.9082936197916667, \"sum\": 0.9082936197916667, \"min\": 0.9082936197916667}}, \"EndTime\": 1579888111.352989, \"Dimensions\": {\"model\": 12, \"Host\": \"algo-1\", \"Operation\": \"training\", \"Algorithm\": \"Linear Learner\", \"epoch\": 4}, \"StartTime\": 1579888111.352972}\n",
      "\u001b[0m\n",
      "\u001b[34m#metrics {\"Metrics\": {\"train_multiclass_cross_entropy_objective\": {\"count\": 1, \"max\": 1.0777692220052084, \"sum\": 1.0777692220052084, \"min\": 1.0777692220052084}}, \"EndTime\": 1579888111.353049, \"Dimensions\": {\"model\": 13, \"Host\": \"algo-1\", \"Operation\": \"training\", \"Algorithm\": \"Linear Learner\", \"epoch\": 4}, \"StartTime\": 1579888111.353033}\n",
      "\u001b[0m\n",
      "\u001b[34m#metrics {\"Metrics\": {\"train_multiclass_cross_entropy_objective\": {\"count\": 1, \"max\": 2.406058215332031, \"sum\": 2.406058215332031, \"min\": 2.406058215332031}}, \"EndTime\": 1579888111.353107, \"Dimensions\": {\"model\": 14, \"Host\": \"algo-1\", \"Operation\": \"training\", \"Algorithm\": \"Linear Learner\", \"epoch\": 4}, \"StartTime\": 1579888111.35309}\n",
      "\u001b[0m\n",
      "\u001b[34m#metrics {\"Metrics\": {\"train_multiclass_cross_entropy_objective\": {\"count\": 1, \"max\": 0.8927818868001302, \"sum\": 0.8927818868001302, \"min\": 0.8927818868001302}}, \"EndTime\": 1579888111.353166, \"Dimensions\": {\"model\": 15, \"Host\": \"algo-1\", \"Operation\": \"training\", \"Algorithm\": \"Linear Learner\", \"epoch\": 4}, \"StartTime\": 1579888111.35315}\n",
      "\u001b[0m\n",
      "\u001b[34m#metrics {\"Metrics\": {\"train_multiclass_cross_entropy_objective\": {\"count\": 1, \"max\": 0.8921749308268229, \"sum\": 0.8921749308268229, \"min\": 0.8921749308268229}}, \"EndTime\": 1579888111.353228, \"Dimensions\": {\"model\": 16, \"Host\": \"algo-1\", \"Operation\": \"training\", \"Algorithm\": \"Linear Learner\", \"epoch\": 4}, \"StartTime\": 1579888111.353211}\n",
      "\u001b[0m\n",
      "\u001b[34m#metrics {\"Metrics\": {\"train_multiclass_cross_entropy_objective\": {\"count\": 1, \"max\": 0.8937582397460937, \"sum\": 0.8937582397460937, \"min\": 0.8937582397460937}}, \"EndTime\": 1579888111.353279, \"Dimensions\": {\"model\": 17, \"Host\": \"algo-1\", \"Operation\": \"training\", \"Algorithm\": \"Linear Learner\", \"epoch\": 4}, \"StartTime\": 1579888111.353268}\n",
      "\u001b[0m\n",
      "\u001b[34m#metrics {\"Metrics\": {\"train_multiclass_cross_entropy_objective\": {\"count\": 1, \"max\": 1.7594539591471354, \"sum\": 1.7594539591471354, \"min\": 1.7594539591471354}}, \"EndTime\": 1579888111.353339, \"Dimensions\": {\"model\": 18, \"Host\": \"algo-1\", \"Operation\": \"training\", \"Algorithm\": \"Linear Learner\", \"epoch\": 4}, \"StartTime\": 1579888111.353322}\n",
      "\u001b[0m\n",
      "\u001b[34m#metrics {\"Metrics\": {\"train_multiclass_cross_entropy_objective\": {\"count\": 1, \"max\": 1.5040996795654298, \"sum\": 1.5040996795654298, \"min\": 1.5040996795654298}}, \"EndTime\": 1579888111.353398, \"Dimensions\": {\"model\": 19, \"Host\": \"algo-1\", \"Operation\": \"training\", \"Algorithm\": \"Linear Learner\", \"epoch\": 4}, \"StartTime\": 1579888111.353381}\n",
      "\u001b[0m\n",
      "\u001b[34m#metrics {\"Metrics\": {\"train_multiclass_cross_entropy_objective\": {\"count\": 1, \"max\": 1.9064004302978517, \"sum\": 1.9064004302978517, \"min\": 1.9064004302978517}}, \"EndTime\": 1579888111.353459, \"Dimensions\": {\"model\": 20, \"Host\": \"algo-1\", \"Operation\": \"training\", \"Algorithm\": \"Linear Learner\", \"epoch\": 4}, \"StartTime\": 1579888111.353442}\n",
      "\u001b[0m\n",
      "\u001b[34m#metrics {\"Metrics\": {\"train_multiclass_cross_entropy_objective\": {\"count\": 1, \"max\": 2.1281579833984376, \"sum\": 2.1281579833984376, \"min\": 2.1281579833984376}}, \"EndTime\": 1579888111.353518, \"Dimensions\": {\"model\": 21, \"Host\": \"algo-1\", \"Operation\": \"training\", \"Algorithm\": \"Linear Learner\", \"epoch\": 4}, \"StartTime\": 1579888111.353502}\n",
      "\u001b[0m\n",
      "\u001b[34m#metrics {\"Metrics\": {\"train_multiclass_cross_entropy_objective\": {\"count\": 1, \"max\": 0.9316430653889974, \"sum\": 0.9316430653889974, \"min\": 0.9316430653889974}}, \"EndTime\": 1579888111.353578, \"Dimensions\": {\"model\": 22, \"Host\": \"algo-1\", \"Operation\": \"training\", \"Algorithm\": \"Linear Learner\", \"epoch\": 4}, \"StartTime\": 1579888111.353562}\n",
      "\u001b[0m\n",
      "\u001b[34m#metrics {\"Metrics\": {\"train_multiclass_cross_entropy_objective\": {\"count\": 1, \"max\": 0.9043907236735026, \"sum\": 0.9043907236735026, \"min\": 0.9043907236735026}}, \"EndTime\": 1579888111.35364, \"Dimensions\": {\"model\": 23, \"Host\": \"algo-1\", \"Operation\": \"training\", \"Algorithm\": \"Linear Learner\", \"epoch\": 4}, \"StartTime\": 1579888111.353622}\n",
      "\u001b[0m\n",
      "\u001b[34m#metrics {\"Metrics\": {\"train_multiclass_cross_entropy_objective\": {\"count\": 1, \"max\": 1.5452479136149089, \"sum\": 1.5452479136149089, \"min\": 1.5452479136149089}}, \"EndTime\": 1579888111.353702, \"Dimensions\": {\"model\": 24, \"Host\": \"algo-1\", \"Operation\": \"training\", \"Algorithm\": \"Linear Learner\", \"epoch\": 4}, \"StartTime\": 1579888111.353684}\n",
      "\u001b[0m\n",
      "\u001b[34m#metrics {\"Metrics\": {\"train_multiclass_cross_entropy_objective\": {\"count\": 1, \"max\": 0.8972686024983724, \"sum\": 0.8972686024983724, \"min\": 0.8972686024983724}}, \"EndTime\": 1579888111.353764, \"Dimensions\": {\"model\": 25, \"Host\": \"algo-1\", \"Operation\": \"training\", \"Algorithm\": \"Linear Learner\", \"epoch\": 4}, \"StartTime\": 1579888111.353747}\n",
      "\u001b[0m\n",
      "\u001b[34m#metrics {\"Metrics\": {\"train_multiclass_cross_entropy_objective\": {\"count\": 1, \"max\": 1.1559841278076173, \"sum\": 1.1559841278076173, \"min\": 1.1559841278076173}}, \"EndTime\": 1579888111.353827, \"Dimensions\": {\"model\": 26, \"Host\": \"algo-1\", \"Operation\": \"training\", \"Algorithm\": \"Linear Learner\", \"epoch\": 4}, \"StartTime\": 1579888111.35381}\n",
      "\u001b[0m\n",
      "\u001b[34m#metrics {\"Metrics\": {\"train_multiclass_cross_entropy_objective\": {\"count\": 1, \"max\": 0.8995642537434896, \"sum\": 0.8995642537434896, \"min\": 0.8995642537434896}}, \"EndTime\": 1579888111.353888, \"Dimensions\": {\"model\": 27, \"Host\": \"algo-1\", \"Operation\": \"training\", \"Algorithm\": \"Linear Learner\", \"epoch\": 4}, \"StartTime\": 1579888111.353872}\n",
      "\u001b[0m\n",
      "\u001b[34m#metrics {\"Metrics\": {\"train_multiclass_cross_entropy_objective\": {\"count\": 1, \"max\": 0.9827730967203776, \"sum\": 0.9827730967203776, \"min\": 0.9827730967203776}}, \"EndTime\": 1579888111.353926, \"Dimensions\": {\"model\": 28, \"Host\": \"algo-1\", \"Operation\": \"training\", \"Algorithm\": \"Linear Learner\", \"epoch\": 4}, \"StartTime\": 1579888111.353916}\n",
      "\u001b[0m\n",
      "\u001b[34m#metrics {\"Metrics\": {\"train_multiclass_cross_entropy_objective\": {\"count\": 1, \"max\": 0.997791904703776, \"sum\": 0.997791904703776, \"min\": 0.997791904703776}}, \"EndTime\": 1579888111.35397, \"Dimensions\": {\"model\": 29, \"Host\": \"algo-1\", \"Operation\": \"training\", \"Algorithm\": \"Linear Learner\", \"epoch\": 4}, \"StartTime\": 1579888111.353955}\n",
      "\u001b[0m\n",
      "\u001b[34m#metrics {\"Metrics\": {\"train_multiclass_cross_entropy_objective\": {\"count\": 1, \"max\": 0.9596819763183594, \"sum\": 0.9596819763183594, \"min\": 0.9596819763183594}}, \"EndTime\": 1579888111.354024, \"Dimensions\": {\"model\": 30, \"Host\": \"algo-1\", \"Operation\": \"training\", \"Algorithm\": \"Linear Learner\", \"epoch\": 4}, \"StartTime\": 1579888111.354013}\n",
      "\u001b[0m\n",
      "\u001b[34m#metrics {\"Metrics\": {\"train_multiclass_cross_entropy_objective\": {\"count\": 1, \"max\": 0.9036598419189453, \"sum\": 0.9036598419189453, \"min\": 0.9036598419189453}}, \"EndTime\": 1579888111.354064, \"Dimensions\": {\"model\": 31, \"Host\": \"algo-1\", \"Operation\": \"training\", \"Algorithm\": \"Linear Learner\", \"epoch\": 4}, \"StartTime\": 1579888111.354051}\n",
      "\u001b[0m\n",
      "\u001b[34m[01/24/2020 17:48:31 INFO 140276589545280] #quality_metric: host=algo-1, epoch=4, train multiclass_cross_entropy_objective <loss>=0.897757561239\u001b[0m\n",
      "\u001b[34m[2020-01-24 17:48:31.563] [tensorio] [info] epoch_stats={\"data_pipeline\": \"/opt/ml/input/data/validation\", \"epoch\": 14, \"duration\": 191, \"num_examples\": 8, \"num_bytes\": 3094120}\u001b[0m\n",
      "\u001b[34m#metrics {\"Metrics\": {\"validation_multiclass_cross_entropy_objective\": {\"count\": 1, \"max\": 0.9036006516051515, \"sum\": 0.9036006516051515, \"min\": 0.9036006516051515}}, \"EndTime\": 1579888111.57054, \"Dimensions\": {\"model\": 0, \"Host\": \"algo-1\", \"Operation\": \"training\", \"Algorithm\": \"Linear Learner\", \"epoch\": 4}, \"StartTime\": 1579888111.570474}\n",
      "\u001b[0m\n",
      "\u001b[34m#metrics {\"Metrics\": {\"validation_multiclass_cross_entropy_objective\": {\"count\": 1, \"max\": 1.002187854345248, \"sum\": 1.002187854345248, \"min\": 1.002187854345248}}, \"EndTime\": 1579888111.570624, \"Dimensions\": {\"model\": 1, \"Host\": \"algo-1\", \"Operation\": \"training\", \"Algorithm\": \"Linear Learner\", \"epoch\": 4}, \"StartTime\": 1579888111.570609}\n",
      "\u001b[0m\n",
      "\u001b[34m#metrics {\"Metrics\": {\"validation_multiclass_cross_entropy_objective\": {\"count\": 1, \"max\": 1.2395073820843043, \"sum\": 1.2395073820843043, \"min\": 1.2395073820843043}}, \"EndTime\": 1579888111.570697, \"Dimensions\": {\"model\": 2, \"Host\": \"algo-1\", \"Operation\": \"training\", \"Algorithm\": \"Linear Learner\", \"epoch\": 4}, \"StartTime\": 1579888111.570676}\n",
      "\u001b[0m\n",
      "\u001b[34m#metrics {\"Metrics\": {\"validation_multiclass_cross_entropy_objective\": {\"count\": 1, \"max\": 0.8970855956706163, \"sum\": 0.8970855956706163, \"min\": 0.8970855956706163}}, \"EndTime\": 1579888111.570778, \"Dimensions\": {\"model\": 3, \"Host\": \"algo-1\", \"Operation\": \"training\", \"Algorithm\": \"Linear Learner\", \"epoch\": 4}, \"StartTime\": 1579888111.570758}\n",
      "\u001b[0m\n",
      "\u001b[34m#metrics {\"Metrics\": {\"validation_multiclass_cross_entropy_objective\": {\"count\": 1, \"max\": 1.0807254755703333, \"sum\": 1.0807254755703333, \"min\": 1.0807254755703333}}, \"EndTime\": 1579888111.57085, \"Dimensions\": {\"model\": 4, \"Host\": \"algo-1\", \"Operation\": \"training\", \"Algorithm\": \"Linear Learner\", \"epoch\": 4}, \"StartTime\": 1579888111.570831}\n",
      "\u001b[0m\n",
      "\u001b[34m#metrics {\"Metrics\": {\"validation_multiclass_cross_entropy_objective\": {\"count\": 1, \"max\": 0.9321231440761276, \"sum\": 0.9321231440761276, \"min\": 0.9321231440761276}}, \"EndTime\": 1579888111.570924, \"Dimensions\": {\"model\": 5, \"Host\": \"algo-1\", \"Operation\": \"training\", \"Algorithm\": \"Linear Learner\", \"epoch\": 4}, \"StartTime\": 1579888111.570905}\n",
      "\u001b[0m\n",
      "\u001b[34m#metrics {\"Metrics\": {\"validation_multiclass_cross_entropy_objective\": {\"count\": 1, \"max\": 0.894122964627892, \"sum\": 0.894122964627892, \"min\": 0.894122964627892}}, \"EndTime\": 1579888111.570991, \"Dimensions\": {\"model\": 6, \"Host\": \"algo-1\", \"Operation\": \"training\", \"Algorithm\": \"Linear Learner\", \"epoch\": 4}, \"StartTime\": 1579888111.570973}\n",
      "\u001b[0m\n",
      "\u001b[34m#metrics {\"Metrics\": {\"validation_multiclass_cross_entropy_objective\": {\"count\": 1, \"max\": 0.9362764686147637, \"sum\": 0.9362764686147637, \"min\": 0.9362764686147637}}, \"EndTime\": 1579888111.571059, \"Dimensions\": {\"model\": 7, \"Host\": \"algo-1\", \"Operation\": \"training\", \"Algorithm\": \"Linear Learner\", \"epoch\": 4}, \"StartTime\": 1579888111.57104}\n",
      "\u001b[0m\n",
      "\u001b[34m#metrics {\"Metrics\": {\"validation_multiclass_cross_entropy_objective\": {\"count\": 1, \"max\": 0.9276808452987163, \"sum\": 0.9276808452987163, \"min\": 0.9276808452987163}}, \"EndTime\": 1579888111.571134, \"Dimensions\": {\"model\": 8, \"Host\": \"algo-1\", \"Operation\": \"training\", \"Algorithm\": \"Linear Learner\", \"epoch\": 4}, \"StartTime\": 1579888111.571114}\n",
      "\u001b[0m\n",
      "\u001b[34m#metrics {\"Metrics\": {\"validation_multiclass_cross_entropy_objective\": {\"count\": 1, \"max\": 3.0153065606535034, \"sum\": 3.0153065606535034, \"min\": 3.0153065606535034}}, \"EndTime\": 1579888111.571201, \"Dimensions\": {\"model\": 9, \"Host\": \"algo-1\", \"Operation\": \"training\", \"Algorithm\": \"Linear Learner\", \"epoch\": 4}, \"StartTime\": 1579888111.571182}\n",
      "\u001b[0m\n",
      "\u001b[34m#metrics {\"Metrics\": {\"validation_multiclass_cross_entropy_objective\": {\"count\": 1, \"max\": 0.929063571975647, \"sum\": 0.929063571975647, \"min\": 0.929063571975647}}, \"EndTime\": 1579888111.571266, \"Dimensions\": {\"model\": 10, \"Host\": \"algo-1\", \"Operation\": \"training\", \"Algorithm\": \"Linear Learner\", \"epoch\": 4}, \"StartTime\": 1579888111.571248}\n",
      "\u001b[0m\n",
      "\u001b[34m#metrics {\"Metrics\": {\"validation_multiclass_cross_entropy_objective\": {\"count\": 1, \"max\": 0.9724038155831287, \"sum\": 0.9724038155831287, \"min\": 0.9724038155831287}}, \"EndTime\": 1579888111.571329, \"Dimensions\": {\"model\": 11, \"Host\": \"algo-1\", \"Operation\": \"training\", \"Algorithm\": \"Linear Learner\", \"epoch\": 4}, \"StartTime\": 1579888111.57131}\n",
      "\u001b[0m\n",
      "\u001b[34m#metrics {\"Metrics\": {\"validation_multiclass_cross_entropy_objective\": {\"count\": 1, \"max\": 0.9190185709418692, \"sum\": 0.9190185709418692, \"min\": 0.9190185709418692}}, \"EndTime\": 1579888111.571391, \"Dimensions\": {\"model\": 12, \"Host\": \"algo-1\", \"Operation\": \"training\", \"Algorithm\": \"Linear Learner\", \"epoch\": 4}, \"StartTime\": 1579888111.571373}\n",
      "\u001b[0m\n",
      "\u001b[34m#metrics {\"Metrics\": {\"validation_multiclass_cross_entropy_objective\": {\"count\": 1, \"max\": 1.0205315682605485, \"sum\": 1.0205315682605485, \"min\": 1.0205315682605485}}, \"EndTime\": 1579888111.571452, \"Dimensions\": {\"model\": 13, \"Host\": \"algo-1\", \"Operation\": \"training\", \"Algorithm\": \"Linear Learner\", \"epoch\": 4}, \"StartTime\": 1579888111.571441}\n",
      "\u001b[0m\n",
      "\u001b[34m#metrics {\"Metrics\": {\"validation_multiclass_cross_entropy_objective\": {\"count\": 1, \"max\": 1.7099697229865387, \"sum\": 1.7099697229865387, \"min\": 1.7099697229865387}}, \"EndTime\": 1579888111.571511, \"Dimensions\": {\"model\": 14, \"Host\": \"algo-1\", \"Operation\": \"training\", \"Algorithm\": \"Linear Learner\", \"epoch\": 4}, \"StartTime\": 1579888111.571493}\n",
      "\u001b[0m\n",
      "\u001b[34m#metrics {\"Metrics\": {\"validation_multiclass_cross_entropy_objective\": {\"count\": 1, \"max\": 0.8983384946373585, \"sum\": 0.8983384946373585, \"min\": 0.8983384946373585}}, \"EndTime\": 1579888111.571574, \"Dimensions\": {\"model\": 15, \"Host\": \"algo-1\", \"Operation\": \"training\", \"Algorithm\": \"Linear Learner\", \"epoch\": 4}, \"StartTime\": 1579888111.571556}\n",
      "\u001b[0m\n",
      "\u001b[34m#metrics {\"Metrics\": {\"validation_multiclass_cross_entropy_objective\": {\"count\": 1, \"max\": 0.8967130577199152, \"sum\": 0.8967130577199152, \"min\": 0.8967130577199152}}, \"EndTime\": 1579888111.571636, \"Dimensions\": {\"model\": 16, \"Host\": \"algo-1\", \"Operation\": \"training\", \"Algorithm\": \"Linear Learner\", \"epoch\": 4}, \"StartTime\": 1579888111.571618}\n",
      "\u001b[0m\n",
      "\u001b[34m#metrics {\"Metrics\": {\"validation_multiclass_cross_entropy_objective\": {\"count\": 1, \"max\": 0.8989142000119632, \"sum\": 0.8989142000119632, \"min\": 0.8989142000119632}}, \"EndTime\": 1579888111.571699, \"Dimensions\": {\"model\": 17, \"Host\": \"algo-1\", \"Operation\": \"training\", \"Algorithm\": \"Linear Learner\", \"epoch\": 4}, \"StartTime\": 1579888111.571682}\n",
      "\u001b[0m\n",
      "\u001b[34m#metrics {\"Metrics\": {\"validation_multiclass_cross_entropy_objective\": {\"count\": 1, \"max\": 1.8795434456531916, \"sum\": 1.8795434456531916, \"min\": 1.8795434456531916}}, \"EndTime\": 1579888111.571749, \"Dimensions\": {\"model\": 18, \"Host\": \"algo-1\", \"Operation\": \"training\", \"Algorithm\": \"Linear Learner\", \"epoch\": 4}, \"StartTime\": 1579888111.571734}\n",
      "\u001b[0m\n",
      "\u001b[34m#metrics {\"Metrics\": {\"validation_multiclass_cross_entropy_objective\": {\"count\": 1, \"max\": 1.2955568031686917, \"sum\": 1.2955568031686917, \"min\": 1.2955568031686917}}, \"EndTime\": 1579888111.571817, \"Dimensions\": {\"model\": 19, \"Host\": \"algo-1\", \"Operation\": \"training\", \"Algorithm\": \"Linear Learner\", \"epoch\": 4}, \"StartTime\": 1579888111.5718}\n",
      "\u001b[0m\n",
      "\u001b[34m#metrics {\"Metrics\": {\"validation_multiclass_cross_entropy_objective\": {\"count\": 1, \"max\": 1.9697045215753994, \"sum\": 1.9697045215753994, \"min\": 1.9697045215753994}}, \"EndTime\": 1579888111.571874, \"Dimensions\": {\"model\": 20, \"Host\": \"algo-1\", \"Operation\": \"training\", \"Algorithm\": \"Linear Learner\", \"epoch\": 4}, \"StartTime\": 1579888111.571862}\n",
      "\u001b[0m\n",
      "\u001b[34m#metrics {\"Metrics\": {\"validation_multiclass_cross_entropy_objective\": {\"count\": 1, \"max\": 1.6099248202916945, \"sum\": 1.6099248202916945, \"min\": 1.6099248202916945}}, \"EndTime\": 1579888111.57193, \"Dimensions\": {\"model\": 21, \"Host\": \"algo-1\", \"Operation\": \"training\", \"Algorithm\": \"Linear Learner\", \"epoch\": 4}, \"StartTime\": 1579888111.571913}\n",
      "\u001b[0m\n",
      "\u001b[34m#metrics {\"Metrics\": {\"validation_multiclass_cross_entropy_objective\": {\"count\": 1, \"max\": 0.955234630193596, \"sum\": 0.955234630193596, \"min\": 0.955234630193596}}, \"EndTime\": 1579888111.571992, \"Dimensions\": {\"model\": 22, \"Host\": \"algo-1\", \"Operation\": \"training\", \"Algorithm\": \"Linear Learner\", \"epoch\": 4}, \"StartTime\": 1579888111.571974}\n",
      "\u001b[0m\n",
      "\u001b[34m#metrics {\"Metrics\": {\"validation_multiclass_cross_entropy_objective\": {\"count\": 1, \"max\": 0.9110490415448672, \"sum\": 0.9110490415448672, \"min\": 0.9110490415448672}}, \"EndTime\": 1579888111.572054, \"Dimensions\": {\"model\": 23, \"Host\": \"algo-1\", \"Operation\": \"training\", \"Algorithm\": \"Linear Learner\", \"epoch\": 4}, \"StartTime\": 1579888111.572037}\n",
      "\u001b[0m\n",
      "\u001b[34m#metrics {\"Metrics\": {\"validation_multiclass_cross_entropy_objective\": {\"count\": 1, \"max\": 1.3600315546068784, \"sum\": 1.3600315546068784, \"min\": 1.3600315546068784}}, \"EndTime\": 1579888111.572116, \"Dimensions\": {\"model\": 24, \"Host\": \"algo-1\", \"Operation\": \"training\", \"Algorithm\": \"Linear Learner\", \"epoch\": 4}, \"StartTime\": 1579888111.5721}\n",
      "\u001b[0m\n",
      "\u001b[34m#metrics {\"Metrics\": {\"validation_multiclass_cross_entropy_objective\": {\"count\": 1, \"max\": 0.9030861520576731, \"sum\": 0.9030861520576731, \"min\": 0.9030861520576731}}, \"EndTime\": 1579888111.572187, \"Dimensions\": {\"model\": 25, \"Host\": \"algo-1\", \"Operation\": \"training\", \"Algorithm\": \"Linear Learner\", \"epoch\": 4}, \"StartTime\": 1579888111.572169}\n",
      "\u001b[0m\n",
      "\u001b[34m#metrics {\"Metrics\": {\"validation_multiclass_cross_entropy_objective\": {\"count\": 1, \"max\": 1.1027308965649967, \"sum\": 1.1027308965649967, \"min\": 1.1027308965649967}}, \"EndTime\": 1579888111.572313, \"Dimensions\": {\"model\": 26, \"Host\": \"algo-1\", \"Operation\": \"training\", \"Algorithm\": \"Linear Learner\", \"epoch\": 4}, \"StartTime\": 1579888111.572293}\n",
      "\u001b[0m\n",
      "\u001b[34m#metrics {\"Metrics\": {\"validation_multiclass_cross_entropy_objective\": {\"count\": 1, \"max\": 0.9055756549860603, \"sum\": 0.9055756549860603, \"min\": 0.9055756549860603}}, \"EndTime\": 1579888111.572365, \"Dimensions\": {\"model\": 27, \"Host\": \"algo-1\", \"Operation\": \"training\", \"Algorithm\": \"Linear Learner\", \"epoch\": 4}, \"StartTime\": 1579888111.572354}\n",
      "\u001b[0m\n",
      "\u001b[34m#metrics {\"Metrics\": {\"validation_multiclass_cross_entropy_objective\": {\"count\": 1, \"max\": 0.9765303610485498, \"sum\": 0.9765303610485498, \"min\": 0.9765303610485498}}, \"EndTime\": 1579888111.572424, \"Dimensions\": {\"model\": 28, \"Host\": \"algo-1\", \"Operation\": \"training\", \"Algorithm\": \"Linear Learner\", \"epoch\": 4}, \"StartTime\": 1579888111.572407}\n",
      "\u001b[0m\n",
      "\u001b[34m#metrics {\"Metrics\": {\"validation_multiclass_cross_entropy_objective\": {\"count\": 1, \"max\": 0.9751142560245194, \"sum\": 0.9751142560245194, \"min\": 0.9751142560245194}}, \"EndTime\": 1579888111.572519, \"Dimensions\": {\"model\": 29, \"Host\": \"algo-1\", \"Operation\": \"training\", \"Algorithm\": \"Linear Learner\", \"epoch\": 4}, \"StartTime\": 1579888111.5725}\n",
      "\u001b[0m\n",
      "\u001b[34m#metrics {\"Metrics\": {\"validation_multiclass_cross_entropy_objective\": {\"count\": 1, \"max\": 0.9540649779785807, \"sum\": 0.9540649779785807, \"min\": 0.9540649779785807}}, \"EndTime\": 1579888111.572586, \"Dimensions\": {\"model\": 30, \"Host\": \"algo-1\", \"Operation\": \"training\", \"Algorithm\": \"Linear Learner\", \"epoch\": 4}, \"StartTime\": 1579888111.572569}\n",
      "\u001b[0m\n",
      "\u001b[34m#metrics {\"Metrics\": {\"validation_multiclass_cross_entropy_objective\": {\"count\": 1, \"max\": 0.9116946732156603, \"sum\": 0.9116946732156603, \"min\": 0.9116946732156603}}, \"EndTime\": 1579888111.572659, \"Dimensions\": {\"model\": 31, \"Host\": \"algo-1\", \"Operation\": \"training\", \"Algorithm\": \"Linear Learner\", \"epoch\": 4}, \"StartTime\": 1579888111.572641}\n",
      "\u001b[0m\n",
      "\u001b[34m[01/24/2020 17:48:31 INFO 140276589545280] #quality_metric: host=algo-1, epoch=4, validation multiclass_cross_entropy_objective <loss>=0.903600651605\u001b[0m\n",
      "\u001b[34m[01/24/2020 17:48:31 INFO 140276589545280] #early_stopping_criteria_metric: host=algo-1, epoch=4, criteria=multiclass_cross_entropy_objective, value=0.894122964628\u001b[0m\n",
      "\u001b[34m[01/24/2020 17:48:31 INFO 140276589545280] Epoch 4: Loss improved. Updating best model\u001b[0m\n",
      "\u001b[34m[01/24/2020 17:48:31 INFO 140276589545280] #progress_metric: host=algo-1, completed 33 % of epochs\u001b[0m\n",
      "\u001b[34m#metrics {\"Metrics\": {\"Max Batches Seen Between Resets\": {\"count\": 1, \"max\": 61, \"sum\": 61.0, \"min\": 61}, \"Number of Batches Since Last Reset\": {\"count\": 1, \"max\": 61, \"sum\": 61.0, \"min\": 61}, \"Number of Records Since Last Reset\": {\"count\": 1, \"max\": 60079, \"sum\": 60079.0, \"min\": 60079}, \"Total Batches Seen\": {\"count\": 1, \"max\": 317, \"sum\": 317.0, \"min\": 317}, \"Total Records Seen\": {\"count\": 1, \"max\": 312395, \"sum\": 312395.0, \"min\": 312395}, \"Max Records Seen Between Resets\": {\"count\": 1, \"max\": 60079, \"sum\": 60079.0, \"min\": 60079}, \"Reset Count\": {\"count\": 1, \"max\": 7, \"sum\": 7.0, \"min\": 7}}, \"EndTime\": 1579888111.574435, \"Dimensions\": {\"Host\": \"algo-1\", \"Meta\": \"training_data_iter\", \"Operation\": \"training\", \"Algorithm\": \"Linear Learner\", \"epoch\": 4}, \"StartTime\": 1579888108.762592}\n",
      "\u001b[0m\n",
      "\u001b[34m[01/24/2020 17:48:31 INFO 140276589545280] #throughput_metric: host=algo-1, train throughput=21365.3125939 records/second\u001b[0m\n",
      "\u001b[34m[2020-01-24 17:48:34.205] [tensorio] [info] epoch_stats={\"data_pipeline\": \"/opt/ml/input/data/train\", \"epoch\": 13, \"duration\": 2630, \"num_examples\": 61, \"num_bytes\": 24752548}\u001b[0m\n",
      "\u001b[34m#metrics {\"Metrics\": {\"train_multiclass_cross_entropy_objective\": {\"count\": 1, \"max\": 0.8973208618164062, \"sum\": 0.8973208618164062, \"min\": 0.8973208618164062}}, \"EndTime\": 1579888114.205985, \"Dimensions\": {\"model\": 0, \"Host\": \"algo-1\", \"Operation\": \"training\", \"Algorithm\": \"Linear Learner\", \"epoch\": 5}, \"StartTime\": 1579888114.205894}\n",
      "\u001b[0m\n",
      "\u001b[34m#metrics {\"Metrics\": {\"train_multiclass_cross_entropy_objective\": {\"count\": 1, \"max\": 1.0585223154703776, \"sum\": 1.0585223154703776, \"min\": 1.0585223154703776}}, \"EndTime\": 1579888114.206082, \"Dimensions\": {\"model\": 1, \"Host\": \"algo-1\", \"Operation\": \"training\", \"Algorithm\": \"Linear Learner\", \"epoch\": 5}, \"StartTime\": 1579888114.206062}\n",
      "\u001b[0m\n",
      "\u001b[34m#metrics {\"Metrics\": {\"train_multiclass_cross_entropy_objective\": {\"count\": 1, \"max\": 1.1896060546875, \"sum\": 1.1896060546875, \"min\": 1.1896060546875}}, \"EndTime\": 1579888114.206149, \"Dimensions\": {\"model\": 2, \"Host\": \"algo-1\", \"Operation\": \"training\", \"Algorithm\": \"Linear Learner\", \"epoch\": 5}, \"StartTime\": 1579888114.20613}\n",
      "\u001b[0m\n",
      "\u001b[34m#metrics {\"Metrics\": {\"train_multiclass_cross_entropy_objective\": {\"count\": 1, \"max\": 0.8937510091145834, \"sum\": 0.8937510091145834, \"min\": 0.8937510091145834}}, \"EndTime\": 1579888114.206213, \"Dimensions\": {\"model\": 3, \"Host\": \"algo-1\", \"Operation\": \"training\", \"Algorithm\": \"Linear Learner\", \"epoch\": 5}, \"StartTime\": 1579888114.206195}\n",
      "\u001b[0m\n",
      "\u001b[34m#metrics {\"Metrics\": {\"train_multiclass_cross_entropy_objective\": {\"count\": 1, \"max\": 1.0302564534505207, \"sum\": 1.0302564534505207, \"min\": 1.0302564534505207}}, \"EndTime\": 1579888114.206278, \"Dimensions\": {\"model\": 4, \"Host\": \"algo-1\", \"Operation\": \"training\", \"Algorithm\": \"Linear Learner\", \"epoch\": 5}, \"StartTime\": 1579888114.20626}\n",
      "\u001b[0m\n",
      "\u001b[34m#metrics {\"Metrics\": {\"train_multiclass_cross_entropy_objective\": {\"count\": 1, \"max\": 0.9252955190022787, \"sum\": 0.9252955190022787, \"min\": 0.9252955190022787}}, \"EndTime\": 1579888114.206341, \"Dimensions\": {\"model\": 5, \"Host\": \"algo-1\", \"Operation\": \"training\", \"Algorithm\": \"Linear Learner\", \"epoch\": 5}, \"StartTime\": 1579888114.206324}\n",
      "\u001b[0m\n",
      "\u001b[34m#metrics {\"Metrics\": {\"train_multiclass_cross_entropy_objective\": {\"count\": 1, \"max\": 0.8966277465820313, \"sum\": 0.8966277465820313, \"min\": 0.8966277465820313}}, \"EndTime\": 1579888114.206402, \"Dimensions\": {\"model\": 6, \"Host\": \"algo-1\", \"Operation\": \"training\", \"Algorithm\": \"Linear Learner\", \"epoch\": 5}, \"StartTime\": 1579888114.206385}\n",
      "\u001b[0m\n",
      "\u001b[34m#metrics {\"Metrics\": {\"train_multiclass_cross_entropy_objective\": {\"count\": 1, \"max\": 0.928422748819987, \"sum\": 0.928422748819987, \"min\": 0.928422748819987}}, \"EndTime\": 1579888114.206459, \"Dimensions\": {\"model\": 7, \"Host\": \"algo-1\", \"Operation\": \"training\", \"Algorithm\": \"Linear Learner\", \"epoch\": 5}, \"StartTime\": 1579888114.206442}\n",
      "\u001b[0m\n",
      "\u001b[34m#metrics {\"Metrics\": {\"train_multiclass_cross_entropy_objective\": {\"count\": 1, \"max\": 0.9308502583821615, \"sum\": 0.9308502583821615, \"min\": 0.9308502583821615}}, \"EndTime\": 1579888114.206513, \"Dimensions\": {\"model\": 8, \"Host\": \"algo-1\", \"Operation\": \"training\", \"Algorithm\": \"Linear Learner\", \"epoch\": 5}, \"StartTime\": 1579888114.206497}\n",
      "\u001b[0m\n",
      "\u001b[34m#metrics {\"Metrics\": {\"train_multiclass_cross_entropy_objective\": {\"count\": 1, \"max\": 2.964362727864583, \"sum\": 2.964362727864583, \"min\": 2.964362727864583}}, \"EndTime\": 1579888114.206574, \"Dimensions\": {\"model\": 9, \"Host\": \"algo-1\", \"Operation\": \"training\", \"Algorithm\": \"Linear Learner\", \"epoch\": 5}, \"StartTime\": 1579888114.206556}\n",
      "\u001b[0m\n",
      "\u001b[34m#metrics {\"Metrics\": {\"train_multiclass_cross_entropy_objective\": {\"count\": 1, \"max\": 0.9342426890055339, \"sum\": 0.9342426890055339, \"min\": 0.9342426890055339}}, \"EndTime\": 1579888114.206634, \"Dimensions\": {\"model\": 10, \"Host\": \"algo-1\", \"Operation\": \"training\", \"Algorithm\": \"Linear Learner\", \"epoch\": 5}, \"StartTime\": 1579888114.206617}\n",
      "\u001b[0m\n",
      "\u001b[34m#metrics {\"Metrics\": {\"train_multiclass_cross_entropy_objective\": {\"count\": 1, \"max\": 0.9605365956624349, \"sum\": 0.9605365956624349, \"min\": 0.9605365956624349}}, \"EndTime\": 1579888114.206695, \"Dimensions\": {\"model\": 11, \"Host\": \"algo-1\", \"Operation\": \"training\", \"Algorithm\": \"Linear Learner\", \"epoch\": 5}, \"StartTime\": 1579888114.206678}\n",
      "\u001b[0m\n",
      "\u001b[34m#metrics {\"Metrics\": {\"train_multiclass_cross_entropy_objective\": {\"count\": 1, \"max\": 0.9075406555175781, \"sum\": 0.9075406555175781, \"min\": 0.9075406555175781}}, \"EndTime\": 1579888114.206755, \"Dimensions\": {\"model\": 12, \"Host\": \"algo-1\", \"Operation\": \"training\", \"Algorithm\": \"Linear Learner\", \"epoch\": 5}, \"StartTime\": 1579888114.206739}\n",
      "\u001b[0m\n",
      "\u001b[34m#metrics {\"Metrics\": {\"train_multiclass_cross_entropy_objective\": {\"count\": 1, \"max\": 1.07169191792806, \"sum\": 1.07169191792806, \"min\": 1.07169191792806}}, \"EndTime\": 1579888114.206814, \"Dimensions\": {\"model\": 13, \"Host\": \"algo-1\", \"Operation\": \"training\", \"Algorithm\": \"Linear Learner\", \"epoch\": 5}, \"StartTime\": 1579888114.206797}\n",
      "\u001b[0m\n",
      "\u001b[34m#metrics {\"Metrics\": {\"train_multiclass_cross_entropy_objective\": {\"count\": 1, \"max\": 2.3742361022949217, \"sum\": 2.3742361022949217, \"min\": 2.3742361022949217}}, \"EndTime\": 1579888114.206874, \"Dimensions\": {\"model\": 14, \"Host\": \"algo-1\", \"Operation\": \"training\", \"Algorithm\": \"Linear Learner\", \"epoch\": 5}, \"StartTime\": 1579888114.206857}\n",
      "\u001b[0m\n",
      "\u001b[34m#metrics {\"Metrics\": {\"train_multiclass_cross_entropy_objective\": {\"count\": 1, \"max\": 0.8912732065836588, \"sum\": 0.8912732065836588, \"min\": 0.8912732065836588}}, \"EndTime\": 1579888114.206935, \"Dimensions\": {\"model\": 15, \"Host\": \"algo-1\", \"Operation\": \"training\", \"Algorithm\": \"Linear Learner\", \"epoch\": 5}, \"StartTime\": 1579888114.206918}\n",
      "\u001b[0m\n",
      "\u001b[34m#metrics {\"Metrics\": {\"train_multiclass_cross_entropy_objective\": {\"count\": 1, \"max\": 0.8906666717529297, \"sum\": 0.8906666717529297, \"min\": 0.8906666717529297}}, \"EndTime\": 1579888114.206996, \"Dimensions\": {\"model\": 16, \"Host\": \"algo-1\", \"Operation\": \"training\", \"Algorithm\": \"Linear Learner\", \"epoch\": 5}, \"StartTime\": 1579888114.206979}\n",
      "\u001b[0m\n",
      "\u001b[34m#metrics {\"Metrics\": {\"train_multiclass_cross_entropy_objective\": {\"count\": 1, \"max\": 0.8924564595540364, \"sum\": 0.8924564595540364, \"min\": 0.8924564595540364}}, \"EndTime\": 1579888114.207056, \"Dimensions\": {\"model\": 17, \"Host\": \"algo-1\", \"Operation\": \"training\", \"Algorithm\": \"Linear Learner\", \"epoch\": 5}, \"StartTime\": 1579888114.207039}\n",
      "\u001b[0m\n",
      "\u001b[34m#metrics {\"Metrics\": {\"train_multiclass_cross_entropy_objective\": {\"count\": 1, \"max\": 1.7341093119303386, \"sum\": 1.7341093119303386, \"min\": 1.7341093119303386}}, \"EndTime\": 1579888114.207116, \"Dimensions\": {\"model\": 18, \"Host\": \"algo-1\", \"Operation\": \"training\", \"Algorithm\": \"Linear Learner\", \"epoch\": 5}, \"StartTime\": 1579888114.2071}\n",
      "\u001b[0m\n",
      "\u001b[34m#metrics {\"Metrics\": {\"train_multiclass_cross_entropy_objective\": {\"count\": 1, \"max\": 1.5244920369466146, \"sum\": 1.5244920369466146, \"min\": 1.5244920369466146}}, \"EndTime\": 1579888114.207179, \"Dimensions\": {\"model\": 19, \"Host\": \"algo-1\", \"Operation\": \"training\", \"Algorithm\": \"Linear Learner\", \"epoch\": 5}, \"StartTime\": 1579888114.207161}\n",
      "\u001b[0m\n",
      "\u001b[34m#metrics {\"Metrics\": {\"train_multiclass_cross_entropy_objective\": {\"count\": 1, \"max\": 1.8833234405517578, \"sum\": 1.8833234405517578, \"min\": 1.8833234405517578}}, \"EndTime\": 1579888114.207239, \"Dimensions\": {\"model\": 20, \"Host\": \"algo-1\", \"Operation\": \"training\", \"Algorithm\": \"Linear Learner\", \"epoch\": 5}, \"StartTime\": 1579888114.207222}\n",
      "\u001b[0m\n",
      "\u001b[34m#metrics {\"Metrics\": {\"train_multiclass_cross_entropy_objective\": {\"count\": 1, \"max\": 1.979422332763672, \"sum\": 1.979422332763672, \"min\": 1.979422332763672}}, \"EndTime\": 1579888114.207301, \"Dimensions\": {\"model\": 21, \"Host\": \"algo-1\", \"Operation\": \"training\", \"Algorithm\": \"Linear Learner\", \"epoch\": 5}, \"StartTime\": 1579888114.207283}\n",
      "\u001b[0m\n",
      "\u001b[34m#metrics {\"Metrics\": {\"train_multiclass_cross_entropy_objective\": {\"count\": 1, \"max\": 0.9328943501790364, \"sum\": 0.9328943501790364, \"min\": 0.9328943501790364}}, \"EndTime\": 1579888114.207363, \"Dimensions\": {\"model\": 22, \"Host\": \"algo-1\", \"Operation\": \"training\", \"Algorithm\": \"Linear Learner\", \"epoch\": 5}, \"StartTime\": 1579888114.207345}\n",
      "\u001b[0m\n",
      "\u001b[34m#metrics {\"Metrics\": {\"train_multiclass_cross_entropy_objective\": {\"count\": 1, \"max\": 0.9045658864339192, \"sum\": 0.9045658864339192, \"min\": 0.9045658864339192}}, \"EndTime\": 1579888114.207423, \"Dimensions\": {\"model\": 23, \"Host\": \"algo-1\", \"Operation\": \"training\", \"Algorithm\": \"Linear Learner\", \"epoch\": 5}, \"StartTime\": 1579888114.207406}\n",
      "\u001b[0m\n",
      "\u001b[34m#metrics {\"Metrics\": {\"train_multiclass_cross_entropy_objective\": {\"count\": 1, \"max\": 1.519097324625651, \"sum\": 1.519097324625651, \"min\": 1.519097324625651}}, \"EndTime\": 1579888114.207478, \"Dimensions\": {\"model\": 24, \"Host\": \"algo-1\", \"Operation\": \"training\", \"Algorithm\": \"Linear Learner\", \"epoch\": 5}, \"StartTime\": 1579888114.207463}\n",
      "\u001b[0m\n",
      "\u001b[34m#metrics {\"Metrics\": {\"train_multiclass_cross_entropy_objective\": {\"count\": 1, \"max\": 0.8967052724202474, \"sum\": 0.8967052724202474, \"min\": 0.8967052724202474}}, \"EndTime\": 1579888114.207538, \"Dimensions\": {\"model\": 25, \"Host\": \"algo-1\", \"Operation\": \"training\", \"Algorithm\": \"Linear Learner\", \"epoch\": 5}, \"StartTime\": 1579888114.207521}\n",
      "\u001b[0m\n",
      "\u001b[34m#metrics {\"Metrics\": {\"train_multiclass_cross_entropy_objective\": {\"count\": 1, \"max\": 1.1611283182779948, \"sum\": 1.1611283182779948, \"min\": 1.1611283182779948}}, \"EndTime\": 1579888114.207599, \"Dimensions\": {\"model\": 26, \"Host\": \"algo-1\", \"Operation\": \"training\", \"Algorithm\": \"Linear Learner\", \"epoch\": 5}, \"StartTime\": 1579888114.207582}\n",
      "\u001b[0m\n",
      "\u001b[34m#metrics {\"Metrics\": {\"train_multiclass_cross_entropy_objective\": {\"count\": 1, \"max\": 0.8994117228190104, \"sum\": 0.8994117228190104, \"min\": 0.8994117228190104}}, \"EndTime\": 1579888114.207661, \"Dimensions\": {\"model\": 27, \"Host\": \"algo-1\", \"Operation\": \"training\", \"Algorithm\": \"Linear Learner\", \"epoch\": 5}, \"StartTime\": 1579888114.207644}\n",
      "\u001b[0m\n",
      "\u001b[34m#metrics {\"Metrics\": {\"train_multiclass_cross_entropy_objective\": {\"count\": 1, \"max\": 0.9766993733723959, \"sum\": 0.9766993733723959, \"min\": 0.9766993733723959}}, \"EndTime\": 1579888114.207722, \"Dimensions\": {\"model\": 28, \"Host\": \"algo-1\", \"Operation\": \"training\", \"Algorithm\": \"Linear Learner\", \"epoch\": 5}, \"StartTime\": 1579888114.207706}\n",
      "\u001b[0m\n",
      "\u001b[34m#metrics {\"Metrics\": {\"train_multiclass_cross_entropy_objective\": {\"count\": 1, \"max\": 1.0008544901529948, \"sum\": 1.0008544901529948, \"min\": 1.0008544901529948}}, \"EndTime\": 1579888114.207791, \"Dimensions\": {\"model\": 29, \"Host\": \"algo-1\", \"Operation\": \"training\", \"Algorithm\": \"Linear Learner\", \"epoch\": 5}, \"StartTime\": 1579888114.207772}\n",
      "\u001b[0m\n",
      "\u001b[34m#metrics {\"Metrics\": {\"train_multiclass_cross_entropy_objective\": {\"count\": 1, \"max\": 0.9596407897949218, \"sum\": 0.9596407897949218, \"min\": 0.9596407897949218}}, \"EndTime\": 1579888114.207851, \"Dimensions\": {\"model\": 30, \"Host\": \"algo-1\", \"Operation\": \"training\", \"Algorithm\": \"Linear Learner\", \"epoch\": 5}, \"StartTime\": 1579888114.207834}\n",
      "\u001b[0m\n",
      "\u001b[34m#metrics {\"Metrics\": {\"train_multiclass_cross_entropy_objective\": {\"count\": 1, \"max\": 0.9024145345052084, \"sum\": 0.9024145345052084, \"min\": 0.9024145345052084}}, \"EndTime\": 1579888114.207908, \"Dimensions\": {\"model\": 31, \"Host\": \"algo-1\", \"Operation\": \"training\", \"Algorithm\": \"Linear Learner\", \"epoch\": 5}, \"StartTime\": 1579888114.207891}\n",
      "\u001b[0m\n",
      "\u001b[34m[01/24/2020 17:48:34 INFO 140276589545280] #quality_metric: host=algo-1, epoch=5, train multiclass_cross_entropy_objective <loss>=0.897320861816\u001b[0m\n",
      "\u001b[34m[2020-01-24 17:48:34.414] [tensorio] [info] epoch_stats={\"data_pipeline\": \"/opt/ml/input/data/validation\", \"epoch\": 17, \"duration\": 187, \"num_examples\": 8, \"num_bytes\": 3094120}\u001b[0m\n",
      "\u001b[34m#metrics {\"Metrics\": {\"validation_multiclass_cross_entropy_objective\": {\"count\": 1, \"max\": 0.9012235598303824, \"sum\": 0.9012235598303824, \"min\": 0.9012235598303824}}, \"EndTime\": 1579888114.421314, \"Dimensions\": {\"model\": 0, \"Host\": \"algo-1\", \"Operation\": \"training\", \"Algorithm\": \"Linear Learner\", \"epoch\": 5}, \"StartTime\": 1579888114.421245}\n",
      "\u001b[0m\n",
      "\u001b[34m#metrics {\"Metrics\": {\"validation_multiclass_cross_entropy_objective\": {\"count\": 1, \"max\": 1.004301540003953, \"sum\": 1.004301540003953, \"min\": 1.004301540003953}}, \"EndTime\": 1579888114.421408, \"Dimensions\": {\"model\": 1, \"Host\": \"algo-1\", \"Operation\": \"training\", \"Algorithm\": \"Linear Learner\", \"epoch\": 5}, \"StartTime\": 1579888114.421384}\n",
      "\u001b[0m\n",
      "\u001b[34m#metrics {\"Metrics\": {\"validation_multiclass_cross_entropy_objective\": {\"count\": 1, \"max\": 1.1167152780667444, \"sum\": 1.1167152780667444, \"min\": 1.1167152780667444}}, \"EndTime\": 1579888114.421482, \"Dimensions\": {\"model\": 2, \"Host\": \"algo-1\", \"Operation\": \"training\", \"Algorithm\": \"Linear Learner\", \"epoch\": 5}, \"StartTime\": 1579888114.421462}\n",
      "\u001b[0m\n",
      "\u001b[34m#metrics {\"Metrics\": {\"validation_multiclass_cross_entropy_objective\": {\"count\": 1, \"max\": 0.8972508132060898, \"sum\": 0.8972508132060898, \"min\": 0.8972508132060898}}, \"EndTime\": 1579888114.421541, \"Dimensions\": {\"model\": 3, \"Host\": \"algo-1\", \"Operation\": \"training\", \"Algorithm\": \"Linear Learner\", \"epoch\": 5}, \"StartTime\": 1579888114.421523}\n",
      "\u001b[0m\n",
      "\u001b[34m#metrics {\"Metrics\": {\"validation_multiclass_cross_entropy_objective\": {\"count\": 1, \"max\": 0.9936176284810357, \"sum\": 0.9936176284810357, \"min\": 0.9936176284810357}}, \"EndTime\": 1579888114.421606, \"Dimensions\": {\"model\": 4, \"Host\": \"algo-1\", \"Operation\": \"training\", \"Algorithm\": \"Linear Learner\", \"epoch\": 5}, \"StartTime\": 1579888114.421588}\n",
      "\u001b[0m\n",
      "\u001b[34m#metrics {\"Metrics\": {\"validation_multiclass_cross_entropy_objective\": {\"count\": 1, \"max\": 0.9283397933614556, \"sum\": 0.9283397933614556, \"min\": 0.9283397933614556}}, \"EndTime\": 1579888114.421669, \"Dimensions\": {\"model\": 5, \"Host\": \"algo-1\", \"Operation\": \"training\", \"Algorithm\": \"Linear Learner\", \"epoch\": 5}, \"StartTime\": 1579888114.421651}\n",
      "\u001b[0m\n",
      "\u001b[34m#metrics {\"Metrics\": {\"validation_multiclass_cross_entropy_objective\": {\"count\": 1, \"max\": 0.8930183908434587, \"sum\": 0.8930183908434587, \"min\": 0.8930183908434587}}, \"EndTime\": 1579888114.421741, \"Dimensions\": {\"model\": 6, \"Host\": \"algo-1\", \"Operation\": \"training\", \"Algorithm\": \"Linear Learner\", \"epoch\": 5}, \"StartTime\": 1579888114.421723}\n",
      "\u001b[0m\n",
      "\u001b[34m#metrics {\"Metrics\": {\"validation_multiclass_cross_entropy_objective\": {\"count\": 1, \"max\": 0.9323494414673664, \"sum\": 0.9323494414673664, \"min\": 0.9323494414673664}}, \"EndTime\": 1579888114.421808, \"Dimensions\": {\"model\": 7, \"Host\": \"algo-1\", \"Operation\": \"training\", \"Algorithm\": \"Linear Learner\", \"epoch\": 5}, \"StartTime\": 1579888114.42179}\n",
      "\u001b[0m\n",
      "\u001b[34m#metrics {\"Metrics\": {\"validation_multiclass_cross_entropy_objective\": {\"count\": 1, \"max\": 0.9338453554440433, \"sum\": 0.9338453554440433, \"min\": 0.9338453554440433}}, \"EndTime\": 1579888114.421881, \"Dimensions\": {\"model\": 8, \"Host\": \"algo-1\", \"Operation\": \"training\", \"Algorithm\": \"Linear Learner\", \"epoch\": 5}, \"StartTime\": 1579888114.421863}\n",
      "\u001b[0m\n",
      "\u001b[34m#metrics {\"Metrics\": {\"validation_multiclass_cross_entropy_objective\": {\"count\": 1, \"max\": 3.525128311990263, \"sum\": 3.525128311990263, \"min\": 3.525128311990263}}, \"EndTime\": 1579888114.421953, \"Dimensions\": {\"model\": 9, \"Host\": \"algo-1\", \"Operation\": \"training\", \"Algorithm\": \"Linear Learner\", \"epoch\": 5}, \"StartTime\": 1579888114.421934}\n",
      "\u001b[0m\n",
      "\u001b[34m#metrics {\"Metrics\": {\"validation_multiclass_cross_entropy_objective\": {\"count\": 1, \"max\": 0.9301242589633093, \"sum\": 0.9301242589633093, \"min\": 0.9301242589633093}}, \"EndTime\": 1579888114.422018, \"Dimensions\": {\"model\": 10, \"Host\": \"algo-1\", \"Operation\": \"training\", \"Algorithm\": \"Linear Learner\", \"epoch\": 5}, \"StartTime\": 1579888114.422001}\n",
      "\u001b[0m\n",
      "\u001b[34m#metrics {\"Metrics\": {\"validation_multiclass_cross_entropy_objective\": {\"count\": 1, \"max\": 0.9713689039613849, \"sum\": 0.9713689039613849, \"min\": 0.9713689039613849}}, \"EndTime\": 1579888114.422092, \"Dimensions\": {\"model\": 11, \"Host\": \"algo-1\", \"Operation\": \"training\", \"Algorithm\": \"Linear Learner\", \"epoch\": 5}, \"StartTime\": 1579888114.422073}\n",
      "\u001b[0m\n",
      "\u001b[34m#metrics {\"Metrics\": {\"validation_multiclass_cross_entropy_objective\": {\"count\": 1, \"max\": 0.9174782581557923, \"sum\": 0.9174782581557923, \"min\": 0.9174782581557923}}, \"EndTime\": 1579888114.422155, \"Dimensions\": {\"model\": 12, \"Host\": \"algo-1\", \"Operation\": \"training\", \"Algorithm\": \"Linear Learner\", \"epoch\": 5}, \"StartTime\": 1579888114.422139}\n",
      "\u001b[0m\n",
      "\u001b[34m#metrics {\"Metrics\": {\"validation_multiclass_cross_entropy_objective\": {\"count\": 1, \"max\": 1.0408730741823402, \"sum\": 1.0408730741823402, \"min\": 1.0408730741823402}}, \"EndTime\": 1579888114.422218, \"Dimensions\": {\"model\": 13, \"Host\": \"algo-1\", \"Operation\": \"training\", \"Algorithm\": \"Linear Learner\", \"epoch\": 5}, \"StartTime\": 1579888114.422202}\n",
      "\u001b[0m\n",
      "\u001b[34m#metrics {\"Metrics\": {\"validation_multiclass_cross_entropy_objective\": {\"count\": 1, \"max\": 1.5168164127517476, \"sum\": 1.5168164127517476, \"min\": 1.5168164127517476}}, \"EndTime\": 1579888114.422281, \"Dimensions\": {\"model\": 14, \"Host\": \"algo-1\", \"Operation\": \"training\", \"Algorithm\": \"Linear Learner\", \"epoch\": 5}, \"StartTime\": 1579888114.422264}\n",
      "\u001b[0m\n",
      "\u001b[34m#metrics {\"Metrics\": {\"validation_multiclass_cross_entropy_objective\": {\"count\": 1, \"max\": 0.896956007712373, \"sum\": 0.896956007712373, \"min\": 0.896956007712373}}, \"EndTime\": 1579888114.422353, \"Dimensions\": {\"model\": 15, \"Host\": \"algo-1\", \"Operation\": \"training\", \"Algorithm\": \"Linear Learner\", \"epoch\": 5}, \"StartTime\": 1579888114.422334}\n",
      "\u001b[0m\n",
      "\u001b[34m#metrics {\"Metrics\": {\"validation_multiclass_cross_entropy_objective\": {\"count\": 1, \"max\": 0.8953244754064893, \"sum\": 0.8953244754064893, \"min\": 0.8953244754064893}}, \"EndTime\": 1579888114.422472, \"Dimensions\": {\"model\": 16, \"Host\": \"algo-1\", \"Operation\": \"training\", \"Algorithm\": \"Linear Learner\", \"epoch\": 5}, \"StartTime\": 1579888114.422449}\n",
      "\u001b[0m\n",
      "\u001b[34m#metrics {\"Metrics\": {\"validation_multiclass_cross_entropy_objective\": {\"count\": 1, \"max\": 0.8976742679682299, \"sum\": 0.8976742679682299, \"min\": 0.8976742679682299}}, \"EndTime\": 1579888114.422543, \"Dimensions\": {\"model\": 17, \"Host\": \"algo-1\", \"Operation\": \"training\", \"Algorithm\": \"Linear Learner\", \"epoch\": 5}, \"StartTime\": 1579888114.422524}\n",
      "\u001b[0m\n",
      "\u001b[34m#metrics {\"Metrics\": {\"validation_multiclass_cross_entropy_objective\": {\"count\": 1, \"max\": 1.470487234468625, \"sum\": 1.470487234468625, \"min\": 1.470487234468625}}, \"EndTime\": 1579888114.422613, \"Dimensions\": {\"model\": 18, \"Host\": \"algo-1\", \"Operation\": \"training\", \"Algorithm\": \"Linear Learner\", \"epoch\": 5}, \"StartTime\": 1579888114.422594}\n",
      "\u001b[0m\n",
      "\u001b[34m#metrics {\"Metrics\": {\"validation_multiclass_cross_entropy_objective\": {\"count\": 1, \"max\": 1.2924641412361644, \"sum\": 1.2924641412361644, \"min\": 1.2924641412361644}}, \"EndTime\": 1579888114.422679, \"Dimensions\": {\"model\": 19, \"Host\": \"algo-1\", \"Operation\": \"training\", \"Algorithm\": \"Linear Learner\", \"epoch\": 5}, \"StartTime\": 1579888114.422662}\n",
      "\u001b[0m\n",
      "\u001b[34m#metrics {\"Metrics\": {\"validation_multiclass_cross_entropy_objective\": {\"count\": 1, \"max\": 1.4806476455871338, \"sum\": 1.4806476455871338, \"min\": 1.4806476455871338}}, \"EndTime\": 1579888114.422736, \"Dimensions\": {\"model\": 20, \"Host\": \"algo-1\", \"Operation\": \"training\", \"Algorithm\": \"Linear Learner\", \"epoch\": 5}, \"StartTime\": 1579888114.42272}\n",
      "\u001b[0m\n",
      "\u001b[34m#metrics {\"Metrics\": {\"validation_multiclass_cross_entropy_objective\": {\"count\": 1, \"max\": 2.091542672920481, \"sum\": 2.091542672920481, \"min\": 2.091542672920481}}, \"EndTime\": 1579888114.4228, \"Dimensions\": {\"model\": 21, \"Host\": \"algo-1\", \"Operation\": \"training\", \"Algorithm\": \"Linear Learner\", \"epoch\": 5}, \"StartTime\": 1579888114.422782}\n",
      "\u001b[0m\n",
      "\u001b[34m#metrics {\"Metrics\": {\"validation_multiclass_cross_entropy_objective\": {\"count\": 1, \"max\": 0.953351301454831, \"sum\": 0.953351301454831, \"min\": 0.953351301454831}}, \"EndTime\": 1579888114.422864, \"Dimensions\": {\"model\": 22, \"Host\": \"algo-1\", \"Operation\": \"training\", \"Algorithm\": \"Linear Learner\", \"epoch\": 5}, \"StartTime\": 1579888114.422846}\n",
      "\u001b[0m\n",
      "\u001b[34m#metrics {\"Metrics\": {\"validation_multiclass_cross_entropy_objective\": {\"count\": 1, \"max\": 0.9119866748306945, \"sum\": 0.9119866748306945, \"min\": 0.9119866748306945}}, \"EndTime\": 1579888114.422925, \"Dimensions\": {\"model\": 23, \"Host\": \"algo-1\", \"Operation\": \"training\", \"Algorithm\": \"Linear Learner\", \"epoch\": 5}, \"StartTime\": 1579888114.422907}\n",
      "\u001b[0m\n",
      "\u001b[34m#metrics {\"Metrics\": {\"validation_multiclass_cross_entropy_objective\": {\"count\": 1, \"max\": 1.3685473486523176, \"sum\": 1.3685473486523176, \"min\": 1.3685473486523176}}, \"EndTime\": 1579888114.422988, \"Dimensions\": {\"model\": 24, \"Host\": \"algo-1\", \"Operation\": \"training\", \"Algorithm\": \"Linear Learner\", \"epoch\": 5}, \"StartTime\": 1579888114.42297}\n",
      "\u001b[0m\n",
      "\u001b[34m#metrics {\"Metrics\": {\"validation_multiclass_cross_entropy_objective\": {\"count\": 1, \"max\": 0.9028223802183026, \"sum\": 0.9028223802183026, \"min\": 0.9028223802183026}}, \"EndTime\": 1579888114.42305, \"Dimensions\": {\"model\": 25, \"Host\": \"algo-1\", \"Operation\": \"training\", \"Algorithm\": \"Linear Learner\", \"epoch\": 5}, \"StartTime\": 1579888114.423032}\n",
      "\u001b[0m\n",
      "\u001b[34m#metrics {\"Metrics\": {\"validation_multiclass_cross_entropy_objective\": {\"count\": 1, \"max\": 1.066990497045606, \"sum\": 1.066990497045606, \"min\": 1.066990497045606}}, \"EndTime\": 1579888114.423113, \"Dimensions\": {\"model\": 26, \"Host\": \"algo-1\", \"Operation\": \"training\", \"Algorithm\": \"Linear Learner\", \"epoch\": 5}, \"StartTime\": 1579888114.423095}\n",
      "\u001b[0m\n",
      "\u001b[34m#metrics {\"Metrics\": {\"validation_multiclass_cross_entropy_objective\": {\"count\": 1, \"max\": 0.9054617931299933, \"sum\": 0.9054617931299933, \"min\": 0.9054617931299933}}, \"EndTime\": 1579888114.423168, \"Dimensions\": {\"model\": 27, \"Host\": \"algo-1\", \"Operation\": \"training\", \"Algorithm\": \"Linear Learner\", \"epoch\": 5}, \"StartTime\": 1579888114.423151}\n",
      "\u001b[0m\n",
      "\u001b[34m#metrics {\"Metrics\": {\"validation_multiclass_cross_entropy_objective\": {\"count\": 1, \"max\": 0.9841415506863245, \"sum\": 0.9841415506863245, \"min\": 0.9841415506863245}}, \"EndTime\": 1579888114.42323, \"Dimensions\": {\"model\": 28, \"Host\": \"algo-1\", \"Operation\": \"training\", \"Algorithm\": \"Linear Learner\", \"epoch\": 5}, \"StartTime\": 1579888114.423212}\n",
      "\u001b[0m\n",
      "\u001b[34m#metrics {\"Metrics\": {\"validation_multiclass_cross_entropy_objective\": {\"count\": 1, \"max\": 0.9698196309543006, \"sum\": 0.9698196309543006, \"min\": 0.9698196309543006}}, \"EndTime\": 1579888114.423294, \"Dimensions\": {\"model\": 29, \"Host\": \"algo-1\", \"Operation\": \"training\", \"Algorithm\": \"Linear Learner\", \"epoch\": 5}, \"StartTime\": 1579888114.423275}\n",
      "\u001b[0m\n",
      "\u001b[34m#metrics {\"Metrics\": {\"validation_multiclass_cross_entropy_objective\": {\"count\": 1, \"max\": 0.953999643541684, \"sum\": 0.953999643541684, \"min\": 0.953999643541684}}, \"EndTime\": 1579888114.423357, \"Dimensions\": {\"model\": 30, \"Host\": \"algo-1\", \"Operation\": \"training\", \"Algorithm\": \"Linear Learner\", \"epoch\": 5}, \"StartTime\": 1579888114.423339}\n",
      "\u001b[0m\n",
      "\u001b[34m#metrics {\"Metrics\": {\"validation_multiclass_cross_entropy_objective\": {\"count\": 1, \"max\": 0.9105315755750145, \"sum\": 0.9105315755750145, \"min\": 0.9105315755750145}}, \"EndTime\": 1579888114.42342, \"Dimensions\": {\"model\": 31, \"Host\": \"algo-1\", \"Operation\": \"training\", \"Algorithm\": \"Linear Learner\", \"epoch\": 5}, \"StartTime\": 1579888114.423401}\n",
      "\u001b[0m\n",
      "\u001b[34m[01/24/2020 17:48:34 INFO 140276589545280] #quality_metric: host=algo-1, epoch=5, validation multiclass_cross_entropy_objective <loss>=0.90122355983\u001b[0m\n",
      "\u001b[34m[01/24/2020 17:48:34 INFO 140276589545280] #early_stopping_criteria_metric: host=algo-1, epoch=5, criteria=multiclass_cross_entropy_objective, value=0.893018390843\u001b[0m\n",
      "\u001b[34m[01/24/2020 17:48:34 INFO 140276589545280] Epoch 5: Loss improved. Updating best model\u001b[0m\n",
      "\u001b[34m[01/24/2020 17:48:34 INFO 140276589545280] #progress_metric: host=algo-1, completed 40 % of epochs\u001b[0m\n",
      "\u001b[34m#metrics {\"Metrics\": {\"Max Batches Seen Between Resets\": {\"count\": 1, \"max\": 61, \"sum\": 61.0, \"min\": 61}, \"Number of Batches Since Last Reset\": {\"count\": 1, \"max\": 61, \"sum\": 61.0, \"min\": 61}, \"Number of Records Since Last Reset\": {\"count\": 1, \"max\": 60079, \"sum\": 60079.0, \"min\": 60079}, \"Total Batches Seen\": {\"count\": 1, \"max\": 378, \"sum\": 378.0, \"min\": 378}, \"Total Records Seen\": {\"count\": 1, \"max\": 372474, \"sum\": 372474.0, \"min\": 372474}, \"Max Records Seen Between Resets\": {\"count\": 1, \"max\": 60079, \"sum\": 60079.0, \"min\": 60079}, \"Reset Count\": {\"count\": 1, \"max\": 8, \"sum\": 8.0, \"min\": 8}}, \"EndTime\": 1579888114.425344, \"Dimensions\": {\"Host\": \"algo-1\", \"Meta\": \"training_data_iter\", \"Operation\": \"training\", \"Algorithm\": \"Linear Learner\", \"epoch\": 5}, \"StartTime\": 1579888111.575221}\n",
      "\u001b[0m\n",
      "\u001b[34m[01/24/2020 17:48:34 INFO 140276589545280] #throughput_metric: host=algo-1, train throughput=21078.487738 records/second\u001b[0m\n",
      "\u001b[34m[2020-01-24 17:48:36.979] [tensorio] [info] epoch_stats={\"data_pipeline\": \"/opt/ml/input/data/train\", \"epoch\": 15, \"duration\": 2553, \"num_examples\": 61, \"num_bytes\": 24752548}\u001b[0m\n",
      "\u001b[34m#metrics {\"Metrics\": {\"train_multiclass_cross_entropy_objective\": {\"count\": 1, \"max\": 0.8970994008382162, \"sum\": 0.8970994008382162, \"min\": 0.8970994008382162}}, \"EndTime\": 1579888116.979858, \"Dimensions\": {\"model\": 0, \"Host\": \"algo-1\", \"Operation\": \"training\", \"Algorithm\": \"Linear Learner\", \"epoch\": 6}, \"StartTime\": 1579888116.979762}\n",
      "\u001b[0m\n",
      "\u001b[34m#metrics {\"Metrics\": {\"train_multiclass_cross_entropy_objective\": {\"count\": 1, \"max\": 1.0510479014078775, \"sum\": 1.0510479014078775, \"min\": 1.0510479014078775}}, \"EndTime\": 1579888116.979948, \"Dimensions\": {\"model\": 1, \"Host\": \"algo-1\", \"Operation\": \"training\", \"Algorithm\": \"Linear Learner\", \"epoch\": 6}, \"StartTime\": 1579888116.979932}\n",
      "\u001b[0m\n",
      "\u001b[34m#metrics {\"Metrics\": {\"train_multiclass_cross_entropy_objective\": {\"count\": 1, \"max\": 1.1728559438069661, \"sum\": 1.1728559438069661, \"min\": 1.1728559438069661}}, \"EndTime\": 1579888116.980001, \"Dimensions\": {\"model\": 2, \"Host\": \"algo-1\", \"Operation\": \"training\", \"Algorithm\": \"Linear Learner\", \"epoch\": 6}, \"StartTime\": 1579888116.979988}\n",
      "\u001b[0m\n",
      "\u001b[34m#metrics {\"Metrics\": {\"train_multiclass_cross_entropy_objective\": {\"count\": 1, \"max\": 0.893452968343099, \"sum\": 0.893452968343099, \"min\": 0.893452968343099}}, \"EndTime\": 1579888116.980048, \"Dimensions\": {\"model\": 3, \"Host\": \"algo-1\", \"Operation\": \"training\", \"Algorithm\": \"Linear Learner\", \"epoch\": 6}, \"StartTime\": 1579888116.980035}\n",
      "\u001b[0m\n",
      "\u001b[34m#metrics {\"Metrics\": {\"train_multiclass_cross_entropy_objective\": {\"count\": 1, \"max\": 1.0231776346842447, \"sum\": 1.0231776346842447, \"min\": 1.0231776346842447}}, \"EndTime\": 1579888116.980093, \"Dimensions\": {\"model\": 4, \"Host\": \"algo-1\", \"Operation\": \"training\", \"Algorithm\": \"Linear Learner\", \"epoch\": 6}, \"StartTime\": 1579888116.980082}\n",
      "\u001b[0m\n",
      "\u001b[34m#metrics {\"Metrics\": {\"train_multiclass_cross_entropy_objective\": {\"count\": 1, \"max\": 0.9226353200276692, \"sum\": 0.9226353200276692, \"min\": 0.9226353200276692}}, \"EndTime\": 1579888116.980139, \"Dimensions\": {\"model\": 5, \"Host\": \"algo-1\", \"Operation\": \"training\", \"Algorithm\": \"Linear Learner\", \"epoch\": 6}, \"StartTime\": 1579888116.980127}\n",
      "\u001b[0m\n",
      "\u001b[34m#metrics {\"Metrics\": {\"train_multiclass_cross_entropy_objective\": {\"count\": 1, \"max\": 0.8961428680419922, \"sum\": 0.8961428680419922, \"min\": 0.8961428680419922}}, \"EndTime\": 1579888116.980183, \"Dimensions\": {\"model\": 6, \"Host\": \"algo-1\", \"Operation\": \"training\", \"Algorithm\": \"Linear Learner\", \"epoch\": 6}, \"StartTime\": 1579888116.980171}\n",
      "\u001b[0m\n",
      "\u001b[34m#metrics {\"Metrics\": {\"train_multiclass_cross_entropy_objective\": {\"count\": 1, \"max\": 0.9257180541992187, \"sum\": 0.9257180541992187, \"min\": 0.9257180541992187}}, \"EndTime\": 1579888116.980227, \"Dimensions\": {\"model\": 7, \"Host\": \"algo-1\", \"Operation\": \"training\", \"Algorithm\": \"Linear Learner\", \"epoch\": 6}, \"StartTime\": 1579888116.980215}\n",
      "\u001b[0m\n",
      "\u001b[34m#metrics {\"Metrics\": {\"train_multiclass_cross_entropy_objective\": {\"count\": 1, \"max\": 0.9313262125651042, \"sum\": 0.9313262125651042, \"min\": 0.9313262125651042}}, \"EndTime\": 1579888116.980272, \"Dimensions\": {\"model\": 8, \"Host\": \"algo-1\", \"Operation\": \"training\", \"Algorithm\": \"Linear Learner\", \"epoch\": 6}, \"StartTime\": 1579888116.98026}\n",
      "\u001b[0m\n",
      "\u001b[34m#metrics {\"Metrics\": {\"train_multiclass_cross_entropy_objective\": {\"count\": 1, \"max\": 2.9896907491048177, \"sum\": 2.9896907491048177, \"min\": 2.9896907491048177}}, \"EndTime\": 1579888116.980319, \"Dimensions\": {\"model\": 9, \"Host\": \"algo-1\", \"Operation\": \"training\", \"Algorithm\": \"Linear Learner\", \"epoch\": 6}, \"StartTime\": 1579888116.980307}\n",
      "\u001b[0m\n",
      "\u001b[34m#metrics {\"Metrics\": {\"train_multiclass_cross_entropy_objective\": {\"count\": 1, \"max\": 0.9339546122233073, \"sum\": 0.9339546122233073, \"min\": 0.9339546122233073}}, \"EndTime\": 1579888116.980366, \"Dimensions\": {\"model\": 10, \"Host\": \"algo-1\", \"Operation\": \"training\", \"Algorithm\": \"Linear Learner\", \"epoch\": 6}, \"StartTime\": 1579888116.980354}\n",
      "\u001b[0m\n",
      "\u001b[34m#metrics {\"Metrics\": {\"train_multiclass_cross_entropy_objective\": {\"count\": 1, \"max\": 0.960893642171224, \"sum\": 0.960893642171224, \"min\": 0.960893642171224}}, \"EndTime\": 1579888116.980411, \"Dimensions\": {\"model\": 11, \"Host\": \"algo-1\", \"Operation\": \"training\", \"Algorithm\": \"Linear Learner\", \"epoch\": 6}, \"StartTime\": 1579888116.980399}\n",
      "\u001b[0m\n",
      "\u001b[34m#metrics {\"Metrics\": {\"train_multiclass_cross_entropy_objective\": {\"count\": 1, \"max\": 0.9067071879069011, \"sum\": 0.9067071879069011, \"min\": 0.9067071879069011}}, \"EndTime\": 1579888116.980479, \"Dimensions\": {\"model\": 12, \"Host\": \"algo-1\", \"Operation\": \"training\", \"Algorithm\": \"Linear Learner\", \"epoch\": 6}, \"StartTime\": 1579888116.980445}\n",
      "\u001b[0m\n",
      "\u001b[34m#metrics {\"Metrics\": {\"train_multiclass_cross_entropy_objective\": {\"count\": 1, \"max\": 1.0687877888997397, \"sum\": 1.0687877888997397, \"min\": 1.0687877888997397}}, \"EndTime\": 1579888116.980529, \"Dimensions\": {\"model\": 13, \"Host\": \"algo-1\", \"Operation\": \"training\", \"Algorithm\": \"Linear Learner\", \"epoch\": 6}, \"StartTime\": 1579888116.980516}\n",
      "\u001b[0m\n",
      "\u001b[34m#metrics {\"Metrics\": {\"train_multiclass_cross_entropy_objective\": {\"count\": 1, \"max\": 2.3894626607259113, \"sum\": 2.3894626607259113, \"min\": 2.3894626607259113}}, \"EndTime\": 1579888116.980582, \"Dimensions\": {\"model\": 14, \"Host\": \"algo-1\", \"Operation\": \"training\", \"Algorithm\": \"Linear Learner\", \"epoch\": 6}, \"StartTime\": 1579888116.980569}\n",
      "\u001b[0m\n",
      "\u001b[34m#metrics {\"Metrics\": {\"train_multiclass_cross_entropy_objective\": {\"count\": 1, \"max\": 0.8901780212402344, \"sum\": 0.8901780212402344, \"min\": 0.8901780212402344}}, \"EndTime\": 1579888116.980628, \"Dimensions\": {\"model\": 15, \"Host\": \"algo-1\", \"Operation\": \"training\", \"Algorithm\": \"Linear Learner\", \"epoch\": 6}, \"StartTime\": 1579888116.980616}\n",
      "\u001b[0m\n",
      "\u001b[34m#metrics {\"Metrics\": {\"train_multiclass_cross_entropy_objective\": {\"count\": 1, \"max\": 0.889443667602539, \"sum\": 0.889443667602539, \"min\": 0.889443667602539}}, \"EndTime\": 1579888116.980673, \"Dimensions\": {\"model\": 16, \"Host\": \"algo-1\", \"Operation\": \"training\", \"Algorithm\": \"Linear Learner\", \"epoch\": 6}, \"StartTime\": 1579888116.980661}\n",
      "\u001b[0m\n",
      "\u001b[34m#metrics {\"Metrics\": {\"train_multiclass_cross_entropy_objective\": {\"count\": 1, \"max\": 0.8914711405436198, \"sum\": 0.8914711405436198, \"min\": 0.8914711405436198}}, \"EndTime\": 1579888116.980719, \"Dimensions\": {\"model\": 17, \"Host\": \"algo-1\", \"Operation\": \"training\", \"Algorithm\": \"Linear Learner\", \"epoch\": 6}, \"StartTime\": 1579888116.980707}\n",
      "\u001b[0m\n",
      "\u001b[34m#metrics {\"Metrics\": {\"train_multiclass_cross_entropy_objective\": {\"count\": 1, \"max\": 1.777418983968099, \"sum\": 1.777418983968099, \"min\": 1.777418983968099}}, \"EndTime\": 1579888116.980771, \"Dimensions\": {\"model\": 18, \"Host\": \"algo-1\", \"Operation\": \"training\", \"Algorithm\": \"Linear Learner\", \"epoch\": 6}, \"StartTime\": 1579888116.980758}\n",
      "\u001b[0m\n",
      "\u001b[34m#metrics {\"Metrics\": {\"train_multiclass_cross_entropy_objective\": {\"count\": 1, \"max\": 1.5397405598958334, \"sum\": 1.5397405598958334, \"min\": 1.5397405598958334}}, \"EndTime\": 1579888116.980818, \"Dimensions\": {\"model\": 19, \"Host\": \"algo-1\", \"Operation\": \"training\", \"Algorithm\": \"Linear Learner\", \"epoch\": 6}, \"StartTime\": 1579888116.980806}\n",
      "\u001b[0m\n",
      "\u001b[34m#metrics {\"Metrics\": {\"train_multiclass_cross_entropy_objective\": {\"count\": 1, \"max\": 1.903484297688802, \"sum\": 1.903484297688802, \"min\": 1.903484297688802}}, \"EndTime\": 1579888116.980862, \"Dimensions\": {\"model\": 20, \"Host\": \"algo-1\", \"Operation\": \"training\", \"Algorithm\": \"Linear Learner\", \"epoch\": 6}, \"StartTime\": 1579888116.980851}\n",
      "\u001b[0m\n",
      "\u001b[34m#metrics {\"Metrics\": {\"train_multiclass_cross_entropy_objective\": {\"count\": 1, \"max\": 1.8884189270019531, \"sum\": 1.8884189270019531, \"min\": 1.8884189270019531}}, \"EndTime\": 1579888116.980906, \"Dimensions\": {\"model\": 21, \"Host\": \"algo-1\", \"Operation\": \"training\", \"Algorithm\": \"Linear Learner\", \"epoch\": 6}, \"StartTime\": 1579888116.980894}\n",
      "\u001b[0m\n",
      "\u001b[34m#metrics {\"Metrics\": {\"train_multiclass_cross_entropy_objective\": {\"count\": 1, \"max\": 0.9336929178873697, \"sum\": 0.9336929178873697, \"min\": 0.9336929178873697}}, \"EndTime\": 1579888116.98095, \"Dimensions\": {\"model\": 22, \"Host\": \"algo-1\", \"Operation\": \"training\", \"Algorithm\": \"Linear Learner\", \"epoch\": 6}, \"StartTime\": 1579888116.980939}\n",
      "\u001b[0m\n",
      "\u001b[34m#metrics {\"Metrics\": {\"train_multiclass_cross_entropy_objective\": {\"count\": 1, \"max\": 0.9046371663411459, \"sum\": 0.9046371663411459, \"min\": 0.9046371663411459}}, \"EndTime\": 1579888116.980993, \"Dimensions\": {\"model\": 23, \"Host\": \"algo-1\", \"Operation\": \"training\", \"Algorithm\": \"Linear Learner\", \"epoch\": 6}, \"StartTime\": 1579888116.980982}\n",
      "\u001b[0m\n",
      "\u001b[34m#metrics {\"Metrics\": {\"train_multiclass_cross_entropy_objective\": {\"count\": 1, \"max\": 1.5129201405843098, \"sum\": 1.5129201405843098, \"min\": 1.5129201405843098}}, \"EndTime\": 1579888116.981039, \"Dimensions\": {\"model\": 24, \"Host\": \"algo-1\", \"Operation\": \"training\", \"Algorithm\": \"Linear Learner\", \"epoch\": 6}, \"StartTime\": 1579888116.981028}\n",
      "\u001b[0m\n",
      "\u001b[34m#metrics {\"Metrics\": {\"train_multiclass_cross_entropy_objective\": {\"count\": 1, \"max\": 0.8964593221028646, \"sum\": 0.8964593221028646, \"min\": 0.8964593221028646}}, \"EndTime\": 1579888116.981084, \"Dimensions\": {\"model\": 25, \"Host\": \"algo-1\", \"Operation\": \"training\", \"Algorithm\": \"Linear Learner\", \"epoch\": 6}, \"StartTime\": 1579888116.981072}\n",
      "\u001b[0m\n",
      "\u001b[34m#metrics {\"Metrics\": {\"train_multiclass_cross_entropy_objective\": {\"count\": 1, \"max\": 1.1593520324707032, \"sum\": 1.1593520324707032, \"min\": 1.1593520324707032}}, \"EndTime\": 1579888116.981144, \"Dimensions\": {\"model\": 26, \"Host\": \"algo-1\", \"Operation\": \"training\", \"Algorithm\": \"Linear Learner\", \"epoch\": 6}, \"StartTime\": 1579888116.981132}\n",
      "\u001b[0m\n",
      "\u001b[34m#metrics {\"Metrics\": {\"train_multiclass_cross_entropy_objective\": {\"count\": 1, \"max\": 0.8993507588704427, \"sum\": 0.8993507588704427, \"min\": 0.8993507588704427}}, \"EndTime\": 1579888116.981189, \"Dimensions\": {\"model\": 27, \"Host\": \"algo-1\", \"Operation\": \"training\", \"Algorithm\": \"Linear Learner\", \"epoch\": 6}, \"StartTime\": 1579888116.981177}\n",
      "\u001b[0m\n",
      "\u001b[34m#metrics {\"Metrics\": {\"train_multiclass_cross_entropy_objective\": {\"count\": 1, \"max\": 0.9785551239013672, \"sum\": 0.9785551239013672, \"min\": 0.9785551239013672}}, \"EndTime\": 1579888116.981232, \"Dimensions\": {\"model\": 28, \"Host\": \"algo-1\", \"Operation\": \"training\", \"Algorithm\": \"Linear Learner\", \"epoch\": 6}, \"StartTime\": 1579888116.981221}\n",
      "\u001b[0m\n",
      "\u001b[34m#metrics {\"Metrics\": {\"train_multiclass_cross_entropy_objective\": {\"count\": 1, \"max\": 0.9946411834716797, \"sum\": 0.9946411834716797, \"min\": 0.9946411834716797}}, \"EndTime\": 1579888116.981275, \"Dimensions\": {\"model\": 29, \"Host\": \"algo-1\", \"Operation\": \"training\", \"Algorithm\": \"Linear Learner\", \"epoch\": 6}, \"StartTime\": 1579888116.981264}\n",
      "\u001b[0m\n",
      "\u001b[34m#metrics {\"Metrics\": {\"train_multiclass_cross_entropy_objective\": {\"count\": 1, \"max\": 0.959620166015625, \"sum\": 0.959620166015625, \"min\": 0.959620166015625}}, \"EndTime\": 1579888116.981318, \"Dimensions\": {\"model\": 30, \"Host\": \"algo-1\", \"Operation\": \"training\", \"Algorithm\": \"Linear Learner\", \"epoch\": 6}, \"StartTime\": 1579888116.981307}\n",
      "\u001b[0m\n",
      "\u001b[34m#metrics {\"Metrics\": {\"train_multiclass_cross_entropy_objective\": {\"count\": 1, \"max\": 0.901256010945638, \"sum\": 0.901256010945638, \"min\": 0.901256010945638}}, \"EndTime\": 1579888116.981363, \"Dimensions\": {\"model\": 31, \"Host\": \"algo-1\", \"Operation\": \"training\", \"Algorithm\": \"Linear Learner\", \"epoch\": 6}, \"StartTime\": 1579888116.981352}\n",
      "\u001b[0m\n",
      "\u001b[34m[01/24/2020 17:48:36 INFO 140276589545280] #quality_metric: host=algo-1, epoch=6, train multiclass_cross_entropy_objective <loss>=0.897099400838\u001b[0m\n",
      "\u001b[34m[2020-01-24 17:48:37.198] [tensorio] [info] epoch_stats={\"data_pipeline\": \"/opt/ml/input/data/validation\", \"epoch\": 20, \"duration\": 193, \"num_examples\": 8, \"num_bytes\": 3094120}\u001b[0m\n",
      "\u001b[34m#metrics {\"Metrics\": {\"validation_multiclass_cross_entropy_objective\": {\"count\": 1, \"max\": 0.8999985208524052, \"sum\": 0.8999985208524052, \"min\": 0.8999985208524052}}, \"EndTime\": 1579888117.204719, \"Dimensions\": {\"model\": 0, \"Host\": \"algo-1\", \"Operation\": \"training\", \"Algorithm\": \"Linear Learner\", \"epoch\": 6}, \"StartTime\": 1579888117.204654}\n",
      "\u001b[0m\n",
      "\u001b[34m#metrics {\"Metrics\": {\"validation_multiclass_cross_entropy_objective\": {\"count\": 1, \"max\": 1.0298894524098077, \"sum\": 1.0298894524098077, \"min\": 1.0298894524098077}}, \"EndTime\": 1579888117.204804, \"Dimensions\": {\"model\": 1, \"Host\": \"algo-1\", \"Operation\": \"training\", \"Algorithm\": \"Linear Learner\", \"epoch\": 6}, \"StartTime\": 1579888117.204785}\n",
      "\u001b[0m\n",
      "\u001b[34m#metrics {\"Metrics\": {\"validation_multiclass_cross_entropy_objective\": {\"count\": 1, \"max\": 1.109144326119861, \"sum\": 1.109144326119861, \"min\": 1.109144326119861}}, \"EndTime\": 1579888117.204869, \"Dimensions\": {\"model\": 2, \"Host\": \"algo-1\", \"Operation\": \"training\", \"Algorithm\": \"Linear Learner\", \"epoch\": 6}, \"StartTime\": 1579888117.204856}\n",
      "\u001b[0m\n",
      "\u001b[34m#metrics {\"Metrics\": {\"validation_multiclass_cross_entropy_objective\": {\"count\": 1, \"max\": 0.8972023629951731, \"sum\": 0.8972023629951731, \"min\": 0.8972023629951731}}, \"EndTime\": 1579888117.204929, \"Dimensions\": {\"model\": 3, \"Host\": \"algo-1\", \"Operation\": \"training\", \"Algorithm\": \"Linear Learner\", \"epoch\": 6}, \"StartTime\": 1579888117.204911}\n",
      "\u001b[0m\n",
      "\u001b[34m#metrics {\"Metrics\": {\"validation_multiclass_cross_entropy_objective\": {\"count\": 1, \"max\": 1.0989351071943139, \"sum\": 1.0989351071943139, \"min\": 1.0989351071943139}}, \"EndTime\": 1579888117.204996, \"Dimensions\": {\"model\": 4, \"Host\": \"algo-1\", \"Operation\": \"training\", \"Algorithm\": \"Linear Learner\", \"epoch\": 6}, \"StartTime\": 1579888117.204978}\n",
      "\u001b[0m\n",
      "\u001b[34m#metrics {\"Metrics\": {\"validation_multiclass_cross_entropy_objective\": {\"count\": 1, \"max\": 0.927118639177711, \"sum\": 0.927118639177711, \"min\": 0.927118639177711}}, \"EndTime\": 1579888117.205067, \"Dimensions\": {\"model\": 5, \"Host\": \"algo-1\", \"Operation\": \"training\", \"Algorithm\": \"Linear Learner\", \"epoch\": 6}, \"StartTime\": 1579888117.205049}\n",
      "\u001b[0m\n",
      "\u001b[34m#metrics {\"Metrics\": {\"validation_multiclass_cross_entropy_objective\": {\"count\": 1, \"max\": 0.8921722777832681, \"sum\": 0.8921722777832681, \"min\": 0.8921722777832681}}, \"EndTime\": 1579888117.205126, \"Dimensions\": {\"model\": 6, \"Host\": \"algo-1\", \"Operation\": \"training\", \"Algorithm\": \"Linear Learner\", \"epoch\": 6}, \"StartTime\": 1579888117.205112}\n",
      "\u001b[0m\n",
      "\u001b[34m#metrics {\"Metrics\": {\"validation_multiclass_cross_entropy_objective\": {\"count\": 1, \"max\": 0.9295967599840838, \"sum\": 0.9295967599840838, \"min\": 0.9295967599840838}}, \"EndTime\": 1579888117.205171, \"Dimensions\": {\"model\": 7, \"Host\": \"algo-1\", \"Operation\": \"training\", \"Algorithm\": \"Linear Learner\", \"epoch\": 6}, \"StartTime\": 1579888117.205156}\n",
      "\u001b[0m\n",
      "\u001b[34m#metrics {\"Metrics\": {\"validation_multiclass_cross_entropy_objective\": {\"count\": 1, \"max\": 0.9352699168036368, \"sum\": 0.9352699168036368, \"min\": 0.9352699168036368}}, \"EndTime\": 1579888117.205237, \"Dimensions\": {\"model\": 8, \"Host\": \"algo-1\", \"Operation\": \"training\", \"Algorithm\": \"Linear Learner\", \"epoch\": 6}, \"StartTime\": 1579888117.20522}\n",
      "\u001b[0m\n",
      "\u001b[34m#metrics {\"Metrics\": {\"validation_multiclass_cross_entropy_objective\": {\"count\": 1, \"max\": 3.8587998391467626, \"sum\": 3.8587998391467626, \"min\": 3.8587998391467626}}, \"EndTime\": 1579888117.205299, \"Dimensions\": {\"model\": 9, \"Host\": \"algo-1\", \"Operation\": \"training\", \"Algorithm\": \"Linear Learner\", \"epoch\": 6}, \"StartTime\": 1579888117.205282}\n",
      "\u001b[0m\n",
      "\u001b[34m#metrics {\"Metrics\": {\"validation_multiclass_cross_entropy_objective\": {\"count\": 1, \"max\": 0.9298162386674538, \"sum\": 0.9298162386674538, \"min\": 0.9298162386674538}}, \"EndTime\": 1579888117.20537, \"Dimensions\": {\"model\": 10, \"Host\": \"algo-1\", \"Operation\": \"training\", \"Algorithm\": \"Linear Learner\", \"epoch\": 6}, \"StartTime\": 1579888117.205352}\n",
      "\u001b[0m\n",
      "\u001b[34m#metrics {\"Metrics\": {\"validation_multiclass_cross_entropy_objective\": {\"count\": 1, \"max\": 0.9706891015429947, \"sum\": 0.9706891015429947, \"min\": 0.9706891015429947}}, \"EndTime\": 1579888117.205432, \"Dimensions\": {\"model\": 11, \"Host\": \"algo-1\", \"Operation\": \"training\", \"Algorithm\": \"Linear Learner\", \"epoch\": 6}, \"StartTime\": 1579888117.205415}\n",
      "\u001b[0m\n",
      "\u001b[34m#metrics {\"Metrics\": {\"validation_multiclass_cross_entropy_objective\": {\"count\": 1, \"max\": 0.915934369408497, \"sum\": 0.915934369408497, \"min\": 0.915934369408497}}, \"EndTime\": 1579888117.205494, \"Dimensions\": {\"model\": 12, \"Host\": \"algo-1\", \"Operation\": \"training\", \"Algorithm\": \"Linear Learner\", \"epoch\": 6}, \"StartTime\": 1579888117.205477}\n",
      "\u001b[0m\n",
      "\u001b[34m#metrics {\"Metrics\": {\"validation_multiclass_cross_entropy_objective\": {\"count\": 1, \"max\": 1.109283268467564, \"sum\": 1.109283268467564, \"min\": 1.109283268467564}}, \"EndTime\": 1579888117.205557, \"Dimensions\": {\"model\": 13, \"Host\": \"algo-1\", \"Operation\": \"training\", \"Algorithm\": \"Linear Learner\", \"epoch\": 6}, \"StartTime\": 1579888117.205539}\n",
      "\u001b[0m\n",
      "\u001b[34m#metrics {\"Metrics\": {\"validation_multiclass_cross_entropy_objective\": {\"count\": 1, \"max\": 2.022709921927014, \"sum\": 2.022709921927014, \"min\": 2.022709921927014}}, \"EndTime\": 1579888117.205618, \"Dimensions\": {\"model\": 14, \"Host\": \"algo-1\", \"Operation\": \"training\", \"Algorithm\": \"Linear Learner\", \"epoch\": 6}, \"StartTime\": 1579888117.2056}\n",
      "\u001b[0m\n",
      "\u001b[34m#metrics {\"Metrics\": {\"validation_multiclass_cross_entropy_objective\": {\"count\": 1, \"max\": 0.8958464072642727, \"sum\": 0.8958464072642727, \"min\": 0.8958464072642727}}, \"EndTime\": 1579888117.205677, \"Dimensions\": {\"model\": 15, \"Host\": \"algo-1\", \"Operation\": \"training\", \"Algorithm\": \"Linear Learner\", \"epoch\": 6}, \"StartTime\": 1579888117.20566}\n",
      "\u001b[0m\n",
      "\u001b[34m#metrics {\"Metrics\": {\"validation_multiclass_cross_entropy_objective\": {\"count\": 1, \"max\": 0.8941752915058567, \"sum\": 0.8941752915058567, \"min\": 0.8941752915058567}}, \"EndTime\": 1579888117.205737, \"Dimensions\": {\"model\": 16, \"Host\": \"algo-1\", \"Operation\": \"training\", \"Algorithm\": \"Linear Learner\", \"epoch\": 6}, \"StartTime\": 1579888117.20572}\n",
      "\u001b[0m\n",
      "\u001b[34m#metrics {\"Metrics\": {\"validation_multiclass_cross_entropy_objective\": {\"count\": 1, \"max\": 0.8967077913043026, \"sum\": 0.8967077913043026, \"min\": 0.8967077913043026}}, \"EndTime\": 1579888117.205798, \"Dimensions\": {\"model\": 17, \"Host\": \"algo-1\", \"Operation\": \"training\", \"Algorithm\": \"Linear Learner\", \"epoch\": 6}, \"StartTime\": 1579888117.20578}\n",
      "\u001b[0m\n",
      "\u001b[34m#metrics {\"Metrics\": {\"validation_multiclass_cross_entropy_objective\": {\"count\": 1, \"max\": 1.2312550469816286, \"sum\": 1.2312550469816286, \"min\": 1.2312550469816286}}, \"EndTime\": 1579888117.205867, \"Dimensions\": {\"model\": 18, \"Host\": \"algo-1\", \"Operation\": \"training\", \"Algorithm\": \"Linear Learner\", \"epoch\": 6}, \"StartTime\": 1579888117.20585}\n",
      "\u001b[0m\n",
      "\u001b[34m#metrics {\"Metrics\": {\"validation_multiclass_cross_entropy_objective\": {\"count\": 1, \"max\": 1.6913655653139563, \"sum\": 1.6913655653139563, \"min\": 1.6913655653139563}}, \"EndTime\": 1579888117.205931, \"Dimensions\": {\"model\": 19, \"Host\": \"algo-1\", \"Operation\": \"training\", \"Algorithm\": \"Linear Learner\", \"epoch\": 6}, \"StartTime\": 1579888117.205914}\n",
      "\u001b[0m\n",
      "\u001b[34m#metrics {\"Metrics\": {\"validation_multiclass_cross_entropy_objective\": {\"count\": 1, \"max\": 2.4641395294555175, \"sum\": 2.4641395294555175, \"min\": 2.4641395294555175}}, \"EndTime\": 1579888117.205989, \"Dimensions\": {\"model\": 20, \"Host\": \"algo-1\", \"Operation\": \"training\", \"Algorithm\": \"Linear Learner\", \"epoch\": 6}, \"StartTime\": 1579888117.205976}\n",
      "\u001b[0m\n",
      "\u001b[34m#metrics {\"Metrics\": {\"validation_multiclass_cross_entropy_objective\": {\"count\": 1, \"max\": 2.120329924683755, \"sum\": 2.120329924683755, \"min\": 2.120329924683755}}, \"EndTime\": 1579888117.206039, \"Dimensions\": {\"model\": 21, \"Host\": \"algo-1\", \"Operation\": \"training\", \"Algorithm\": \"Linear Learner\", \"epoch\": 6}, \"StartTime\": 1579888117.206022}\n",
      "\u001b[0m\n",
      "\u001b[34m#metrics {\"Metrics\": {\"validation_multiclass_cross_entropy_objective\": {\"count\": 1, \"max\": 0.9539250684959117, \"sum\": 0.9539250684959117, \"min\": 0.9539250684959117}}, \"EndTime\": 1579888117.206108, \"Dimensions\": {\"model\": 22, \"Host\": \"algo-1\", \"Operation\": \"training\", \"Algorithm\": \"Linear Learner\", \"epoch\": 6}, \"StartTime\": 1579888117.20609}\n",
      "\u001b[0m\n",
      "\u001b[34m#metrics {\"Metrics\": {\"validation_multiclass_cross_entropy_objective\": {\"count\": 1, \"max\": 0.9127786770959033, \"sum\": 0.9127786770959033, \"min\": 0.9127786770959033}}, \"EndTime\": 1579888117.206183, \"Dimensions\": {\"model\": 23, \"Host\": \"algo-1\", \"Operation\": \"training\", \"Algorithm\": \"Linear Learner\", \"epoch\": 6}, \"StartTime\": 1579888117.206164}\n",
      "\u001b[0m\n",
      "\u001b[34m#metrics {\"Metrics\": {\"validation_multiclass_cross_entropy_objective\": {\"count\": 1, \"max\": 1.0533034811007198, \"sum\": 1.0533034811007198, \"min\": 1.0533034811007198}}, \"EndTime\": 1579888117.206254, \"Dimensions\": {\"model\": 24, \"Host\": \"algo-1\", \"Operation\": \"training\", \"Algorithm\": \"Linear Learner\", \"epoch\": 6}, \"StartTime\": 1579888117.206236}\n",
      "\u001b[0m\n",
      "\u001b[34m#metrics {\"Metrics\": {\"validation_multiclass_cross_entropy_objective\": {\"count\": 1, \"max\": 0.9025312604027963, \"sum\": 0.9025312604027963, \"min\": 0.9025312604027963}}, \"EndTime\": 1579888117.206327, \"Dimensions\": {\"model\": 25, \"Host\": \"algo-1\", \"Operation\": \"training\", \"Algorithm\": \"Linear Learner\", \"epoch\": 6}, \"StartTime\": 1579888117.206308}\n",
      "\u001b[0m\n",
      "\u001b[34m#metrics {\"Metrics\": {\"validation_multiclass_cross_entropy_objective\": {\"count\": 1, \"max\": 1.0891866102358314, \"sum\": 1.0891866102358314, \"min\": 1.0891866102358314}}, \"EndTime\": 1579888117.206395, \"Dimensions\": {\"model\": 26, \"Host\": \"algo-1\", \"Operation\": \"training\", \"Algorithm\": \"Linear Learner\", \"epoch\": 6}, \"StartTime\": 1579888117.206379}\n",
      "\u001b[0m\n",
      "\u001b[34m#metrics {\"Metrics\": {\"validation_multiclass_cross_entropy_objective\": {\"count\": 1, \"max\": 0.9054056139665342, \"sum\": 0.9054056139665342, \"min\": 0.9054056139665342}}, \"EndTime\": 1579888117.206456, \"Dimensions\": {\"model\": 27, \"Host\": \"algo-1\", \"Operation\": \"training\", \"Algorithm\": \"Linear Learner\", \"epoch\": 6}, \"StartTime\": 1579888117.206439}\n",
      "\u001b[0m\n",
      "\u001b[34m#metrics {\"Metrics\": {\"validation_multiclass_cross_entropy_objective\": {\"count\": 1, \"max\": 0.9891236855091649, \"sum\": 0.9891236855091649, \"min\": 0.9891236855091649}}, \"EndTime\": 1579888117.206517, \"Dimensions\": {\"model\": 28, \"Host\": \"algo-1\", \"Operation\": \"training\", \"Algorithm\": \"Linear Learner\", \"epoch\": 6}, \"StartTime\": 1579888117.2065}\n",
      "\u001b[0m\n",
      "\u001b[34m#metrics {\"Metrics\": {\"validation_multiclass_cross_entropy_objective\": {\"count\": 1, \"max\": 0.9875093015627601, \"sum\": 0.9875093015627601, \"min\": 0.9875093015627601}}, \"EndTime\": 1579888117.206579, \"Dimensions\": {\"model\": 29, \"Host\": \"algo-1\", \"Operation\": \"training\", \"Algorithm\": \"Linear Learner\", \"epoch\": 6}, \"StartTime\": 1579888117.206563}\n",
      "\u001b[0m\n",
      "\u001b[34m#metrics {\"Metrics\": {\"validation_multiclass_cross_entropy_objective\": {\"count\": 1, \"max\": 0.9539594993134154, \"sum\": 0.9539594993134154, \"min\": 0.9539594993134154}}, \"EndTime\": 1579888117.206643, \"Dimensions\": {\"model\": 30, \"Host\": \"algo-1\", \"Operation\": \"training\", \"Algorithm\": \"Linear Learner\", \"epoch\": 6}, \"StartTime\": 1579888117.206626}\n",
      "\u001b[0m\n",
      "\u001b[34m#metrics {\"Metrics\": {\"validation_multiclass_cross_entropy_objective\": {\"count\": 1, \"max\": 0.9092573386851386, \"sum\": 0.9092573386851386, \"min\": 0.9092573386851386}}, \"EndTime\": 1579888117.206713, \"Dimensions\": {\"model\": 31, \"Host\": \"algo-1\", \"Operation\": \"training\", \"Algorithm\": \"Linear Learner\", \"epoch\": 6}, \"StartTime\": 1579888117.206696}\n",
      "\u001b[0m\n",
      "\u001b[34m[01/24/2020 17:48:37 INFO 140276589545280] #quality_metric: host=algo-1, epoch=6, validation multiclass_cross_entropy_objective <loss>=0.899998520852\u001b[0m\n",
      "\u001b[34m[01/24/2020 17:48:37 INFO 140276589545280] #early_stopping_criteria_metric: host=algo-1, epoch=6, criteria=multiclass_cross_entropy_objective, value=0.892172277783\u001b[0m\n",
      "\u001b[34m[01/24/2020 17:48:37 INFO 140276589545280] #progress_metric: host=algo-1, completed 46 % of epochs\u001b[0m\n",
      "\u001b[34m#metrics {\"Metrics\": {\"Max Batches Seen Between Resets\": {\"count\": 1, \"max\": 61, \"sum\": 61.0, \"min\": 61}, \"Number of Batches Since Last Reset\": {\"count\": 1, \"max\": 61, \"sum\": 61.0, \"min\": 61}, \"Number of Records Since Last Reset\": {\"count\": 1, \"max\": 60079, \"sum\": 60079.0, \"min\": 60079}, \"Total Batches Seen\": {\"count\": 1, \"max\": 439, \"sum\": 439.0, \"min\": 439}, \"Total Records Seen\": {\"count\": 1, \"max\": 432553, \"sum\": 432553.0, \"min\": 432553}, \"Max Records Seen Between Resets\": {\"count\": 1, \"max\": 60079, \"sum\": 60079.0, \"min\": 60079}, \"Reset Count\": {\"count\": 1, \"max\": 9, \"sum\": 9.0, \"min\": 9}}, \"EndTime\": 1579888117.207687, \"Dimensions\": {\"Host\": \"algo-1\", \"Meta\": \"training_data_iter\", \"Operation\": \"training\", \"Algorithm\": \"Linear Learner\", \"epoch\": 6}, \"StartTime\": 1579888114.426166}\n",
      "\u001b[0m\n",
      "\u001b[34m[01/24/2020 17:48:37 INFO 140276589545280] #throughput_metric: host=algo-1, train throughput=21598.2610638 records/second\u001b[0m\n",
      "\u001b[34m[2020-01-24 17:48:39.690] [tensorio] [info] epoch_stats={\"data_pipeline\": \"/opt/ml/input/data/train\", \"epoch\": 17, \"duration\": 2482, \"num_examples\": 61, \"num_bytes\": 24752548}\u001b[0m\n",
      "\u001b[34m#metrics {\"Metrics\": {\"train_multiclass_cross_entropy_objective\": {\"count\": 1, \"max\": 0.8969505920410156, \"sum\": 0.8969505920410156, \"min\": 0.8969505920410156}}, \"EndTime\": 1579888119.690755, \"Dimensions\": {\"model\": 0, \"Host\": \"algo-1\", \"Operation\": \"training\", \"Algorithm\": \"Linear Learner\", \"epoch\": 7}, \"StartTime\": 1579888119.690621}\n",
      "\u001b[0m\n",
      "\u001b[34m#metrics {\"Metrics\": {\"train_multiclass_cross_entropy_objective\": {\"count\": 1, \"max\": 1.0535011006673176, \"sum\": 1.0535011006673176, \"min\": 1.0535011006673176}}, \"EndTime\": 1579888119.690878, \"Dimensions\": {\"model\": 1, \"Host\": \"algo-1\", \"Operation\": \"training\", \"Algorithm\": \"Linear Learner\", \"epoch\": 7}, \"StartTime\": 1579888119.690858}\n",
      "\u001b[0m\n",
      "\u001b[34m#metrics {\"Metrics\": {\"train_multiclass_cross_entropy_objective\": {\"count\": 1, \"max\": 1.1470117299397786, \"sum\": 1.1470117299397786, \"min\": 1.1470117299397786}}, \"EndTime\": 1579888119.690963, \"Dimensions\": {\"model\": 2, \"Host\": \"algo-1\", \"Operation\": \"training\", \"Algorithm\": \"Linear Learner\", \"epoch\": 7}, \"StartTime\": 1579888119.690947}\n",
      "\u001b[0m\n",
      "\u001b[34m#metrics {\"Metrics\": {\"train_multiclass_cross_entropy_objective\": {\"count\": 1, \"max\": 0.8931239166259766, \"sum\": 0.8931239166259766, \"min\": 0.8931239166259766}}, \"EndTime\": 1579888119.691014, \"Dimensions\": {\"model\": 3, \"Host\": \"algo-1\", \"Operation\": \"training\", \"Algorithm\": \"Linear Learner\", \"epoch\": 7}, \"StartTime\": 1579888119.691001}\n",
      "\u001b[0m\n",
      "\u001b[34m#metrics {\"Metrics\": {\"train_multiclass_cross_entropy_objective\": {\"count\": 1, \"max\": 1.0280403238932292, \"sum\": 1.0280403238932292, \"min\": 1.0280403238932292}}, \"EndTime\": 1579888119.691089, \"Dimensions\": {\"model\": 4, \"Host\": \"algo-1\", \"Operation\": \"training\", \"Algorithm\": \"Linear Learner\", \"epoch\": 7}, \"StartTime\": 1579888119.691051}\n",
      "\u001b[0m\n",
      "\u001b[34m#metrics {\"Metrics\": {\"train_multiclass_cross_entropy_objective\": {\"count\": 1, \"max\": 0.9210873504638671, \"sum\": 0.9210873504638671, \"min\": 0.9210873504638671}}, \"EndTime\": 1579888119.691151, \"Dimensions\": {\"model\": 5, \"Host\": \"algo-1\", \"Operation\": \"training\", \"Algorithm\": \"Linear Learner\", \"epoch\": 7}, \"StartTime\": 1579888119.691137}\n",
      "\u001b[0m\n",
      "\u001b[34m#metrics {\"Metrics\": {\"train_multiclass_cross_entropy_objective\": {\"count\": 1, \"max\": 0.8956805033365886, \"sum\": 0.8956805033365886, \"min\": 0.8956805033365886}}, \"EndTime\": 1579888119.691199, \"Dimensions\": {\"model\": 6, \"Host\": \"algo-1\", \"Operation\": \"training\", \"Algorithm\": \"Linear Learner\", \"epoch\": 7}, \"StartTime\": 1579888119.691187}\n",
      "\u001b[0m\n",
      "\u001b[34m#metrics {\"Metrics\": {\"train_multiclass_cross_entropy_objective\": {\"count\": 1, \"max\": 0.9237013397216797, \"sum\": 0.9237013397216797, \"min\": 0.9237013397216797}}, \"EndTime\": 1579888119.691275, \"Dimensions\": {\"model\": 7, \"Host\": \"algo-1\", \"Operation\": \"training\", \"Algorithm\": \"Linear Learner\", \"epoch\": 7}, \"StartTime\": 1579888119.691259}\n",
      "\u001b[0m\n",
      "\u001b[34m#metrics {\"Metrics\": {\"train_multiclass_cross_entropy_objective\": {\"count\": 1, \"max\": 0.9303130818684896, \"sum\": 0.9303130818684896, \"min\": 0.9303130818684896}}, \"EndTime\": 1579888119.691331, \"Dimensions\": {\"model\": 8, \"Host\": \"algo-1\", \"Operation\": \"training\", \"Algorithm\": \"Linear Learner\", \"epoch\": 7}, \"StartTime\": 1579888119.691318}\n",
      "\u001b[0m\n",
      "\u001b[34m#metrics {\"Metrics\": {\"train_multiclass_cross_entropy_objective\": {\"count\": 1, \"max\": 2.8870770751953123, \"sum\": 2.8870770751953123, \"min\": 2.8870770751953123}}, \"EndTime\": 1579888119.691384, \"Dimensions\": {\"model\": 9, \"Host\": \"algo-1\", \"Operation\": \"training\", \"Algorithm\": \"Linear Learner\", \"epoch\": 7}, \"StartTime\": 1579888119.691372}\n",
      "\u001b[0m\n",
      "\u001b[34m#metrics {\"Metrics\": {\"train_multiclass_cross_entropy_objective\": {\"count\": 1, \"max\": 0.933703022257487, \"sum\": 0.933703022257487, \"min\": 0.933703022257487}}, \"EndTime\": 1579888119.691465, \"Dimensions\": {\"model\": 10, \"Host\": \"algo-1\", \"Operation\": \"training\", \"Algorithm\": \"Linear Learner\", \"epoch\": 7}, \"StartTime\": 1579888119.691449}\n",
      "\u001b[0m\n",
      "\u001b[34m#metrics {\"Metrics\": {\"train_multiclass_cross_entropy_objective\": {\"count\": 1, \"max\": 0.9613868011474609, \"sum\": 0.9613868011474609, \"min\": 0.9613868011474609}}, \"EndTime\": 1579888119.691512, \"Dimensions\": {\"model\": 11, \"Host\": \"algo-1\", \"Operation\": \"training\", \"Algorithm\": \"Linear Learner\", \"epoch\": 7}, \"StartTime\": 1579888119.6915}\n",
      "\u001b[0m\n",
      "\u001b[34m#metrics {\"Metrics\": {\"train_multiclass_cross_entropy_objective\": {\"count\": 1, \"max\": 0.9060152364095052, \"sum\": 0.9060152364095052, \"min\": 0.9060152364095052}}, \"EndTime\": 1579888119.691621, \"Dimensions\": {\"model\": 12, \"Host\": \"algo-1\", \"Operation\": \"training\", \"Algorithm\": \"Linear Learner\", \"epoch\": 7}, \"StartTime\": 1579888119.691605}\n",
      "\u001b[0m\n",
      "\u001b[34m#metrics {\"Metrics\": {\"train_multiclass_cross_entropy_objective\": {\"count\": 1, \"max\": 1.0618822692871093, \"sum\": 1.0618822692871093, \"min\": 1.0618822692871093}}, \"EndTime\": 1579888119.691673, \"Dimensions\": {\"model\": 13, \"Host\": \"algo-1\", \"Operation\": \"training\", \"Algorithm\": \"Linear Learner\", \"epoch\": 7}, \"StartTime\": 1579888119.69166}\n",
      "\u001b[0m\n",
      "\u001b[34m#metrics {\"Metrics\": {\"train_multiclass_cross_entropy_objective\": {\"count\": 1, \"max\": 2.2878060770670574, \"sum\": 2.2878060770670574, \"min\": 2.2878060770670574}}, \"EndTime\": 1579888119.691758, \"Dimensions\": {\"model\": 14, \"Host\": \"algo-1\", \"Operation\": \"training\", \"Algorithm\": \"Linear Learner\", \"epoch\": 7}, \"StartTime\": 1579888119.691723}\n",
      "\u001b[0m\n",
      "\u001b[34m#metrics {\"Metrics\": {\"train_multiclass_cross_entropy_objective\": {\"count\": 1, \"max\": 0.8892079528808594, \"sum\": 0.8892079528808594, \"min\": 0.8892079528808594}}, \"EndTime\": 1579888119.691811, \"Dimensions\": {\"model\": 15, \"Host\": \"algo-1\", \"Operation\": \"training\", \"Algorithm\": \"Linear Learner\", \"epoch\": 7}, \"StartTime\": 1579888119.691798}\n",
      "\u001b[0m\n",
      "\u001b[34m#metrics {\"Metrics\": {\"train_multiclass_cross_entropy_objective\": {\"count\": 1, \"max\": 0.8883934265136719, \"sum\": 0.8883934265136719, \"min\": 0.8883934265136719}}, \"EndTime\": 1579888119.691856, \"Dimensions\": {\"model\": 16, \"Host\": \"algo-1\", \"Operation\": \"training\", \"Algorithm\": \"Linear Learner\", \"epoch\": 7}, \"StartTime\": 1579888119.691845}\n",
      "\u001b[0m\n",
      "\u001b[34m#metrics {\"Metrics\": {\"train_multiclass_cross_entropy_objective\": {\"count\": 1, \"max\": 0.890681948852539, \"sum\": 0.890681948852539, \"min\": 0.890681948852539}}, \"EndTime\": 1579888119.691901, \"Dimensions\": {\"model\": 17, \"Host\": \"algo-1\", \"Operation\": \"training\", \"Algorithm\": \"Linear Learner\", \"epoch\": 7}, \"StartTime\": 1579888119.691889}\n",
      "\u001b[0m\n",
      "\u001b[34m#metrics {\"Metrics\": {\"train_multiclass_cross_entropy_objective\": {\"count\": 1, \"max\": 1.7266198079427084, \"sum\": 1.7266198079427084, \"min\": 1.7266198079427084}}, \"EndTime\": 1579888119.691954, \"Dimensions\": {\"model\": 18, \"Host\": \"algo-1\", \"Operation\": \"training\", \"Algorithm\": \"Linear Learner\", \"epoch\": 7}, \"StartTime\": 1579888119.691941}\n",
      "\u001b[0m\n",
      "\u001b[34m#metrics {\"Metrics\": {\"train_multiclass_cross_entropy_objective\": {\"count\": 1, \"max\": 1.5199883728027344, \"sum\": 1.5199883728027344, \"min\": 1.5199883728027344}}, \"EndTime\": 1579888119.692003, \"Dimensions\": {\"model\": 19, \"Host\": \"algo-1\", \"Operation\": \"training\", \"Algorithm\": \"Linear Learner\", \"epoch\": 7}, \"StartTime\": 1579888119.691991}\n",
      "\u001b[0m\n",
      "\u001b[34m#metrics {\"Metrics\": {\"train_multiclass_cross_entropy_objective\": {\"count\": 1, \"max\": 1.8959397115071615, \"sum\": 1.8959397115071615, \"min\": 1.8959397115071615}}, \"EndTime\": 1579888119.69205, \"Dimensions\": {\"model\": 20, \"Host\": \"algo-1\", \"Operation\": \"training\", \"Algorithm\": \"Linear Learner\", \"epoch\": 7}, \"StartTime\": 1579888119.692038}\n",
      "\u001b[0m\n",
      "\u001b[34m#metrics {\"Metrics\": {\"train_multiclass_cross_entropy_objective\": {\"count\": 1, \"max\": 1.7369619801839193, \"sum\": 1.7369619801839193, \"min\": 1.7369619801839193}}, \"EndTime\": 1579888119.692109, \"Dimensions\": {\"model\": 21, \"Host\": \"algo-1\", \"Operation\": \"training\", \"Algorithm\": \"Linear Learner\", \"epoch\": 7}, \"StartTime\": 1579888119.692084}\n",
      "\u001b[0m\n",
      "\u001b[34m#metrics {\"Metrics\": {\"train_multiclass_cross_entropy_objective\": {\"count\": 1, \"max\": 0.9312787089029948, \"sum\": 0.9312787089029948, \"min\": 0.9312787089029948}}, \"EndTime\": 1579888119.692157, \"Dimensions\": {\"model\": 22, \"Host\": \"algo-1\", \"Operation\": \"training\", \"Algorithm\": \"Linear Learner\", \"epoch\": 7}, \"StartTime\": 1579888119.692145}\n",
      "\u001b[0m\n",
      "\u001b[34m#metrics {\"Metrics\": {\"train_multiclass_cross_entropy_objective\": {\"count\": 1, \"max\": 0.9046386464436849, \"sum\": 0.9046386464436849, \"min\": 0.9046386464436849}}, \"EndTime\": 1579888119.692202, \"Dimensions\": {\"model\": 23, \"Host\": \"algo-1\", \"Operation\": \"training\", \"Algorithm\": \"Linear Learner\", \"epoch\": 7}, \"StartTime\": 1579888119.69219}\n",
      "\u001b[0m\n",
      "\u001b[34m#metrics {\"Metrics\": {\"train_multiclass_cross_entropy_objective\": {\"count\": 1, \"max\": 1.5288019022623698, \"sum\": 1.5288019022623698, \"min\": 1.5288019022623698}}, \"EndTime\": 1579888119.692247, \"Dimensions\": {\"model\": 24, \"Host\": \"algo-1\", \"Operation\": \"training\", \"Algorithm\": \"Linear Learner\", \"epoch\": 7}, \"StartTime\": 1579888119.692235}\n",
      "\u001b[0m\n",
      "\u001b[34m#metrics {\"Metrics\": {\"train_multiclass_cross_entropy_objective\": {\"count\": 1, \"max\": 0.8962170928955078, \"sum\": 0.8962170928955078, \"min\": 0.8962170928955078}}, \"EndTime\": 1579888119.692292, \"Dimensions\": {\"model\": 25, \"Host\": \"algo-1\", \"Operation\": \"training\", \"Algorithm\": \"Linear Learner\", \"epoch\": 7}, \"StartTime\": 1579888119.69228}\n",
      "\u001b[0m\n",
      "\u001b[34m#metrics {\"Metrics\": {\"train_multiclass_cross_entropy_objective\": {\"count\": 1, \"max\": 1.1544090260823567, \"sum\": 1.1544090260823567, \"min\": 1.1544090260823567}}, \"EndTime\": 1579888119.692341, \"Dimensions\": {\"model\": 26, \"Host\": \"algo-1\", \"Operation\": \"training\", \"Algorithm\": \"Linear Learner\", \"epoch\": 7}, \"StartTime\": 1579888119.692326}\n",
      "\u001b[0m\n",
      "\u001b[34m#metrics {\"Metrics\": {\"train_multiclass_cross_entropy_objective\": {\"count\": 1, \"max\": 0.8993243001302084, \"sum\": 0.8993243001302084, \"min\": 0.8993243001302084}}, \"EndTime\": 1579888119.6924, \"Dimensions\": {\"model\": 27, \"Host\": \"algo-1\", \"Operation\": \"training\", \"Algorithm\": \"Linear Learner\", \"epoch\": 7}, \"StartTime\": 1579888119.692384}\n",
      "\u001b[0m\n",
      "\u001b[34m#metrics {\"Metrics\": {\"train_multiclass_cross_entropy_objective\": {\"count\": 1, \"max\": 0.9812665120442708, \"sum\": 0.9812665120442708, \"min\": 0.9812665120442708}}, \"EndTime\": 1579888119.692485, \"Dimensions\": {\"model\": 28, \"Host\": \"algo-1\", \"Operation\": \"training\", \"Algorithm\": \"Linear Learner\", \"epoch\": 7}, \"StartTime\": 1579888119.692444}\n",
      "\u001b[0m\n",
      "\u001b[34m#metrics {\"Metrics\": {\"train_multiclass_cross_entropy_objective\": {\"count\": 1, \"max\": 0.9983911387125651, \"sum\": 0.9983911387125651, \"min\": 0.9983911387125651}}, \"EndTime\": 1579888119.692557, \"Dimensions\": {\"model\": 29, \"Host\": \"algo-1\", \"Operation\": \"training\", \"Algorithm\": \"Linear Learner\", \"epoch\": 7}, \"StartTime\": 1579888119.692534}\n",
      "\u001b[0m\n",
      "\u001b[34m#metrics {\"Metrics\": {\"train_multiclass_cross_entropy_objective\": {\"count\": 1, \"max\": 0.9596092732747395, \"sum\": 0.9596092732747395, \"min\": 0.9596092732747395}}, \"EndTime\": 1579888119.692625, \"Dimensions\": {\"model\": 30, \"Host\": \"algo-1\", \"Operation\": \"training\", \"Algorithm\": \"Linear Learner\", \"epoch\": 7}, \"StartTime\": 1579888119.692606}\n",
      "\u001b[0m\n",
      "\u001b[34m#metrics {\"Metrics\": {\"train_multiclass_cross_entropy_objective\": {\"count\": 1, \"max\": 0.9003222615559896, \"sum\": 0.9003222615559896, \"min\": 0.9003222615559896}}, \"EndTime\": 1579888119.692701, \"Dimensions\": {\"model\": 31, \"Host\": \"algo-1\", \"Operation\": \"training\", \"Algorithm\": \"Linear Learner\", \"epoch\": 7}, \"StartTime\": 1579888119.692681}\n",
      "\u001b[0m\n",
      "\u001b[34m[01/24/2020 17:48:39 INFO 140276589545280] #quality_metric: host=algo-1, epoch=7, train multiclass_cross_entropy_objective <loss>=0.896950592041\u001b[0m\n",
      "\u001b[34m[2020-01-24 17:48:39.944] [tensorio] [info] epoch_stats={\"data_pipeline\": \"/opt/ml/input/data/validation\", \"epoch\": 23, \"duration\": 230, \"num_examples\": 8, \"num_bytes\": 3094120}\u001b[0m\n",
      "\u001b[34m#metrics {\"Metrics\": {\"validation_multiclass_cross_entropy_objective\": {\"count\": 1, \"max\": 0.9007713795343189, \"sum\": 0.9007713795343189, \"min\": 0.9007713795343189}}, \"EndTime\": 1579888119.951822, \"Dimensions\": {\"model\": 0, \"Host\": \"algo-1\", \"Operation\": \"training\", \"Algorithm\": \"Linear Learner\", \"epoch\": 7}, \"StartTime\": 1579888119.951759}\n",
      "\u001b[0m\n",
      "\u001b[34m#metrics {\"Metrics\": {\"validation_multiclass_cross_entropy_objective\": {\"count\": 1, \"max\": 1.0310306554151756, \"sum\": 1.0310306554151756, \"min\": 1.0310306554151756}}, \"EndTime\": 1579888119.951908, \"Dimensions\": {\"model\": 1, \"Host\": \"algo-1\", \"Operation\": \"training\", \"Algorithm\": \"Linear Learner\", \"epoch\": 7}, \"StartTime\": 1579888119.951889}\n",
      "\u001b[0m\n",
      "\u001b[34m#metrics {\"Metrics\": {\"validation_multiclass_cross_entropy_objective\": {\"count\": 1, \"max\": 1.0906794115008114, \"sum\": 1.0906794115008114, \"min\": 1.0906794115008114}}, \"EndTime\": 1579888119.951973, \"Dimensions\": {\"model\": 2, \"Host\": \"algo-1\", \"Operation\": \"training\", \"Algorithm\": \"Linear Learner\", \"epoch\": 7}, \"StartTime\": 1579888119.951954}\n",
      "\u001b[0m\n",
      "\u001b[34m#metrics {\"Metrics\": {\"validation_multiclass_cross_entropy_objective\": {\"count\": 1, \"max\": 0.8971301732780771, \"sum\": 0.8971301732780771, \"min\": 0.8971301732780771}}, \"EndTime\": 1579888119.952038, \"Dimensions\": {\"model\": 3, \"Host\": \"algo-1\", \"Operation\": \"training\", \"Algorithm\": \"Linear Learner\", \"epoch\": 7}, \"StartTime\": 1579888119.95202}\n",
      "\u001b[0m\n",
      "\u001b[34m#metrics {\"Metrics\": {\"validation_multiclass_cross_entropy_objective\": {\"count\": 1, \"max\": 0.9814842701593188, \"sum\": 0.9814842701593188, \"min\": 0.9814842701593188}}, \"EndTime\": 1579888119.952103, \"Dimensions\": {\"model\": 4, \"Host\": \"algo-1\", \"Operation\": \"training\", \"Algorithm\": \"Linear Learner\", \"epoch\": 7}, \"StartTime\": 1579888119.952085}\n",
      "\u001b[0m\n",
      "\u001b[34m#metrics {\"Metrics\": {\"validation_multiclass_cross_entropy_objective\": {\"count\": 1, \"max\": 0.92639312540961, \"sum\": 0.92639312540961, \"min\": 0.92639312540961}}, \"EndTime\": 1579888119.952176, \"Dimensions\": {\"model\": 5, \"Host\": \"algo-1\", \"Operation\": \"training\", \"Algorithm\": \"Linear Learner\", \"epoch\": 7}, \"StartTime\": 1579888119.952157}\n",
      "\u001b[0m\n",
      "\u001b[34m#metrics {\"Metrics\": {\"validation_multiclass_cross_entropy_objective\": {\"count\": 1, \"max\": 0.8912863212006388, \"sum\": 0.8912863212006388, \"min\": 0.8912863212006388}}, \"EndTime\": 1579888119.952248, \"Dimensions\": {\"model\": 6, \"Host\": \"algo-1\", \"Operation\": \"training\", \"Algorithm\": \"Linear Learner\", \"epoch\": 7}, \"StartTime\": 1579888119.952231}\n",
      "\u001b[0m\n",
      "\u001b[34m#metrics {\"Metrics\": {\"validation_multiclass_cross_entropy_objective\": {\"count\": 1, \"max\": 0.9283519069300828, \"sum\": 0.9283519069300828, \"min\": 0.9283519069300828}}, \"EndTime\": 1579888119.952317, \"Dimensions\": {\"model\": 7, \"Host\": \"algo-1\", \"Operation\": \"training\", \"Algorithm\": \"Linear Learner\", \"epoch\": 7}, \"StartTime\": 1579888119.9523}\n",
      "\u001b[0m\n",
      "\u001b[34m#metrics {\"Metrics\": {\"validation_multiclass_cross_entropy_objective\": {\"count\": 1, \"max\": 0.9383183993607481, \"sum\": 0.9383183993607481, \"min\": 0.9383183993607481}}, \"EndTime\": 1579888119.952382, \"Dimensions\": {\"model\": 8, \"Host\": \"algo-1\", \"Operation\": \"training\", \"Algorithm\": \"Linear Learner\", \"epoch\": 7}, \"StartTime\": 1579888119.952364}\n",
      "\u001b[0m\n",
      "\u001b[34m#metrics {\"Metrics\": {\"validation_multiclass_cross_entropy_objective\": {\"count\": 1, \"max\": 2.381268627507074, \"sum\": 2.381268627507074, \"min\": 2.381268627507074}}, \"EndTime\": 1579888119.952445, \"Dimensions\": {\"model\": 9, \"Host\": \"algo-1\", \"Operation\": \"training\", \"Algorithm\": \"Linear Learner\", \"epoch\": 7}, \"StartTime\": 1579888119.952427}\n",
      "\u001b[0m\n",
      "\u001b[34m#metrics {\"Metrics\": {\"validation_multiclass_cross_entropy_objective\": {\"count\": 1, \"max\": 0.9295983244671168, \"sum\": 0.9295983244671168, \"min\": 0.9295983244671168}}, \"EndTime\": 1579888119.952531, \"Dimensions\": {\"model\": 10, \"Host\": \"algo-1\", \"Operation\": \"training\", \"Algorithm\": \"Linear Learner\", \"epoch\": 7}, \"StartTime\": 1579888119.952513}\n",
      "\u001b[0m\n",
      "\u001b[34m#metrics {\"Metrics\": {\"validation_multiclass_cross_entropy_objective\": {\"count\": 1, \"max\": 0.970362352150258, \"sum\": 0.970362352150258, \"min\": 0.970362352150258}}, \"EndTime\": 1579888119.952589, \"Dimensions\": {\"model\": 11, \"Host\": \"algo-1\", \"Operation\": \"training\", \"Algorithm\": \"Linear Learner\", \"epoch\": 7}, \"StartTime\": 1579888119.952573}\n",
      "\u001b[0m\n",
      "\u001b[34m#metrics {\"Metrics\": {\"validation_multiclass_cross_entropy_objective\": {\"count\": 1, \"max\": 0.9146364011396263, \"sum\": 0.9146364011396263, \"min\": 0.9146364011396263}}, \"EndTime\": 1579888119.952651, \"Dimensions\": {\"model\": 12, \"Host\": \"algo-1\", \"Operation\": \"training\", \"Algorithm\": \"Linear Learner\", \"epoch\": 7}, \"StartTime\": 1579888119.952633}\n",
      "\u001b[0m\n",
      "\u001b[34m#metrics {\"Metrics\": {\"validation_multiclass_cross_entropy_objective\": {\"count\": 1, \"max\": 1.1489994216695447, \"sum\": 1.1489994216695447, \"min\": 1.1489994216695447}}, \"EndTime\": 1579888119.952714, \"Dimensions\": {\"model\": 13, \"Host\": \"algo-1\", \"Operation\": \"training\", \"Algorithm\": \"Linear Learner\", \"epoch\": 7}, \"StartTime\": 1579888119.952697}\n",
      "\u001b[0m\n",
      "\u001b[34m#metrics {\"Metrics\": {\"validation_multiclass_cross_entropy_objective\": {\"count\": 1, \"max\": 1.8809207352436335, \"sum\": 1.8809207352436335, \"min\": 1.8809207352436335}}, \"EndTime\": 1579888119.952776, \"Dimensions\": {\"model\": 14, \"Host\": \"algo-1\", \"Operation\": \"training\", \"Algorithm\": \"Linear Learner\", \"epoch\": 7}, \"StartTime\": 1579888119.952758}\n",
      "\u001b[0m\n",
      "\u001b[34m#metrics {\"Metrics\": {\"validation_multiclass_cross_entropy_objective\": {\"count\": 1, \"max\": 0.8948586333131345, \"sum\": 0.8948586333131345, \"min\": 0.8948586333131345}}, \"EndTime\": 1579888119.952846, \"Dimensions\": {\"model\": 15, \"Host\": \"algo-1\", \"Operation\": \"training\", \"Algorithm\": \"Linear Learner\", \"epoch\": 7}, \"StartTime\": 1579888119.952827}\n",
      "\u001b[0m\n",
      "\u001b[34m#metrics {\"Metrics\": {\"validation_multiclass_cross_entropy_objective\": {\"count\": 1, \"max\": 0.8931415054991781, \"sum\": 0.8931415054991781, \"min\": 0.8931415054991781}}, \"EndTime\": 1579888119.952918, \"Dimensions\": {\"model\": 16, \"Host\": \"algo-1\", \"Operation\": \"training\", \"Algorithm\": \"Linear Learner\", \"epoch\": 7}, \"StartTime\": 1579888119.952899}\n",
      "\u001b[0m\n",
      "\u001b[34m#metrics {\"Metrics\": {\"validation_multiclass_cross_entropy_objective\": {\"count\": 1, \"max\": 0.895919848567795, \"sum\": 0.895919848567795, \"min\": 0.895919848567795}}, \"EndTime\": 1579888119.952978, \"Dimensions\": {\"model\": 17, \"Host\": \"algo-1\", \"Operation\": \"training\", \"Algorithm\": \"Linear Learner\", \"epoch\": 7}, \"StartTime\": 1579888119.952962}\n",
      "\u001b[0m\n",
      "\u001b[34m#metrics {\"Metrics\": {\"validation_multiclass_cross_entropy_objective\": {\"count\": 1, \"max\": 1.2675557752423852, \"sum\": 1.2675557752423852, \"min\": 1.2675557752423852}}, \"EndTime\": 1579888119.953039, \"Dimensions\": {\"model\": 18, \"Host\": \"algo-1\", \"Operation\": \"training\", \"Algorithm\": \"Linear Learner\", \"epoch\": 7}, \"StartTime\": 1579888119.953021}\n",
      "\u001b[0m\n",
      "\u001b[34m#metrics {\"Metrics\": {\"validation_multiclass_cross_entropy_objective\": {\"count\": 1, \"max\": 1.5182158001570822, \"sum\": 1.5182158001570822, \"min\": 1.5182158001570822}}, \"EndTime\": 1579888119.953108, \"Dimensions\": {\"model\": 19, \"Host\": \"algo-1\", \"Operation\": \"training\", \"Algorithm\": \"Linear Learner\", \"epoch\": 7}, \"StartTime\": 1579888119.953089}\n",
      "\u001b[0m\n",
      "\u001b[34m#metrics {\"Metrics\": {\"validation_multiclass_cross_entropy_objective\": {\"count\": 1, \"max\": 2.3041213603216546, \"sum\": 2.3041213603216546, \"min\": 2.3041213603216546}}, \"EndTime\": 1579888119.95318, \"Dimensions\": {\"model\": 20, \"Host\": \"algo-1\", \"Operation\": \"training\", \"Algorithm\": \"Linear Learner\", \"epoch\": 7}, \"StartTime\": 1579888119.953161}\n",
      "\u001b[0m\n",
      "\u001b[34m#metrics {\"Metrics\": {\"validation_multiclass_cross_entropy_objective\": {\"count\": 1, \"max\": 1.1970394942160452, \"sum\": 1.1970394942160452, \"min\": 1.1970394942160452}}, \"EndTime\": 1579888119.953236, \"Dimensions\": {\"model\": 21, \"Host\": \"algo-1\", \"Operation\": \"training\", \"Algorithm\": \"Linear Learner\", \"epoch\": 7}, \"StartTime\": 1579888119.953222}\n",
      "\u001b[0m\n",
      "\u001b[34m#metrics {\"Metrics\": {\"validation_multiclass_cross_entropy_objective\": {\"count\": 1, \"max\": 0.9491746031333222, \"sum\": 0.9491746031333222, \"min\": 0.9491746031333222}}, \"EndTime\": 1579888119.953298, \"Dimensions\": {\"model\": 22, \"Host\": \"algo-1\", \"Operation\": \"training\", \"Algorithm\": \"Linear Learner\", \"epoch\": 7}, \"StartTime\": 1579888119.95328}\n",
      "\u001b[0m\n",
      "\u001b[34m#metrics {\"Metrics\": {\"validation_multiclass_cross_entropy_objective\": {\"count\": 1, \"max\": 0.913295326283705, \"sum\": 0.913295326283705, \"min\": 0.913295326283705}}, \"EndTime\": 1579888119.953363, \"Dimensions\": {\"model\": 23, \"Host\": \"algo-1\", \"Operation\": \"training\", \"Algorithm\": \"Linear Learner\", \"epoch\": 7}, \"StartTime\": 1579888119.953345}\n",
      "\u001b[0m\n",
      "\u001b[34m#metrics {\"Metrics\": {\"validation_multiclass_cross_entropy_objective\": {\"count\": 1, \"max\": 1.66664527049871, \"sum\": 1.66664527049871, \"min\": 1.66664527049871}}, \"EndTime\": 1579888119.953435, \"Dimensions\": {\"model\": 24, \"Host\": \"algo-1\", \"Operation\": \"training\", \"Algorithm\": \"Linear Learner\", \"epoch\": 7}, \"StartTime\": 1579888119.953417}\n",
      "\u001b[0m\n",
      "\u001b[34m#metrics {\"Metrics\": {\"validation_multiclass_cross_entropy_objective\": {\"count\": 1, \"max\": 0.9023993927692764, \"sum\": 0.9023993927692764, \"min\": 0.9023993927692764}}, \"EndTime\": 1579888119.953497, \"Dimensions\": {\"model\": 25, \"Host\": \"algo-1\", \"Operation\": \"training\", \"Algorithm\": \"Linear Learner\", \"epoch\": 7}, \"StartTime\": 1579888119.95348}\n",
      "\u001b[0m\n",
      "\u001b[34m#metrics {\"Metrics\": {\"validation_multiclass_cross_entropy_objective\": {\"count\": 1, \"max\": 1.105033059761464, \"sum\": 1.105033059761464, \"min\": 1.105033059761464}}, \"EndTime\": 1579888119.953554, \"Dimensions\": {\"model\": 26, \"Host\": \"algo-1\", \"Operation\": \"training\", \"Algorithm\": \"Linear Learner\", \"epoch\": 7}, \"StartTime\": 1579888119.95354}\n",
      "\u001b[0m\n",
      "\u001b[34m#metrics {\"Metrics\": {\"validation_multiclass_cross_entropy_objective\": {\"count\": 1, \"max\": 0.9053776727059234, \"sum\": 0.9053776727059234, \"min\": 0.9053776727059234}}, \"EndTime\": 1579888119.95362, \"Dimensions\": {\"model\": 27, \"Host\": \"algo-1\", \"Operation\": \"training\", \"Algorithm\": \"Linear Learner\", \"epoch\": 7}, \"StartTime\": 1579888119.953603}\n",
      "\u001b[0m\n",
      "\u001b[34m#metrics {\"Metrics\": {\"validation_multiclass_cross_entropy_objective\": {\"count\": 1, \"max\": 0.9961277622674976, \"sum\": 0.9961277622674976, \"min\": 0.9961277622674976}}, \"EndTime\": 1579888119.953692, \"Dimensions\": {\"model\": 28, \"Host\": \"algo-1\", \"Operation\": \"training\", \"Algorithm\": \"Linear Learner\", \"epoch\": 7}, \"StartTime\": 1579888119.953675}\n",
      "\u001b[0m\n",
      "\u001b[34m#metrics {\"Metrics\": {\"validation_multiclass_cross_entropy_objective\": {\"count\": 1, \"max\": 0.9684379608113661, \"sum\": 0.9684379608113661, \"min\": 0.9684379608113661}}, \"EndTime\": 1579888119.953756, \"Dimensions\": {\"model\": 29, \"Host\": \"algo-1\", \"Operation\": \"training\", \"Algorithm\": \"Linear Learner\", \"epoch\": 7}, \"StartTime\": 1579888119.953738}\n",
      "\u001b[0m\n",
      "\u001b[34m#metrics {\"Metrics\": {\"validation_multiclass_cross_entropy_objective\": {\"count\": 1, \"max\": 0.9539347682907166, \"sum\": 0.9539347682907166, \"min\": 0.9539347682907166}}, \"EndTime\": 1579888119.953802, \"Dimensions\": {\"model\": 30, \"Host\": \"algo-1\", \"Operation\": \"training\", \"Algorithm\": \"Linear Learner\", \"epoch\": 7}, \"StartTime\": 1579888119.953791}\n",
      "\u001b[0m\n",
      "\u001b[34m#metrics {\"Metrics\": {\"validation_multiclass_cross_entropy_objective\": {\"count\": 1, \"max\": 0.9084200476838175, \"sum\": 0.9084200476838175, \"min\": 0.9084200476838175}}, \"EndTime\": 1579888119.953838, \"Dimensions\": {\"model\": 31, \"Host\": \"algo-1\", \"Operation\": \"training\", \"Algorithm\": \"Linear Learner\", \"epoch\": 7}, \"StartTime\": 1579888119.953825}\n",
      "\u001b[0m\n",
      "\u001b[34m[01/24/2020 17:48:39 INFO 140276589545280] #quality_metric: host=algo-1, epoch=7, validation multiclass_cross_entropy_objective <loss>=0.900771379534\u001b[0m\n",
      "\u001b[34m[01/24/2020 17:48:39 INFO 140276589545280] #early_stopping_criteria_metric: host=algo-1, epoch=7, criteria=multiclass_cross_entropy_objective, value=0.891286321201\u001b[0m\n",
      "\u001b[34m[01/24/2020 17:48:39 INFO 140276589545280] #progress_metric: host=algo-1, completed 53 % of epochs\u001b[0m\n",
      "\u001b[34m#metrics {\"Metrics\": {\"Max Batches Seen Between Resets\": {\"count\": 1, \"max\": 61, \"sum\": 61.0, \"min\": 61}, \"Number of Batches Since Last Reset\": {\"count\": 1, \"max\": 61, \"sum\": 61.0, \"min\": 61}, \"Number of Records Since Last Reset\": {\"count\": 1, \"max\": 60079, \"sum\": 60079.0, \"min\": 60079}, \"Total Batches Seen\": {\"count\": 1, \"max\": 500, \"sum\": 500.0, \"min\": 500}, \"Total Records Seen\": {\"count\": 1, \"max\": 492632, \"sum\": 492632.0, \"min\": 492632}, \"Max Records Seen Between Resets\": {\"count\": 1, \"max\": 60079, \"sum\": 60079.0, \"min\": 60079}, \"Reset Count\": {\"count\": 1, \"max\": 10, \"sum\": 10.0, \"min\": 10}}, \"EndTime\": 1579888119.954848, \"Dimensions\": {\"Host\": \"algo-1\", \"Meta\": \"training_data_iter\", \"Operation\": \"training\", \"Algorithm\": \"Linear Learner\", \"epoch\": 7}, \"StartTime\": 1579888117.208398}\n",
      "\u001b[0m\n",
      "\u001b[34m[01/24/2020 17:48:39 INFO 140276589545280] #throughput_metric: host=algo-1, train throughput=21874.0488858 records/second\u001b[0m\n",
      "\u001b[34m[2020-01-24 17:48:42.509] [tensorio] [info] epoch_stats={\"data_pipeline\": \"/opt/ml/input/data/train\", \"epoch\": 19, \"duration\": 2553, \"num_examples\": 61, \"num_bytes\": 24752548}\u001b[0m\n",
      "\u001b[34m#metrics {\"Metrics\": {\"train_multiclass_cross_entropy_objective\": {\"count\": 1, \"max\": 0.8964414031982422, \"sum\": 0.8964414031982422, \"min\": 0.8964414031982422}}, \"EndTime\": 1579888122.509153, \"Dimensions\": {\"model\": 0, \"Host\": \"algo-1\", \"Operation\": \"training\", \"Algorithm\": \"Linear Learner\", \"epoch\": 8}, \"StartTime\": 1579888122.509057}\n",
      "\u001b[0m\n",
      "\u001b[34m#metrics {\"Metrics\": {\"train_multiclass_cross_entropy_objective\": {\"count\": 1, \"max\": 1.0533740010579427, \"sum\": 1.0533740010579427, \"min\": 1.0533740010579427}}, \"EndTime\": 1579888122.509243, \"Dimensions\": {\"model\": 1, \"Host\": \"algo-1\", \"Operation\": \"training\", \"Algorithm\": \"Linear Learner\", \"epoch\": 8}, \"StartTime\": 1579888122.509227}\n",
      "\u001b[0m\n",
      "\u001b[34m#metrics {\"Metrics\": {\"train_multiclass_cross_entropy_objective\": {\"count\": 1, \"max\": 1.1314473876953124, \"sum\": 1.1314473876953124, \"min\": 1.1314473876953124}}, \"EndTime\": 1579888122.509296, \"Dimensions\": {\"model\": 2, \"Host\": \"algo-1\", \"Operation\": \"training\", \"Algorithm\": \"Linear Learner\", \"epoch\": 8}, \"StartTime\": 1579888122.509283}\n",
      "\u001b[0m\n",
      "\u001b[34m#metrics {\"Metrics\": {\"train_multiclass_cross_entropy_objective\": {\"count\": 1, \"max\": 0.8928306671142578, \"sum\": 0.8928306671142578, \"min\": 0.8928306671142578}}, \"EndTime\": 1579888122.509343, \"Dimensions\": {\"model\": 3, \"Host\": \"algo-1\", \"Operation\": \"training\", \"Algorithm\": \"Linear Learner\", \"epoch\": 8}, \"StartTime\": 1579888122.509331}\n",
      "\u001b[0m\n",
      "\u001b[34m#metrics {\"Metrics\": {\"train_multiclass_cross_entropy_objective\": {\"count\": 1, \"max\": 1.0199511647542319, \"sum\": 1.0199511647542319, \"min\": 1.0199511647542319}}, \"EndTime\": 1579888122.509389, \"Dimensions\": {\"model\": 4, \"Host\": \"algo-1\", \"Operation\": \"training\", \"Algorithm\": \"Linear Learner\", \"epoch\": 8}, \"StartTime\": 1579888122.509377}\n",
      "\u001b[0m\n",
      "\u001b[34m#metrics {\"Metrics\": {\"train_multiclass_cross_entropy_objective\": {\"count\": 1, \"max\": 0.9198939442952474, \"sum\": 0.9198939442952474, \"min\": 0.9198939442952474}}, \"EndTime\": 1579888122.509434, \"Dimensions\": {\"model\": 5, \"Host\": \"algo-1\", \"Operation\": \"training\", \"Algorithm\": \"Linear Learner\", \"epoch\": 8}, \"StartTime\": 1579888122.509422}\n",
      "\u001b[0m\n",
      "\u001b[34m#metrics {\"Metrics\": {\"train_multiclass_cross_entropy_objective\": {\"count\": 1, \"max\": 0.8952477925618489, \"sum\": 0.8952477925618489, \"min\": 0.8952477925618489}}, \"EndTime\": 1579888122.509479, \"Dimensions\": {\"model\": 6, \"Host\": \"algo-1\", \"Operation\": \"training\", \"Algorithm\": \"Linear Learner\", \"epoch\": 8}, \"StartTime\": 1579888122.509467}\n",
      "\u001b[0m\n",
      "\u001b[34m#metrics {\"Metrics\": {\"train_multiclass_cross_entropy_objective\": {\"count\": 1, \"max\": 0.9223466532389323, \"sum\": 0.9223466532389323, \"min\": 0.9223466532389323}}, \"EndTime\": 1579888122.509523, \"Dimensions\": {\"model\": 7, \"Host\": \"algo-1\", \"Operation\": \"training\", \"Algorithm\": \"Linear Learner\", \"epoch\": 8}, \"StartTime\": 1579888122.509512}\n",
      "\u001b[0m\n",
      "\u001b[34m#metrics {\"Metrics\": {\"train_multiclass_cross_entropy_objective\": {\"count\": 1, \"max\": 0.9285824228922526, \"sum\": 0.9285824228922526, \"min\": 0.9285824228922526}}, \"EndTime\": 1579888122.509568, \"Dimensions\": {\"model\": 8, \"Host\": \"algo-1\", \"Operation\": \"training\", \"Algorithm\": \"Linear Learner\", \"epoch\": 8}, \"StartTime\": 1579888122.509556}\n",
      "\u001b[0m\n",
      "\u001b[34m#metrics {\"Metrics\": {\"train_multiclass_cross_entropy_objective\": {\"count\": 1, \"max\": 3.008125891113281, \"sum\": 3.008125891113281, \"min\": 3.008125891113281}}, \"EndTime\": 1579888122.509615, \"Dimensions\": {\"model\": 9, \"Host\": \"algo-1\", \"Operation\": \"training\", \"Algorithm\": \"Linear Learner\", \"epoch\": 8}, \"StartTime\": 1579888122.509601}\n",
      "\u001b[0m\n",
      "\u001b[34m#metrics {\"Metrics\": {\"train_multiclass_cross_entropy_objective\": {\"count\": 1, \"max\": 0.9335202067057292, \"sum\": 0.9335202067057292, \"min\": 0.9335202067057292}}, \"EndTime\": 1579888122.509662, \"Dimensions\": {\"model\": 10, \"Host\": \"algo-1\", \"Operation\": \"training\", \"Algorithm\": \"Linear Learner\", \"epoch\": 8}, \"StartTime\": 1579888122.50965}\n",
      "\u001b[0m\n",
      "\u001b[34m#metrics {\"Metrics\": {\"train_multiclass_cross_entropy_objective\": {\"count\": 1, \"max\": 0.961828271484375, \"sum\": 0.961828271484375, \"min\": 0.961828271484375}}, \"EndTime\": 1579888122.509706, \"Dimensions\": {\"model\": 11, \"Host\": \"algo-1\", \"Operation\": \"training\", \"Algorithm\": \"Linear Learner\", \"epoch\": 8}, \"StartTime\": 1579888122.509695}\n",
      "\u001b[0m\n",
      "\u001b[34m#metrics {\"Metrics\": {\"train_multiclass_cross_entropy_objective\": {\"count\": 1, \"max\": 0.9054424794514974, \"sum\": 0.9054424794514974, \"min\": 0.9054424794514974}}, \"EndTime\": 1579888122.50975, \"Dimensions\": {\"model\": 12, \"Host\": \"algo-1\", \"Operation\": \"training\", \"Algorithm\": \"Linear Learner\", \"epoch\": 8}, \"StartTime\": 1579888122.509739}\n",
      "\u001b[0m\n",
      "\u001b[34m#metrics {\"Metrics\": {\"train_multiclass_cross_entropy_objective\": {\"count\": 1, \"max\": 1.0646300333658854, \"sum\": 1.0646300333658854, \"min\": 1.0646300333658854}}, \"EndTime\": 1579888122.509795, \"Dimensions\": {\"model\": 13, \"Host\": \"algo-1\", \"Operation\": \"training\", \"Algorithm\": \"Linear Learner\", \"epoch\": 8}, \"StartTime\": 1579888122.509783}\n",
      "\u001b[0m\n",
      "\u001b[34m#metrics {\"Metrics\": {\"train_multiclass_cross_entropy_objective\": {\"count\": 1, \"max\": 2.2843345052083333, \"sum\": 2.2843345052083333, \"min\": 2.2843345052083333}}, \"EndTime\": 1579888122.509839, \"Dimensions\": {\"model\": 14, \"Host\": \"algo-1\", \"Operation\": \"training\", \"Algorithm\": \"Linear Learner\", \"epoch\": 8}, \"StartTime\": 1579888122.509828}\n",
      "\u001b[0m\n",
      "\u001b[34m#metrics {\"Metrics\": {\"train_multiclass_cross_entropy_objective\": {\"count\": 1, \"max\": 0.8884547790527344, \"sum\": 0.8884547790527344, \"min\": 0.8884547790527344}}, \"EndTime\": 1579888122.509883, \"Dimensions\": {\"model\": 15, \"Host\": \"algo-1\", \"Operation\": \"training\", \"Algorithm\": \"Linear Learner\", \"epoch\": 8}, \"StartTime\": 1579888122.509872}\n",
      "\u001b[0m\n",
      "\u001b[34m#metrics {\"Metrics\": {\"train_multiclass_cross_entropy_objective\": {\"count\": 1, \"max\": 0.8874913686116537, \"sum\": 0.8874913686116537, \"min\": 0.8874913686116537}}, \"EndTime\": 1579888122.50993, \"Dimensions\": {\"model\": 16, \"Host\": \"algo-1\", \"Operation\": \"training\", \"Algorithm\": \"Linear Learner\", \"epoch\": 8}, \"StartTime\": 1579888122.509919}\n",
      "\u001b[0m\n",
      "\u001b[34m#metrics {\"Metrics\": {\"train_multiclass_cross_entropy_objective\": {\"count\": 1, \"max\": 0.8900276397705078, \"sum\": 0.8900276397705078, \"min\": 0.8900276397705078}}, \"EndTime\": 1579888122.509978, \"Dimensions\": {\"model\": 17, \"Host\": \"algo-1\", \"Operation\": \"training\", \"Algorithm\": \"Linear Learner\", \"epoch\": 8}, \"StartTime\": 1579888122.509966}\n",
      "\u001b[0m\n",
      "\u001b[34m#metrics {\"Metrics\": {\"train_multiclass_cross_entropy_objective\": {\"count\": 1, \"max\": 1.7189918924967449, \"sum\": 1.7189918924967449, \"min\": 1.7189918924967449}}, \"EndTime\": 1579888122.510022, \"Dimensions\": {\"model\": 18, \"Host\": \"algo-1\", \"Operation\": \"training\", \"Algorithm\": \"Linear Learner\", \"epoch\": 8}, \"StartTime\": 1579888122.510011}\n",
      "\u001b[0m\n",
      "\u001b[34m#metrics {\"Metrics\": {\"train_multiclass_cross_entropy_objective\": {\"count\": 1, \"max\": 1.505040771484375, \"sum\": 1.505040771484375, \"min\": 1.505040771484375}}, \"EndTime\": 1579888122.51007, \"Dimensions\": {\"model\": 19, \"Host\": \"algo-1\", \"Operation\": \"training\", \"Algorithm\": \"Linear Learner\", \"epoch\": 8}, \"StartTime\": 1579888122.510058}\n",
      "\u001b[0m\n",
      "\u001b[34m#metrics {\"Metrics\": {\"train_multiclass_cross_entropy_objective\": {\"count\": 1, \"max\": 1.855529065958659, \"sum\": 1.855529065958659, \"min\": 1.855529065958659}}, \"EndTime\": 1579888122.510116, \"Dimensions\": {\"model\": 20, \"Host\": \"algo-1\", \"Operation\": \"training\", \"Algorithm\": \"Linear Learner\", \"epoch\": 8}, \"StartTime\": 1579888122.510104}\n",
      "\u001b[0m\n",
      "\u001b[34m#metrics {\"Metrics\": {\"train_multiclass_cross_entropy_objective\": {\"count\": 1, \"max\": 1.647180561319987, \"sum\": 1.647180561319987, \"min\": 1.647180561319987}}, \"EndTime\": 1579888122.51016, \"Dimensions\": {\"model\": 21, \"Host\": \"algo-1\", \"Operation\": \"training\", \"Algorithm\": \"Linear Learner\", \"epoch\": 8}, \"StartTime\": 1579888122.510149}\n",
      "\u001b[0m\n",
      "\u001b[34m#metrics {\"Metrics\": {\"train_multiclass_cross_entropy_objective\": {\"count\": 1, \"max\": 0.9316526102701823, \"sum\": 0.9316526102701823, \"min\": 0.9316526102701823}}, \"EndTime\": 1579888122.510204, \"Dimensions\": {\"model\": 22, \"Host\": \"algo-1\", \"Operation\": \"training\", \"Algorithm\": \"Linear Learner\", \"epoch\": 8}, \"StartTime\": 1579888122.510193}\n",
      "\u001b[0m\n",
      "\u001b[34m#metrics {\"Metrics\": {\"train_multiclass_cross_entropy_objective\": {\"count\": 1, \"max\": 0.9045942250569662, \"sum\": 0.9045942250569662, \"min\": 0.9045942250569662}}, \"EndTime\": 1579888122.51025, \"Dimensions\": {\"model\": 23, \"Host\": \"algo-1\", \"Operation\": \"training\", \"Algorithm\": \"Linear Learner\", \"epoch\": 8}, \"StartTime\": 1579888122.510238}\n",
      "\u001b[0m\n",
      "\u001b[34m#metrics {\"Metrics\": {\"train_multiclass_cross_entropy_objective\": {\"count\": 1, \"max\": 1.5321817270914713, \"sum\": 1.5321817270914713, \"min\": 1.5321817270914713}}, \"EndTime\": 1579888122.510294, \"Dimensions\": {\"model\": 24, \"Host\": \"algo-1\", \"Operation\": \"training\", \"Algorithm\": \"Linear Learner\", \"epoch\": 8}, \"StartTime\": 1579888122.510283}\n",
      "\u001b[0m\n",
      "\u001b[34m#metrics {\"Metrics\": {\"train_multiclass_cross_entropy_objective\": {\"count\": 1, \"max\": 0.8960892669677735, \"sum\": 0.8960892669677735, \"min\": 0.8960892669677735}}, \"EndTime\": 1579888122.510339, \"Dimensions\": {\"model\": 25, \"Host\": \"algo-1\", \"Operation\": \"training\", \"Algorithm\": \"Linear Learner\", \"epoch\": 8}, \"StartTime\": 1579888122.510327}\n",
      "\u001b[0m\n",
      "\u001b[34m#metrics {\"Metrics\": {\"train_multiclass_cross_entropy_objective\": {\"count\": 1, \"max\": 1.1508296885172526, \"sum\": 1.1508296885172526, \"min\": 1.1508296885172526}}, \"EndTime\": 1579888122.510385, \"Dimensions\": {\"model\": 26, \"Host\": \"algo-1\", \"Operation\": \"training\", \"Algorithm\": \"Linear Learner\", \"epoch\": 8}, \"StartTime\": 1579888122.510373}\n",
      "\u001b[0m\n",
      "\u001b[34m#metrics {\"Metrics\": {\"train_multiclass_cross_entropy_objective\": {\"count\": 1, \"max\": 0.8992943939208984, \"sum\": 0.8992943939208984, \"min\": 0.8992943939208984}}, \"EndTime\": 1579888122.510429, \"Dimensions\": {\"model\": 27, \"Host\": \"algo-1\", \"Operation\": \"training\", \"Algorithm\": \"Linear Learner\", \"epoch\": 8}, \"StartTime\": 1579888122.510418}\n",
      "\u001b[0m\n",
      "\u001b[34m#metrics {\"Metrics\": {\"train_multiclass_cross_entropy_objective\": {\"count\": 1, \"max\": 0.9835898244222006, \"sum\": 0.9835898244222006, \"min\": 0.9835898244222006}}, \"EndTime\": 1579888122.510475, \"Dimensions\": {\"model\": 28, \"Host\": \"algo-1\", \"Operation\": \"training\", \"Algorithm\": \"Linear Learner\", \"epoch\": 8}, \"StartTime\": 1579888122.510464}\n",
      "\u001b[0m\n",
      "\u001b[34m#metrics {\"Metrics\": {\"train_multiclass_cross_entropy_objective\": {\"count\": 1, \"max\": 0.9920156280517578, \"sum\": 0.9920156280517578, \"min\": 0.9920156280517578}}, \"EndTime\": 1579888122.51052, \"Dimensions\": {\"model\": 29, \"Host\": \"algo-1\", \"Operation\": \"training\", \"Algorithm\": \"Linear Learner\", \"epoch\": 8}, \"StartTime\": 1579888122.510508}\n",
      "\u001b[0m\n",
      "\u001b[34m#metrics {\"Metrics\": {\"train_multiclass_cross_entropy_objective\": {\"count\": 1, \"max\": 0.9596033233642578, \"sum\": 0.9596033233642578, \"min\": 0.9596033233642578}}, \"EndTime\": 1579888122.510564, \"Dimensions\": {\"model\": 30, \"Host\": \"algo-1\", \"Operation\": \"training\", \"Algorithm\": \"Linear Learner\", \"epoch\": 8}, \"StartTime\": 1579888122.510553}\n",
      "\u001b[0m\n",
      "\u001b[34m#metrics {\"Metrics\": {\"train_multiclass_cross_entropy_objective\": {\"count\": 1, \"max\": 0.8995603454589843, \"sum\": 0.8995603454589843, \"min\": 0.8995603454589843}}, \"EndTime\": 1579888122.510608, \"Dimensions\": {\"model\": 31, \"Host\": \"algo-1\", \"Operation\": \"training\", \"Algorithm\": \"Linear Learner\", \"epoch\": 8}, \"StartTime\": 1579888122.510597}\n",
      "\u001b[0m\n",
      "\u001b[34m[01/24/2020 17:48:42 INFO 140276589545280] #quality_metric: host=algo-1, epoch=8, train multiclass_cross_entropy_objective <loss>=0.896441403198\u001b[0m\n",
      "\u001b[34m[2020-01-24 17:48:42.721] [tensorio] [info] epoch_stats={\"data_pipeline\": \"/opt/ml/input/data/validation\", \"epoch\": 26, \"duration\": 190, \"num_examples\": 8, \"num_bytes\": 3094120}\u001b[0m\n",
      "\u001b[34m#metrics {\"Metrics\": {\"validation_multiclass_cross_entropy_objective\": {\"count\": 1, \"max\": 0.90274923962061, \"sum\": 0.90274923962061, \"min\": 0.90274923962061}}, \"EndTime\": 1579888122.727464, \"Dimensions\": {\"model\": 0, \"Host\": \"algo-1\", \"Operation\": \"training\", \"Algorithm\": \"Linear Learner\", \"epoch\": 8}, \"StartTime\": 1579888122.727398}\n",
      "\u001b[0m\n",
      "\u001b[34m#metrics {\"Metrics\": {\"validation_multiclass_cross_entropy_objective\": {\"count\": 1, \"max\": 1.029420497604756, \"sum\": 1.029420497604756, \"min\": 1.029420497604756}}, \"EndTime\": 1579888122.727555, \"Dimensions\": {\"model\": 1, \"Host\": \"algo-1\", \"Operation\": \"training\", \"Algorithm\": \"Linear Learner\", \"epoch\": 8}, \"StartTime\": 1579888122.727532}\n",
      "\u001b[0m\n",
      "\u001b[34m#metrics {\"Metrics\": {\"validation_multiclass_cross_entropy_objective\": {\"count\": 1, \"max\": 1.074189353973348, \"sum\": 1.074189353973348, \"min\": 1.074189353973348}}, \"EndTime\": 1579888122.727628, \"Dimensions\": {\"model\": 2, \"Host\": \"algo-1\", \"Operation\": \"training\", \"Algorithm\": \"Linear Learner\", \"epoch\": 8}, \"StartTime\": 1579888122.727611}\n",
      "\u001b[0m\n",
      "\u001b[34m#metrics {\"Metrics\": {\"validation_multiclass_cross_entropy_objective\": {\"count\": 1, \"max\": 0.8968012417362787, \"sum\": 0.8968012417362787, \"min\": 0.8968012417362787}}, \"EndTime\": 1579888122.72769, \"Dimensions\": {\"model\": 3, \"Host\": \"algo-1\", \"Operation\": \"training\", \"Algorithm\": \"Linear Learner\", \"epoch\": 8}, \"StartTime\": 1579888122.727672}\n",
      "\u001b[0m\n",
      "\u001b[34m#metrics {\"Metrics\": {\"validation_multiclass_cross_entropy_objective\": {\"count\": 1, \"max\": 1.1067774380253412, \"sum\": 1.1067774380253412, \"min\": 1.1067774380253412}}, \"EndTime\": 1579888122.727759, \"Dimensions\": {\"model\": 4, \"Host\": \"algo-1\", \"Operation\": \"training\", \"Algorithm\": \"Linear Learner\", \"epoch\": 8}, \"StartTime\": 1579888122.727741}\n",
      "\u001b[0m\n",
      "\u001b[34m#metrics {\"Metrics\": {\"validation_multiclass_cross_entropy_objective\": {\"count\": 1, \"max\": 0.9257040295556446, \"sum\": 0.9257040295556446, \"min\": 0.9257040295556446}}, \"EndTime\": 1579888122.727817, \"Dimensions\": {\"model\": 5, \"Host\": \"algo-1\", \"Operation\": \"training\", \"Algorithm\": \"Linear Learner\", \"epoch\": 8}, \"StartTime\": 1579888122.727804}\n",
      "\u001b[0m\n",
      "\u001b[34m#metrics {\"Metrics\": {\"validation_multiclass_cross_entropy_objective\": {\"count\": 1, \"max\": 0.8905384536113308, \"sum\": 0.8905384536113308, \"min\": 0.8905384536113308}}, \"EndTime\": 1579888122.727868, \"Dimensions\": {\"model\": 6, \"Host\": \"algo-1\", \"Operation\": \"training\", \"Algorithm\": \"Linear Learner\", \"epoch\": 8}, \"StartTime\": 1579888122.727851}\n",
      "\u001b[0m\n",
      "\u001b[34m#metrics {\"Metrics\": {\"validation_multiclass_cross_entropy_objective\": {\"count\": 1, \"max\": 0.9276477879754078, \"sum\": 0.9276477879754078, \"min\": 0.9276477879754078}}, \"EndTime\": 1579888122.727916, \"Dimensions\": {\"model\": 7, \"Host\": \"algo-1\", \"Operation\": \"training\", \"Algorithm\": \"Linear Learner\", \"epoch\": 8}, \"StartTime\": 1579888122.727905}\n",
      "\u001b[0m\n",
      "\u001b[34m#metrics {\"Metrics\": {\"validation_multiclass_cross_entropy_objective\": {\"count\": 1, \"max\": 0.9341701258673332, \"sum\": 0.9341701258673332, \"min\": 0.9341701258673332}}, \"EndTime\": 1579888122.727964, \"Dimensions\": {\"model\": 8, \"Host\": \"algo-1\", \"Operation\": \"training\", \"Algorithm\": \"Linear Learner\", \"epoch\": 8}, \"StartTime\": 1579888122.727949}\n",
      "\u001b[0m\n",
      "\u001b[34m#metrics {\"Metrics\": {\"validation_multiclass_cross_entropy_objective\": {\"count\": 1, \"max\": 2.4384314891342793, \"sum\": 2.4384314891342793, \"min\": 2.4384314891342793}}, \"EndTime\": 1579888122.728029, \"Dimensions\": {\"model\": 9, \"Host\": \"algo-1\", \"Operation\": \"training\", \"Algorithm\": \"Linear Learner\", \"epoch\": 8}, \"StartTime\": 1579888122.72801}\n",
      "\u001b[0m\n",
      "\u001b[34m#metrics {\"Metrics\": {\"validation_multiclass_cross_entropy_objective\": {\"count\": 1, \"max\": 0.9294378247622961, \"sum\": 0.9294378247622961, \"min\": 0.9294378247622961}}, \"EndTime\": 1579888122.728066, \"Dimensions\": {\"model\": 10, \"Host\": \"algo-1\", \"Operation\": \"training\", \"Algorithm\": \"Linear Learner\", \"epoch\": 8}, \"StartTime\": 1579888122.728057}\n",
      "\u001b[0m\n",
      "\u001b[34m#metrics {\"Metrics\": {\"validation_multiclass_cross_entropy_objective\": {\"count\": 1, \"max\": 0.9705196416171666, \"sum\": 0.9705196416171666, \"min\": 0.9705196416171666}}, \"EndTime\": 1579888122.728107, \"Dimensions\": {\"model\": 11, \"Host\": \"algo-1\", \"Operation\": \"training\", \"Algorithm\": \"Linear Learner\", \"epoch\": 8}, \"StartTime\": 1579888122.728093}\n",
      "\u001b[0m\n",
      "\u001b[34m#metrics {\"Metrics\": {\"validation_multiclass_cross_entropy_objective\": {\"count\": 1, \"max\": 0.91359661320713, \"sum\": 0.91359661320713, \"min\": 0.91359661320713}}, \"EndTime\": 1579888122.728167, \"Dimensions\": {\"model\": 12, \"Host\": \"algo-1\", \"Operation\": \"training\", \"Algorithm\": \"Linear Learner\", \"epoch\": 8}, \"StartTime\": 1579888122.72815}\n",
      "\u001b[0m\n",
      "\u001b[34m#metrics {\"Metrics\": {\"validation_multiclass_cross_entropy_objective\": {\"count\": 1, \"max\": 1.1487753551904751, \"sum\": 1.1487753551904751, \"min\": 1.1487753551904751}}, \"EndTime\": 1579888122.728234, \"Dimensions\": {\"model\": 13, \"Host\": \"algo-1\", \"Operation\": \"training\", \"Algorithm\": \"Linear Learner\", \"epoch\": 8}, \"StartTime\": 1579888122.728216}\n",
      "\u001b[0m\n",
      "\u001b[34m#metrics {\"Metrics\": {\"validation_multiclass_cross_entropy_objective\": {\"count\": 1, \"max\": 1.7140743575623127, \"sum\": 1.7140743575623127, \"min\": 1.7140743575623127}}, \"EndTime\": 1579888122.728276, \"Dimensions\": {\"model\": 14, \"Host\": \"algo-1\", \"Operation\": \"training\", \"Algorithm\": \"Linear Learner\", \"epoch\": 8}, \"StartTime\": 1579888122.728266}\n",
      "\u001b[0m\n",
      "\u001b[34m#metrics {\"Metrics\": {\"validation_multiclass_cross_entropy_objective\": {\"count\": 1, \"max\": 0.8941318070047228, \"sum\": 0.8941318070047228, \"min\": 0.8941318070047228}}, \"EndTime\": 1579888122.72833, \"Dimensions\": {\"model\": 15, \"Host\": \"algo-1\", \"Operation\": \"training\", \"Algorithm\": \"Linear Learner\", \"epoch\": 8}, \"StartTime\": 1579888122.728314}\n",
      "\u001b[0m\n",
      "\u001b[34m#metrics {\"Metrics\": {\"validation_multiclass_cross_entropy_objective\": {\"count\": 1, \"max\": 0.8922949535710198, \"sum\": 0.8922949535710198, \"min\": 0.8922949535710198}}, \"EndTime\": 1579888122.728391, \"Dimensions\": {\"model\": 16, \"Host\": \"algo-1\", \"Operation\": \"training\", \"Algorithm\": \"Linear Learner\", \"epoch\": 8}, \"StartTime\": 1579888122.728375}\n",
      "\u001b[0m\n",
      "\u001b[34m#metrics {\"Metrics\": {\"validation_multiclass_cross_entropy_objective\": {\"count\": 1, \"max\": 0.8952585680030792, \"sum\": 0.8952585680030792, \"min\": 0.8952585680030792}}, \"EndTime\": 1579888122.728431, \"Dimensions\": {\"model\": 17, \"Host\": \"algo-1\", \"Operation\": \"training\", \"Algorithm\": \"Linear Learner\", \"epoch\": 8}, \"StartTime\": 1579888122.728421}\n",
      "\u001b[0m\n",
      "\u001b[34m#metrics {\"Metrics\": {\"validation_multiclass_cross_entropy_objective\": {\"count\": 1, \"max\": 1.7320855395930426, \"sum\": 1.7320855395930426, \"min\": 1.7320855395930426}}, \"EndTime\": 1579888122.728506, \"Dimensions\": {\"model\": 18, \"Host\": \"algo-1\", \"Operation\": \"training\", \"Algorithm\": \"Linear Learner\", \"epoch\": 8}, \"StartTime\": 1579888122.728488}\n",
      "\u001b[0m\n",
      "\u001b[34m#metrics {\"Metrics\": {\"validation_multiclass_cross_entropy_objective\": {\"count\": 1, \"max\": 1.3237491043842584, \"sum\": 1.3237491043842584, \"min\": 1.3237491043842584}}, \"EndTime\": 1579888122.728564, \"Dimensions\": {\"model\": 19, \"Host\": \"algo-1\", \"Operation\": \"training\", \"Algorithm\": \"Linear Learner\", \"epoch\": 8}, \"StartTime\": 1579888122.72855}\n",
      "\u001b[0m\n",
      "\u001b[34m#metrics {\"Metrics\": {\"validation_multiclass_cross_entropy_objective\": {\"count\": 1, \"max\": 2.0281343950253827, \"sum\": 2.0281343950253827, \"min\": 2.0281343950253827}}, \"EndTime\": 1579888122.728615, \"Dimensions\": {\"model\": 20, \"Host\": \"algo-1\", \"Operation\": \"training\", \"Algorithm\": \"Linear Learner\", \"epoch\": 8}, \"StartTime\": 1579888122.728605}\n",
      "\u001b[0m\n",
      "\u001b[34m#metrics {\"Metrics\": {\"validation_multiclass_cross_entropy_objective\": {\"count\": 1, \"max\": 1.739429499274405, \"sum\": 1.739429499274405, \"min\": 1.739429499274405}}, \"EndTime\": 1579888122.72867, \"Dimensions\": {\"model\": 21, \"Host\": \"algo-1\", \"Operation\": \"training\", \"Algorithm\": \"Linear Learner\", \"epoch\": 8}, \"StartTime\": 1579888122.728651}\n",
      "\u001b[0m\n",
      "\u001b[34m#metrics {\"Metrics\": {\"validation_multiclass_cross_entropy_objective\": {\"count\": 1, \"max\": 0.9508941203395472, \"sum\": 0.9508941203395472, \"min\": 0.9508941203395472}}, \"EndTime\": 1579888122.728732, \"Dimensions\": {\"model\": 22, \"Host\": \"algo-1\", \"Operation\": \"training\", \"Algorithm\": \"Linear Learner\", \"epoch\": 8}, \"StartTime\": 1579888122.728718}\n",
      "\u001b[0m\n",
      "\u001b[34m#metrics {\"Metrics\": {\"validation_multiclass_cross_entropy_objective\": {\"count\": 1, \"max\": 0.9135285195910661, \"sum\": 0.9135285195910661, \"min\": 0.9135285195910661}}, \"EndTime\": 1579888122.728792, \"Dimensions\": {\"model\": 23, \"Host\": \"algo-1\", \"Operation\": \"training\", \"Algorithm\": \"Linear Learner\", \"epoch\": 8}, \"StartTime\": 1579888122.728774}\n",
      "\u001b[0m\n",
      "\u001b[34m#metrics {\"Metrics\": {\"validation_multiclass_cross_entropy_objective\": {\"count\": 1, \"max\": 1.3004273111112268, \"sum\": 1.3004273111112268, \"min\": 1.3004273111112268}}, \"EndTime\": 1579888122.728854, \"Dimensions\": {\"model\": 24, \"Host\": \"algo-1\", \"Operation\": \"training\", \"Algorithm\": \"Linear Learner\", \"epoch\": 8}, \"StartTime\": 1579888122.728836}\n",
      "\u001b[0m\n",
      "\u001b[34m#metrics {\"Metrics\": {\"validation_multiclass_cross_entropy_objective\": {\"count\": 1, \"max\": 0.9022864858573985, \"sum\": 0.9022864858573985, \"min\": 0.9022864858573985}}, \"EndTime\": 1579888122.728916, \"Dimensions\": {\"model\": 25, \"Host\": \"algo-1\", \"Operation\": \"training\", \"Algorithm\": \"Linear Learner\", \"epoch\": 8}, \"StartTime\": 1579888122.728899}\n",
      "\u001b[0m\n",
      "\u001b[34m#metrics {\"Metrics\": {\"validation_multiclass_cross_entropy_objective\": {\"count\": 1, \"max\": 1.1807880995911701, \"sum\": 1.1807880995911701, \"min\": 1.1807880995911701}}, \"EndTime\": 1579888122.729035, \"Dimensions\": {\"model\": 26, \"Host\": \"algo-1\", \"Operation\": \"training\", \"Algorithm\": \"Linear Learner\", \"epoch\": 8}, \"StartTime\": 1579888122.729014}\n",
      "\u001b[0m\n",
      "\u001b[34m#metrics {\"Metrics\": {\"validation_multiclass_cross_entropy_objective\": {\"count\": 1, \"max\": 0.9053205020259446, \"sum\": 0.9053205020259446, \"min\": 0.9053205020259446}}, \"EndTime\": 1579888122.729078, \"Dimensions\": {\"model\": 27, \"Host\": \"algo-1\", \"Operation\": \"training\", \"Algorithm\": \"Linear Learner\", \"epoch\": 8}, \"StartTime\": 1579888122.729068}\n",
      "\u001b[0m\n",
      "\u001b[34m#metrics {\"Metrics\": {\"validation_multiclass_cross_entropy_objective\": {\"count\": 1, \"max\": 0.9961844818887317, \"sum\": 0.9961844818887317, \"min\": 0.9961844818887317}}, \"EndTime\": 1579888122.729125, \"Dimensions\": {\"model\": 28, \"Host\": \"algo-1\", \"Operation\": \"training\", \"Algorithm\": \"Linear Learner\", \"epoch\": 8}, \"StartTime\": 1579888122.72911}\n",
      "\u001b[0m\n",
      "\u001b[34m#metrics {\"Metrics\": {\"validation_multiclass_cross_entropy_objective\": {\"count\": 1, \"max\": 0.9887291838421167, \"sum\": 0.9887291838421167, \"min\": 0.9887291838421167}}, \"EndTime\": 1579888122.729186, \"Dimensions\": {\"model\": 29, \"Host\": \"algo-1\", \"Operation\": \"training\", \"Algorithm\": \"Linear Learner\", \"epoch\": 8}, \"StartTime\": 1579888122.729169}\n",
      "\u001b[0m\n",
      "\u001b[34m#metrics {\"Metrics\": {\"validation_multiclass_cross_entropy_objective\": {\"count\": 1, \"max\": 0.9539195704555384, \"sum\": 0.9539195704555384, \"min\": 0.9539195704555384}}, \"EndTime\": 1579888122.729253, \"Dimensions\": {\"model\": 30, \"Host\": \"algo-1\", \"Operation\": \"training\", \"Algorithm\": \"Linear Learner\", \"epoch\": 8}, \"StartTime\": 1579888122.729235}\n",
      "\u001b[0m\n",
      "\u001b[34m#metrics {\"Metrics\": {\"validation_multiclass_cross_entropy_objective\": {\"count\": 1, \"max\": 0.9076902793345851, \"sum\": 0.9076902793345851, \"min\": 0.9076902793345851}}, \"EndTime\": 1579888122.729326, \"Dimensions\": {\"model\": 31, \"Host\": \"algo-1\", \"Operation\": \"training\", \"Algorithm\": \"Linear Learner\", \"epoch\": 8}, \"StartTime\": 1579888122.729306}\n",
      "\u001b[0m\n",
      "\u001b[34m[01/24/2020 17:48:42 INFO 140276589545280] #quality_metric: host=algo-1, epoch=8, validation multiclass_cross_entropy_objective <loss>=0.902749239621\u001b[0m\n",
      "\u001b[34m[01/24/2020 17:48:42 INFO 140276589545280] #early_stopping_criteria_metric: host=algo-1, epoch=8, criteria=multiclass_cross_entropy_objective, value=0.890538453611\u001b[0m\n",
      "\u001b[34m[01/24/2020 17:48:42 INFO 140276589545280] #progress_metric: host=algo-1, completed 60 % of epochs\u001b[0m\n",
      "\u001b[34m#metrics {\"Metrics\": {\"Max Batches Seen Between Resets\": {\"count\": 1, \"max\": 61, \"sum\": 61.0, \"min\": 61}, \"Number of Batches Since Last Reset\": {\"count\": 1, \"max\": 61, \"sum\": 61.0, \"min\": 61}, \"Number of Records Since Last Reset\": {\"count\": 1, \"max\": 60079, \"sum\": 60079.0, \"min\": 60079}, \"Total Batches Seen\": {\"count\": 1, \"max\": 561, \"sum\": 561.0, \"min\": 561}, \"Total Records Seen\": {\"count\": 1, \"max\": 552711, \"sum\": 552711.0, \"min\": 552711}, \"Max Records Seen Between Resets\": {\"count\": 1, \"max\": 60079, \"sum\": 60079.0, \"min\": 60079}, \"Reset Count\": {\"count\": 1, \"max\": 11, \"sum\": 11.0, \"min\": 11}}, \"EndTime\": 1579888122.730302, \"Dimensions\": {\"Host\": \"algo-1\", \"Meta\": \"training_data_iter\", \"Operation\": \"training\", \"Algorithm\": \"Linear Learner\", \"epoch\": 8}, \"StartTime\": 1579888119.955593}\n",
      "\u001b[0m\n",
      "\u001b[34m[01/24/2020 17:48:42 INFO 140276589545280] #throughput_metric: host=algo-1, train throughput=21651.2277884 records/second\u001b[0m\n",
      "\u001b[34m[2020-01-24 17:48:45.332] [tensorio] [info] epoch_stats={\"data_pipeline\": \"/opt/ml/input/data/train\", \"epoch\": 21, \"duration\": 2601, \"num_examples\": 61, \"num_bytes\": 24752548}\u001b[0m\n",
      "\u001b[34m#metrics {\"Metrics\": {\"train_multiclass_cross_entropy_objective\": {\"count\": 1, \"max\": 0.8963564676920573, \"sum\": 0.8963564676920573, \"min\": 0.8963564676920573}}, \"EndTime\": 1579888125.333136, \"Dimensions\": {\"model\": 0, \"Host\": \"algo-1\", \"Operation\": \"training\", \"Algorithm\": \"Linear Learner\", \"epoch\": 9}, \"StartTime\": 1579888125.333038}\n",
      "\u001b[0m\n",
      "\u001b[34m#metrics {\"Metrics\": {\"train_multiclass_cross_entropy_objective\": {\"count\": 1, \"max\": 1.0492856028238933, \"sum\": 1.0492856028238933, \"min\": 1.0492856028238933}}, \"EndTime\": 1579888125.333244, \"Dimensions\": {\"model\": 1, \"Host\": \"algo-1\", \"Operation\": \"training\", \"Algorithm\": \"Linear Learner\", \"epoch\": 9}, \"StartTime\": 1579888125.333221}\n",
      "\u001b[0m\n",
      "\u001b[34m#metrics {\"Metrics\": {\"train_multiclass_cross_entropy_objective\": {\"count\": 1, \"max\": 1.1091911987304688, \"sum\": 1.1091911987304688, \"min\": 1.1091911987304688}}, \"EndTime\": 1579888125.333317, \"Dimensions\": {\"model\": 2, \"Host\": \"algo-1\", \"Operation\": \"training\", \"Algorithm\": \"Linear Learner\", \"epoch\": 9}, \"StartTime\": 1579888125.333298}\n",
      "\u001b[0m\n",
      "\u001b[34m#metrics {\"Metrics\": {\"train_multiclass_cross_entropy_objective\": {\"count\": 1, \"max\": 0.8925723276774089, \"sum\": 0.8925723276774089, \"min\": 0.8925723276774089}}, \"EndTime\": 1579888125.333371, \"Dimensions\": {\"model\": 3, \"Host\": \"algo-1\", \"Operation\": \"training\", \"Algorithm\": \"Linear Learner\", \"epoch\": 9}, \"StartTime\": 1579888125.333354}\n",
      "\u001b[0m\n",
      "\u001b[34m#metrics {\"Metrics\": {\"train_multiclass_cross_entropy_objective\": {\"count\": 1, \"max\": 1.0259234842936198, \"sum\": 1.0259234842936198, \"min\": 1.0259234842936198}}, \"EndTime\": 1579888125.333435, \"Dimensions\": {\"model\": 4, \"Host\": \"algo-1\", \"Operation\": \"training\", \"Algorithm\": \"Linear Learner\", \"epoch\": 9}, \"StartTime\": 1579888125.333417}\n",
      "\u001b[0m\n",
      "\u001b[34m#metrics {\"Metrics\": {\"train_multiclass_cross_entropy_objective\": {\"count\": 1, \"max\": 0.9189919545491536, \"sum\": 0.9189919545491536, \"min\": 0.9189919545491536}}, \"EndTime\": 1579888125.33351, \"Dimensions\": {\"model\": 5, \"Host\": \"algo-1\", \"Operation\": \"training\", \"Algorithm\": \"Linear Learner\", \"epoch\": 9}, \"StartTime\": 1579888125.33349}\n",
      "\u001b[0m\n",
      "\u001b[34m#metrics {\"Metrics\": {\"train_multiclass_cross_entropy_objective\": {\"count\": 1, \"max\": 0.8950826426188151, \"sum\": 0.8950826426188151, \"min\": 0.8950826426188151}}, \"EndTime\": 1579888125.333585, \"Dimensions\": {\"model\": 6, \"Host\": \"algo-1\", \"Operation\": \"training\", \"Algorithm\": \"Linear Learner\", \"epoch\": 9}, \"StartTime\": 1579888125.333565}\n",
      "\u001b[0m\n",
      "\u001b[34m#metrics {\"Metrics\": {\"train_multiclass_cross_entropy_objective\": {\"count\": 1, \"max\": 0.9213744344075521, \"sum\": 0.9213744344075521, \"min\": 0.9213744344075521}}, \"EndTime\": 1579888125.333659, \"Dimensions\": {\"model\": 7, \"Host\": \"algo-1\", \"Operation\": \"training\", \"Algorithm\": \"Linear Learner\", \"epoch\": 9}, \"StartTime\": 1579888125.33364}\n",
      "\u001b[0m\n",
      "\u001b[34m#metrics {\"Metrics\": {\"train_multiclass_cross_entropy_objective\": {\"count\": 1, \"max\": 0.929374863688151, \"sum\": 0.929374863688151, \"min\": 0.929374863688151}}, \"EndTime\": 1579888125.333732, \"Dimensions\": {\"model\": 8, \"Host\": \"algo-1\", \"Operation\": \"training\", \"Algorithm\": \"Linear Learner\", \"epoch\": 9}, \"StartTime\": 1579888125.333713}\n",
      "\u001b[0m\n",
      "\u001b[34m#metrics {\"Metrics\": {\"train_multiclass_cross_entropy_objective\": {\"count\": 1, \"max\": 2.888092962646484, \"sum\": 2.888092962646484, \"min\": 2.888092962646484}}, \"EndTime\": 1579888125.333793, \"Dimensions\": {\"model\": 9, \"Host\": \"algo-1\", \"Operation\": \"training\", \"Algorithm\": \"Linear Learner\", \"epoch\": 9}, \"StartTime\": 1579888125.333775}\n",
      "\u001b[0m\n",
      "\u001b[34m#metrics {\"Metrics\": {\"train_multiclass_cross_entropy_objective\": {\"count\": 1, \"max\": 0.9331543792724609, \"sum\": 0.9331543792724609, \"min\": 0.9331543792724609}}, \"EndTime\": 1579888125.333851, \"Dimensions\": {\"model\": 10, \"Host\": \"algo-1\", \"Operation\": \"training\", \"Algorithm\": \"Linear Learner\", \"epoch\": 9}, \"StartTime\": 1579888125.333834}\n",
      "\u001b[0m\n",
      "\u001b[34m#metrics {\"Metrics\": {\"train_multiclass_cross_entropy_objective\": {\"count\": 1, \"max\": 0.9621699178059896, \"sum\": 0.9621699178059896, \"min\": 0.9621699178059896}}, \"EndTime\": 1579888125.333909, \"Dimensions\": {\"model\": 11, \"Host\": \"algo-1\", \"Operation\": \"training\", \"Algorithm\": \"Linear Learner\", \"epoch\": 9}, \"StartTime\": 1579888125.333892}\n",
      "\u001b[0m\n",
      "\u001b[34m#metrics {\"Metrics\": {\"train_multiclass_cross_entropy_objective\": {\"count\": 1, \"max\": 0.9049572692871094, \"sum\": 0.9049572692871094, \"min\": 0.9049572692871094}}, \"EndTime\": 1579888125.333974, \"Dimensions\": {\"model\": 12, \"Host\": \"algo-1\", \"Operation\": \"training\", \"Algorithm\": \"Linear Learner\", \"epoch\": 9}, \"StartTime\": 1579888125.333954}\n",
      "\u001b[0m\n",
      "\u001b[34m#metrics {\"Metrics\": {\"train_multiclass_cross_entropy_objective\": {\"count\": 1, \"max\": 1.0624990743001301, \"sum\": 1.0624990743001301, \"min\": 1.0624990743001301}}, \"EndTime\": 1579888125.334036, \"Dimensions\": {\"model\": 13, \"Host\": \"algo-1\", \"Operation\": \"training\", \"Algorithm\": \"Linear Learner\", \"epoch\": 9}, \"StartTime\": 1579888125.334018}\n",
      "\u001b[0m\n",
      "\u001b[34m#metrics {\"Metrics\": {\"train_multiclass_cross_entropy_objective\": {\"count\": 1, \"max\": 2.275364577229818, \"sum\": 2.275364577229818, \"min\": 2.275364577229818}}, \"EndTime\": 1579888125.334097, \"Dimensions\": {\"model\": 14, \"Host\": \"algo-1\", \"Operation\": \"training\", \"Algorithm\": \"Linear Learner\", \"epoch\": 9}, \"StartTime\": 1579888125.33408}\n",
      "\u001b[0m\n",
      "\u001b[34m#metrics {\"Metrics\": {\"train_multiclass_cross_entropy_objective\": {\"count\": 1, \"max\": 0.8878055155436197, \"sum\": 0.8878055155436197, \"min\": 0.8878055155436197}}, \"EndTime\": 1579888125.334169, \"Dimensions\": {\"model\": 15, \"Host\": \"algo-1\", \"Operation\": \"training\", \"Algorithm\": \"Linear Learner\", \"epoch\": 9}, \"StartTime\": 1579888125.33415}\n",
      "\u001b[0m\n",
      "\u001b[34m#metrics {\"Metrics\": {\"train_multiclass_cross_entropy_objective\": {\"count\": 1, \"max\": 0.8866959940592448, \"sum\": 0.8866959940592448, \"min\": 0.8866959940592448}}, \"EndTime\": 1579888125.334232, \"Dimensions\": {\"model\": 16, \"Host\": \"algo-1\", \"Operation\": \"training\", \"Algorithm\": \"Linear Learner\", \"epoch\": 9}, \"StartTime\": 1579888125.334214}\n",
      "\u001b[0m\n",
      "\u001b[34m#metrics {\"Metrics\": {\"train_multiclass_cross_entropy_objective\": {\"count\": 1, \"max\": 0.8894726369222005, \"sum\": 0.8894726369222005, \"min\": 0.8894726369222005}}, \"EndTime\": 1579888125.334295, \"Dimensions\": {\"model\": 17, \"Host\": \"algo-1\", \"Operation\": \"training\", \"Algorithm\": \"Linear Learner\", \"epoch\": 9}, \"StartTime\": 1579888125.334277}\n",
      "\u001b[0m\n",
      "\u001b[34m#metrics {\"Metrics\": {\"train_multiclass_cross_entropy_objective\": {\"count\": 1, \"max\": 1.7024817036946616, \"sum\": 1.7024817036946616, \"min\": 1.7024817036946616}}, \"EndTime\": 1579888125.334366, \"Dimensions\": {\"model\": 18, \"Host\": \"algo-1\", \"Operation\": \"training\", \"Algorithm\": \"Linear Learner\", \"epoch\": 9}, \"StartTime\": 1579888125.334347}\n",
      "\u001b[0m\n",
      "\u001b[34m#metrics {\"Metrics\": {\"train_multiclass_cross_entropy_objective\": {\"count\": 1, \"max\": 1.4848847971598307, \"sum\": 1.4848847971598307, \"min\": 1.4848847971598307}}, \"EndTime\": 1579888125.334427, \"Dimensions\": {\"model\": 19, \"Host\": \"algo-1\", \"Operation\": \"training\", \"Algorithm\": \"Linear Learner\", \"epoch\": 9}, \"StartTime\": 1579888125.33441}\n",
      "\u001b[0m\n",
      "\u001b[34m#metrics {\"Metrics\": {\"train_multiclass_cross_entropy_objective\": {\"count\": 1, \"max\": 1.7980990498860676, \"sum\": 1.7980990498860676, \"min\": 1.7980990498860676}}, \"EndTime\": 1579888125.334491, \"Dimensions\": {\"model\": 20, \"Host\": \"algo-1\", \"Operation\": \"training\", \"Algorithm\": \"Linear Learner\", \"epoch\": 9}, \"StartTime\": 1579888125.334472}\n",
      "\u001b[0m\n",
      "\u001b[34m#metrics {\"Metrics\": {\"train_multiclass_cross_entropy_objective\": {\"count\": 1, \"max\": 1.573785312906901, \"sum\": 1.573785312906901, \"min\": 1.573785312906901}}, \"EndTime\": 1579888125.334563, \"Dimensions\": {\"model\": 21, \"Host\": \"algo-1\", \"Operation\": \"training\", \"Algorithm\": \"Linear Learner\", \"epoch\": 9}, \"StartTime\": 1579888125.334535}\n",
      "\u001b[0m\n",
      "\u001b[34m#metrics {\"Metrics\": {\"train_multiclass_cross_entropy_objective\": {\"count\": 1, \"max\": 0.9320350880940755, \"sum\": 0.9320350880940755, \"min\": 0.9320350880940755}}, \"EndTime\": 1579888125.334634, \"Dimensions\": {\"model\": 22, \"Host\": \"algo-1\", \"Operation\": \"training\", \"Algorithm\": \"Linear Learner\", \"epoch\": 9}, \"StartTime\": 1579888125.334615}\n",
      "\u001b[0m\n",
      "\u001b[34m#metrics {\"Metrics\": {\"train_multiclass_cross_entropy_objective\": {\"count\": 1, \"max\": 0.9045122029622396, \"sum\": 0.9045122029622396, \"min\": 0.9045122029622396}}, \"EndTime\": 1579888125.334696, \"Dimensions\": {\"model\": 23, \"Host\": \"algo-1\", \"Operation\": \"training\", \"Algorithm\": \"Linear Learner\", \"epoch\": 9}, \"StartTime\": 1579888125.334679}\n",
      "\u001b[0m\n",
      "\u001b[34m#metrics {\"Metrics\": {\"train_multiclass_cross_entropy_objective\": {\"count\": 1, \"max\": 1.4859294291178387, \"sum\": 1.4859294291178387, \"min\": 1.4859294291178387}}, \"EndTime\": 1579888125.334759, \"Dimensions\": {\"model\": 24, \"Host\": \"algo-1\", \"Operation\": \"training\", \"Algorithm\": \"Linear Learner\", \"epoch\": 9}, \"StartTime\": 1579888125.334741}\n",
      "\u001b[0m\n",
      "\u001b[34m#metrics {\"Metrics\": {\"train_multiclass_cross_entropy_objective\": {\"count\": 1, \"max\": 0.8960080556233724, \"sum\": 0.8960080556233724, \"min\": 0.8960080556233724}}, \"EndTime\": 1579888125.33483, \"Dimensions\": {\"model\": 25, \"Host\": \"algo-1\", \"Operation\": \"training\", \"Algorithm\": \"Linear Learner\", \"epoch\": 9}, \"StartTime\": 1579888125.334812}\n",
      "\u001b[0m\n",
      "\u001b[34m#metrics {\"Metrics\": {\"train_multiclass_cross_entropy_objective\": {\"count\": 1, \"max\": 1.1335443725585939, \"sum\": 1.1335443725585939, \"min\": 1.1335443725585939}}, \"EndTime\": 1579888125.334901, \"Dimensions\": {\"model\": 26, \"Host\": \"algo-1\", \"Operation\": \"training\", \"Algorithm\": \"Linear Learner\", \"epoch\": 9}, \"StartTime\": 1579888125.334883}\n",
      "\u001b[0m\n",
      "\u001b[34m#metrics {\"Metrics\": {\"train_multiclass_cross_entropy_objective\": {\"count\": 1, \"max\": 0.899276870727539, \"sum\": 0.899276870727539, \"min\": 0.899276870727539}}, \"EndTime\": 1579888125.334972, \"Dimensions\": {\"model\": 27, \"Host\": \"algo-1\", \"Operation\": \"training\", \"Algorithm\": \"Linear Learner\", \"epoch\": 9}, \"StartTime\": 1579888125.334955}\n",
      "\u001b[0m\n",
      "\u001b[34m#metrics {\"Metrics\": {\"train_multiclass_cross_entropy_objective\": {\"count\": 1, \"max\": 0.9787449015299479, \"sum\": 0.9787449015299479, \"min\": 0.9787449015299479}}, \"EndTime\": 1579888125.335047, \"Dimensions\": {\"model\": 28, \"Host\": \"algo-1\", \"Operation\": \"training\", \"Algorithm\": \"Linear Learner\", \"epoch\": 9}, \"StartTime\": 1579888125.335028}\n",
      "\u001b[0m\n",
      "\u001b[34m#metrics {\"Metrics\": {\"train_multiclass_cross_entropy_objective\": {\"count\": 1, \"max\": 0.9962810740152995, \"sum\": 0.9962810740152995, \"min\": 0.9962810740152995}}, \"EndTime\": 1579888125.335118, \"Dimensions\": {\"model\": 29, \"Host\": \"algo-1\", \"Operation\": \"training\", \"Algorithm\": \"Linear Learner\", \"epoch\": 9}, \"StartTime\": 1579888125.335101}\n",
      "\u001b[0m\n",
      "\u001b[34m#metrics {\"Metrics\": {\"train_multiclass_cross_entropy_objective\": {\"count\": 1, \"max\": 0.9596000040690105, \"sum\": 0.9596000040690105, \"min\": 0.9596000040690105}}, \"EndTime\": 1579888125.335188, \"Dimensions\": {\"model\": 30, \"Host\": \"algo-1\", \"Operation\": \"training\", \"Algorithm\": \"Linear Learner\", \"epoch\": 9}, \"StartTime\": 1579888125.33517}\n",
      "\u001b[0m\n",
      "\u001b[34m#metrics {\"Metrics\": {\"train_multiclass_cross_entropy_objective\": {\"count\": 1, \"max\": 0.8988157511393229, \"sum\": 0.8988157511393229, \"min\": 0.8988157511393229}}, \"EndTime\": 1579888125.335236, \"Dimensions\": {\"model\": 31, \"Host\": \"algo-1\", \"Operation\": \"training\", \"Algorithm\": \"Linear Learner\", \"epoch\": 9}, \"StartTime\": 1579888125.335225}\n",
      "\u001b[0m\n",
      "\u001b[34m[01/24/2020 17:48:45 INFO 140276589545280] #quality_metric: host=algo-1, epoch=9, train multiclass_cross_entropy_objective <loss>=0.896356467692\u001b[0m\n",
      "\u001b[34m[2020-01-24 17:48:45.543] [tensorio] [info] epoch_stats={\"data_pipeline\": \"/opt/ml/input/data/validation\", \"epoch\": 29, \"duration\": 185, \"num_examples\": 8, \"num_bytes\": 3094120}\u001b[0m\n",
      "\u001b[34m#metrics {\"Metrics\": {\"validation_multiclass_cross_entropy_objective\": {\"count\": 1, \"max\": 0.90343017578125, \"sum\": 0.90343017578125, \"min\": 0.90343017578125}}, \"EndTime\": 1579888125.550419, \"Dimensions\": {\"model\": 0, \"Host\": \"algo-1\", \"Operation\": \"training\", \"Algorithm\": \"Linear Learner\", \"epoch\": 9}, \"StartTime\": 1579888125.550353}\n",
      "\u001b[0m\n",
      "\u001b[34m#metrics {\"Metrics\": {\"validation_multiclass_cross_entropy_objective\": {\"count\": 1, \"max\": 1.0318534759643392, \"sum\": 1.0318534759643392, \"min\": 1.0318534759643392}}, \"EndTime\": 1579888125.550502, \"Dimensions\": {\"model\": 1, \"Host\": \"algo-1\", \"Operation\": \"training\", \"Algorithm\": \"Linear Learner\", \"epoch\": 9}, \"StartTime\": 1579888125.550487}\n",
      "\u001b[0m\n",
      "\u001b[34m#metrics {\"Metrics\": {\"validation_multiclass_cross_entropy_objective\": {\"count\": 1, \"max\": 1.0906681390957889, \"sum\": 1.0906681390957889, \"min\": 1.0906681390957889}}, \"EndTime\": 1579888125.550573, \"Dimensions\": {\"model\": 2, \"Host\": \"algo-1\", \"Operation\": \"training\", \"Algorithm\": \"Linear Learner\", \"epoch\": 9}, \"StartTime\": 1579888125.550554}\n",
      "\u001b[0m\n",
      "\u001b[34m#metrics {\"Metrics\": {\"validation_multiclass_cross_entropy_objective\": {\"count\": 1, \"max\": 0.8964231041553969, \"sum\": 0.8964231041553969, \"min\": 0.8964231041553969}}, \"EndTime\": 1579888125.550652, \"Dimensions\": {\"model\": 3, \"Host\": \"algo-1\", \"Operation\": \"training\", \"Algorithm\": \"Linear Learner\", \"epoch\": 9}, \"StartTime\": 1579888125.55063}\n",
      "\u001b[0m\n",
      "\u001b[34m#metrics {\"Metrics\": {\"validation_multiclass_cross_entropy_objective\": {\"count\": 1, \"max\": 0.9773358544401736, \"sum\": 0.9773358544401736, \"min\": 0.9773358544401736}}, \"EndTime\": 1579888125.550722, \"Dimensions\": {\"model\": 4, \"Host\": \"algo-1\", \"Operation\": \"training\", \"Algorithm\": \"Linear Learner\", \"epoch\": 9}, \"StartTime\": 1579888125.550703}\n",
      "\u001b[0m\n",
      "\u001b[34m#metrics {\"Metrics\": {\"validation_multiclass_cross_entropy_objective\": {\"count\": 1, \"max\": 0.9253167692100637, \"sum\": 0.9253167692100637, \"min\": 0.9253167692100637}}, \"EndTime\": 1579888125.550788, \"Dimensions\": {\"model\": 5, \"Host\": \"algo-1\", \"Operation\": \"training\", \"Algorithm\": \"Linear Learner\", \"epoch\": 9}, \"StartTime\": 1579888125.550775}\n",
      "\u001b[0m\n",
      "\u001b[34m#metrics {\"Metrics\": {\"validation_multiclass_cross_entropy_objective\": {\"count\": 1, \"max\": 0.8902079210141686, \"sum\": 0.8902079210141686, \"min\": 0.8902079210141686}}, \"EndTime\": 1579888125.55085, \"Dimensions\": {\"model\": 6, \"Host\": \"algo-1\", \"Operation\": \"training\", \"Algorithm\": \"Linear Learner\", \"epoch\": 9}, \"StartTime\": 1579888125.550832}\n",
      "\u001b[0m\n",
      "\u001b[34m#metrics {\"Metrics\": {\"validation_multiclass_cross_entropy_objective\": {\"count\": 1, \"max\": 0.9271750052664156, \"sum\": 0.9271750052664156, \"min\": 0.9271750052664156}}, \"EndTime\": 1579888125.550913, \"Dimensions\": {\"model\": 7, \"Host\": \"algo-1\", \"Operation\": \"training\", \"Algorithm\": \"Linear Learner\", \"epoch\": 9}, \"StartTime\": 1579888125.550901}\n",
      "\u001b[0m\n",
      "\u001b[34m#metrics {\"Metrics\": {\"validation_multiclass_cross_entropy_objective\": {\"count\": 1, \"max\": 0.9361957737989972, \"sum\": 0.9361957737989972, \"min\": 0.9361957737989972}}, \"EndTime\": 1579888125.55097, \"Dimensions\": {\"model\": 8, \"Host\": \"algo-1\", \"Operation\": \"training\", \"Algorithm\": \"Linear Learner\", \"epoch\": 9}, \"StartTime\": 1579888125.550952}\n",
      "\u001b[0m\n",
      "\u001b[34m#metrics {\"Metrics\": {\"validation_multiclass_cross_entropy_objective\": {\"count\": 1, \"max\": 2.2513808980603986, \"sum\": 2.2513808980603986, \"min\": 2.2513808980603986}}, \"EndTime\": 1579888125.551033, \"Dimensions\": {\"model\": 9, \"Host\": \"algo-1\", \"Operation\": \"training\", \"Algorithm\": \"Linear Learner\", \"epoch\": 9}, \"StartTime\": 1579888125.551022}\n",
      "\u001b[0m\n",
      "\u001b[34m#metrics {\"Metrics\": {\"validation_multiclass_cross_entropy_objective\": {\"count\": 1, \"max\": 0.9288241329269308, \"sum\": 0.9288241329269308, \"min\": 0.9288241329269308}}, \"EndTime\": 1579888125.551092, \"Dimensions\": {\"model\": 10, \"Host\": \"algo-1\", \"Operation\": \"training\", \"Algorithm\": \"Linear Learner\", \"epoch\": 9}, \"StartTime\": 1579888125.551074}\n",
      "\u001b[0m\n",
      "\u001b[34m#metrics {\"Metrics\": {\"validation_multiclass_cross_entropy_objective\": {\"count\": 1, \"max\": 0.9708807324283768, \"sum\": 0.9708807324283768, \"min\": 0.9708807324283768}}, \"EndTime\": 1579888125.551157, \"Dimensions\": {\"model\": 11, \"Host\": \"algo-1\", \"Operation\": \"training\", \"Algorithm\": \"Linear Learner\", \"epoch\": 9}, \"StartTime\": 1579888125.551138}\n",
      "\u001b[0m\n",
      "\u001b[34m#metrics {\"Metrics\": {\"validation_multiclass_cross_entropy_objective\": {\"count\": 1, \"max\": 0.9126264589921771, \"sum\": 0.9126264589921771, \"min\": 0.9126264589921771}}, \"EndTime\": 1579888125.551226, \"Dimensions\": {\"model\": 12, \"Host\": \"algo-1\", \"Operation\": \"training\", \"Algorithm\": \"Linear Learner\", \"epoch\": 9}, \"StartTime\": 1579888125.551207}\n",
      "\u001b[0m\n",
      "\u001b[34m#metrics {\"Metrics\": {\"validation_multiclass_cross_entropy_objective\": {\"count\": 1, \"max\": 1.0334452663375915, \"sum\": 1.0334452663375915, \"min\": 1.0334452663375915}}, \"EndTime\": 1579888125.551292, \"Dimensions\": {\"model\": 13, \"Host\": \"algo-1\", \"Operation\": \"training\", \"Algorithm\": \"Linear Learner\", \"epoch\": 9}, \"StartTime\": 1579888125.551273}\n",
      "\u001b[0m\n",
      "\u001b[34m#metrics {\"Metrics\": {\"validation_multiclass_cross_entropy_objective\": {\"count\": 1, \"max\": 2.4436272307496254, \"sum\": 2.4436272307496254, \"min\": 2.4436272307496254}}, \"EndTime\": 1579888125.551354, \"Dimensions\": {\"model\": 14, \"Host\": \"algo-1\", \"Operation\": \"training\", \"Algorithm\": \"Linear Learner\", \"epoch\": 9}, \"StartTime\": 1579888125.551337}\n",
      "\u001b[0m\n",
      "\u001b[34m#metrics {\"Metrics\": {\"validation_multiclass_cross_entropy_objective\": {\"count\": 1, \"max\": 0.8933699525307403, \"sum\": 0.8933699525307403, \"min\": 0.8933699525307403}}, \"EndTime\": 1579888125.551406, \"Dimensions\": {\"model\": 15, \"Host\": \"algo-1\", \"Operation\": \"training\", \"Algorithm\": \"Linear Learner\", \"epoch\": 9}, \"StartTime\": 1579888125.551393}\n",
      "\u001b[0m\n",
      "\u001b[34m#metrics {\"Metrics\": {\"validation_multiclass_cross_entropy_objective\": {\"count\": 1, \"max\": 0.8915363784160182, \"sum\": 0.8915363784160182, \"min\": 0.8915363784160182}}, \"EndTime\": 1579888125.551441, \"Dimensions\": {\"model\": 16, \"Host\": \"algo-1\", \"Operation\": \"training\", \"Algorithm\": \"Linear Learner\", \"epoch\": 9}, \"StartTime\": 1579888125.551431}\n",
      "\u001b[0m\n",
      "\u001b[34m#metrics {\"Metrics\": {\"validation_multiclass_cross_entropy_objective\": {\"count\": 1, \"max\": 0.8946924730242489, \"sum\": 0.8946924730242489, \"min\": 0.8946924730242489}}, \"EndTime\": 1579888125.551499, \"Dimensions\": {\"model\": 17, \"Host\": \"algo-1\", \"Operation\": \"training\", \"Algorithm\": \"Linear Learner\", \"epoch\": 9}, \"StartTime\": 1579888125.551482}\n",
      "\u001b[0m\n",
      "\u001b[34m#metrics {\"Metrics\": {\"validation_multiclass_cross_entropy_objective\": {\"count\": 1, \"max\": 1.4467132283907915, \"sum\": 1.4467132283907915, \"min\": 1.4467132283907915}}, \"EndTime\": 1579888125.551568, \"Dimensions\": {\"model\": 18, \"Host\": \"algo-1\", \"Operation\": \"training\", \"Algorithm\": \"Linear Learner\", \"epoch\": 9}, \"StartTime\": 1579888125.55155}\n",
      "\u001b[0m\n",
      "\u001b[34m#metrics {\"Metrics\": {\"validation_multiclass_cross_entropy_objective\": {\"count\": 1, \"max\": 1.3794935366126415, \"sum\": 1.3794935366126415, \"min\": 1.3794935366126415}}, \"EndTime\": 1579888125.551633, \"Dimensions\": {\"model\": 19, \"Host\": \"algo-1\", \"Operation\": \"training\", \"Algorithm\": \"Linear Learner\", \"epoch\": 9}, \"StartTime\": 1579888125.551614}\n",
      "\u001b[0m\n",
      "\u001b[34m#metrics {\"Metrics\": {\"validation_multiclass_cross_entropy_objective\": {\"count\": 1, \"max\": 2.0156841333950566, \"sum\": 2.0156841333950566, \"min\": 2.0156841333950566}}, \"EndTime\": 1579888125.551695, \"Dimensions\": {\"model\": 20, \"Host\": \"algo-1\", \"Operation\": \"training\", \"Algorithm\": \"Linear Learner\", \"epoch\": 9}, \"StartTime\": 1579888125.551678}\n",
      "\u001b[0m\n",
      "\u001b[34m#metrics {\"Metrics\": {\"validation_multiclass_cross_entropy_objective\": {\"count\": 1, \"max\": 1.3408575918957015, \"sum\": 1.3408575918957015, \"min\": 1.3408575918957015}}, \"EndTime\": 1579888125.551758, \"Dimensions\": {\"model\": 21, \"Host\": \"algo-1\", \"Operation\": \"training\", \"Algorithm\": \"Linear Learner\", \"epoch\": 9}, \"StartTime\": 1579888125.551741}\n",
      "\u001b[0m\n",
      "\u001b[34m#metrics {\"Metrics\": {\"validation_multiclass_cross_entropy_objective\": {\"count\": 1, \"max\": 0.9510605366347474, \"sum\": 0.9510605366347474, \"min\": 0.9510605366347474}}, \"EndTime\": 1579888125.55182, \"Dimensions\": {\"model\": 22, \"Host\": \"algo-1\", \"Operation\": \"training\", \"Algorithm\": \"Linear Learner\", \"epoch\": 9}, \"StartTime\": 1579888125.551802}\n",
      "\u001b[0m\n",
      "\u001b[34m#metrics {\"Metrics\": {\"validation_multiclass_cross_entropy_objective\": {\"count\": 1, \"max\": 0.913547008936002, \"sum\": 0.913547008936002, \"min\": 0.913547008936002}}, \"EndTime\": 1579888125.55188, \"Dimensions\": {\"model\": 23, \"Host\": \"algo-1\", \"Operation\": \"training\", \"Algorithm\": \"Linear Learner\", \"epoch\": 9}, \"StartTime\": 1579888125.551863}\n",
      "\u001b[0m\n",
      "\u001b[34m#metrics {\"Metrics\": {\"validation_multiclass_cross_entropy_objective\": {\"count\": 1, \"max\": 1.2125794919924475, \"sum\": 1.2125794919924475, \"min\": 1.2125794919924475}}, \"EndTime\": 1579888125.551949, \"Dimensions\": {\"model\": 24, \"Host\": \"algo-1\", \"Operation\": \"training\", \"Algorithm\": \"Linear Learner\", \"epoch\": 9}, \"StartTime\": 1579888125.551931}\n",
      "\u001b[0m\n",
      "\u001b[34m#metrics {\"Metrics\": {\"validation_multiclass_cross_entropy_objective\": {\"count\": 1, \"max\": 0.9021295336686501, \"sum\": 0.9021295336686501, \"min\": 0.9021295336686501}}, \"EndTime\": 1579888125.552016, \"Dimensions\": {\"model\": 25, \"Host\": \"algo-1\", \"Operation\": \"training\", \"Algorithm\": \"Linear Learner\", \"epoch\": 9}, \"StartTime\": 1579888125.551998}\n",
      "\u001b[0m\n",
      "\u001b[34m#metrics {\"Metrics\": {\"validation_multiclass_cross_entropy_objective\": {\"count\": 1, \"max\": 1.288657246067743, \"sum\": 1.288657246067743, \"min\": 1.288657246067743}}, \"EndTime\": 1579888125.552085, \"Dimensions\": {\"model\": 26, \"Host\": \"algo-1\", \"Operation\": \"training\", \"Algorithm\": \"Linear Learner\", \"epoch\": 9}, \"StartTime\": 1579888125.552066}\n",
      "\u001b[0m\n",
      "\u001b[34m#metrics {\"Metrics\": {\"validation_multiclass_cross_entropy_objective\": {\"count\": 1, \"max\": 0.905316288080736, \"sum\": 0.905316288080736, \"min\": 0.905316288080736}}, \"EndTime\": 1579888125.552149, \"Dimensions\": {\"model\": 27, \"Host\": \"algo-1\", \"Operation\": \"training\", \"Algorithm\": \"Linear Learner\", \"epoch\": 9}, \"StartTime\": 1579888125.552131}\n",
      "\u001b[0m\n",
      "\u001b[34m#metrics {\"Metrics\": {\"validation_multiclass_cross_entropy_objective\": {\"count\": 1, \"max\": 0.9736106943671459, \"sum\": 0.9736106943671459, \"min\": 0.9736106943671459}}, \"EndTime\": 1579888125.552214, \"Dimensions\": {\"model\": 28, \"Host\": \"algo-1\", \"Operation\": \"training\", \"Algorithm\": \"Linear Learner\", \"epoch\": 9}, \"StartTime\": 1579888125.552196}\n",
      "\u001b[0m\n",
      "\u001b[34m#metrics {\"Metrics\": {\"validation_multiclass_cross_entropy_objective\": {\"count\": 1, \"max\": 0.9678176900200774, \"sum\": 0.9678176900200774, \"min\": 0.9678176900200774}}, \"EndTime\": 1579888125.552277, \"Dimensions\": {\"model\": 29, \"Host\": \"algo-1\", \"Operation\": \"training\", \"Algorithm\": \"Linear Learner\", \"epoch\": 9}, \"StartTime\": 1579888125.552259}\n",
      "\u001b[0m\n",
      "\u001b[34m#metrics {\"Metrics\": {\"validation_multiclass_cross_entropy_objective\": {\"count\": 1, \"max\": 0.9539102404476323, \"sum\": 0.9539102404476323, \"min\": 0.9539102404476323}}, \"EndTime\": 1579888125.552339, \"Dimensions\": {\"model\": 30, \"Host\": \"algo-1\", \"Operation\": \"training\", \"Algorithm\": \"Linear Learner\", \"epoch\": 9}, \"StartTime\": 1579888125.552322}\n",
      "\u001b[0m\n",
      "\u001b[34m#metrics {\"Metrics\": {\"validation_multiclass_cross_entropy_objective\": {\"count\": 1, \"max\": 0.9067518333302992, \"sum\": 0.9067518333302992, \"min\": 0.9067518333302992}}, \"EndTime\": 1579888125.552411, \"Dimensions\": {\"model\": 31, \"Host\": \"algo-1\", \"Operation\": \"training\", \"Algorithm\": \"Linear Learner\", \"epoch\": 9}, \"StartTime\": 1579888125.552393}\n",
      "\u001b[0m\n",
      "\u001b[34m[01/24/2020 17:48:45 INFO 140276589545280] #quality_metric: host=algo-1, epoch=9, validation multiclass_cross_entropy_objective <loss>=0.903430175781\u001b[0m\n",
      "\u001b[34m[01/24/2020 17:48:45 INFO 140276589545280] #early_stopping_criteria_metric: host=algo-1, epoch=9, criteria=multiclass_cross_entropy_objective, value=0.890207921014\u001b[0m\n",
      "\u001b[34m[01/24/2020 17:48:45 INFO 140276589545280] Early stop condition met. Stopping training.\u001b[0m\n",
      "\u001b[34m[01/24/2020 17:48:45 INFO 140276589545280] #progress_metric: host=algo-1, completed 100 % epochs\u001b[0m\n",
      "\u001b[34m#metrics {\"Metrics\": {\"Max Batches Seen Between Resets\": {\"count\": 1, \"max\": 61, \"sum\": 61.0, \"min\": 61}, \"Number of Batches Since Last Reset\": {\"count\": 1, \"max\": 61, \"sum\": 61.0, \"min\": 61}, \"Number of Records Since Last Reset\": {\"count\": 1, \"max\": 60079, \"sum\": 60079.0, \"min\": 60079}, \"Total Batches Seen\": {\"count\": 1, \"max\": 622, \"sum\": 622.0, \"min\": 622}, \"Total Records Seen\": {\"count\": 1, \"max\": 612790, \"sum\": 612790.0, \"min\": 612790}, \"Max Records Seen Between Resets\": {\"count\": 1, \"max\": 60079, \"sum\": 60079.0, \"min\": 60079}, \"Reset Count\": {\"count\": 1, \"max\": 12, \"sum\": 12.0, \"min\": 12}}, \"EndTime\": 1579888125.553458, \"Dimensions\": {\"Host\": \"algo-1\", \"Meta\": \"training_data_iter\", \"Operation\": \"training\", \"Algorithm\": \"Linear Learner\", \"epoch\": 9}, \"StartTime\": 1579888122.731017}\n",
      "\u001b[0m\n",
      "\u001b[34m[01/24/2020 17:48:45 INFO 140276589545280] #throughput_metric: host=algo-1, train throughput=21285.1966758 records/second\u001b[0m\n",
      "\u001b[34m[01/24/2020 17:48:45 WARNING 140276589545280] wait_for_all_workers will not sync workers since the kv store is not running distributed\u001b[0m\n",
      "\u001b[34m[01/24/2020 17:48:45 WARNING 140276589545280] wait_for_all_workers will not sync workers since the kv store is not running distributed\u001b[0m\n",
      "\u001b[34m[2020-01-24 17:48:45.773] [tensorio] [info] epoch_stats={\"data_pipeline\": \"/opt/ml/input/data/validation\", \"epoch\": 32, \"duration\": 200, \"num_examples\": 8, \"num_bytes\": 3094120}\u001b[0m\n",
      "\u001b[34m[01/24/2020 17:48:45 INFO 140276589545280] #early_stopping_criteria_metric: host=algo-1, epoch=9, criteria=multiclass_cross_entropy_objective, value=0.890207921014\u001b[0m\n",
      "\u001b[34m[2020-01-24 17:48:45.841] [tensorio] [info] epoch_stats={\"data_pipeline\": \"/opt/ml/input/data/validation\", \"epoch\": 34, \"duration\": 57, \"num_examples\": 8, \"num_bytes\": 3094120}\u001b[0m\n",
      "\u001b[34m[01/24/2020 17:48:45 INFO 140276589545280] #validation_score (algo-1) : ('multiclass_cross_entropy_objective', 0.8930183908434587)\u001b[0m\n",
      "\u001b[34m[01/24/2020 17:48:45 INFO 140276589545280] #validation_score (algo-1) : ('multiclass_accuracy', 0.5541944074567243)\u001b[0m\n",
      "\u001b[34m[01/24/2020 17:48:45 INFO 140276589545280] #validation_score (algo-1) : ('multiclass_top_k_accuracy_3', 1.0)\u001b[0m\n",
      "\u001b[34m[01/24/2020 17:48:45 INFO 140276589545280] #validation_score (algo-1) : ('dcg', 0.8181544074047103)\u001b[0m\n",
      "\u001b[34m[01/24/2020 17:48:45 INFO 140276589545280] #validation_score (algo-1) : ('macro_recall', 0.54473513)\u001b[0m\n",
      "\u001b[34m[01/24/2020 17:48:45 INFO 140276589545280] #validation_score (algo-1) : ('macro_precision', 0.57366365)\u001b[0m\n",
      "\u001b[34m[01/24/2020 17:48:45 INFO 140276589545280] #validation_score (algo-1) : ('macro_f_1.000', 0.5493278)\u001b[0m\n",
      "\u001b[34m[01/24/2020 17:48:45 INFO 140276589545280] #quality_metric: host=algo-1, validation multiclass_cross_entropy_objective <loss>=0.893018390843\u001b[0m\n",
      "\u001b[34m[01/24/2020 17:48:45 INFO 140276589545280] #quality_metric: host=algo-1, validation multiclass_accuracy <score>=0.554194407457\u001b[0m\n",
      "\u001b[34m[01/24/2020 17:48:45 INFO 140276589545280] #quality_metric: host=algo-1, validation multiclass_top_k_accuracy_3 <score>=1.0\u001b[0m\n",
      "\u001b[34m[01/24/2020 17:48:45 INFO 140276589545280] #quality_metric: host=algo-1, validation dcg <score>=0.818154407405\u001b[0m\n",
      "\u001b[34m[01/24/2020 17:48:45 INFO 140276589545280] #quality_metric: host=algo-1, validation macro_recall <score>=0.544735133648\u001b[0m\n",
      "\u001b[34m[01/24/2020 17:48:45 INFO 140276589545280] #quality_metric: host=algo-1, validation macro_precision <score>=0.573663651943\u001b[0m\n",
      "\u001b[34m[01/24/2020 17:48:45 INFO 140276589545280] #quality_metric: host=algo-1, validation macro_f_1.000 <score>=0.549327790737\u001b[0m\n",
      "\u001b[34m[01/24/2020 17:48:45 INFO 140276589545280] Best model found for hyperparameters: {\"lr_scheduler_step\": 455, \"wd\": 0.0017892183551686785, \"optimizer\": \"adam\", \"lr_scheduler_factor\": 0.9898241409192494, \"l1\": 0.03914801904802198, \"learning_rate\": 0.03668943475753457, \"lr_scheduler_minimum_lr\": 2.294182951069527e-05}\u001b[0m\n",
      "\u001b[34m[01/24/2020 17:48:45 INFO 140276589545280] Saved checkpoint to \"/tmp/tmppiN0KF/mx-mod-0000.params\"\u001b[0m\n",
      "\u001b[34m[2020-01-24 17:48:45.863] [tensorio] [info] epoch_stats={\"data_pipeline\": \"/opt/ml/input/data/test\", \"epoch\": 0, \"duration\": 29198, \"num_examples\": 1, \"num_bytes\": 412000}\u001b[0m\n",
      "\u001b[34m[2020-01-24 17:48:45.926] [tensorio] [info] epoch_stats={\"data_pipeline\": \"/opt/ml/input/data/test\", \"epoch\": 1, \"duration\": 63, \"num_examples\": 8, \"num_bytes\": 3094120}\u001b[0m\n",
      "\u001b[34m#metrics {\"Metrics\": {\"Max Batches Seen Between Resets\": {\"count\": 1, \"max\": 8, \"sum\": 8.0, \"min\": 8}, \"Number of Batches Since Last Reset\": {\"count\": 1, \"max\": 8, \"sum\": 8.0, \"min\": 8}, \"Number of Records Since Last Reset\": {\"count\": 1, \"max\": 7510, \"sum\": 7510.0, \"min\": 7510}, \"Total Batches Seen\": {\"count\": 1, \"max\": 8, \"sum\": 8.0, \"min\": 8}, \"Total Records Seen\": {\"count\": 1, \"max\": 7510, \"sum\": 7510.0, \"min\": 7510}, \"Max Records Seen Between Resets\": {\"count\": 1, \"max\": 7510, \"sum\": 7510.0, \"min\": 7510}, \"Reset Count\": {\"count\": 1, \"max\": 1, \"sum\": 1.0, \"min\": 1}}, \"EndTime\": 1579888125.943314, \"Dimensions\": {\"Host\": \"algo-1\", \"Meta\": \"test_data_iter\", \"Operation\": \"training\", \"Algorithm\": \"Linear Learner\"}, \"StartTime\": 1579888125.863112}\n",
      "\u001b[0m\n",
      "\u001b[34m[01/24/2020 17:48:45 INFO 140276589545280] #test_score (algo-1) : ('multiclass_cross_entropy_objective', 0.8869041432712113)\u001b[0m\n",
      "\u001b[34m[01/24/2020 17:48:45 INFO 140276589545280] #test_score (algo-1) : ('multiclass_accuracy', 0.5596537949400799)\u001b[0m\n",
      "\u001b[34m[01/24/2020 17:48:45 INFO 140276589545280] #test_score (algo-1) : ('multiclass_top_k_accuracy_3', 1.0)\u001b[0m\n",
      "\u001b[34m[01/24/2020 17:48:45 INFO 140276589545280] #test_score (algo-1) : ('dcg', 0.8206574542862122)\u001b[0m\n",
      "\u001b[34m[01/24/2020 17:48:45 INFO 140276589545280] #test_score (algo-1) : ('macro_recall', 0.5506639)\u001b[0m\n",
      "\u001b[34m[01/24/2020 17:48:45 INFO 140276589545280] #test_score (algo-1) : ('macro_precision', 0.5803919)\u001b[0m\n",
      "\u001b[34m[01/24/2020 17:48:45 INFO 140276589545280] #test_score (algo-1) : ('macro_f_1.000', 0.5559134)\u001b[0m\n",
      "\u001b[34m[01/24/2020 17:48:45 INFO 140276589545280] #quality_metric: host=algo-1, test multiclass_cross_entropy_objective <loss>=0.886904143271\u001b[0m\n",
      "\u001b[34m[01/24/2020 17:48:45 INFO 140276589545280] #quality_metric: host=algo-1, test multiclass_accuracy <score>=0.55965379494\u001b[0m\n",
      "\u001b[34m[01/24/2020 17:48:45 INFO 140276589545280] #quality_metric: host=algo-1, test multiclass_top_k_accuracy_3 <score>=1.0\u001b[0m\n",
      "\u001b[34m[01/24/2020 17:48:45 INFO 140276589545280] #quality_metric: host=algo-1, test dcg <score>=0.820657454286\u001b[0m\n",
      "\u001b[34m[01/24/2020 17:48:45 INFO 140276589545280] #quality_metric: host=algo-1, test macro_recall <score>=0.550663888454\u001b[0m\n",
      "\u001b[34m[01/24/2020 17:48:45 INFO 140276589545280] #quality_metric: host=algo-1, test macro_precision <score>=0.58039188385\u001b[0m\n",
      "\u001b[34m[01/24/2020 17:48:45 INFO 140276589545280] #quality_metric: host=algo-1, test macro_f_1.000 <score>=0.555913388729\u001b[0m\n",
      "\u001b[34m#metrics {\"Metrics\": {\"totaltime\": {\"count\": 1, \"max\": 29390.14196395874, \"sum\": 29390.14196395874, \"min\": 29390.14196395874}, \"finalize.time\": {\"count\": 1, \"max\": 306.02192878723145, \"sum\": 306.02192878723145, \"min\": 306.02192878723145}, \"initialize.time\": {\"count\": 1, \"max\": 310.3640079498291, \"sum\": 310.3640079498291, \"min\": 310.3640079498291}, \"check_early_stopping.time\": {\"count\": 11, \"max\": 1.0781288146972656, \"sum\": 6.229639053344727, \"min\": 0.2079010009765625}, \"setuptime\": {\"count\": 1, \"max\": 29.234886169433594, \"sum\": 29.234886169433594, \"min\": 29.234886169433594}, \"update.time\": {\"count\": 10, \"max\": 3197.6890563964844, \"sum\": 28558.29405784607, \"min\": 2746.2689876556396}, \"epochs\": {\"count\": 1, \"max\": 15, \"sum\": 15.0, \"min\": 15}}, \"EndTime\": 1579888125.95494, \"Dimensions\": {\"Host\": \"algo-1\", \"Operation\": \"training\", \"Algorithm\": \"Linear Learner\"}, \"StartTime\": 1579888096.651691}\n",
      "\u001b[0m\n",
      "\n",
      "2020-01-24 17:48:57 Uploading - Uploading generated training model\n",
      "2020-01-24 17:48:57 Completed - Training job completed\n",
      "Training seconds: 79\n",
      "Billable seconds: 79\n"
     ]
    }
   ],
   "source": [
    "linear_learner_estimator.fit([train_records, val_records, test_records])"
   ]
  },
  {
   "cell_type": "code",
   "execution_count": null,
   "metadata": {
    "scrolled": true
   },
   "outputs": [
    {
     "name": "stdout",
     "output_type": "stream",
     "text": [
      "--------------------------------------------------------------------------!"
     ]
    }
   ],
   "source": [
    "linear_learner_predictor = linear_learner_estimator.deploy(initial_instance_count=1, instance_type='ml.m4.xlarge')"
   ]
  },
  {
   "cell_type": "code",
   "execution_count": 45,
   "metadata": {},
   "outputs": [],
   "source": [
    "def evaluate_metrics(predictor, test_features, test_labels):\n",
    "    \"\"\"\n",
    "    Evaluate a model on a test set using the given prediction endpoint. Display classification metrics.\n",
    "    \"\"\"\n",
    "    # split the test dataset into 100 batches and evaluate using prediction endpoint\n",
    "    prediction_batches = [predictor.predict(batch) for batch in np.array_split(xTest, 100)]\n",
    "\n",
    "    # parse protobuf responses to extract predicted labels\n",
    "    extract_label = lambda x: x.label['predicted_label'].float32_tensor.values\n",
    "    test_preds = np.concatenate([np.array([extract_label(x) for x in batch]) for batch in prediction_batches])\n",
    "    test_preds = test_preds.reshape((-1,))\n",
    "\n",
    "    # calculate accuracy\n",
    "    accuracy = (test_preds == test_labels).sum() / test_labels.shape[0]\n",
    "\n",
    "    # calculate confusion matrix\n",
    "    label_mapper = np.vectorize(lambda x: activty_map[x])\n",
    "    confusion_matrix = pd.crosstab(label_mapper(test_labels), label_mapper(test_preds), \n",
    "                                   rownames=['Actuals'], colnames=['Predictions'], normalize='index')\n",
    "    # display results\n",
    "    plt.figure(figsize=(16, 6))\n",
    "    sns.heatmap(confusion_matrix, annot=True, fmt='.2f', cmap=\"YlGnBu\").set_title('Confusion Matrix')  \n",
    "    \n",
    "    print('Accuracy: {:.3f}'.format(accuracy))"
   ]
  },
  {
   "cell_type": "code",
   "execution_count": 46,
   "metadata": {},
   "outputs": [
    {
     "name": "stdout",
     "output_type": "stream",
     "text": [
      "Accuracy: 0.560\n"
     ]
    },
    {
     "data": {
      "image/png": "[encoded data removed]",
      "text/plain": [
       "<Figure size 1152x432 with 2 Axes>"
      ]
     },
     "metadata": {},
     "output_type": "display_data"
    }
   ],
   "source": [
    "evaluate_metrics(linear_learner_predictor, xTest, yTest)\n"
   ]
  },
  {
   "cell_type": "markdown",
   "metadata": {},
   "source": [
    "## Feature Selection"
   ]
  },
  {
   "cell_type": "code",
   "execution_count": null,
   "metadata": {},
   "outputs": [],
   "source": [
    "# should be the name of directory you created to save your features data\n",
    "data_dir = 'activity_data'\n",
    "\n",
    "# set prefix, a descriptive name for a directory  \n",
    "prefix = 'activity_data'\n",
    "\n",
    "output_path = 's3://{}/{}'.format(bucket, prefix)\n",
    "\n",
    "input_data = sagemaker_session.upload_data(path=data_dir, bucket=bucket, key_prefix=prefix)\n",
    "print(input_data)\n",
    "\n",
    "# upload all data to S3"
   ]
  },
  {
   "cell_type": "code",
   "execution_count": 49,
   "metadata": {},
   "outputs": [
    {
     "name": "stdout",
     "output_type": "stream",
     "text": [
      "        Specs        Score\n",
      "42       XVAR  1208.759578\n",
      "43       YVAR  1139.774652\n",
      "39  XSTANDDEV  1083.781498\n",
      "36  XABSOLDEV  1070.791139\n",
      "7          X7   970.931499\n",
      "40  YSTANDDEV   906.095967\n",
      "37  YABSOLDEV   902.136731\n",
      "44       ZVAR   881.935620\n",
      "6          X6   760.882796\n",
      "24         Z4   713.046560\n",
      "selected_features ['XVAR', 'YVAR', 'XSTANDDEV', 'XABSOLDEV', 'X7', 'YSTANDDEV', 'YABSOLDEV', 'ZVAR', 'X6', 'Z4']\n"
     ]
    }
   ],
   "source": [
    "import pandas as pd\n",
    "import numpy as np\n",
    "from sklearn.feature_selection import SelectKBest\n",
    "from sklearn.feature_selection import chi2\n",
    "\n",
    "\n",
    "\n",
    "X = df  #independent columns\n",
    "y = activity   #target column i.e activity\n",
    "\n",
    "#apply SelectKBest class to extract top 10 best features\n",
    "bestfeatures = SelectKBest(score_func=chi2, k=10)\n",
    "fit = bestfeatures.fit(X,y)\n",
    "dfscores = pd.DataFrame(fit.scores_)\n",
    "dfcolumns = pd.DataFrame(X.columns)\n",
    "#concat two dataframes for better visualization \n",
    "featureScores = pd.concat([dfcolumns,dfscores],axis=1)\n",
    "featureScores.columns = ['Specs','Score']  #naming the dataframe columns\n",
    "tenlarget = featureScores.nlargest(10,'Score')  #print 10 best features\n",
    "print(tenlarget)\n",
    "selected_features = tenlarget['Specs'].tolist()\n",
    "print('selected_features', selected_features)"
   ]
  },
  {
   "cell_type": "code",
   "execution_count": 57,
   "metadata": {},
   "outputs": [],
   "source": [
    "features = df.filter(selected_features).to_numpy(dtype=np.float32)\n",
    "#filter the dataframme to get only the 10 best columns values\n",
    "activity_labels = activity.to_numpy()"
   ]
  },
  {
   "cell_type": "code",
   "execution_count": 58,
   "metadata": {},
   "outputs": [],
   "source": [
    "def make_csv(x, y, filename, data_dir):\n",
    "    '''Merges features and labels and converts them into one csv file with labels in the first column.\n",
    "       :param x: Data features\n",
    "       :param y: Data labels\n",
    "       :param file_name: Name of csv file, ex. 'train.csv'\n",
    "       :param data_dir: The directory where files will be saved\n",
    "       '''\n",
    "    # make data dir, if it does not exist\n",
    "    if not os.path.exists(data_dir):\n",
    "        os.makedirs(data_dir)\n",
    "    \n",
    "    \n",
    "    # your code here\n",
    "    pd.concat([pd.DataFrame(y), pd.DataFrame(x)], axis=1)\\\n",
    "             .to_csv(os.path.join(data_dir, filename), header=False, index=False)\n",
    "    \n",
    "    # nothing is returned, but a print statement indicates that the function has run\n",
    "    print('Path created: '+str(data_dir)+'/'+str(filename))"
   ]
  },
  {
   "cell_type": "code",
   "execution_count": 60,
   "metadata": {},
   "outputs": [],
   "source": [
    "xTrain, xTest, yTrain, yTest = train_test_split(features, activity_labels, test_size = 0.2, random_state = 0)\n",
    "#get the train and test split for the SVM models"
   ]
  },
  {
   "cell_type": "code",
   "execution_count": 61,
   "metadata": {},
   "outputs": [
    {
     "name": "stdout",
     "output_type": "stream",
     "text": [
      "Training size:  60079\n",
      "Test size:  15020\n",
      "\n",
      "Training df sample: \n",
      " [[0.02416954 0.02283454 0.00084125 0.00090211 0.         0.00071396\n",
      "  0.00070293 0.0115161  0.         0.        ]\n",
      " [0.11350783 0.09438273 0.0139809  0.01551688 0.         0.00964575\n",
      "  0.00980561 0.1113731  0.         0.        ]\n",
      " [0.02822756 0.03661668 0.0010958  0.00109826 0.         0.00164519\n",
      "  0.00164558 0.03683381 0.         0.        ]\n",
      " [0.52763885 0.4936828  0.2811205  0.27412927 0.01052632 0.24587977\n",
      "  0.23138976 0.4623356  0.025      0.06      ]\n",
      " [0.02220703 0.02011587 0.00072984 0.00079059 0.         0.00057474\n",
      "  0.00058996 0.01154429 0.         0.        ]\n",
      " [0.09020344 0.02507647 0.00903122 0.00374016 0.         0.0008398\n",
      "  0.00075177 0.04858614 0.         0.        ]\n",
      " [0.24410373 0.2724036  0.06159811 0.05826021 0.         0.07591432\n",
      "  0.07669707 0.26938123 0.         0.        ]\n",
      " [0.4515078  0.36770114 0.2065596  0.24495876 0.         0.13721101\n",
      "  0.14603937 0.3466096  0.         0.57      ]\n",
      " [0.37805337 0.21404313 0.14548798 0.12382603 0.         0.04726629\n",
      "  0.04250152 0.3368904  0.01       0.045     ]\n",
      " [0.09833475 0.0765732  0.01063616 0.00848946 0.         0.00647367\n",
      "  0.00418777 0.11958249 0.         0.        ]]\n"
     ]
    }
   ],
   "source": [
    "# check that division of samples seems correct\n",
    "# these should add up to 95 (100 - 5 original files)\n",
    "print('Training size: ', len(xTrain))\n",
    "print('Test size: ', len(xTest))\n",
    "print()\n",
    "print('Training df sample: \\n', xTrain[:10])"
   ]
  },
  {
   "cell_type": "code",
   "execution_count": 62,
   "metadata": {},
   "outputs": [
    {
     "name": "stdout",
     "output_type": "stream",
     "text": [
      "Path created: activity_data/train.csv\n",
      "Path created: activity_data/test.csv\n"
     ]
    }
   ],
   "source": [
    "data_dir = 'activity_data'\n",
    "\n",
    "make_csv(xTrain, yTrain, filename='train.csv', data_dir=data_dir)\n",
    "make_csv(xTest, yTest, filename='test.csv', data_dir=data_dir)"
   ]
  },
  {
   "cell_type": "markdown",
   "metadata": {},
   "source": [
    "### Upload Data to S3"
   ]
  },
  {
   "cell_type": "code",
   "execution_count": 63,
   "metadata": {},
   "outputs": [
    {
     "name": "stdout",
     "output_type": "stream",
     "text": [
      "s3://sagemaker-ap-south-1-724515668840/activity_data\n"
     ]
    }
   ],
   "source": [
    "# should be the name of directory you created to save your features data\n",
    "data_dir = 'activity_data'\n",
    "\n",
    "# set prefix, a descriptive name for a directory  \n",
    "prefix = 'activity_data'\n",
    "\n",
    "input_data = sagemaker_session.upload_data(path=data_dir, bucket=bucket, key_prefix=prefix)\n",
    "print(input_data)"
   ]
  },
  {
   "cell_type": "markdown",
   "metadata": {},
   "source": [
    "### LinearSVC Model"
   ]
  },
  {
   "cell_type": "code",
   "execution_count": 66,
   "metadata": {},
   "outputs": [],
   "source": [
    "from sagemaker.sklearn.estimator import SKLearn\n",
    "\n",
    "output_path = 's3://{}/{}'.format(bucket, prefix)\n",
    "\n",
    "linear_SVC_estimator = SKLearn(entry_point='train.py',\n",
    "                            role=role,\n",
    "                            train_instance_type='ml.m4.4xlarge',\n",
    "                            train_instance_count=1,\n",
    "                            output_path=output_path,\n",
    "                            framework_version='0.20.0',\n",
    "                            sagemaker_session=sagemaker_session,\n",
    "                            hyperparameters = { 'tol': 0.0001 })\n"
   ]
  },
  {
   "cell_type": "code",
   "execution_count": 67,
   "metadata": {},
   "outputs": [
    {
     "name": "stdout",
     "output_type": "stream",
     "text": [
      "2020-01-24 18:29:01 Starting - Starting the training job...\n",
      "2020-01-24 18:29:03 Starting - Launching requested ML instances...\n",
      "2020-01-24 18:29:57 Starting - Preparing the instances for training...\n",
      "2020-01-24 18:30:31 Downloading - Downloading input data...\n",
      "2020-01-24 18:30:47 Training - Downloading the training image..\u001b[34m2020-01-24 18:31:07,942 sagemaker-containers INFO     Imported framework sagemaker_sklearn_container.training\u001b[0m\n",
      "\u001b[34m2020-01-24 18:31:07,945 sagemaker-containers INFO     No GPUs detected (normal if no gpus installed)\u001b[0m\n",
      "\u001b[34m2020-01-24 18:31:07,958 sagemaker_sklearn_container.training INFO     Invoking user training script.\u001b[0m\n",
      "\u001b[34m2020-01-24 18:31:08,197 sagemaker-containers INFO     Module train does not provide a setup.py. \u001b[0m\n",
      "\u001b[34mGenerating setup.py\u001b[0m\n",
      "\u001b[34m2020-01-24 18:31:08,198 sagemaker-containers INFO     Generating setup.cfg\u001b[0m\n",
      "\u001b[34m2020-01-24 18:31:08,198 sagemaker-containers INFO     Generating MANIFEST.in\u001b[0m\n",
      "\u001b[34m2020-01-24 18:31:08,198 sagemaker-containers INFO     Installing module with the following command:\u001b[0m\n",
      "\u001b[34m/miniconda3/bin/python -m pip install . \u001b[0m\n",
      "\u001b[34mProcessing /opt/ml/code\u001b[0m\n",
      "\u001b[34mBuilding wheels for collected packages: train\n",
      "  Building wheel for train (setup.py): started\n",
      "  Building wheel for train (setup.py): finished with status 'done'\n",
      "  Created wheel for train: filename=train-1.0.0-py2.py3-none-any.whl size=6312 sha256=773744abf32e082b09c294888418080a7c72ac10698a21660d6e077d3d1cdf95\n",
      "  Stored in directory: /tmp/pip-ephem-wheel-cache-0osbv1bo/wheels/35/24/16/37574d11bf9bde50616c67372a334f94fa8356bc7164af8ca3\u001b[0m\n",
      "\u001b[34mSuccessfully built train\u001b[0m\n",
      "\u001b[34mInstalling collected packages: train\u001b[0m\n",
      "\u001b[34mSuccessfully installed train-1.0.0\u001b[0m\n",
      "\u001b[34m2020-01-24 18:31:09,577 sagemaker-containers INFO     No GPUs detected (normal if no gpus installed)\u001b[0m\n",
      "\u001b[34m2020-01-24 18:31:09,589 sagemaker-containers INFO     Invoking user script\n",
      "\u001b[0m\n",
      "\u001b[34mTraining Env:\n",
      "\u001b[0m\n",
      "\u001b[34m{\n",
      "    \"additional_framework_parameters\": {},\n",
      "    \"channel_input_dirs\": {\n",
      "        \"train\": \"/opt/ml/input/data/train\"\n",
      "    },\n",
      "    \"current_host\": \"algo-1\",\n",
      "    \"framework_module\": \"sagemaker_sklearn_container.training:main\",\n",
      "    \"hosts\": [\n",
      "        \"algo-1\"\n",
      "    ],\n",
      "    \"hyperparameters\": {\n",
      "        \"tol\": 0.0001\n",
      "    },\n",
      "    \"input_config_dir\": \"/opt/ml/input/config\",\n",
      "    \"input_data_config\": {\n",
      "        \"train\": {\n",
      "            \"TrainingInputMode\": \"File\",\n",
      "            \"S3DistributionType\": \"FullyReplicated\",\n",
      "            \"RecordWrapperType\": \"None\"\n",
      "        }\n",
      "    },\n",
      "    \"input_dir\": \"/opt/ml/input\",\n",
      "    \"is_master\": true,\n",
      "    \"job_name\": \"sagemaker-scikit-learn-2020-01-24-18-29-01-252\",\n",
      "    \"log_level\": 20,\n",
      "    \"master_hostname\": \"algo-1\",\n",
      "    \"model_dir\": \"/opt/ml/model\",\n",
      "    \"module_dir\": \"s3://sagemaker-ap-south-1-724515668840/sagemaker-scikit-learn-2020-01-24-18-29-01-252/source/sourcedir.tar.gz\",\n",
      "    \"module_name\": \"train\",\n",
      "    \"network_interface_name\": \"eth0\",\n",
      "    \"num_cpus\": 16,\n",
      "    \"num_gpus\": 0,\n",
      "    \"output_data_dir\": \"/opt/ml/output/data\",\n",
      "    \"output_dir\": \"/opt/ml/output\",\n",
      "    \"output_intermediate_dir\": \"/opt/ml/output/intermediate\",\n",
      "    \"resource_config\": {\n",
      "        \"current_host\": \"algo-1\",\n",
      "        \"hosts\": [\n",
      "            \"algo-1\"\n",
      "        ],\n",
      "        \"network_interface_name\": \"eth0\"\n",
      "    },\n",
      "    \"user_entry_point\": \"train.py\"\u001b[0m\n",
      "\u001b[34m}\n",
      "\u001b[0m\n",
      "\u001b[34mEnvironment variables:\n",
      "\u001b[0m\n",
      "\u001b[34mSM_HOSTS=[\"algo-1\"]\u001b[0m\n",
      "\u001b[34mSM_NETWORK_INTERFACE_NAME=eth0\u001b[0m\n",
      "\u001b[34mSM_HPS={\"tol\":0.0001}\u001b[0m\n",
      "\u001b[34mSM_USER_ENTRY_POINT=train.py\u001b[0m\n",
      "\u001b[34mSM_FRAMEWORK_PARAMS={}\u001b[0m\n",
      "\u001b[34mSM_RESOURCE_CONFIG={\"current_host\":\"algo-1\",\"hosts\":[\"algo-1\"],\"network_interface_name\":\"eth0\"}\u001b[0m\n",
      "\u001b[34mSM_INPUT_DATA_CONFIG={\"train\":{\"RecordWrapperType\":\"None\",\"S3DistributionType\":\"FullyReplicated\",\"TrainingInputMode\":\"File\"}}\u001b[0m\n",
      "\u001b[34mSM_OUTPUT_DATA_DIR=/opt/ml/output/data\u001b[0m\n",
      "\u001b[34mSM_CHANNELS=[\"train\"]\u001b[0m\n",
      "\u001b[34mSM_CURRENT_HOST=algo-1\u001b[0m\n",
      "\u001b[34mSM_MODULE_NAME=train\u001b[0m\n",
      "\u001b[34mSM_LOG_LEVEL=20\u001b[0m\n",
      "\u001b[34mSM_FRAMEWORK_MODULE=sagemaker_sklearn_container.training:main\u001b[0m\n",
      "\u001b[34mSM_INPUT_DIR=/opt/ml/input\u001b[0m\n",
      "\u001b[34mSM_INPUT_CONFIG_DIR=/opt/ml/input/config\u001b[0m\n",
      "\u001b[34mSM_OUTPUT_DIR=/opt/ml/output\u001b[0m\n",
      "\u001b[34mSM_NUM_CPUS=16\u001b[0m\n",
      "\u001b[34mSM_NUM_GPUS=0\u001b[0m\n",
      "\u001b[34mSM_MODEL_DIR=/opt/ml/model\u001b[0m\n",
      "\u001b[34mSM_MODULE_DIR=s3://sagemaker-ap-south-1-724515668840/sagemaker-scikit-learn-2020-01-24-18-29-01-252/source/sourcedir.tar.gz\u001b[0m\n",
      "\u001b[34mSM_TRAINING_ENV={\"additional_framework_parameters\":{},\"channel_input_dirs\":{\"train\":\"/opt/ml/input/data/train\"},\"current_host\":\"algo-1\",\"framework_module\":\"sagemaker_sklearn_container.training:main\",\"hosts\":[\"algo-1\"],\"hyperparameters\":{\"tol\":0.0001},\"input_config_dir\":\"/opt/ml/input/config\",\"input_data_config\":{\"train\":{\"RecordWrapperType\":\"None\",\"S3DistributionType\":\"FullyReplicated\",\"TrainingInputMode\":\"File\"}},\"input_dir\":\"/opt/ml/input\",\"is_master\":true,\"job_name\":\"sagemaker-scikit-learn-2020-01-24-18-29-01-252\",\"log_level\":20,\"master_hostname\":\"algo-1\",\"model_dir\":\"/opt/ml/model\",\"module_dir\":\"s3://sagemaker-ap-south-1-724515668840/sagemaker-scikit-learn-2020-01-24-18-29-01-252/source/sourcedir.tar.gz\",\"module_name\":\"train\",\"network_interface_name\":\"eth0\",\"num_cpus\":16,\"num_gpus\":0,\"output_data_dir\":\"/opt/ml/output/data\",\"output_dir\":\"/opt/ml/output\",\"output_intermediate_dir\":\"/opt/ml/output/intermediate\",\"resource_config\":{\"current_host\":\"algo-1\",\"hosts\":[\"algo-1\"],\"network_interface_name\":\"eth0\"},\"user_entry_point\":\"train.py\"}\u001b[0m\n",
      "\u001b[34mSM_USER_ARGS=[\"--tol\",\"0.0001\"]\u001b[0m\n",
      "\u001b[34mSM_OUTPUT_INTERMEDIATE_DIR=/opt/ml/output/intermediate\u001b[0m\n",
      "\u001b[34mSM_CHANNEL_TRAIN=/opt/ml/input/data/train\u001b[0m\n",
      "\u001b[34mSM_HP_TOL=0.0001\u001b[0m\n",
      "\u001b[34mPYTHONPATH=/miniconda3/bin:/miniconda3/lib/python37.zip:/miniconda3/lib/python3.7:/miniconda3/lib/python3.7/lib-dynload:/miniconda3/lib/python3.7/site-packages\n",
      "\u001b[0m\n",
      "\u001b[34mInvoking script with the following command:\n",
      "\u001b[0m\n",
      "\u001b[34m/miniconda3/bin/python -m train --tol 0.0001\n",
      "\n",
      "\u001b[0m\n",
      "\u001b[34m/miniconda3/lib/python3.7/site-packages/sklearn/externals/joblib/externals/cloudpickle/cloudpickle.py:47: DeprecationWarning: the imp module is deprecated in favour of importlib; see the module's documentation for alternative uses\n",
      "  import imp\u001b[0m\n",
      "\u001b[34m2020-01-24 18:31:13,263 sagemaker-containers INFO     Reporting training SUCCESS\u001b[0m\n",
      "\n",
      "2020-01-24 18:31:24 Uploading - Uploading generated training model\n",
      "2020-01-24 18:31:24 Completed - Training job completed\n",
      "Training seconds: 53\n",
      "Billable seconds: 53\n",
      "CPU times: user 485 ms, sys: 28.3 ms, total: 513 ms\n",
      "Wall time: 2min 41s\n"
     ]
    }
   ],
   "source": [
    "%%time\n",
    "\n",
    "# Train your estimator on S3 training data\n",
    "linear_SVC_estimator.fit({'train': input_data})"
   ]
  },
  {
   "cell_type": "code",
   "execution_count": 68,
   "metadata": {},
   "outputs": [
    {
     "name": "stdout",
     "output_type": "stream",
     "text": [
      "----------------------------------------------------------------!CPU times: user 336 ms, sys: 18.6 ms, total: 355 ms\n",
      "Wall time: 5min 23s\n"
     ]
    }
   ],
   "source": [
    "%%time\n",
    "\n",
    "# deploy your model to create a predictor\n",
    "linear_SVC_predictor = linear_SVC_estimator.deploy(instance_type='ml.m4.xlarge',\n",
    "                                     initial_instance_count=1)"
   ]
  },
  {
   "cell_type": "code",
   "execution_count": 70,
   "metadata": {},
   "outputs": [],
   "source": [
    "# read in test data, assuming it is stored locally\n",
    "test_data = pd.read_csv(os.path.join(data_dir, \"test.csv\"), header=None, names=None)\n",
    "\n",
    "# labels are in the first column\n",
    "test_y = test_data.iloc[:,0]\n",
    "test_x = test_data.iloc[:,1:]"
   ]
  },
  {
   "cell_type": "code",
   "execution_count": 71,
   "metadata": {},
   "outputs": [],
   "source": [
    "test_y_preds = linear_SVC_predictor.predict(test_x)"
   ]
  },
  {
   "cell_type": "markdown",
   "metadata": {},
   "source": [
    "### Evaluation"
   ]
  },
  {
   "cell_type": "code",
   "execution_count": 74,
   "metadata": {},
   "outputs": [],
   "source": [
    "def evaluate_metrics(test_labels, test_preds):\n",
    "    \"\"\"\n",
    "    Evaluate a model on a test set using the given prediction endpoint. Display classification metrics.\n",
    "    \"\"\"\n",
    "    # calculate accuracy\n",
    "    accuracy = (test_labels == test_preds).sum() / test_labels.shape[0]\n",
    "    \n",
    "    # calculate confusion matrix\n",
    "    label_mapper = np.vectorize(lambda x: activty_map[x])\n",
    "    confusion_matrix = pd.crosstab(label_mapper(test_labels), label_mapper(test_preds), \n",
    "                                   rownames=['Actuals'], colnames=['Predictions'], normalize='index')\n",
    "\n",
    "    # display results\n",
    "    plt.figure(figsize=(16, 6))\n",
    "    sns.heatmap(confusion_matrix, annot=True, fmt='.2f', cmap=\"YlGnBu\").set_title('Confusion Matrix')  \n",
    "    \n",
    "    print('Accuracy: {:.3f}'.format(accuracy))"
   ]
  },
  {
   "cell_type": "code",
   "execution_count": 75,
   "metadata": {},
   "outputs": [
    {
     "name": "stdout",
     "output_type": "stream",
     "text": [
      "Accuracy: 0.467\n"
     ]
    },
    {
     "data": {
      "image/png": "[encoded data removed]",
      "text/plain": [
       "<Figure size 1152x432 with 2 Axes>"
      ]
     },
     "metadata": {},
     "output_type": "display_data"
    }
   ],
   "source": [
    "evaluate_metrics(test_y, test_y_preds)"
   ]
  },
  {
   "cell_type": "markdown",
   "metadata": {},
   "source": [
    "### KNeighborsClassifier"
   ]
  },
  {
   "cell_type": "code",
   "execution_count": 77,
   "metadata": {},
   "outputs": [],
   "source": [
    "from sagemaker.sklearn.estimator import SKLearn\n",
    "\n",
    "output_path = 's3://{}/{}'.format(bucket, prefix)\n",
    "\n",
    "KNN_estimator = SKLearn(entry_point='train_knn.py',\n",
    "                            role=role,\n",
    "                            train_instance_type='ml.m4.4xlarge',\n",
    "                            train_instance_count=1,\n",
    "                            output_path=output_path,\n",
    "                            framework_version='0.20.0',\n",
    "                            sagemaker_session=sagemaker_session)"
   ]
  },
  {
   "cell_type": "code",
   "execution_count": 78,
   "metadata": {},
   "outputs": [
    {
     "name": "stdout",
     "output_type": "stream",
     "text": [
      "2020-01-24 18:53:38 Starting - Starting the training job...\n",
      "2020-01-24 18:53:41 Starting - Launching requested ML instances...\n",
      "2020-01-24 18:54:35 Starting - Preparing the instances for training......\n",
      "2020-01-24 18:55:35 Downloading - Downloading input data\n",
      "2020-01-24 18:55:35 Training - Downloading the training image..\u001b[34m2020-01-24 18:55:48,899 sagemaker-containers INFO     Imported framework sagemaker_sklearn_container.training\u001b[0m\n",
      "\u001b[34m2020-01-24 18:55:48,902 sagemaker-containers INFO     No GPUs detected (normal if no gpus installed)\u001b[0m\n",
      "\u001b[34m2020-01-24 18:55:48,914 sagemaker_sklearn_container.training INFO     Invoking user training script.\u001b[0m\n",
      "\u001b[34m2020-01-24 18:55:49,150 sagemaker-containers INFO     Module train_knn does not provide a setup.py. \u001b[0m\n",
      "\u001b[34mGenerating setup.py\u001b[0m\n",
      "\u001b[34m2020-01-24 18:55:49,150 sagemaker-containers INFO     Generating setup.cfg\u001b[0m\n",
      "\u001b[34m2020-01-24 18:55:49,150 sagemaker-containers INFO     Generating MANIFEST.in\u001b[0m\n",
      "\u001b[34m2020-01-24 18:55:49,151 sagemaker-containers INFO     Installing module with the following command:\u001b[0m\n",
      "\u001b[34m/miniconda3/bin/python -m pip install . \u001b[0m\n",
      "\u001b[34mProcessing /opt/ml/code\u001b[0m\n",
      "\u001b[34mBuilding wheels for collected packages: train-knn\n",
      "  Building wheel for train-knn (setup.py): started\n",
      "  Building wheel for train-knn (setup.py): finished with status 'done'\n",
      "  Created wheel for train-knn: filename=train_knn-1.0.0-py2.py3-none-any.whl size=6120 sha256=ebd8d3cb3a488f27d7acfdbe5a2fd1c98c410b75fb70d7f67e1339cc6dd63791\n",
      "  Stored in directory: /tmp/pip-ephem-wheel-cache-re0r5sls/wheels/35/24/16/37574d11bf9bde50616c67372a334f94fa8356bc7164af8ca3\u001b[0m\n",
      "\u001b[34mSuccessfully built train-knn\u001b[0m\n",
      "\u001b[34mInstalling collected packages: train-knn\u001b[0m\n",
      "\u001b[34mSuccessfully installed train-knn-1.0.0\u001b[0m\n",
      "\u001b[34m2020-01-24 18:55:50,479 sagemaker-containers INFO     No GPUs detected (normal if no gpus installed)\u001b[0m\n",
      "\u001b[34m2020-01-24 18:55:50,491 sagemaker-containers INFO     Invoking user script\n",
      "\u001b[0m\n",
      "\u001b[34mTraining Env:\n",
      "\u001b[0m\n",
      "\u001b[34m{\n",
      "    \"additional_framework_parameters\": {},\n",
      "    \"channel_input_dirs\": {\n",
      "        \"train\": \"/opt/ml/input/data/train\"\n",
      "    },\n",
      "    \"current_host\": \"algo-1\",\n",
      "    \"framework_module\": \"sagemaker_sklearn_container.training:main\",\n",
      "    \"hosts\": [\n",
      "        \"algo-1\"\n",
      "    ],\n",
      "    \"hyperparameters\": {},\n",
      "    \"input_config_dir\": \"/opt/ml/input/config\",\n",
      "    \"input_data_config\": {\n",
      "        \"train\": {\n",
      "            \"TrainingInputMode\": \"File\",\n",
      "            \"S3DistributionType\": \"FullyReplicated\",\n",
      "            \"RecordWrapperType\": \"None\"\n",
      "        }\n",
      "    },\n",
      "    \"input_dir\": \"/opt/ml/input\",\n",
      "    \"is_master\": true,\n",
      "    \"job_name\": \"sagemaker-scikit-learn-2020-01-24-18-53-38-114\",\n",
      "    \"log_level\": 20,\n",
      "    \"master_hostname\": \"algo-1\",\n",
      "    \"model_dir\": \"/opt/ml/model\",\n",
      "    \"module_dir\": \"s3://sagemaker-ap-south-1-724515668840/sagemaker-scikit-learn-2020-01-24-18-53-38-114/source/sourcedir.tar.gz\",\n",
      "    \"module_name\": \"train_knn\",\n",
      "    \"network_interface_name\": \"eth0\",\n",
      "    \"num_cpus\": 16,\n",
      "    \"num_gpus\": 0,\n",
      "    \"output_data_dir\": \"/opt/ml/output/data\",\n",
      "    \"output_dir\": \"/opt/ml/output\",\n",
      "    \"output_intermediate_dir\": \"/opt/ml/output/intermediate\",\n",
      "    \"resource_config\": {\n",
      "        \"current_host\": \"algo-1\",\n",
      "        \"hosts\": [\n",
      "            \"algo-1\"\n",
      "        ],\n",
      "        \"network_interface_name\": \"eth0\"\n",
      "    },\n",
      "    \"user_entry_point\": \"train_knn.py\"\u001b[0m\n",
      "\u001b[34m}\n",
      "\u001b[0m\n",
      "\u001b[34mEnvironment variables:\n",
      "\u001b[0m\n",
      "\u001b[34mSM_HOSTS=[\"algo-1\"]\u001b[0m\n",
      "\u001b[34mSM_NETWORK_INTERFACE_NAME=eth0\u001b[0m\n",
      "\u001b[34mSM_HPS={}\u001b[0m\n",
      "\u001b[34mSM_USER_ENTRY_POINT=train_knn.py\u001b[0m\n",
      "\u001b[34mSM_FRAMEWORK_PARAMS={}\u001b[0m\n",
      "\u001b[34mSM_RESOURCE_CONFIG={\"current_host\":\"algo-1\",\"hosts\":[\"algo-1\"],\"network_interface_name\":\"eth0\"}\u001b[0m\n",
      "\u001b[34mSM_INPUT_DATA_CONFIG={\"train\":{\"RecordWrapperType\":\"None\",\"S3DistributionType\":\"FullyReplicated\",\"TrainingInputMode\":\"File\"}}\u001b[0m\n",
      "\u001b[34mSM_OUTPUT_DATA_DIR=/opt/ml/output/data\u001b[0m\n",
      "\u001b[34mSM_CHANNELS=[\"train\"]\u001b[0m\n",
      "\u001b[34mSM_CURRENT_HOST=algo-1\u001b[0m\n",
      "\u001b[34mSM_MODULE_NAME=train_knn\u001b[0m\n",
      "\u001b[34mSM_LOG_LEVEL=20\u001b[0m\n",
      "\u001b[34mSM_FRAMEWORK_MODULE=sagemaker_sklearn_container.training:main\u001b[0m\n",
      "\u001b[34mSM_INPUT_DIR=/opt/ml/input\u001b[0m\n",
      "\u001b[34mSM_INPUT_CONFIG_DIR=/opt/ml/input/config\u001b[0m\n",
      "\u001b[34mSM_OUTPUT_DIR=/opt/ml/output\u001b[0m\n",
      "\u001b[34mSM_NUM_CPUS=16\u001b[0m\n",
      "\u001b[34mSM_NUM_GPUS=0\u001b[0m\n",
      "\u001b[34mSM_MODEL_DIR=/opt/ml/model\u001b[0m\n",
      "\u001b[34mSM_MODULE_DIR=s3://sagemaker-ap-south-1-724515668840/sagemaker-scikit-learn-2020-01-24-18-53-38-114/source/sourcedir.tar.gz\u001b[0m\n",
      "\u001b[34mSM_TRAINING_ENV={\"additional_framework_parameters\":{},\"channel_input_dirs\":{\"train\":\"/opt/ml/input/data/train\"},\"current_host\":\"algo-1\",\"framework_module\":\"sagemaker_sklearn_container.training:main\",\"hosts\":[\"algo-1\"],\"hyperparameters\":{},\"input_config_dir\":\"/opt/ml/input/config\",\"input_data_config\":{\"train\":{\"RecordWrapperType\":\"None\",\"S3DistributionType\":\"FullyReplicated\",\"TrainingInputMode\":\"File\"}},\"input_dir\":\"/opt/ml/input\",\"is_master\":true,\"job_name\":\"sagemaker-scikit-learn-2020-01-24-18-53-38-114\",\"log_level\":20,\"master_hostname\":\"algo-1\",\"model_dir\":\"/opt/ml/model\",\"module_dir\":\"s3://sagemaker-ap-south-1-724515668840/sagemaker-scikit-learn-2020-01-24-18-53-38-114/source/sourcedir.tar.gz\",\"module_name\":\"train_knn\",\"network_interface_name\":\"eth0\",\"num_cpus\":16,\"num_gpus\":0,\"output_data_dir\":\"/opt/ml/output/data\",\"output_dir\":\"/opt/ml/output\",\"output_intermediate_dir\":\"/opt/ml/output/intermediate\",\"resource_config\":{\"current_host\":\"algo-1\",\"hosts\":[\"algo-1\"],\"network_interface_name\":\"eth0\"},\"user_entry_point\":\"train_knn.py\"}\u001b[0m\n",
      "\u001b[34mSM_USER_ARGS=[]\u001b[0m\n",
      "\u001b[34mSM_OUTPUT_INTERMEDIATE_DIR=/opt/ml/output/intermediate\u001b[0m\n",
      "\u001b[34mSM_CHANNEL_TRAIN=/opt/ml/input/data/train\u001b[0m\n",
      "\u001b[34mPYTHONPATH=/miniconda3/bin:/miniconda3/lib/python37.zip:/miniconda3/lib/python3.7:/miniconda3/lib/python3.7/lib-dynload:/miniconda3/lib/python3.7/site-packages\n",
      "\u001b[0m\n",
      "\u001b[34mInvoking script with the following command:\n",
      "\u001b[0m\n",
      "\u001b[34m/miniconda3/bin/python -m train_knn\n",
      "\n",
      "\u001b[0m\n",
      "\u001b[34m/miniconda3/lib/python3.7/site-packages/sklearn/externals/joblib/externals/cloudpickle/cloudpickle.py:47: DeprecationWarning: the imp module is deprecated in favour of importlib; see the module's documentation for alternative uses\n",
      "  import imp\u001b[0m\n",
      "\u001b[34m2020-01-24 18:55:53,708 sagemaker-containers INFO     Reporting training SUCCESS\u001b[0m\n",
      "\n",
      "2020-01-24 18:56:05 Uploading - Uploading generated training model\n",
      "2020-01-24 18:56:05 Completed - Training job completed\n",
      "Training seconds: 46\n",
      "Billable seconds: 46\n",
      "CPU times: user 325 ms, sys: 24.9 ms, total: 350 ms\n",
      "Wall time: 2min 41s\n"
     ]
    }
   ],
   "source": [
    "%%time\n",
    "\n",
    "# Train your estimator on S3 training data\n",
    "KNN_estimator.fit({'train': input_data})"
   ]
  },
  {
   "cell_type": "code",
   "execution_count": 79,
   "metadata": {},
   "outputs": [
    {
     "name": "stdout",
     "output_type": "stream",
     "text": [
      "-------------------------------------------------------------!CPU times: user 320 ms, sys: 11.3 ms, total: 331 ms\n",
      "Wall time: 5min 7s\n"
     ]
    }
   ],
   "source": [
    "%%time\n",
    "\n",
    "# deploy your model to create a predictor\n",
    "KNN_predictor = KNN_estimator.deploy(instance_type='ml.m4.xlarge',\n",
    "                                     initial_instance_count=1)"
   ]
  },
  {
   "cell_type": "code",
   "execution_count": 80,
   "metadata": {},
   "outputs": [],
   "source": [
    "test_y_preds = KNN_predictor.predict(test_x)"
   ]
  },
  {
   "cell_type": "code",
   "execution_count": 81,
   "metadata": {},
   "outputs": [
    {
     "name": "stdout",
     "output_type": "stream",
     "text": [
      "Accuracy: 0.613\n"
     ]
    },
    {
     "data": {
      "image/png": "[encoded data removed]",
      "text/plain": [
       "<Figure size 1152x432 with 2 Axes>"
      ]
     },
     "metadata": {},
     "output_type": "display_data"
    }
   ],
   "source": [
    "evaluate_metrics(test_y, test_y_preds)"
   ]
  },
  {
   "cell_type": "markdown",
   "metadata": {},
   "source": [
    "### KNeighborsClassifier - Hyperparameter Tuning(n_neighbors)"
   ]
  },
  {
   "cell_type": "code",
   "execution_count": 82,
   "metadata": {},
   "outputs": [],
   "source": [
    "KNN_estimator = SKLearn(entry_point='train_knn.py',\n",
    "                            role=role,\n",
    "                            train_instance_type='ml.m4.4xlarge',\n",
    "                            train_instance_count=1,\n",
    "                            output_path=output_path,\n",
    "                            framework_version='0.20.0',\n",
    "                            sagemaker_session=sagemaker_session,\n",
    "                            hyperparameters = { 'n_neighbors': 3 })"
   ]
  },
  {
   "cell_type": "code",
   "execution_count": 83,
   "metadata": {},
   "outputs": [
    {
     "name": "stdout",
     "output_type": "stream",
     "text": [
      "2020-01-24 19:08:18 Starting - Starting the training job...\n",
      "2020-01-24 19:08:21 Starting - Launching requested ML instances......\n",
      "2020-01-24 19:09:42 Starting - Preparing the instances for training......\n",
      "2020-01-24 19:10:43 Downloading - Downloading input data\n",
      "2020-01-24 19:10:43 Training - Downloading the training image..\u001b[34m2020-01-24 19:10:56,336 sagemaker-containers INFO     Imported framework sagemaker_sklearn_container.training\u001b[0m\n",
      "\u001b[34m2020-01-24 19:10:56,338 sagemaker-containers INFO     No GPUs detected (normal if no gpus installed)\u001b[0m\n",
      "\u001b[34m2020-01-24 19:10:56,350 sagemaker_sklearn_container.training INFO     Invoking user training script.\u001b[0m\n",
      "\u001b[34m2020-01-24 19:10:56,599 sagemaker-containers INFO     Module train_knn does not provide a setup.py. \u001b[0m\n",
      "\u001b[34mGenerating setup.py\u001b[0m\n",
      "\u001b[34m2020-01-24 19:10:56,599 sagemaker-containers INFO     Generating setup.cfg\u001b[0m\n",
      "\u001b[34m2020-01-24 19:10:56,599 sagemaker-containers INFO     Generating MANIFEST.in\u001b[0m\n",
      "\u001b[34m2020-01-24 19:10:56,599 sagemaker-containers INFO     Installing module with the following command:\u001b[0m\n",
      "\u001b[34m/miniconda3/bin/python -m pip install . \u001b[0m\n",
      "\u001b[34mProcessing /opt/ml/code\u001b[0m\n",
      "\u001b[34mBuilding wheels for collected packages: train-knn\n",
      "  Building wheel for train-knn (setup.py): started\u001b[0m\n",
      "\u001b[34m  Building wheel for train-knn (setup.py): finished with status 'done'\n",
      "  Created wheel for train-knn: filename=train_knn-1.0.0-py2.py3-none-any.whl size=6118 sha256=08a371dded8d404b2c420bd91921a2dabd3d78e723face827d13c96d3a5aac8b\n",
      "  Stored in directory: /tmp/pip-ephem-wheel-cache-hy0tugq1/wheels/35/24/16/37574d11bf9bde50616c67372a334f94fa8356bc7164af8ca3\u001b[0m\n",
      "\u001b[34mSuccessfully built train-knn\u001b[0m\n",
      "\u001b[34mInstalling collected packages: train-knn\u001b[0m\n",
      "\u001b[34mSuccessfully installed train-knn-1.0.0\u001b[0m\n",
      "\u001b[34m2020-01-24 19:10:57,945 sagemaker-containers INFO     No GPUs detected (normal if no gpus installed)\u001b[0m\n",
      "\u001b[34m2020-01-24 19:10:57,957 sagemaker-containers INFO     Invoking user script\n",
      "\u001b[0m\n",
      "\u001b[34mTraining Env:\n",
      "\u001b[0m\n",
      "\u001b[34m{\n",
      "    \"additional_framework_parameters\": {},\n",
      "    \"channel_input_dirs\": {\n",
      "        \"train\": \"/opt/ml/input/data/train\"\n",
      "    },\n",
      "    \"current_host\": \"algo-1\",\n",
      "    \"framework_module\": \"sagemaker_sklearn_container.training:main\",\n",
      "    \"hosts\": [\n",
      "        \"algo-1\"\n",
      "    ],\n",
      "    \"hyperparameters\": {\n",
      "        \"n_neighbors\": 3\n",
      "    },\n",
      "    \"input_config_dir\": \"/opt/ml/input/config\",\n",
      "    \"input_data_config\": {\n",
      "        \"train\": {\n",
      "            \"TrainingInputMode\": \"File\",\n",
      "            \"S3DistributionType\": \"FullyReplicated\",\n",
      "            \"RecordWrapperType\": \"None\"\n",
      "        }\n",
      "    },\n",
      "    \"input_dir\": \"/opt/ml/input\",\n",
      "    \"is_master\": true,\n",
      "    \"job_name\": \"sagemaker-scikit-learn-2020-01-24-19-08-18-062\",\n",
      "    \"log_level\": 20,\n",
      "    \"master_hostname\": \"algo-1\",\n",
      "    \"model_dir\": \"/opt/ml/model\",\n",
      "    \"module_dir\": \"s3://sagemaker-ap-south-1-724515668840/sagemaker-scikit-learn-2020-01-24-19-08-18-062/source/sourcedir.tar.gz\",\n",
      "    \"module_name\": \"train_knn\",\n",
      "    \"network_interface_name\": \"eth0\",\n",
      "    \"num_cpus\": 16,\n",
      "    \"num_gpus\": 0,\n",
      "    \"output_data_dir\": \"/opt/ml/output/data\",\n",
      "    \"output_dir\": \"/opt/ml/output\",\n",
      "    \"output_intermediate_dir\": \"/opt/ml/output/intermediate\",\n",
      "    \"resource_config\": {\n",
      "        \"current_host\": \"algo-1\",\n",
      "        \"hosts\": [\n",
      "            \"algo-1\"\n",
      "        ],\n",
      "        \"network_interface_name\": \"eth0\"\n",
      "    },\n",
      "    \"user_entry_point\": \"train_knn.py\"\u001b[0m\n",
      "\u001b[34m}\n",
      "\u001b[0m\n",
      "\u001b[34mEnvironment variables:\n",
      "\u001b[0m\n",
      "\u001b[34mSM_HOSTS=[\"algo-1\"]\u001b[0m\n",
      "\u001b[34mSM_NETWORK_INTERFACE_NAME=eth0\u001b[0m\n",
      "\u001b[34mSM_HPS={\"n_neighbors\":3}\u001b[0m\n",
      "\u001b[34mSM_USER_ENTRY_POINT=train_knn.py\u001b[0m\n",
      "\u001b[34mSM_FRAMEWORK_PARAMS={}\u001b[0m\n",
      "\u001b[34mSM_RESOURCE_CONFIG={\"current_host\":\"algo-1\",\"hosts\":[\"algo-1\"],\"network_interface_name\":\"eth0\"}\u001b[0m\n",
      "\u001b[34mSM_INPUT_DATA_CONFIG={\"train\":{\"RecordWrapperType\":\"None\",\"S3DistributionType\":\"FullyReplicated\",\"TrainingInputMode\":\"File\"}}\u001b[0m\n",
      "\u001b[34mSM_OUTPUT_DATA_DIR=/opt/ml/output/data\u001b[0m\n",
      "\u001b[34mSM_CHANNELS=[\"train\"]\u001b[0m\n",
      "\u001b[34mSM_CURRENT_HOST=algo-1\u001b[0m\n",
      "\u001b[34mSM_MODULE_NAME=train_knn\u001b[0m\n",
      "\u001b[34mSM_LOG_LEVEL=20\u001b[0m\n",
      "\u001b[34mSM_FRAMEWORK_MODULE=sagemaker_sklearn_container.training:main\u001b[0m\n",
      "\u001b[34mSM_INPUT_DIR=/opt/ml/input\u001b[0m\n",
      "\u001b[34mSM_INPUT_CONFIG_DIR=/opt/ml/input/config\u001b[0m\n",
      "\u001b[34mSM_OUTPUT_DIR=/opt/ml/output\u001b[0m\n",
      "\u001b[34mSM_NUM_CPUS=16\u001b[0m\n",
      "\u001b[34mSM_NUM_GPUS=0\u001b[0m\n",
      "\u001b[34mSM_MODEL_DIR=/opt/ml/model\u001b[0m\n",
      "\u001b[34mSM_MODULE_DIR=s3://sagemaker-ap-south-1-724515668840/sagemaker-scikit-learn-2020-01-24-19-08-18-062/source/sourcedir.tar.gz\u001b[0m\n",
      "\u001b[34mSM_TRAINING_ENV={\"additional_framework_parameters\":{},\"channel_input_dirs\":{\"train\":\"/opt/ml/input/data/train\"},\"current_host\":\"algo-1\",\"framework_module\":\"sagemaker_sklearn_container.training:main\",\"hosts\":[\"algo-1\"],\"hyperparameters\":{\"n_neighbors\":3},\"input_config_dir\":\"/opt/ml/input/config\",\"input_data_config\":{\"train\":{\"RecordWrapperType\":\"None\",\"S3DistributionType\":\"FullyReplicated\",\"TrainingInputMode\":\"File\"}},\"input_dir\":\"/opt/ml/input\",\"is_master\":true,\"job_name\":\"sagemaker-scikit-learn-2020-01-24-19-08-18-062\",\"log_level\":20,\"master_hostname\":\"algo-1\",\"model_dir\":\"/opt/ml/model\",\"module_dir\":\"s3://sagemaker-ap-south-1-724515668840/sagemaker-scikit-learn-2020-01-24-19-08-18-062/source/sourcedir.tar.gz\",\"module_name\":\"train_knn\",\"network_interface_name\":\"eth0\",\"num_cpus\":16,\"num_gpus\":0,\"output_data_dir\":\"/opt/ml/output/data\",\"output_dir\":\"/opt/ml/output\",\"output_intermediate_dir\":\"/opt/ml/output/intermediate\",\"resource_config\":{\"current_host\":\"algo-1\",\"hosts\":[\"algo-1\"],\"network_interface_name\":\"eth0\"},\"user_entry_point\":\"train_knn.py\"}\u001b[0m\n",
      "\u001b[34mSM_USER_ARGS=[\"--n_neighbors\",\"3\"]\u001b[0m\n",
      "\u001b[34mSM_OUTPUT_INTERMEDIATE_DIR=/opt/ml/output/intermediate\u001b[0m\n",
      "\u001b[34mSM_CHANNEL_TRAIN=/opt/ml/input/data/train\u001b[0m\n",
      "\u001b[34mSM_HP_N_NEIGHBORS=3\u001b[0m\n",
      "\u001b[34mPYTHONPATH=/miniconda3/bin:/miniconda3/lib/python37.zip:/miniconda3/lib/python3.7:/miniconda3/lib/python3.7/lib-dynload:/miniconda3/lib/python3.7/site-packages\n",
      "\u001b[0m\n",
      "\u001b[34mInvoking script with the following command:\n",
      "\u001b[0m\n",
      "\u001b[34m/miniconda3/bin/python -m train_knn --n_neighbors 3\n",
      "\n",
      "\u001b[0m\n",
      "\u001b[34m/miniconda3/lib/python3.7/site-packages/sklearn/externals/joblib/externals/cloudpickle/cloudpickle.py:47: DeprecationWarning: the imp module is deprecated in favour of importlib; see the module's documentation for alternative uses\n",
      "  import imp\u001b[0m\n",
      "\u001b[34m2020-01-24 19:11:01,316 sagemaker-containers INFO     Reporting training SUCCESS\u001b[0m\n",
      "\n",
      "2020-01-24 19:11:12 Uploading - Uploading generated training model\n",
      "2020-01-24 19:11:12 Completed - Training job completed\n",
      "Training seconds: 44\n",
      "Billable seconds: 44\n",
      "CPU times: user 387 ms, sys: 13.2 ms, total: 400 ms\n",
      "Wall time: 3min 11s\n"
     ]
    }
   ],
   "source": [
    "%%time\n",
    "\n",
    "# Train your estimator on S3 training data\n",
    "KNN_estimator.fit({'train': input_data})"
   ]
  },
  {
   "cell_type": "code",
   "execution_count": 84,
   "metadata": {},
   "outputs": [
    {
     "name": "stdout",
     "output_type": "stream",
     "text": [
      "-------------------------------------------------------------!CPU times: user 314 ms, sys: 17.9 ms, total: 332 ms\n",
      "Wall time: 5min 7s\n"
     ]
    }
   ],
   "source": [
    "%%time\n",
    "\n",
    "# deploy your model to create a predictor\n",
    "KNN_predictor = KNN_estimator.deploy(instance_type='ml.m4.xlarge',\n",
    "                                     initial_instance_count=1)"
   ]
  },
  {
   "cell_type": "code",
   "execution_count": 85,
   "metadata": {},
   "outputs": [],
   "source": [
    "test_y_preds = KNN_predictor.predict(test_x)"
   ]
  },
  {
   "cell_type": "code",
   "execution_count": 86,
   "metadata": {},
   "outputs": [
    {
     "name": "stdout",
     "output_type": "stream",
     "text": [
      "Accuracy: 0.598\n"
     ]
    },
    {
     "data": {
      "image/png": "[encoded data removed]",
      "text/plain": [
       "<Figure size 1152x432 with 2 Axes>"
      ]
     },
     "metadata": {},
     "output_type": "display_data"
    }
   ],
   "source": [
    "evaluate_metrics(test_y, test_y_preds)"
   ]
  },
  {
   "cell_type": "code",
   "execution_count": 94,
   "metadata": {},
   "outputs": [],
   "source": [
    "KNN_estimator = SKLearn(entry_point='train_knn.py',\n",
    "                            role=role,\n",
    "                            train_instance_type='ml.m4.4xlarge',\n",
    "                            train_instance_count=1,\n",
    "                            output_path=output_path,\n",
    "                            framework_version='0.20.0',\n",
    "                            sagemaker_session=sagemaker_session,\n",
    "                            hyperparameters = { 'n_neighbors': 13 })"
   ]
  },
  {
   "cell_type": "code",
   "execution_count": 95,
   "metadata": {},
   "outputs": [
    {
     "name": "stdout",
     "output_type": "stream",
     "text": [
      "2020-01-24 19:36:48 Starting - Starting the training job...\n",
      "2020-01-24 19:36:49 Starting - Launching requested ML instances...\n",
      "2020-01-24 19:37:44 Starting - Preparing the instances for training...\n",
      "2020-01-24 19:38:18 Downloading - Downloading input data......\n",
      "2020-01-24 19:39:12 Training - Training image download completed. Training in progress..\u001b[34m2020-01-24 19:39:12,786 sagemaker-containers INFO     Imported framework sagemaker_sklearn_container.training\u001b[0m\n",
      "\u001b[34m2020-01-24 19:39:12,789 sagemaker-containers INFO     No GPUs detected (normal if no gpus installed)\u001b[0m\n",
      "\u001b[34m2020-01-24 19:39:12,802 sagemaker_sklearn_container.training INFO     Invoking user training script.\u001b[0m\n",
      "\u001b[34m2020-01-24 19:39:13,013 sagemaker-containers INFO     Module train_knn does not provide a setup.py. \u001b[0m\n",
      "\u001b[34mGenerating setup.py\u001b[0m\n",
      "\u001b[34m2020-01-24 19:39:13,014 sagemaker-containers INFO     Generating setup.cfg\u001b[0m\n",
      "\u001b[34m2020-01-24 19:39:13,014 sagemaker-containers INFO     Generating MANIFEST.in\u001b[0m\n",
      "\u001b[34m2020-01-24 19:39:13,014 sagemaker-containers INFO     Installing module with the following command:\u001b[0m\n",
      "\u001b[34m/miniconda3/bin/python -m pip install . \u001b[0m\n",
      "\u001b[34mProcessing /opt/ml/code\u001b[0m\n",
      "\u001b[34mBuilding wheels for collected packages: train-knn\n",
      "  Building wheel for train-knn (setup.py): started\n",
      "  Building wheel for train-knn (setup.py): finished with status 'done'\n",
      "  Created wheel for train-knn: filename=train_knn-1.0.0-py2.py3-none-any.whl size=5976 sha256=fb73a6cd1150da3273acc2abf46aa865fb4fdf8d9931b75539864fe080e8b7e5\n",
      "  Stored in directory: /tmp/pip-ephem-wheel-cache-mv45nip3/wheels/35/24/16/37574d11bf9bde50616c67372a334f94fa8356bc7164af8ca3\u001b[0m\n",
      "\u001b[34mSuccessfully built train-knn\u001b[0m\n",
      "\u001b[34mInstalling collected packages: train-knn\u001b[0m\n",
      "\u001b[34mSuccessfully installed train-knn-1.0.0\u001b[0m\n",
      "\u001b[34m2020-01-24 19:39:14,337 sagemaker-containers INFO     No GPUs detected (normal if no gpus installed)\u001b[0m\n",
      "\u001b[34m2020-01-24 19:39:14,350 sagemaker-containers INFO     Invoking user script\n",
      "\u001b[0m\n",
      "\u001b[34mTraining Env:\n",
      "\u001b[0m\n",
      "\u001b[34m{\n",
      "    \"additional_framework_parameters\": {},\n",
      "    \"channel_input_dirs\": {\n",
      "        \"train\": \"/opt/ml/input/data/train\"\n",
      "    },\n",
      "    \"current_host\": \"algo-1\",\n",
      "    \"framework_module\": \"sagemaker_sklearn_container.training:main\",\n",
      "    \"hosts\": [\n",
      "        \"algo-1\"\n",
      "    ],\n",
      "    \"hyperparameters\": {\n",
      "        \"n_neighbors\": 13\n",
      "    },\n",
      "    \"input_config_dir\": \"/opt/ml/input/config\",\n",
      "    \"input_data_config\": {\n",
      "        \"train\": {\n",
      "            \"TrainingInputMode\": \"File\",\n",
      "            \"S3DistributionType\": \"FullyReplicated\",\n",
      "            \"RecordWrapperType\": \"None\"\n",
      "        }\n",
      "    },\n",
      "    \"input_dir\": \"/opt/ml/input\",\n",
      "    \"is_master\": true,\n",
      "    \"job_name\": \"sagemaker-scikit-learn-2020-01-24-19-36-47-954\",\n",
      "    \"log_level\": 20,\n",
      "    \"master_hostname\": \"algo-1\",\n",
      "    \"model_dir\": \"/opt/ml/model\",\n",
      "    \"module_dir\": \"s3://sagemaker-ap-south-1-724515668840/sagemaker-scikit-learn-2020-01-24-19-36-47-954/source/sourcedir.tar.gz\",\n",
      "    \"module_name\": \"train_knn\",\n",
      "    \"network_interface_name\": \"eth0\",\n",
      "    \"num_cpus\": 16,\n",
      "    \"num_gpus\": 0,\n",
      "    \"output_data_dir\": \"/opt/ml/output/data\",\n",
      "    \"output_dir\": \"/opt/ml/output\",\n",
      "    \"output_intermediate_dir\": \"/opt/ml/output/intermediate\",\n",
      "    \"resource_config\": {\n",
      "        \"current_host\": \"algo-1\",\n",
      "        \"hosts\": [\n",
      "            \"algo-1\"\n",
      "        ],\n",
      "        \"network_interface_name\": \"eth0\"\n",
      "    },\n",
      "    \"user_entry_point\": \"train_knn.py\"\u001b[0m\n",
      "\u001b[34m}\n",
      "\u001b[0m\n",
      "\u001b[34mEnvironment variables:\n",
      "\u001b[0m\n",
      "\u001b[34mSM_HOSTS=[\"algo-1\"]\u001b[0m\n",
      "\u001b[34mSM_NETWORK_INTERFACE_NAME=eth0\u001b[0m\n",
      "\u001b[34mSM_HPS={\"n_neighbors\":13}\u001b[0m\n",
      "\u001b[34mSM_USER_ENTRY_POINT=train_knn.py\u001b[0m\n",
      "\u001b[34mSM_FRAMEWORK_PARAMS={}\u001b[0m\n",
      "\u001b[34mSM_RESOURCE_CONFIG={\"current_host\":\"algo-1\",\"hosts\":[\"algo-1\"],\"network_interface_name\":\"eth0\"}\u001b[0m\n",
      "\u001b[34mSM_INPUT_DATA_CONFIG={\"train\":{\"RecordWrapperType\":\"None\",\"S3DistributionType\":\"FullyReplicated\",\"TrainingInputMode\":\"File\"}}\u001b[0m\n",
      "\u001b[34mSM_OUTPUT_DATA_DIR=/opt/ml/output/data\u001b[0m\n",
      "\u001b[34mSM_CHANNELS=[\"train\"]\u001b[0m\n",
      "\u001b[34mSM_CURRENT_HOST=algo-1\u001b[0m\n",
      "\u001b[34mSM_MODULE_NAME=train_knn\u001b[0m\n",
      "\u001b[34mSM_LOG_LEVEL=20\u001b[0m\n",
      "\u001b[34mSM_FRAMEWORK_MODULE=sagemaker_sklearn_container.training:main\u001b[0m\n",
      "\u001b[34mSM_INPUT_DIR=/opt/ml/input\u001b[0m\n",
      "\u001b[34mSM_INPUT_CONFIG_DIR=/opt/ml/input/config\u001b[0m\n",
      "\u001b[34mSM_OUTPUT_DIR=/opt/ml/output\u001b[0m\n",
      "\u001b[34mSM_NUM_CPUS=16\u001b[0m\n",
      "\u001b[34mSM_NUM_GPUS=0\u001b[0m\n",
      "\u001b[34mSM_MODEL_DIR=/opt/ml/model\u001b[0m\n",
      "\u001b[34mSM_MODULE_DIR=s3://sagemaker-ap-south-1-724515668840/sagemaker-scikit-learn-2020-01-24-19-36-47-954/source/sourcedir.tar.gz\u001b[0m\n",
      "\u001b[34mSM_TRAINING_ENV={\"additional_framework_parameters\":{},\"channel_input_dirs\":{\"train\":\"/opt/ml/input/data/train\"},\"current_host\":\"algo-1\",\"framework_module\":\"sagemaker_sklearn_container.training:main\",\"hosts\":[\"algo-1\"],\"hyperparameters\":{\"n_neighbors\":13},\"input_config_dir\":\"/opt/ml/input/config\",\"input_data_config\":{\"train\":{\"RecordWrapperType\":\"None\",\"S3DistributionType\":\"FullyReplicated\",\"TrainingInputMode\":\"File\"}},\"input_dir\":\"/opt/ml/input\",\"is_master\":true,\"job_name\":\"sagemaker-scikit-learn-2020-01-24-19-36-47-954\",\"log_level\":20,\"master_hostname\":\"algo-1\",\"model_dir\":\"/opt/ml/model\",\"module_dir\":\"s3://sagemaker-ap-south-1-724515668840/sagemaker-scikit-learn-2020-01-24-19-36-47-954/source/sourcedir.tar.gz\",\"module_name\":\"train_knn\",\"network_interface_name\":\"eth0\",\"num_cpus\":16,\"num_gpus\":0,\"output_data_dir\":\"/opt/ml/output/data\",\"output_dir\":\"/opt/ml/output\",\"output_intermediate_dir\":\"/opt/ml/output/intermediate\",\"resource_config\":{\"current_host\":\"algo-1\",\"hosts\":[\"algo-1\"],\"network_interface_name\":\"eth0\"},\"user_entry_point\":\"train_knn.py\"}\u001b[0m\n",
      "\u001b[34mSM_USER_ARGS=[\"--n_neighbors\",\"13\"]\u001b[0m\n",
      "\u001b[34mSM_OUTPUT_INTERMEDIATE_DIR=/opt/ml/output/intermediate\u001b[0m\n",
      "\u001b[34mSM_CHANNEL_TRAIN=/opt/ml/input/data/train\u001b[0m\n",
      "\u001b[34mSM_HP_N_NEIGHBORS=13\u001b[0m\n",
      "\u001b[34mPYTHONPATH=/miniconda3/bin:/miniconda3/lib/python37.zip:/miniconda3/lib/python3.7:/miniconda3/lib/python3.7/lib-dynload:/miniconda3/lib/python3.7/site-packages\n",
      "\u001b[0m\n",
      "\u001b[34mInvoking script with the following command:\n",
      "\u001b[0m\n",
      "\u001b[34m/miniconda3/bin/python -m train_knn --n_neighbors 13\n",
      "\n",
      "\u001b[0m\n",
      "\u001b[34m/miniconda3/lib/python3.7/site-packages/sklearn/externals/joblib/externals/cloudpickle/cloudpickle.py:47: DeprecationWarning: the imp module is deprecated in favour of importlib; see the module's documentation for alternative uses\n",
      "  import imp\u001b[0m\n",
      "\u001b[34m2020-01-24 19:39:17,513 sagemaker-containers INFO     Reporting training SUCCESS\u001b[0m\n",
      "\n",
      "2020-01-24 19:39:48 Uploading - Uploading generated training model\n",
      "2020-01-24 19:39:48 Completed - Training job completed\n",
      "Training seconds: 90\n",
      "Billable seconds: 90\n",
      "CPU times: user 401 ms, sys: 17.2 ms, total: 418 ms\n",
      "Wall time: 3min 11s\n"
     ]
    }
   ],
   "source": [
    "%%time\n",
    "\n",
    "# Train your estimator on S3 training data\n",
    "KNN_estimator.fit({'train': input_data})"
   ]
  },
  {
   "cell_type": "code",
   "execution_count": 96,
   "metadata": {},
   "outputs": [
    {
     "name": "stdout",
     "output_type": "stream",
     "text": [
      "--------------------------------------------------------------!CPU times: user 333 ms, sys: 5.62 ms, total: 338 ms\n",
      "Wall time: 5min 12s\n"
     ]
    }
   ],
   "source": [
    "%%time\n",
    "\n",
    "# deploy your model to create a predictor\n",
    "KNN_predictor = KNN_estimator.deploy(instance_type='ml.m4.xlarge',\n",
    "                                     initial_instance_count=1)"
   ]
  },
  {
   "cell_type": "code",
   "execution_count": 97,
   "metadata": {},
   "outputs": [
    {
     "name": "stdout",
     "output_type": "stream",
     "text": [
      "Accuracy: 0.622\n"
     ]
    },
    {
     "data": {
      "image/png": "[encoded data removed]",
      "text/plain": [
       "<Figure size 1152x432 with 2 Axes>"
      ]
     },
     "metadata": {},
     "output_type": "display_data"
    }
   ],
   "source": [
    "test_y_preds = KNN_predictor.predict(test_x)\n",
    "evaluate_metrics(test_y, test_y_preds)"
   ]
  },
  {
   "cell_type": "code",
   "execution_count": 98,
   "metadata": {},
   "outputs": [],
   "source": [
    "KNN_predictor.delete_endpoint()"
   ]
  },
  {
   "cell_type": "code",
   "execution_count": null,
   "metadata": {},
   "outputs": [],
   "source": []
  }
 ],
 "metadata": {
  "kernelspec": {
   "display_name": "conda_pytorch_p36",
   "language": "python",
   "name": "conda_pytorch_p36"
  },
  "language_info": {
   "codemirror_mode": {
    "name": "ipython",
    "version": 3
   },
   "file_extension": ".py",
   "mimetype": "text/x-python",
   "name": "python",
   "nbconvert_exporter": "python",
   "pygments_lexer": "ipython3",
   "version": "3.6.5"
  }
 },
 "nbformat": 4,
 "nbformat_minor": 2
}
